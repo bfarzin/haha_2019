{
 "cells": [
  {
   "cell_type": "markdown",
   "metadata": {},
   "source": [
    "Use the tweets for the updated vocab, test classifer on humor"
   ]
  },
  {
   "cell_type": "code",
   "execution_count": 1,
   "metadata": {},
   "outputs": [
    {
     "name": "stdout",
     "output_type": "stream",
     "text": [
      "/home/farzin/haha_2019\r\n"
     ]
    }
   ],
   "source": [
    "!pwd"
   ]
  },
  {
   "cell_type": "code",
   "execution_count": 2,
   "metadata": {},
   "outputs": [],
   "source": [
    "%reload_ext autoreload\n",
    "%autoreload 2"
   ]
  },
  {
   "cell_type": "code",
   "execution_count": 3,
   "metadata": {},
   "outputs": [],
   "source": [
    "import os\n",
    "os.environ[\"CUDA_VISIBLE_DEVICES\"]=\"0\""
   ]
  },
  {
   "cell_type": "code",
   "execution_count": 4,
   "metadata": {},
   "outputs": [],
   "source": [
    "from fastai.text import *\n",
    "from fastai.callbacks import SaveModelCallback\n",
    "import sentencepiece as spm #https://github.com/google/sentencepiece"
   ]
  },
  {
   "cell_type": "markdown",
   "metadata": {},
   "source": [
    "# Python code Examples (testing out tokenizer)"
   ]
  },
  {
   "cell_type": "markdown",
   "metadata": {},
   "source": [
    "## Data"
   ]
  },
  {
   "cell_type": "markdown",
   "metadata": {},
   "source": [
    "### Reading the texts"
   ]
  },
  {
   "cell_type": "code",
   "execution_count": 5,
   "metadata": {},
   "outputs": [],
   "source": [
    "PATH = Path('./data/rnn/')"
   ]
  },
  {
   "cell_type": "code",
   "execution_count": 6,
   "metadata": {},
   "outputs": [],
   "source": [
    "all_texts_df = pd.read_csv('./data/haha_2019_train.csv')"
   ]
  },
  {
   "cell_type": "code",
   "execution_count": 7,
   "metadata": {},
   "outputs": [
    {
     "data": {
      "text/html": [
       "<div>\n",
       "<style scoped>\n",
       "    .dataframe tbody tr th:only-of-type {\n",
       "        vertical-align: middle;\n",
       "    }\n",
       "\n",
       "    .dataframe tbody tr th {\n",
       "        vertical-align: top;\n",
       "    }\n",
       "\n",
       "    .dataframe thead th {\n",
       "        text-align: right;\n",
       "    }\n",
       "</style>\n",
       "<table border=\"1\" class=\"dataframe\">\n",
       "  <thead>\n",
       "    <tr style=\"text-align: right;\">\n",
       "      <th></th>\n",
       "      <th>id</th>\n",
       "      <th>text</th>\n",
       "      <th>is_humor</th>\n",
       "      <th>votes_no</th>\n",
       "      <th>votes_1</th>\n",
       "      <th>votes_2</th>\n",
       "      <th>votes_3</th>\n",
       "      <th>votes_4</th>\n",
       "      <th>votes_5</th>\n",
       "      <th>funniness_average</th>\n",
       "    </tr>\n",
       "  </thead>\n",
       "  <tbody>\n",
       "    <tr>\n",
       "      <th>0</th>\n",
       "      <td>705196579758583809</td>\n",
       "      <td>Niveles de retraso mental: \\r\\n\\r\\n— Bajo.\\r\\n...</td>\n",
       "      <td>1</td>\n",
       "      <td>1</td>\n",
       "      <td>2</td>\n",
       "      <td>2</td>\n",
       "      <td>0</td>\n",
       "      <td>0</td>\n",
       "      <td>0</td>\n",
       "      <td>1.5</td>\n",
       "    </tr>\n",
       "    <tr>\n",
       "      <th>1</th>\n",
       "      <td>678040651817213952</td>\n",
       "      <td>—Vamos Luke desenfunda tu sable, demuestra tu ...</td>\n",
       "      <td>1</td>\n",
       "      <td>1</td>\n",
       "      <td>3</td>\n",
       "      <td>0</td>\n",
       "      <td>1</td>\n",
       "      <td>0</td>\n",
       "      <td>0</td>\n",
       "      <td>1.5</td>\n",
       "    </tr>\n",
       "    <tr>\n",
       "      <th>2</th>\n",
       "      <td>546750892213829633</td>\n",
       "      <td>- ¿Te ofrezco algo?, ¿Agua, café, mi corazón, ...</td>\n",
       "      <td>1</td>\n",
       "      <td>0</td>\n",
       "      <td>2</td>\n",
       "      <td>1</td>\n",
       "      <td>0</td>\n",
       "      <td>1</td>\n",
       "      <td>1</td>\n",
       "      <td>2.6</td>\n",
       "    </tr>\n",
       "    <tr>\n",
       "      <th>3</th>\n",
       "      <td>965807211292364801</td>\n",
       "      <td>No se porqué me hago la cabeza deooos</td>\n",
       "      <td>0</td>\n",
       "      <td>3</td>\n",
       "      <td>0</td>\n",
       "      <td>0</td>\n",
       "      <td>0</td>\n",
       "      <td>0</td>\n",
       "      <td>0</td>\n",
       "      <td>NaN</td>\n",
       "    </tr>\n",
       "    <tr>\n",
       "      <th>4</th>\n",
       "      <td>638403841839484928</td>\n",
       "      <td>Quisiera saber que hago durante la siesta de l...</td>\n",
       "      <td>0</td>\n",
       "      <td>4</td>\n",
       "      <td>0</td>\n",
       "      <td>1</td>\n",
       "      <td>0</td>\n",
       "      <td>0</td>\n",
       "      <td>0</td>\n",
       "      <td>NaN</td>\n",
       "    </tr>\n",
       "  </tbody>\n",
       "</table>\n",
       "</div>"
      ],
      "text/plain": [
       "                   id                                               text  \\\n",
       "0  705196579758583809  Niveles de retraso mental: \\r\\n\\r\\n— Bajo.\\r\\n...   \n",
       "1  678040651817213952  —Vamos Luke desenfunda tu sable, demuestra tu ...   \n",
       "2  546750892213829633  - ¿Te ofrezco algo?, ¿Agua, café, mi corazón, ...   \n",
       "3  965807211292364801              No se porqué me hago la cabeza deooos   \n",
       "4  638403841839484928  Quisiera saber que hago durante la siesta de l...   \n",
       "\n",
       "   is_humor  votes_no  votes_1  votes_2  votes_3  votes_4  votes_5  \\\n",
       "0         1         1        2        2        0        0        0   \n",
       "1         1         1        3        0        1        0        0   \n",
       "2         1         0        2        1        0        1        1   \n",
       "3         0         3        0        0        0        0        0   \n",
       "4         0         4        0        1        0        0        0   \n",
       "\n",
       "   funniness_average  \n",
       "0                1.5  \n",
       "1                1.5  \n",
       "2                2.6  \n",
       "3                NaN  \n",
       "4                NaN  "
      ]
     },
     "execution_count": 7,
     "metadata": {},
     "output_type": "execute_result"
    }
   ],
   "source": [
    "all_texts_df.head()"
   ]
  },
  {
   "cell_type": "markdown",
   "metadata": {},
   "source": [
    "### apply pre-rules to text"
   ]
  },
  {
   "cell_type": "code",
   "execution_count": 8,
   "metadata": {},
   "outputs": [],
   "source": [
    "## New Line char for replacement in text\n",
    "NL = 'xxnl'\n",
    "defaults.text_spec_tok.append(NL) #add a New Line special char\n",
    "\n",
    "def sub_nl(t:str) -> str:\n",
    "    \"Replaces \\n by xxnl\"\n",
    "    return t.replace(\"\\r\\n\",\"\\n\").replace(\"\\n\",NL+\" \")\n",
    "\n",
    "# def sub_br(t:str) -> str:\n",
    "#     \"Replaces the <br /> by \\n\"\n",
    "#     re_br = re.compile(r'<\\s*br\\s*/?>', re.IGNORECASE)\n",
    "#     return re_br.sub(\"\\n\", t)\n",
    "\n",
    "def spec_add_spaces(t:str) -> str:\n",
    "    \"Add spaces between special characters\"\n",
    "    return re.sub(r'([/#?!@,])', r' \\1 ', t)\n",
    "\n",
    "def rm_useless_spaces(t:str) -> str:\n",
    "    \"Remove multiple spaces\"\n",
    "    return re.sub(' {2,}', ' ', t)\n",
    "\n",
    "def replace_rep(t:str) -> str:\n",
    "    \"Replace repetitions at the character level\"\n",
    "    def _replace_rep(m:Collection[str]) -> str:\n",
    "        c,cc = m.groups()\n",
    "        return f' {TK_REP} {len(cc)+1} {c} '\n",
    "    re_rep = re.compile(r'(\\S)(\\1{3,})')\n",
    "    return re_rep.sub(_replace_rep, t)\n",
    "    \n",
    "def replace_wrep(t:str) -> str:\n",
    "    \"Replace word repetitions\"\n",
    "    def _replace_wrep(m:Collection[str]) -> str:\n",
    "        c,cc = m.groups()\n",
    "        return f' {TK_WREP} {len(cc.split())+1} {c} '\n",
    "    re_wrep = re.compile(r'(\\b\\w+\\W+)(\\1{3,})')\n",
    "    return re_wrep.sub(_replace_wrep, t)\n",
    "\n",
    "def deal_caps(t:str) -> str:\n",
    "    \"Replace words in all caps\"\n",
    "    res = []\n",
    "    for s in re.findall(r'\\w+|\\W+', t):\n",
    "        res += ([f' {TK_UP} ',s.lower()] if (s.isupper() and (len(s)>2)) else [s.lower()])\n",
    "    return ''.join(res)\n",
    "\n",
    "def fixup(x:str) -> str:\n",
    "    \"List of replacements from html strings\"\n",
    "    re1 = re.compile(r'  +')\n",
    "    x = x.replace('#39;', \"'\").replace('amp;', '&').replace('#146;', \"'\").replace(\n",
    "        'nbsp;', ' ').replace('#36;', '$').replace('\\\\n', \"\\n\").replace('quot;', \"'\").replace(\n",
    "        '<br />', \"\\n\").replace('\\\\\"', '\"').replace('<unk>',UNK).replace(' @.@ ','.').replace(\n",
    "        ' @-@ ','-').replace('\\\\', ' \\\\ ')\n",
    "    return re1.sub(' ', html.unescape(x))\n",
    "\n",
    "default_rules = [fixup, replace_rep, replace_wrep, deal_caps, spec_add_spaces, \n",
    "                 rm_useless_spaces, sub_nl]"
   ]
  },
  {
   "cell_type": "code",
   "execution_count": 9,
   "metadata": {},
   "outputs": [
    {
     "name": "stdout",
     "output_type": "stream",
     "text": [
      "Default Rules:\n",
      " ['fixup', 'replace_rep', 'replace_wrep', 'deal_caps', 'spec_add_spaces', 'rm_useless_spaces', 'sub_nl'] \n",
      "\n",
      "\n",
      "<function fixup at 0x7fc2880272f0>\n",
      "<function replace_rep at 0x7fc288027158>\n",
      "<function replace_wrep at 0x7fc2880271e0>\n",
      "<function deal_caps at 0x7fc288027268>\n",
      "<function spec_add_spaces at 0x7fc288027048>\n",
      "<function rm_useless_spaces at 0x7fc2880270d0>\n",
      "<function sub_nl at 0x7fc28806b2f0>\n"
     ]
    }
   ],
   "source": [
    "## apply the rules\n",
    "raw_text = all_texts_df.loc[:,'text']\n",
    "\n",
    "print(\"Default Rules:\\n\",[x.__name__ for x in default_rules],\"\\n\\n\")\n",
    "\n",
    "for rule in default_rules:\n",
    "    print(rule)\n",
    "    raw_text = raw_text.apply(lambda x: rule(str(x)))\n",
    "    \n",
    "all_texts_df['new_text'] = 'xxbos ' + raw_text"
   ]
  },
  {
   "cell_type": "code",
   "execution_count": 10,
   "metadata": {},
   "outputs": [
    {
     "data": {
      "text/plain": [
       "0    xxbos niveles de retraso mental: xxnl xxnl — b...\n",
       "1    xxbos —vamos luke desenfunda tu sable , demues...\n",
       "2    xxbos - ¿te ofrezco algo ? , ¿agua , café , mi...\n",
       "3          xxbos no se porqué me hago la cabeza deooos\n",
       "4    xxbos quisiera saber que hago durante la siest...\n",
       "Name: new_text, dtype: object"
      ]
     },
     "execution_count": 10,
     "metadata": {},
     "output_type": "execute_result"
    }
   ],
   "source": [
    "all_texts_df['new_text'].head()"
   ]
  },
  {
   "cell_type": "code",
   "execution_count": 11,
   "metadata": {},
   "outputs": [
    {
     "data": {
      "text/plain": [
       "(24000, 11)"
      ]
     },
     "execution_count": 11,
     "metadata": {},
     "output_type": "execute_result"
    }
   ],
   "source": [
    "all_texts_df.shape"
   ]
  },
  {
   "cell_type": "markdown",
   "metadata": {},
   "source": [
    "### Clean up the imbalanced data to balance"
   ]
  },
  {
   "cell_type": "code",
   "execution_count": 12,
   "metadata": {},
   "outputs": [
    {
     "name": "stdout",
     "output_type": "stream",
     "text": [
      "Number of positive samples: 9253\n",
      "Number of negative samples: 14747\n",
      "Total samples: 24000\n"
     ]
    }
   ],
   "source": [
    "print('Number of positive samples:', (all_texts_df.is_humor == 1).sum())\n",
    "print('Number of negative samples:',  (all_texts_df.is_humor == 0).sum())\n",
    "print('Total samples:', len(all_texts_df))"
   ]
  },
  {
   "cell_type": "code",
   "execution_count": 13,
   "metadata": {},
   "outputs": [],
   "source": [
    "rnd_seed = 20190313\n",
    "np.random.seed(rnd_seed)\n",
    "\n",
    "idx = np.random.permutation(len(all_texts_df))\n",
    "test_cut = int(0.15 * len(idx))\n",
    "valid_cut = int(0.15 * len(idx-test_cut))\n",
    "\n",
    "df_train_all = all_texts_df.iloc[idx[:-(valid_cut+test_cut)],:]\n",
    "df_valid     = all_texts_df.iloc[idx[-(valid_cut+test_cut):-test_cut],:]\n",
    "df_test      = all_texts_df.iloc[idx[-test_cut:],:]"
   ]
  },
  {
   "cell_type": "code",
   "execution_count": 14,
   "metadata": {},
   "outputs": [
    {
     "name": "stdout",
     "output_type": "stream",
     "text": [
      "Test prevalence(n = 3600): 0.3938888888888889\n",
      "Valid prevalence(n = 3600): 0.3852777777777778\n",
      "Train all prevalence(n = 16800): 0.3838095238095238\n",
      "all samples (n = 24000)\n"
     ]
    }
   ],
   "source": [
    "print('Test prevalence(n = %d):'%len(df_test),df_test.is_humor.sum()/ len(df_test))\n",
    "print('Valid prevalence(n = %d):'%len(df_valid),df_valid.is_humor.sum()/ len(df_valid))\n",
    "print('Train all prevalence(n = %d):'%len(df_train_all), df_train_all.is_humor.sum()/ len(df_train_all))\n",
    "print('all samples (n = %d)'%len(all_texts_df))\n",
    "assert len(all_texts_df) == (len(df_test)+len(df_valid)+len(df_train_all)),'math didnt work'"
   ]
  },
  {
   "cell_type": "code",
   "execution_count": 15,
   "metadata": {},
   "outputs": [
    {
     "data": {
      "text/plain": [
       "((6448, 11), (10352, 11))"
      ]
     },
     "execution_count": 15,
     "metadata": {},
     "output_type": "execute_result"
    }
   ],
   "source": [
    "## oversample the less-frequent occuring cases\n",
    "# split the training data into positive and negative\n",
    "rows_pos = df_train_all.is_humor == 1\n",
    "df_train_pos = df_train_all.loc[rows_pos]\n",
    "df_train_neg = df_train_all.loc[~rows_pos]\n",
    "df_train_pos.shape,df_train_neg.shape"
   ]
  },
  {
   "cell_type": "code",
   "execution_count": 16,
   "metadata": {},
   "outputs": [
    {
     "name": "stdout",
     "output_type": "stream",
     "text": [
      "Train prevalence (n = 20704): 0.5\n"
     ]
    }
   ],
   "source": [
    "df_resample_pos = df_train_pos.sample(n=len(df_train_neg),replace=True,\n",
    "                                      axis=0,random_state=rnd_seed).reset_index(drop=True)\n",
    "df_train = pd.concat([df_resample_pos,df_train_neg],axis=0) #randomized again in DataBunch?\n",
    "print('Train prevalence (n = %d):'%len(df_train), df_train.is_humor.sum()/ len(df_train))"
   ]
  },
  {
   "cell_type": "markdown",
   "metadata": {},
   "source": [
    "### sp tokenizer from training"
   ]
  },
  {
   "cell_type": "code",
   "execution_count": 17,
   "metadata": {},
   "outputs": [],
   "source": [
    "model_prefix = './all_tweets_es_0509'"
   ]
  },
  {
   "cell_type": "code",
   "execution_count": 18,
   "metadata": {},
   "outputs": [],
   "source": [
    "## itos from m.vocab file: just read directly and populate the dictionary\n",
    "itos = [] #{}\n",
    "with open(f'{model_prefix}.vocab','r') as f:\n",
    "    for line_num,line in enumerate(f):\n",
    "#         itos[line_num] = line.split(\"\\t\")[0]\n",
    "        itos.append(line.split(\"\\t\")[0])\n",
    "        \n",
    "class SPTokenizer(BaseTokenizer):\n",
    "    \"Wrapper around a SentncePiece tokenizer to make it a `BaseTokenizer`.\"\n",
    "    def __init__(self, model_prefix:str):\n",
    "        self.tok = spm.SentencePieceProcessor()\n",
    "        self.tok.load(f'{model_prefix}.model')\n",
    "\n",
    "    def tokenizer(self, t:str) -> List[str]:\n",
    "#         return self.tok.EncodeAsIds(t)  ## tokenize + numericalize. We have them broken into two parts,just return tokens\n",
    "        return self.tok.EncodeAsPieces(t)\n",
    "        \n",
    "class CustomTokenizer():\n",
    "    '''Wrapper for SentencePiece toeknizer to fit into Fast.ai V1'''\n",
    "    def __init__(self,tok_func:Callable,model_prefix:str, pre_rules:ListRules=None):\n",
    "        self.tok_func,self.model_prefix = tok_func,model_prefix\n",
    "        self.pre_rules  = ifnone(pre_rules,  defaults.text_pre_rules )\n",
    "        \n",
    "    def __repr__(self) -> str:\n",
    "        res = f'Tokenizer {self.tok_func.__name__} using `{self.model_prefix}` model with the following rules:\\n'\n",
    "        for rule in self.pre_rules: res += f' - {rule.__name__}\\n'\n",
    "        return res        \n",
    "\n",
    "    def process_text(self, t:str,tok:BaseTokenizer) -> List[str]:\n",
    "        \"Processe one text `t` with tokenizer `tok`.\"\n",
    "        for rule in self.pre_rules: t = rule(t)  \n",
    "        toks = tok.tokenizer(t)\n",
    "    \n",
    "        return toks \n",
    "    \n",
    "    def _process_all_1(self,texts:Collection[str]) -> List[List[str]]:\n",
    "        'Process a list of `texts` in one process'\n",
    "        tok = self.tok_func(self.model_prefix)\n",
    "        return [self.process_text(t,tok) for t in texts]\n",
    "                                                                     \n",
    "    def process_all(self, texts:Collection[str]) -> List[List[str]]: \n",
    "        \"Process a list of `texts`.\"                                 \n",
    "        return self._process_all_1(texts)"
   ]
  },
  {
   "cell_type": "code",
   "execution_count": 19,
   "metadata": {},
   "outputs": [
    {
     "data": {
      "text/plain": [
       "['→', '😫', '🤨', '😲', '🏟', '📖', '🎸', '🏿', '😮', '🎬']"
      ]
     },
     "execution_count": 19,
     "metadata": {},
     "output_type": "execute_result"
    }
   ],
   "source": [
    "itos[-10:]"
   ]
  },
  {
   "cell_type": "code",
   "execution_count": 20,
   "metadata": {},
   "outputs": [],
   "source": [
    "mycust_tok = CustomTokenizer(SPTokenizer,model_prefix,pre_rules=default_rules)\n",
    "sp_vocab = Vocab(itos)"
   ]
  },
  {
   "cell_type": "code",
   "execution_count": 21,
   "metadata": {},
   "outputs": [],
   "source": [
    "data = TextClasDataBunch.from_df(PATH,df_train,df_valid,df_test,\n",
    "                               tokenizer=mycust_tok, vocab=sp_vocab,\n",
    "                               text_cols='new_text', label_cols='is_humor')"
   ]
  },
  {
   "cell_type": "code",
   "execution_count": 22,
   "metadata": {},
   "outputs": [
    {
     "data": {
      "text/html": [
       "<table border=\"1\" class=\"dataframe\">\n",
       "  <thead>\n",
       "    <tr style=\"text-align: right;\">\n",
       "      <th>text</th>\n",
       "      <th>target</th>\n",
       "    </tr>\n",
       "  </thead>\n",
       "  <tbody>\n",
       "    <tr>\n",
       "      <td>▁ xxbos ▁ xxbos ▁❤ .- ~ * ( ▁? ▁el ▁di vo 00 ▁d 3 ▁tw 1 tter ▁! ▁! ▁! ▁? ▁? ▁~ k 3 ▁di 4 vl 0 zz ▁ki 3 r 3 z ▁k 3 ▁p 4 rt 3 ▁d 3 ▁no 00 ▁n 0 ▁3 nt 13 nd 3 z ▁b 3 the ▁k 0 n ▁ki 3 n ▁t 3 ▁d 3 ▁l 4</td>\n",
       "      <td>0</td>\n",
       "    </tr>\n",
       "    <tr>\n",
       "      <td>▁ xxbos ▁ xxbos ▁❤ ️ -( el ▁di vo 00 ▁d 3 ▁tw 1 tter ▁! ▁! ▁? ▁i 0 ▁zo i ▁tu ▁ma 3 zt lo ▁? ▁ki 3 n ▁z up 0 ▁3 nz 3 ñ 4 l th 3 ▁? ▁d 3 ▁tu ▁k cuer p 0 ▁io o ▁k 0 noz ko ▁az t 4 ▁la ▁maz ▁in ty ma ▁p 4 r te ▁?</td>\n",
       "      <td>0</td>\n",
       "    </tr>\n",
       "    <tr>\n",
       "      <td>▁ xxbos ▁ xxbos ▁—¡ idio ta ▁! ▁ xxnl ▁—¡ h ist érica ▁! ▁ xxnl ▁— que ▁tarado . xxnl ▁— tar ada ▁tú . xxnl ▁— te ▁odio . xxnl ▁— yo ▁también . xxnl ▁— ▁¡ ▁ xxup ▁jode te ▁! ▁ xxnl ▁— no ▁me ▁hables . xxnl ▁—¡ ok ▁! ▁ xxnl ▁—¡ ok ▁! ▁ xxnl ▁— te ▁amo . xxnl ▁— yo</td>\n",
       "      <td>0</td>\n",
       "    </tr>\n",
       "    <tr>\n",
       "      <td>▁ xxbos ▁ xxbos ▁¡ ya ▁llegó ▁santa ▁! ▁ xxnl ▁ xxunk _ xxunk xxnl ▁( ・ xxunk ・ ) xxnl ▁_ | ▁ xxunk / ( ___ ▁ xxnl ▁/ ▁l ▁( __ __ / xxnl ▁ xxnl ▁ah ▁no ▁, ▁es ▁mi ▁papá ▁bien ▁pedo . xxnl ▁ xxnl ▁&lt; xxunk / xxunk - xxunk ___ xxnl ▁/ &lt; _ ▁/ ▁ xxrep ▁4 ▁_ ▁/ ”</td>\n",
       "      <td>1</td>\n",
       "    </tr>\n",
       "    <tr>\n",
       "      <td>▁ xxbos ▁ xxbos ▁¡ ya ▁llegó ▁santa ▁! ▁ xxnl ▁ xxunk _ xxunk xxnl ▁( ・ xxunk ・ ) xxnl ▁_ | ▁ xxunk / ( ___ ▁ xxnl ▁/ ▁l ▁( __ __ / xxnl ▁ xxnl ▁ah ▁no ▁, ▁es ▁mi ▁papá ▁bien ▁pedo . xxnl ▁ xxnl ▁&lt; xxunk / xxunk - xxunk ___ xxnl ▁/ &lt; _ ▁/ ▁ xxrep ▁4 ▁_ ▁/ ”</td>\n",
       "      <td>1</td>\n",
       "    </tr>\n",
       "    <tr>\n",
       "      <td>▁ xxbos ▁ xxbos ▁( ▁ xxup ▁o _ o ) ▁( xxunk _ ▁ xxunk ) ▁( ▁ xxup ▁o _ o ) ▁( xxunk _ ▁ xxunk ) ▁( ▁ xxup ▁o _ o ) ▁( xxunk _ ▁ xxunk ) ▁( ▁ xxup ▁o _ o ) ▁( xxunk _ ▁ xxunk ) ▁( xxunk _ ▁ xxunk ). ▁yo ▁con ▁el ▁móvil ▁en ▁clase .</td>\n",
       "      <td>1</td>\n",
       "    </tr>\n",
       "    <tr>\n",
       "      <td>▁ xxbos ▁ xxbos ▁— cuel ga ▁tú . xxnl ▁— no ▁, ▁cuelga ▁tú . ▁ xxnl ▁— no ▁, ▁tú . xxnl ▁— que ▁t ... xxnl ▁—¡ ▁ xxup ▁pinche ▁ xxup ▁tonta ▁me ▁ xxup ▁colgó ▁! ▁ xxnl ▁—¡ te ▁ xxup ▁escuché ▁ xxup ▁pendejo ▁! ▁ xxnl ▁— ▁ xxup ▁jajaj á ▁¡ ay ▁amor ▁! ▁es ▁broma ▁, ▁te ▁amo .</td>\n",
       "      <td>1</td>\n",
       "    </tr>\n",
       "    <tr>\n",
       "      <td>▁ xxbos ▁ xxbos ▁ xxup ▁tengo ▁un ▁ xxup ▁gran ▁ xxup ▁anuncio ▁, ▁ xxup ▁una ▁ xxup ▁noticia ▁ xxup ▁que ▁ xxup ▁cambiará ▁la ▁ xxup ▁historia ▁de ▁ xxup ▁twitter ▁, ▁ xxup ▁que ▁ xxup ▁devolver á ▁el ▁ xxup ▁sentido ▁a ▁ xxup ▁nuestra ▁ xxup ▁vida . xxnl ▁ xxnl ▁ xxup ▁pendientes ▁ xxup ▁hoy ▁en ▁la ▁ xxup ▁noche</td>\n",
       "      <td>0</td>\n",
       "    </tr>\n",
       "    <tr>\n",
       "      <td>▁ xxbos ▁ xxbos ▁— mamá ▁, ▁¿ puedo ▁salir ▁? ▁— no . ▁—¿ me ▁das ▁un ▁calce tín ▁? ▁— ok ▁, ▁toma . ▁— el ▁ xxup ▁amo ▁le ▁ha ▁ xxup ▁dado ▁a ▁ xxup ▁dob by ▁un ▁ xxup ▁calce tín ... ▁¡ ▁ xxup ▁dob by ▁es ▁ xxup ▁libre ▁! ▁# ▁ xxup ▁jajaja ▁# ▁ xxup ▁hp quo tes ▁# ▁xd</td>\n",
       "      <td>1</td>\n",
       "    </tr>\n",
       "    <tr>\n",
       "      <td>▁ xxbos ▁ xxbos ▁—¿ maestro ▁entonces ▁ya ▁aprobé ▁? ▁ xxnl ▁ xxnl ▁( • ▁- ▁• ) ▁ xxnl ▁ xxunk ▁ xxunk ▁ xxunk ▁__ ( • ▁- ▁• ) ▁ xxnl ▁_ xxunk ▁_ xxunk ▁ xxunk ▁ xxunk ▁ xxnl ▁ xxnl ▁—¡ hija ▁, ▁yo ▁soy ▁el ▁conser je ▁! ▁ xxnl ▁ xxnl ▁—¡ ay ▁, ▁por ▁no ▁poner ▁atención ▁!</td>\n",
       "      <td>1</td>\n",
       "    </tr>\n",
       "  </tbody>\n",
       "</table>"
      ],
      "text/plain": [
       "<IPython.core.display.HTML object>"
      ]
     },
     "metadata": {},
     "output_type": "display_data"
    }
   ],
   "source": [
    "data.show_batch(10)  #less xxunk, but still a fair amount..."
   ]
  },
  {
   "cell_type": "markdown",
   "metadata": {},
   "source": [
    "### Check `xxunk` fraction on humor data"
   ]
  },
  {
   "cell_type": "code",
   "execution_count": 23,
   "metadata": {},
   "outputs": [
    {
     "data": {
      "text/plain": [
       "((498,), (20704,))"
      ]
     },
     "execution_count": 23,
     "metadata": {},
     "output_type": "execute_result"
    }
   ],
   "source": [
    "pct_xxunk = pd.Series([sum(y==0)/len(y) for y in [x.data for x in data.train_dl.x]])\n",
    "pct_xxunk[pct_xxunk>0].shape, pct_xxunk.shape"
   ]
  },
  {
   "cell_type": "code",
   "execution_count": 24,
   "metadata": {},
   "outputs": [
    {
     "data": {
      "text/plain": [
       "0.024053323029366306"
      ]
     },
     "execution_count": 24,
     "metadata": {},
     "output_type": "execute_result"
    }
   ],
   "source": [
    "498/20704."
   ]
  },
  {
   "cell_type": "code",
   "execution_count": 25,
   "metadata": {},
   "outputs": [
    {
     "data": {
      "image/png": "[encoded data removed]",
      "text/plain": [
       "<Figure size 432x288 with 1 Axes>"
      ]
     },
     "metadata": {
      "needs_background": "light"
     },
     "output_type": "display_data"
    }
   ],
   "source": [
    "pd.Series([sum(y==0)/len(y) for y in [x.data for x in data.train_dl.x]]).plot()\n",
    "_ = plt.title('Pct UNK in each tweet')"
   ]
  },
  {
   "cell_type": "markdown",
   "metadata": {},
   "source": [
    "### build and train model"
   ]
  },
  {
   "cell_type": "code",
   "execution_count": 26,
   "metadata": {},
   "outputs": [],
   "source": [
    "class m_MultiHeadAttention(nn.Module):\n",
    "    \"MutiHeadAttention.\"\n",
    "    \n",
    "    def __init__(self, n_heads:int, d_model:int, d_head:int=None, resid_p:float=0.1, attn_p:float=0.1, bias:bool=True,\n",
    "                 scale:bool=True):\n",
    "        super().__init__()\n",
    "        d_head = ifnone(d_head, d_model//n_heads)\n",
    "        self.n_heads,self.d_head,self.scale = n_heads,d_head,scale\n",
    "        self.attention = nn.Linear(d_model, 3 * n_heads * d_head, bias=bias)\n",
    "#         self.out = nn.Linear(n_heads * d_head, d_model, bias=bias)\n",
    "        self.drop_att,self.drop_res = nn.Dropout(attn_p),nn.Dropout(resid_p)\n",
    "#         self.ln = nn.LayerNorm(d_model)\n",
    "        \n",
    "    def forward(self, x:Tensor, mask:Tensor=None, **kwargs):\n",
    "        attn_out = self._apply_attention(x, mask=mask, **kwargs)\n",
    "        return attn_out\n",
    "#         return self.out(attn_out)\n",
    "    \n",
    "    def _apply_attention(self, x:Tensor, mask:Tensor=None):\n",
    "        bs,x_len = x.size(0),x.size(1)\n",
    "        wq,wk,wv = torch.chunk(self.attention(x), 3, dim=-1)\n",
    "        wq,wk,wv = map(lambda x:x.view(bs, x.size(1), self.n_heads, self.d_head), (wq,wk,wv))\n",
    "        wq,wk,wv = wq.permute(0, 2, 1, 3),wk.permute(0, 2, 3, 1),wv.permute(0, 2, 1, 3)\n",
    "        attn_score = torch.matmul(wq, wk)\n",
    "        if self.scale: attn_score = attn_score.div_(self.d_head ** 0.5)\n",
    "        if mask is not None: \n",
    "            attn_score = attn_score.float().masked_fill(mask, -float('inf')).type_as(attn_score)\n",
    "        attn_prob = self.drop_att(F.softmax(attn_score, dim=-1))\n",
    "        attn_vec = torch.matmul(attn_prob, wv)\n",
    "        return attn_vec.permute(0, 2, 1, 3).contiguous().contiguous().view(bs, x_len, -1)\n",
    "    \n",
    "from fastai.text.learner import _model_meta\n",
    "\n",
    "class AttnLinearClassifier(nn.Module):\n",
    "    \"Create a linear classifier with pooling.\"\n",
    "\n",
    "    def __init__(self, layers:Collection[int], drops:Collection[float]):\n",
    "        super().__init__()\n",
    "        mod_layers = []\n",
    "        n_heads = 5\n",
    "        d_head = 20\n",
    "        mod_layers = bn_drop_lin(n_heads * d_head,layers[-1], p=0.1, actn=None) # [nn.Linear(n_heads * d_head,layers[-1])]\n",
    "        self.layers = nn.Sequential(*mod_layers)\n",
    "\n",
    "        self.mhra = m_MultiHeadAttention(n_heads=n_heads,d_model=400,d_head=d_head) #emb_sz == d_model\n",
    "        self.mask = False  #we are not translating, so looking \"ahead\" can't really happen.  \n",
    "        \n",
    "    def forward(self, input:Tuple[Tensor,Tensor, Tensor])->Tuple[Tensor,Tensor,Tensor]:\n",
    "        raw_outputs,outputs,mask = input\n",
    "        output = outputs[-1]  #final layer of RNN stack : emb_sz dim is output by default\n",
    "        \n",
    "        ## this probably makes more sense to be triu rather than whatever is incoming (?)\n",
    "        x_len = output.size(1)\n",
    "        att_mask = torch.triu(output.new_ones(x_len, x_len), diagonal=1).byte()[None,None] if self.mask else None\n",
    "        x = self.mhra(output, mask=att_mask)\n",
    "        sum_attn_dim = x.masked_fill(mask[:,:,None], 0).sum(dim=1)\n",
    "        x = self.layers(sum_attn_dim)\n",
    "        \n",
    "        return x, raw_outputs, outputs\n",
    "\n",
    "    \n",
    "def m_get_text_classifier(arch:Callable, vocab_sz:int, n_class:int, bptt:int=70, max_len:int=20*70, config:dict=None, \n",
    "                        drop_mult:float=1., lin_ftrs:Collection[int]=None, ps:Collection[float]=None,\n",
    "                        pad_idx:int=1) -> nn.Module:\n",
    "    \"Create a text classifier from `arch` and its `config`, maybe `pretrained`.\"\n",
    "    meta = _model_meta[arch]\n",
    "    config = ifnone(config, meta['config_clas'].copy())\n",
    "    for k in config.keys(): \n",
    "        if k.endswith('_p'): config[k] *= drop_mult\n",
    "    if lin_ftrs is None: lin_ftrs = [50]\n",
    "    if ps is None:  ps = [0.1]\n",
    "#     layers = [config[meta['hid_name']] * 3] + lin_ftrs + [n_class]  #last, max, avg pool\n",
    "    layers = [config[meta['hid_name']] ] + lin_ftrs + [n_class]\n",
    "    ps = [config.pop('output_p')] + ps\n",
    "    init = config.pop('init') if 'init' in config else None\n",
    "    encoder = MultiBatchEncoder(bptt, max_len, arch(vocab_sz, **config), pad_idx=pad_idx)\n",
    "    if init: encoder.apply(init)\n",
    "    model = SequentialRNN(encoder, AttnLinearClassifier(layers, ps))\n",
    "    return model #if init is None else model.apply(init)\n",
    "\n",
    "def m_text_classifier_learner(data:DataBunch, arch:Callable, bptt:int=70, max_len:int=70*20, config:dict=None, \n",
    "                            pretrained:bool=True, drop_mult:float=1., lin_ftrs:Collection[int]=None, \n",
    "                            ps:Collection[float]=None, **learn_kwargs) -> 'TextClassifierLearner':\n",
    "    \"Create a `Learner` with a text classifier from `data` and `arch`.\"\n",
    "    model = m_get_text_classifier(arch, len(data.vocab.itos), data.c, bptt=bptt, max_len=max_len,\n",
    "                                config=config, drop_mult=drop_mult, lin_ftrs=lin_ftrs, ps=ps)\n",
    "    meta = _model_meta[arch]\n",
    "    learn = RNNLearner(data, model, split_func=meta['split_clas'], **learn_kwargs)\n",
    "    \n",
    "    return learn    "
   ]
  },
  {
   "cell_type": "code",
   "execution_count": 46,
   "metadata": {},
   "outputs": [],
   "source": [
    "config = awd_lstm_clas_config.copy()\n",
    "config['qrnn'] = False\n",
    "config['n_hid'] = 2304\n",
    "\n",
    "learn = m_text_classifier_learner(data, AWD_LSTM, drop_mult=0.5, pretrained=False,\n",
    "                                      config=config)\n",
    "learn.load_encoder('twitter_es_enc_RNN_0510')\n",
    "learn.freeze()"
   ]
  },
  {
   "cell_type": "code",
   "execution_count": 32,
   "metadata": {},
   "outputs": [
    {
     "data": {
      "text/html": [],
      "text/plain": [
       "<IPython.core.display.HTML object>"
      ]
     },
     "metadata": {},
     "output_type": "display_data"
    },
    {
     "name": "stdout",
     "output_type": "stream",
     "text": [
      "LR Finder is complete, type {learner_name}.recorder.plot() to see the graph.\n"
     ]
    }
   ],
   "source": [
    "lr_find(learn)"
   ]
  },
  {
   "cell_type": "code",
   "execution_count": 34,
   "metadata": {},
   "outputs": [
    {
     "data": {
      "image/png": "[encoded data removed]",
      "text/plain": [
       "<Figure size 432x288 with 1 Axes>"
      ]
     },
     "metadata": {
      "needs_background": "light"
     },
     "output_type": "display_data"
    }
   ],
   "source": [
    "learn.recorder.plot(skip_end=10)"
   ]
  },
  {
   "cell_type": "code",
   "execution_count": 47,
   "metadata": {},
   "outputs": [
    {
     "data": {
      "text/html": [
       "Total time: 02:29 <p><table style='width:375px; margin-bottom:10px'>\n",
       "  <tr>\n",
       "    <th>epoch</th>\n",
       "    <th>train_loss</th>\n",
       "    <th>valid_loss</th>\n",
       "    <th>accuracy</th>\n",
       "    <th>time</th>\n",
       "  </tr>\n",
       "  <tr>\n",
       "    <th>0</th>\n",
       "    <th>0.547974</th>\n",
       "    <th>0.406650</th>\n",
       "    <th>0.827222</th>\n",
       "    <th>00:27</th>\n",
       "  </tr>\n",
       "  <tr>\n",
       "    <th>1</th>\n",
       "    <th>0.497167</th>\n",
       "    <th>0.427650</th>\n",
       "    <th>0.825833</th>\n",
       "    <th>00:31</th>\n",
       "  </tr>\n",
       "  <tr>\n",
       "    <th>2</th>\n",
       "    <th>0.493563</th>\n",
       "    <th>0.425515</th>\n",
       "    <th>0.828333</th>\n",
       "    <th>00:28</th>\n",
       "  </tr>\n",
       "  <tr>\n",
       "    <th>3</th>\n",
       "    <th>0.457718</th>\n",
       "    <th>0.420194</th>\n",
       "    <th>0.831944</th>\n",
       "    <th>00:30</th>\n",
       "  </tr>\n",
       "  <tr>\n",
       "    <th>4</th>\n",
       "    <th>0.471854</th>\n",
       "    <th>0.402615</th>\n",
       "    <th>0.839167</th>\n",
       "    <th>00:31</th>\n",
       "  </tr>\n",
       "</table>\n"
      ],
      "text/plain": [
       "<IPython.core.display.HTML object>"
      ]
     },
     "metadata": {},
     "output_type": "display_data"
    }
   ],
   "source": [
    "learn.freeze()\n",
    "learn.fit_one_cycle(5, 1e-2, moms=(0.8,0.6), pct_start=1.0)\n",
    "#                    callbacks=[SaveModelCallback(learn,every='improvement',mode='max',monitor='accuracy',name='best_acc_model')])"
   ]
  },
  {
   "cell_type": "code",
   "execution_count": 48,
   "metadata": {},
   "outputs": [
    {
     "data": {
      "image/png": "[encoded data removed]",
      "text/plain": [
       "<Figure size 432x288 with 1 Axes>"
      ]
     },
     "metadata": {
      "needs_background": "light"
     },
     "output_type": "display_data"
    },
    {
     "data": {
      "image/png": "[encoded data removed]",
      "text/plain": [
       "<Figure size 432x288 with 1 Axes>"
      ]
     },
     "metadata": {
      "needs_background": "light"
     },
     "output_type": "display_data"
    }
   ],
   "source": [
    "learn.recorder.plot_losses()\n",
    "learn.recorder.plot_metrics()"
   ]
  },
  {
   "cell_type": "code",
   "execution_count": 49,
   "metadata": {},
   "outputs": [],
   "source": [
    "learn.save('rnn_trained_attn_head')"
   ]
  },
  {
   "cell_type": "code",
   "execution_count": 50,
   "metadata": {},
   "outputs": [],
   "source": [
    "#learn = learn.load('rnn_trained_head')"
   ]
  },
  {
   "cell_type": "code",
   "execution_count": 51,
   "metadata": {},
   "outputs": [
    {
     "data": {
      "text/html": [
       "Total time: 03:24 <p><table style='width:375px; margin-bottom:10px'>\n",
       "  <tr>\n",
       "    <th>epoch</th>\n",
       "    <th>train_loss</th>\n",
       "    <th>valid_loss</th>\n",
       "    <th>accuracy</th>\n",
       "    <th>time</th>\n",
       "  </tr>\n",
       "  <tr>\n",
       "    <th>0</th>\n",
       "    <th>0.403559</th>\n",
       "    <th>0.386557</th>\n",
       "    <th>0.839722</th>\n",
       "    <th>00:22</th>\n",
       "  </tr>\n",
       "  <tr>\n",
       "    <th>1</th>\n",
       "    <th>0.384360</th>\n",
       "    <th>0.415722</th>\n",
       "    <th>0.837500</th>\n",
       "    <th>00:21</th>\n",
       "  </tr>\n",
       "  <tr>\n",
       "    <th>2</th>\n",
       "    <th>0.350137</th>\n",
       "    <th>0.421992</th>\n",
       "    <th>0.840278</th>\n",
       "    <th>00:19</th>\n",
       "  </tr>\n",
       "  <tr>\n",
       "    <th>3</th>\n",
       "    <th>0.333033</th>\n",
       "    <th>0.449440</th>\n",
       "    <th>0.839722</th>\n",
       "    <th>00:19</th>\n",
       "  </tr>\n",
       "  <tr>\n",
       "    <th>4</th>\n",
       "    <th>0.319181</th>\n",
       "    <th>0.444462</th>\n",
       "    <th>0.841111</th>\n",
       "    <th>00:20</th>\n",
       "  </tr>\n",
       "  <tr>\n",
       "    <th>5</th>\n",
       "    <th>0.286089</th>\n",
       "    <th>0.490217</th>\n",
       "    <th>0.839722</th>\n",
       "    <th>00:21</th>\n",
       "  </tr>\n",
       "  <tr>\n",
       "    <th>6</th>\n",
       "    <th>0.252801</th>\n",
       "    <th>0.522212</th>\n",
       "    <th>0.839722</th>\n",
       "    <th>00:20</th>\n",
       "  </tr>\n",
       "  <tr>\n",
       "    <th>7</th>\n",
       "    <th>0.252610</th>\n",
       "    <th>0.538934</th>\n",
       "    <th>0.838056</th>\n",
       "    <th>00:19</th>\n",
       "  </tr>\n",
       "  <tr>\n",
       "    <th>8</th>\n",
       "    <th>0.220345</th>\n",
       "    <th>0.559728</th>\n",
       "    <th>0.841111</th>\n",
       "    <th>00:20</th>\n",
       "  </tr>\n",
       "  <tr>\n",
       "    <th>9</th>\n",
       "    <th>0.231949</th>\n",
       "    <th>0.554752</th>\n",
       "    <th>0.829444</th>\n",
       "    <th>00:19</th>\n",
       "  </tr>\n",
       "</table>\n"
      ],
      "text/plain": [
       "<IPython.core.display.HTML object>"
      ]
     },
     "metadata": {},
     "output_type": "display_data"
    }
   ],
   "source": [
    "learn.freeze_to(-2)\n",
    "learn.fit_one_cycle(10,slice(1e-3/(2.6**2),1e-2), moms=(0.8,0.6), pct_start=1.0)\n",
    "#                  callbacks=[SaveModelCallback(learn,every='improvement',mode='max',monitor='accuracy',name='best_acc_model')])"
   ]
  },
  {
   "cell_type": "code",
   "execution_count": 52,
   "metadata": {},
   "outputs": [
    {
     "data": {
      "image/png": "[encoded data removed]",
      "text/plain": [
       "<Figure size 432x288 with 1 Axes>"
      ]
     },
     "metadata": {
      "needs_background": "light"
     },
     "output_type": "display_data"
    },
    {
     "data": {
      "image/png": "[encoded data removed]",
      "text/plain": [
       "<Figure size 432x288 with 1 Axes>"
      ]
     },
     "metadata": {
      "needs_background": "light"
     },
     "output_type": "display_data"
    }
   ],
   "source": [
    "learn.recorder.plot_losses()\n",
    "learn.recorder.plot_metrics()"
   ]
  },
  {
   "cell_type": "code",
   "execution_count": null,
   "metadata": {},
   "outputs": [],
   "source": [
    "learn.freeze_to(-3)\n",
    "learn.fit_one_cycle(5,slice(5e-4/(2.6**3),5e-4),moms=(0.7,0.4), wd=0.10,\n",
    "                   callbacks=[SaveModelCallback(learn,every='improvement',mode='max',monitor='accuracy',name='best_acc_model')])"
   ]
  },
  {
   "cell_type": "code",
   "execution_count": null,
   "metadata": {},
   "outputs": [],
   "source": [
    "learn.recorder.plot_losses()\n",
    "learn.recorder.plot_metrics()"
   ]
  },
  {
   "cell_type": "code",
   "execution_count": null,
   "metadata": {},
   "outputs": [],
   "source": [
    "learn.unfreeze()\n",
    "learn.fit_one_cycle(5,slice(1e-4/(2.6**4),1e-4),moms=(0.7,0.4),\n",
    "                   callbacks=[SaveModelCallback(learn,every='improvement',mode='max',monitor='accuracy',name='best_acc_model')])"
   ]
  },
  {
   "cell_type": "code",
   "execution_count": null,
   "metadata": {},
   "outputs": [],
   "source": [
    "learn.recorder.plot_losses()\n",
    "learn.recorder.plot_metrics()"
   ]
  },
  {
   "cell_type": "code",
   "execution_count": 53,
   "metadata": {},
   "outputs": [
    {
     "data": {
      "image/png": "[encoded data removed]",
      "text/plain": [
       "<Figure size 432x288 with 1 Axes>"
      ]
     },
     "metadata": {
      "needs_background": "light"
     },
     "output_type": "display_data"
    },
    {
     "data": {
      "image/png": "[encoded data removed]",
      "text/plain": [
       "<Figure size 432x288 with 1 Axes>"
      ]
     },
     "metadata": {
      "needs_background": "light"
     },
     "output_type": "display_data"
    }
   ],
   "source": [
    "preds_t,y_t,losses_t = learn.get_preds(DatasetType.Train,with_loss=True)\n",
    "interp_t = ClassificationInterpretation(learn, preds_t, y_t, losses_t)\n",
    "interp_t.plot_confusion_matrix()\n",
    "\n",
    "preds,y,losses = learn.get_preds(with_loss=True)\n",
    "interp = ClassificationInterpretation(learn, preds, y, losses)\n",
    "interp.plot_confusion_matrix()"
   ]
  },
  {
   "cell_type": "code",
   "execution_count": 54,
   "metadata": {},
   "outputs": [
    {
     "name": "stdout",
     "output_type": "stream",
     "text": [
      "----------\n"
     ]
    },
    {
     "data": {
      "text/html": [
       "<span style=\"font-family: monospace;\"><span title=\"0.122\" style=\"background-color: rgba(222, 235, 247, 0.5);\">▁</span> <span title=\"0.117\" style=\"background-color: rgba(224, 236, 247, 0.5);\">xxbos</span> <span title=\"0.428\" style=\"background-color: rgba(136, 190, 220, 0.5);\">▁(</span> <span title=\"0.228\" style=\"background-color: rgba(202, 221, 240, 0.5);\">▁</span> <span title=\"0.116\" style=\"background-color: rgba(224, 236, 247, 0.5);\">xxup</span> <span title=\"1.000\" style=\"background-color: rgba(8, 48, 107, 0.5);\">▁o</span> <span title=\"0.870\" style=\"background-color: rgba(8, 82, 156, 0.5);\">_</span> <span title=\"0.281\" style=\"background-color: rgba(188, 215, 235, 0.5);\">o</span> <span title=\"0.230\" style=\"background-color: rgba(202, 221, 240, 0.5);\">)</span> <span title=\"0.086\" style=\"background-color: rgba(229, 239, 249, 0.5);\">▁(</span> <span title=\"0.036\" style=\"background-color: rgba(239, 246, 252, 0.5);\">xxunk</span> <span title=\"0.040\" style=\"background-color: rgba(239, 245, 252, 0.5);\">_</span> <span title=\"0.021\" style=\"background-color: rgba(243, 248, 253, 0.5);\">▁</span> <span title=\"0.014\" style=\"background-color: rgba(244, 249, 254, 0.5);\">xxunk</span> <span title=\"0.050\" style=\"background-color: rgba(237, 244, 251, 0.5);\">)</span> <span title=\"0.044\" style=\"background-color: rgba(238, 245, 252, 0.5);\">▁(</span> <span title=\"0.025\" style=\"background-color: rgba(242, 247, 253, 0.5);\">▁</span> <span title=\"0.005\" style=\"background-color: rgba(246, 250, 254, 0.5);\">xxup</span> <span title=\"0.040\" style=\"background-color: rgba(239, 245, 252, 0.5);\">▁o</span> <span title=\"0.030\" style=\"background-color: rgba(241, 247, 253, 0.5);\">_</span> <span title=\"0.034\" style=\"background-color: rgba(240, 246, 252, 0.5);\">o</span> <span title=\"0.039\" style=\"background-color: rgba(239, 246, 252, 0.5);\">)</span> <span title=\"0.047\" style=\"background-color: rgba(237, 244, 251, 0.5);\">▁(</span> <span title=\"0.022\" style=\"background-color: rgba(243, 248, 253, 0.5);\">xxunk</span> <span title=\"0.023\" style=\"background-color: rgba(243, 248, 253, 0.5);\">_</span> <span title=\"0.014\" style=\"background-color: rgba(244, 249, 254, 0.5);\">▁</span> <span title=\"0.010\" style=\"background-color: rgba(245, 249, 254, 0.5);\">xxunk</span> <span title=\"0.036\" style=\"background-color: rgba(239, 246, 252, 0.5);\">)</span> <span title=\"0.037\" style=\"background-color: rgba(239, 246, 252, 0.5);\">▁(</span> <span title=\"0.023\" style=\"background-color: rgba(243, 248, 253, 0.5);\">▁</span> <span title=\"0.004\" style=\"background-color: rgba(246, 250, 254, 0.5);\">xxup</span> <span title=\"0.037\" style=\"background-color: rgba(239, 246, 252, 0.5);\">▁o</span> <span title=\"0.029\" style=\"background-color: rgba(241, 247, 253, 0.5);\">_</span> <span title=\"0.034\" style=\"background-color: rgba(240, 246, 252, 0.5);\">o</span> <span title=\"0.048\" style=\"background-color: rgba(237, 244, 251, 0.5);\">)</span> <span title=\"0.040\" style=\"background-color: rgba(239, 245, 252, 0.5);\">▁(</span> <span title=\"0.023\" style=\"background-color: rgba(243, 248, 253, 0.5);\">xxunk</span> <span title=\"0.026\" style=\"background-color: rgba(242, 247, 253, 0.5);\">_</span> <span title=\"0.017\" style=\"background-color: rgba(243, 248, 253, 0.5);\">▁</span> <span title=\"0.011\" style=\"background-color: rgba(245, 249, 254, 0.5);\">xxunk</span> <span title=\"0.045\" style=\"background-color: rgba(238, 245, 252, 0.5);\">)</span> <span title=\"0.039\" style=\"background-color: rgba(239, 245, 252, 0.5);\">▁(</span> <span title=\"0.025\" style=\"background-color: rgba(242, 247, 253, 0.5);\">▁</span> <span title=\"0.005\" style=\"background-color: rgba(246, 250, 254, 0.5);\">xxup</span> <span title=\"0.038\" style=\"background-color: rgba(239, 246, 252, 0.5);\">▁o</span> <span title=\"0.038\" style=\"background-color: rgba(239, 246, 252, 0.5);\">_</span> <span title=\"0.043\" style=\"background-color: rgba(239, 245, 252, 0.5);\">o</span> <span title=\"0.056\" style=\"background-color: rgba(236, 243, 251, 0.5);\">)</span> <span title=\"0.045\" style=\"background-color: rgba(238, 245, 252, 0.5);\">▁(</span> <span title=\"0.033\" style=\"background-color: rgba(240, 246, 252, 0.5);\">xxunk</span> <span title=\"0.038\" style=\"background-color: rgba(239, 246, 252, 0.5);\">_</span> <span title=\"0.022\" style=\"background-color: rgba(243, 248, 253, 0.5);\">▁</span> <span title=\"0.017\" style=\"background-color: rgba(243, 248, 253, 0.5);\">xxunk</span> <span title=\"0.046\" style=\"background-color: rgba(238, 245, 252, 0.5);\">)</span> <span title=\"0.041\" style=\"background-color: rgba(239, 245, 252, 0.5);\">▁(</span> <span title=\"0.036\" style=\"background-color: rgba(239, 246, 252, 0.5);\">xxunk</span> <span title=\"0.060\" style=\"background-color: rgba(235, 243, 251, 0.5);\">_</span> <span title=\"0.039\" style=\"background-color: rgba(239, 246, 252, 0.5);\">▁</span> <span title=\"0.048\" style=\"background-color: rgba(237, 244, 251, 0.5);\">xxunk</span> <span title=\"0.186\" style=\"background-color: rgba(210, 227, 243, 0.5);\">).</span> <span title=\"0.166\" style=\"background-color: rgba(214, 229, 244, 0.5);\">▁yo</span> <span title=\"0.170\" style=\"background-color: rgba(213, 229, 244, 0.5);\">▁con</span> <span title=\"0.119\" style=\"background-color: rgba(223, 235, 247, 0.5);\">▁el</span> <span title=\"0.450\" style=\"background-color: rgba(127, 184, 218, 0.5);\">▁móvil</span> <span title=\"0.140\" style=\"background-color: rgba(219, 233, 246, 0.5);\">▁en</span> <span title=\"0.331\" style=\"background-color: rgba(172, 208, 230, 0.5);\">▁clase</span> <span title=\"0.073\" style=\"background-color: rgba(232, 241, 250, 0.5);\">.</span></span>"
      ],
      "text/plain": [
       "<IPython.core.display.HTML object>"
      ]
     },
     "metadata": {},
     "output_type": "display_data"
    },
    {
     "name": "stdout",
     "output_type": "stream",
     "text": [
      "----------\n"
     ]
    },
    {
     "data": {
      "text/html": [
       "<span style=\"font-family: monospace;\"><span title=\"0.227\" style=\"background-color: rgba(202, 221, 240, 0.5);\">▁</span> <span title=\"0.157\" style=\"background-color: rgba(215, 230, 244, 0.5);\">xxbos</span> <span title=\"0.346\" style=\"background-color: rgba(167, 206, 228, 0.5);\">▁—</span> <span title=\"0.228\" style=\"background-color: rgba(202, 221, 240, 0.5);\">ó</span> <span title=\"1.000\" style=\"background-color: rgba(8, 48, 107, 0.5);\">ól</span> <span title=\"0.315\" style=\"background-color: rgba(177, 210, 231, 0.5);\">à</span> <span title=\"0.294\" style=\"background-color: rgba(183, 212, 234, 0.5);\">á</span> <span title=\"0.897\" style=\"background-color: rgba(8, 74, 146, 0.5);\">``</span> <span title=\"0.271\" style=\"background-color: rgba(191, 216, 236, 0.5);\">nn</span> <span title=\"0.246\" style=\"background-color: rgba(198, 219, 239, 0.5);\">ò</span> <span title=\"0.299\" style=\"background-color: rgba(182, 212, 233, 0.5);\">`</span> <span title=\"0.164\" style=\"background-color: rgba(215, 230, 244, 0.5);\">s</span> <span title=\"0.497\" style=\"background-color: rgba(107, 174, 214, 0.5);\">▁có</span> <span title=\"0.245\" style=\"background-color: rgba(199, 219, 239, 0.5);\">ò</span> <span title=\"0.140\" style=\"background-color: rgba(219, 233, 246, 0.5);\">nos</span> <span title=\"0.203\" style=\"background-color: rgba(207, 225, 242, 0.5);\">s</span> <span title=\"0.341\" style=\"background-color: rgba(168, 206, 228, 0.5);\">è</span> <span title=\"0.257\" style=\"background-color: rgba(196, 218, 238, 0.5);\">é</span> <span title=\"0.390\" style=\"background-color: rgba(152, 199, 223, 0.5);\">mos</span> <span title=\"0.468\" style=\"background-color: rgba(120, 181, 216, 0.5);\">¿</span> <span title=\"0.106\" style=\"background-color: rgba(225, 237, 248, 0.5);\">▁?</span> <span title=\"0.255\" style=\"background-color: rgba(196, 218, 238, 0.5);\">▁—</span> <span title=\"0.251\" style=\"background-color: rgba(197, 218, 238, 0.5);\">por</span> <span title=\"0.211\" style=\"background-color: rgba(205, 223, 241, 0.5);\">▁suerte</span> <span title=\"0.060\" style=\"background-color: rgba(235, 243, 251, 0.5);\">▁no</span> <span title=\"0.057\" style=\"background-color: rgba(236, 243, 251, 0.5);\">▁,</span> <span title=\"0.057\" style=\"background-color: rgba(236, 243, 251, 0.5);\">▁que</span> <span title=\"0.096\" style=\"background-color: rgba(228, 238, 248, 0.5);\">▁te</span> <span title=\"0.242\" style=\"background-color: rgba(199, 219, 239, 0.5);\">▁mejores</span> <span title=\"0.063\" style=\"background-color: rgba(234, 242, 250, 0.5);\">.</span></span>"
      ],
      "text/plain": [
       "<IPython.core.display.HTML object>"
      ]
     },
     "metadata": {},
     "output_type": "display_data"
    },
    {
     "name": "stdout",
     "output_type": "stream",
     "text": [
      "----------\n"
     ]
    },
    {
     "data": {
      "text/html": [
       "<span style=\"font-family: monospace;\"><span title=\"0.108\" style=\"background-color: rgba(225, 237, 248, 0.5);\">▁</span> <span title=\"0.106\" style=\"background-color: rgba(225, 237, 248, 0.5);\">xxbos</span> <span title=\"0.229\" style=\"background-color: rgba(202, 221, 240, 0.5);\">▁es</span> <span title=\"0.312\" style=\"background-color: rgba(178, 210, 232, 0.5);\">▁increíble</span> <span title=\"0.203\" style=\"background-color: rgba(206, 224, 241, 0.5);\">▁lo</span> <span title=\"0.159\" style=\"background-color: rgba(215, 230, 244, 0.5);\">▁que</span> <span title=\"0.788\" style=\"background-color: rgba(25, 103, 173, 0.5);\">▁dura</span> <span title=\"0.243\" style=\"background-color: rgba(199, 219, 239, 0.5);\">▁la</span> <span title=\"1.000\" style=\"background-color: rgba(8, 48, 107, 0.5);\">▁batería</span> <span title=\"0.177\" style=\"background-color: rgba(212, 228, 243, 0.5);\">▁del</span> <span title=\"0.375\" style=\"background-color: rgba(158, 202, 225, 0.5);\">▁celular</span> <span title=\"0.156\" style=\"background-color: rgba(216, 231, 245, 0.5);\">▁cuando</span> <span title=\"0.275\" style=\"background-color: rgba(190, 215, 236, 0.5);\">▁nadie</span> <span title=\"0.167\" style=\"background-color: rgba(214, 229, 244, 0.5);\">▁te</span> <span title=\"0.260\" style=\"background-color: rgba(195, 217, 238, 0.5);\">▁quiere</span> <span title=\"0.074\" style=\"background-color: rgba(232, 241, 250, 0.5);\">.</span></span>"
      ],
      "text/plain": [
       "<IPython.core.display.HTML object>"
      ]
     },
     "metadata": {},
     "output_type": "display_data"
    },
    {
     "name": "stdout",
     "output_type": "stream",
     "text": [
      "----------\n"
     ]
    },
    {
     "data": {
      "text/html": [
       "<span style=\"font-family: monospace;\"><span title=\"0.046\" style=\"background-color: rgba(238, 245, 252, 0.5);\">▁</span> <span title=\"0.048\" style=\"background-color: rgba(237, 244, 251, 0.5);\">xxbos</span> <span title=\"0.192\" style=\"background-color: rgba(209, 226, 242, 0.5);\">▁amigos</span> <span title=\"0.069\" style=\"background-color: rgba(233, 242, 250, 0.5);\">▁,</span> <span title=\"0.181\" style=\"background-color: rgba(211, 227, 243, 0.5);\">▁yo</span> <span title=\"0.257\" style=\"background-color: rgba(196, 218, 238, 0.5);\">▁siempre</span> <span title=\"0.285\" style=\"background-color: rgba(186, 214, 234, 0.5);\">▁respondo</span> <span title=\"0.305\" style=\"background-color: rgba(180, 211, 232, 0.5);\">▁menciones</span> <span title=\"0.036\" style=\"background-color: rgba(239, 246, 252, 0.5);\">.</span> <span title=\"0.044\" style=\"background-color: rgba(238, 245, 252, 0.5);\">▁es</span> <span title=\"0.070\" style=\"background-color: rgba(233, 242, 250, 0.5);\">▁más</span> <span title=\"0.049\" style=\"background-color: rgba(237, 244, 251, 0.5);\">▁,</span> <span title=\"0.058\" style=\"background-color: rgba(236, 243, 251, 0.5);\">▁si</span> <span title=\"0.090\" style=\"background-color: rgba(228, 239, 249, 0.5);\">▁en</span> <span title=\"0.066\" style=\"background-color: rgba(234, 242, 250, 0.5);\">▁la</span> <span title=\"0.333\" style=\"background-color: rgba(171, 207, 229, 0.5);\">▁calle</span> <span title=\"0.303\" style=\"background-color: rgba(181, 211, 233, 0.5);\">▁veo</span> <span title=\"0.160\" style=\"background-color: rgba(215, 230, 244, 0.5);\">▁un</span> <span title=\"0.607\" style=\"background-color: rgba(71, 149, 200, 0.5);\">▁letrero</span> <span title=\"0.054\" style=\"background-color: rgba(236, 244, 251, 0.5);\">▁que</span> <span title=\"0.159\" style=\"background-color: rgba(215, 230, 244, 0.5);\">▁dice</span> <span title=\"0.102\" style=\"background-color: rgba(226, 237, 248, 0.5);\">:</span> <span title=\"1.000\" style=\"background-color: rgba(8, 48, 107, 0.5);\">▁«¿</span> <span title=\"0.463\" style=\"background-color: rgba(122, 182, 217, 0.5);\">ha</span> <span title=\"0.345\" style=\"background-color: rgba(167, 206, 228, 0.5);\">▁visto</span> <span title=\"0.081\" style=\"background-color: rgba(231, 240, 249, 0.5);\">▁a</span> <span title=\"0.095\" style=\"background-color: rgba(228, 238, 248, 0.5);\">▁este</span> <span title=\"0.190\" style=\"background-color: rgba(209, 226, 242, 0.5);\">▁perro</span> <span title=\"0.047\" style=\"background-color: rgba(237, 244, 251, 0.5);\">▁?</span> <span title=\"0.233\" style=\"background-color: rgba(201, 221, 240, 0.5);\">▁»</span> <span title=\"0.067\" style=\"background-color: rgba(233, 242, 250, 0.5);\">▁,</span> <span title=\"0.222\" style=\"background-color: rgba(203, 222, 240, 0.5);\">▁llamo</span> <span title=\"0.064\" style=\"background-color: rgba(234, 242, 250, 0.5);\">▁para</span> <span title=\"0.089\" style=\"background-color: rgba(229, 239, 249, 0.5);\">▁decir</span> <span title=\"0.044\" style=\"background-color: rgba(238, 245, 252, 0.5);\">▁que</span> <span title=\"0.042\" style=\"background-color: rgba(239, 245, 252, 0.5);\">▁no</span> <span title=\"0.059\" style=\"background-color: rgba(235, 243, 251, 0.5);\">.</span></span>"
      ],
      "text/plain": [
       "<IPython.core.display.HTML object>"
      ]
     },
     "metadata": {},
     "output_type": "display_data"
    },
    {
     "name": "stdout",
     "output_type": "stream",
     "text": [
      "----------\n"
     ]
    },
    {
     "data": {
      "text/html": [
       "<span style=\"font-family: monospace;\"><span title=\"0.355\" style=\"background-color: rgba(163, 204, 227, 0.5);\">▁</span> <span title=\"0.316\" style=\"background-color: rgba(177, 210, 231, 0.5);\">xxbos</span> <span title=\"0.588\" style=\"background-color: rgba(78, 154, 202, 0.5);\">▁mi</span> <span title=\"0.636\" style=\"background-color: rgba(63, 143, 196, 0.5);\">▁celular</span> <span title=\"0.454\" style=\"background-color: rgba(125, 184, 217, 0.5);\">▁ya</span> <span title=\"0.624\" style=\"background-color: rgba(66, 146, 198, 0.5);\">▁parece</span> <span title=\"0.239\" style=\"background-color: rgba(200, 220, 239, 0.5);\">▁un</span> <span title=\"0.689\" style=\"background-color: rgba(48, 128, 189, 0.5);\">▁teléfono</span> <span title=\"0.788\" style=\"background-color: rgba(25, 103, 173, 0.5);\">▁fijo</span> <span title=\"0.264\" style=\"background-color: rgba(193, 217, 237, 0.5);\">▁de</span> <span title=\"0.511\" style=\"background-color: rgba(103, 171, 212, 0.5);\">▁tanto</span> <span title=\"0.557\" style=\"background-color: rgba(88, 161, 206, 0.5);\">▁estar</span> <span title=\"0.284\" style=\"background-color: rgba(187, 214, 235, 0.5);\">▁con</span> <span title=\"0.179\" style=\"background-color: rgba(212, 228, 243, 0.5);\">▁el</span> <span title=\"1.000\" style=\"background-color: rgba(8, 48, 107, 0.5);\">▁cable</span> <span title=\"0.249\" style=\"background-color: rgba(198, 219, 239, 0.5);\">▁del</span> <span title=\"0.806\" style=\"background-color: rgba(21, 98, 169, 0.5);\">▁cargador</span> <span title=\"0.796\" style=\"background-color: rgba(23, 101, 171, 0.5);\">▁puesto</span> <span title=\"0.175\" style=\"background-color: rgba(212, 228, 243, 0.5);\">.</span></span>"
      ],
      "text/plain": [
       "<IPython.core.display.HTML object>"
      ]
     },
     "metadata": {},
     "output_type": "display_data"
    }
   ],
   "source": [
    "from fastai.text.models.awd_lstm import TextClassificationInterpretation\n",
    "from matplotlib.pyplot import cm\n",
    "txt_ci = TextClassificationInterpretation.from_learner(learn)\n",
    "(_,idxs) = interp.top_losses(5)\n",
    "for idx in to_np(idxs):\n",
    "    print(\"-\"*10)\n",
    "    txt_ci.show_intrinsic_attention(df_train.iloc[idx,1],cmap=cm.Blues) #textify breaks?"
   ]
  },
  {
   "cell_type": "code",
   "execution_count": 41,
   "metadata": {},
   "outputs": [],
   "source": [
    "learn.save(\"haha_20190516_tweet_vocab\")"
   ]
  },
  {
   "cell_type": "markdown",
   "metadata": {
    "heading_collapsed": true
   },
   "source": [
    "### Save predictions for use in Ensemble method (not used)"
   ]
  },
  {
   "cell_type": "code",
   "execution_count": 44,
   "metadata": {
    "hidden": true
   },
   "outputs": [],
   "source": [
    "pd.DataFrame(to_np(preds)).to_csv('rnn_sent_preds.csv')"
   ]
  },
  {
   "cell_type": "code",
   "execution_count": 49,
   "metadata": {
    "hidden": true
   },
   "outputs": [],
   "source": [
    "## fastai \"test\" has no labels.  It is a true test, not a whitholding set!!  We need a second valid set?\n",
    "## move the df_test into the \"valid\" position so we can run inference and get preds on randomized vals\n",
    "data_t = TextClasDataBunch.from_df(PATH,df_train,df_test,\n",
    "                               tokenizer=mycust_tok, vocab=sp_vocab,\n",
    "                               text_cols='new_text', label_cols='is_humor')\n",
    "learn.data = data_t\n",
    "t_preds,t_y,t_losses = learn.get_preds(with_loss=True,ds_type=DatasetType.Valid)"
   ]
  },
  {
   "cell_type": "code",
   "execution_count": 50,
   "metadata": {
    "hidden": true
   },
   "outputs": [],
   "source": [
    "pd.DataFrame(to_np(t_preds)).to_csv('rnn_sent_t_preds.csv')"
   ]
  }
 ],
 "metadata": {
  "kernelspec": {
   "display_name": "Python 3.7 fasta.ai1 DEV",
   "language": "python",
   "name": "fastai1_dev"
  },
  "language_info": {
   "codemirror_mode": {
    "name": "ipython",
    "version": 3
   },
   "file_extension": ".py",
   "mimetype": "text/x-python",
   "name": "python",
   "nbconvert_exporter": "python",
   "pygments_lexer": "ipython3",
   "version": "3.7.3"
  },
  "varInspector": {
   "cols": {
    "lenName": 16,
    "lenType": 16,
    "lenVar": 40
   },
   "kernels_config": {
    "python": {
     "delete_cmd_postfix": "",
     "delete_cmd_prefix": "del ",
     "library": "var_list.py",
     "varRefreshCmd": "print(var_dic_list())"
    },
    "r": {
     "delete_cmd_postfix": ") ",
     "delete_cmd_prefix": "rm(",
     "library": "var_list.r",
     "varRefreshCmd": "cat(var_dic_list()) "
    }
   },
   "types_to_exclude": [
    "module",
    "function",
    "builtin_function_or_method",
    "instance",
    "_Feature"
   ],
   "window_display": false
  }
 },
 "nbformat": 4,
 "nbformat_minor": 2
}
