{
 "cells": [
  {
   "cell_type": "code",
   "execution_count": 1,
   "metadata": {},
   "outputs": [],
   "source": [
    "import glob\n",
    "\n",
    "from fastai.text import *\n",
    "# from fastai.callbacks import SaveModelCallback\n",
    "import sentencepiece as spm #https://github.com/google/sentencepiece\n",
    "\n",
    "from prod.sp_tok import *\n",
    "\n",
    "torch.backends.cudnn.enabled=False #for quant.313v machine.  Not sure why..."
   ]
  },
  {
   "cell_type": "code",
   "execution_count": 2,
   "metadata": {},
   "outputs": [],
   "source": [
    "PATH = Path('./data/rnn')\n",
    "sp_model = './all_tweets_es_0606'\n",
    "\n",
    "defaults.text_spec_tok.append(NL) #add a New Line special char\n",
    "sp_vocab = Vocab( get_itos(sp_model) )\n",
    "mycust_tok = CustomTokenizer(SPTokenizer,sp_model,pre_rules=default_rules)"
   ]
  },
  {
   "cell_type": "code",
   "execution_count": 3,
   "metadata": {},
   "outputs": [],
   "source": [
    "test_df = pd.read_csv('./data/haha_2019_test.csv')\n",
    "test_df['is_humor'] = 0\n",
    "test_df['is_humor'].iloc[0] = 1 #create two classes in data.\n",
    "## apply the rules\n",
    "raw_text = test_df.loc[:,'text']\n",
    "\n",
    "print(\"Default Rules:\\n\",[x.__name__ for x in default_rules],\"\\n\\n\")\n",
    "for rule in default_rules:\n",
    "    raw_text = raw_text.apply(lambda x: rule(str(x)))    \n",
    "test_df['new_text'] =  raw_text #tokenizer adds xxbos\n",
    "\n",
    "data_tst = TextClasDataBunch.from_df(PATH, test_df, test_df,\n",
    "                               tokenizer=mycust_tok, vocab=sp_vocab,\n",
    "                               text_cols='new_text', label_cols='is_humor')"
   ]
  },
  {
   "cell_type": "code",
   "execution_count": 13,
   "metadata": {},
   "outputs": [
    {
     "data": {
      "text/plain": [
       "204"
      ]
     },
     "execution_count": 13,
     "metadata": {},
     "output_type": "execute_result"
    }
   ],
   "source": [
    "model_wt_fnames = [x.split('/')[-1] for x in glob.glob( str(PATH/'models')+'/haha_clas*_bwd.pth')]\n",
    "len(model_wt_fnames)"
   ]
  },
  {
   "cell_type": "code",
   "execution_count": 14,
   "metadata": {},
   "outputs": [],
   "source": [
    "!grep Clas ./prod/out_bwd_tmp1?.txt > ./by_seed_bwd_perf"
   ]
  },
  {
   "cell_type": "code",
   "execution_count": 15,
   "metadata": {},
   "outputs": [
    {
     "data": {
      "text/html": [
       "<div>\n",
       "<style scoped>\n",
       "    .dataframe tbody tr th:only-of-type {\n",
       "        vertical-align: middle;\n",
       "    }\n",
       "\n",
       "    .dataframe tbody tr th {\n",
       "        vertical-align: top;\n",
       "    }\n",
       "\n",
       "    .dataframe thead th {\n",
       "        text-align: right;\n",
       "    }\n",
       "</style>\n",
       "<table border=\"1\" class=\"dataframe\">\n",
       "  <thead>\n",
       "    <tr style=\"text-align: right;\">\n",
       "      <th></th>\n",
       "      <th>id</th>\n",
       "      <th>acc</th>\n",
       "      <th>F1</th>\n",
       "      <th>rnd_seed</th>\n",
       "    </tr>\n",
       "  </thead>\n",
       "  <tbody>\n",
       "    <tr>\n",
       "      <th>0</th>\n",
       "      <td>./prod/out_bwd_tmp10.txt:Clas RndSeed: 18557</td>\n",
       "      <td>0.847222</td>\n",
       "      <td>0.812627</td>\n",
       "      <td>18557</td>\n",
       "    </tr>\n",
       "    <tr>\n",
       "      <th>1</th>\n",
       "      <td>./prod/out_bwd_tmp10.txt:Clas RndSeed: 827705</td>\n",
       "      <td>0.847500</td>\n",
       "      <td>0.808599</td>\n",
       "      <td>827705</td>\n",
       "    </tr>\n",
       "    <tr>\n",
       "      <th>2</th>\n",
       "      <td>./prod/out_bwd_tmp10.txt:Clas RndSeed: 988722</td>\n",
       "      <td>0.850000</td>\n",
       "      <td>0.810999</td>\n",
       "      <td>988722</td>\n",
       "    </tr>\n",
       "    <tr>\n",
       "      <th>3</th>\n",
       "      <td>./prod/out_bwd_tmp10.txt:Clas RndSeed: 376490</td>\n",
       "      <td>0.843611</td>\n",
       "      <td>0.808266</td>\n",
       "      <td>376490</td>\n",
       "    </tr>\n",
       "    <tr>\n",
       "      <th>4</th>\n",
       "      <td>./prod/out_bwd_tmp10.txt:Clas RndSeed: 512808</td>\n",
       "      <td>0.846667</td>\n",
       "      <td>0.810309</td>\n",
       "      <td>512808</td>\n",
       "    </tr>\n",
       "  </tbody>\n",
       "</table>\n",
       "</div>"
      ],
      "text/plain": [
       "                                              id       acc        F1 rnd_seed\n",
       "0   ./prod/out_bwd_tmp10.txt:Clas RndSeed: 18557  0.847222  0.812627    18557\n",
       "1  ./prod/out_bwd_tmp10.txt:Clas RndSeed: 827705  0.847500  0.808599   827705\n",
       "2  ./prod/out_bwd_tmp10.txt:Clas RndSeed: 988722  0.850000  0.810999   988722\n",
       "3  ./prod/out_bwd_tmp10.txt:Clas RndSeed: 376490  0.843611  0.808266   376490\n",
       "4  ./prod/out_bwd_tmp10.txt:Clas RndSeed: 512808  0.846667  0.810309   512808"
      ]
     },
     "execution_count": 15,
     "metadata": {},
     "output_type": "execute_result"
    }
   ],
   "source": [
    "## be more picky about the models.  Take the top quarter in validation. Does better val -> better test?\n",
    "valid_perf = pd.read_csv('by_seed_bwd_perf', names = ['id','acc','F1'])\n",
    "valid_perf['rnd_seed'] = valid_perf.id.str.split(':',expand=True).iloc[:,-1].str.strip()\n",
    "valid_perf.head()"
   ]
  },
  {
   "cell_type": "code",
   "execution_count": 18,
   "metadata": {},
   "outputs": [
    {
     "data": {
      "text/plain": [
       "Text(0.5, 1.0, 'Backward Model \\n Freq of F1 over all Random Seeds (200) \\n Vert line = 75th p-tile')"
      ]
     },
     "execution_count": 18,
     "metadata": {},
     "output_type": "execute_result"
    },
    {
     "data": {
      "image/png": "[encoded data removed]",
      "text/plain": [
       "<Figure size 432x288 with 1 Axes>"
      ]
     },
     "metadata": {
      "needs_background": "light"
     },
     "output_type": "display_data"
    }
   ],
   "source": [
    "valid_perf.F1.hist(alpha=0.3)\n",
    "plt.axvline(x=valid_perf.F1.quantile(0.75))\n",
    "#valid_perf[valid_perf.F1 >= valid_perf.F1.quantile(0.75)].F1.hist(alpha=0.3)\n",
    "plt.title('Backward Model \\n Freq of F1 over all Random Seeds (200) \\n Vert line = 75th p-tile')"
   ]
  },
  {
   "cell_type": "code",
   "execution_count": 33,
   "metadata": {},
   "outputs": [],
   "source": [
    "selected_rnd_seeds = valid_perf[valid_perf.F1 >= valid_perf.F1.quantile(0.75)].rnd_seed.tolist()"
   ]
  },
  {
   "cell_type": "code",
   "execution_count": 37,
   "metadata": {},
   "outputs": [],
   "source": [
    "model_wt_fnames = [f'haha_clas{x}.pth' for x in selected_rnd_seeds]"
   ]
  },
  {
   "cell_type": "code",
   "execution_count": 38,
   "metadata": {},
   "outputs": [],
   "source": [
    "ensemble_preds = []\n",
    "for wt_fname in model_wt_fnames:\n",
    "    config = awd_lstm_clas_config.copy()\n",
    "    config['qrnn'] = True\n",
    "    config['n_hid'] = 2304\n",
    "    \n",
    "    learn = text_classifier_learner(data_tst, AWD_LSTM, drop_mult=0.7,pretrained=False,\n",
    "                               config=config)\n",
    "    learn = learn.load(wt_fname.split('.')[0]) #load weights\n",
    "    preds_t,y_t,losses_t = learn.get_preds(DatasetType.Valid,with_loss=True, ordered=True)\n",
    "    ensemble_preds.append(to_np(preds_t))"
   ]
  },
  {
   "cell_type": "code",
   "execution_count": 39,
   "metadata": {},
   "outputs": [
    {
     "data": {
      "text/plain": [
       "(50, 6000, 2)"
      ]
     },
     "execution_count": 39,
     "metadata": {},
     "output_type": "execute_result"
    }
   ],
   "source": [
    "np.array(ensemble_preds).shape"
   ]
  },
  {
   "cell_type": "code",
   "execution_count": 41,
   "metadata": {},
   "outputs": [
    {
     "data": {
      "text/plain": [
       "array([[[0.267982, 0.732018],\n",
       "        [0.892686, 0.107314],\n",
       "        [0.053149, 0.946851],\n",
       "        [0.977666, 0.022334],\n",
       "        ...,\n",
       "        [0.972737, 0.027263],\n",
       "        [0.930824, 0.069176],\n",
       "        [0.482312, 0.517688],\n",
       "        [0.180876, 0.819124]],\n",
       "\n",
       "       [[0.277356, 0.722644],\n",
       "        [0.729095, 0.270905],\n",
       "        [0.098654, 0.901346],\n",
       "        [0.907555, 0.092445],\n",
       "        ...,\n",
       "        [0.857039, 0.142961],\n",
       "        [0.917596, 0.082404],\n",
       "        [0.455641, 0.544358],\n",
       "        [0.184325, 0.815675]],\n",
       "\n",
       "       [[0.236542, 0.763458],\n",
       "        [0.959319, 0.040681],\n",
       "        [0.056263, 0.943737],\n",
       "        [0.979277, 0.020723],\n",
       "        ...,\n",
       "        [0.978749, 0.021251],\n",
       "        [0.944061, 0.055939],\n",
       "        [0.436965, 0.563035],\n",
       "        [0.205847, 0.794153]],\n",
       "\n",
       "       [[0.190039, 0.809961],\n",
       "        [0.940626, 0.059374],\n",
       "        [0.058404, 0.941596],\n",
       "        [0.986025, 0.013975],\n",
       "        ...,\n",
       "        [0.987029, 0.012971],\n",
       "        [0.931957, 0.068043],\n",
       "        [0.638808, 0.361192],\n",
       "        [0.174124, 0.825876]],\n",
       "\n",
       "       ...,\n",
       "\n",
       "       [[0.254982, 0.745018],\n",
       "        [0.927411, 0.072589],\n",
       "        [0.039895, 0.960105],\n",
       "        [0.975771, 0.024229],\n",
       "        ...,\n",
       "        [0.929048, 0.070952],\n",
       "        [0.979273, 0.020727],\n",
       "        [0.566541, 0.433459],\n",
       "        [0.191916, 0.808084]],\n",
       "\n",
       "       [[0.237817, 0.762183],\n",
       "        [0.964427, 0.035573],\n",
       "        [0.055416, 0.944584],\n",
       "        [0.989755, 0.010245],\n",
       "        ...,\n",
       "        [0.93552 , 0.06448 ],\n",
       "        [0.933556, 0.066444],\n",
       "        [0.545138, 0.454862],\n",
       "        [0.249796, 0.750204]],\n",
       "\n",
       "       [[0.221847, 0.778153],\n",
       "        [0.794642, 0.205358],\n",
       "        [0.086952, 0.913048],\n",
       "        [0.978151, 0.021849],\n",
       "        ...,\n",
       "        [0.921187, 0.078813],\n",
       "        [0.843016, 0.156984],\n",
       "        [0.360951, 0.639049],\n",
       "        [0.19407 , 0.80593 ]],\n",
       "\n",
       "       [[0.292265, 0.707735],\n",
       "        [0.794419, 0.205581],\n",
       "        [0.085291, 0.914709],\n",
       "        [0.920945, 0.079055],\n",
       "        ...,\n",
       "        [0.875331, 0.124669],\n",
       "        [0.947549, 0.052451],\n",
       "        [0.338308, 0.661692],\n",
       "        [0.218927, 0.781073]]], dtype=float32)"
      ]
     },
     "execution_count": 41,
     "metadata": {},
     "output_type": "execute_result"
    }
   ],
   "source": [
    "np.array(ensemble_preds)"
   ]
  },
  {
   "cell_type": "code",
   "execution_count": 42,
   "metadata": {},
   "outputs": [
    {
     "data": {
      "text/plain": [
       "array([[0.220456, 0.779544],\n",
       "       [0.879834, 0.120166],\n",
       "       [0.057766, 0.942234],\n",
       "       [0.955162, 0.044838],\n",
       "       ...,\n",
       "       [0.904799, 0.095201],\n",
       "       [0.927203, 0.072797],\n",
       "       [0.424851, 0.575149],\n",
       "       [0.180511, 0.819489]], dtype=float32)"
      ]
     },
     "execution_count": 42,
     "metadata": {},
     "output_type": "execute_result"
    }
   ],
   "source": [
    "ens_mean = np.array(ensemble_preds).mean(axis=0)\n",
    "ens_mean"
   ]
  },
  {
   "cell_type": "code",
   "execution_count": 43,
   "metadata": {},
   "outputs": [],
   "source": [
    "out_df = test_df['id'].to_frame().copy()\n",
    "out_df['is_humor'] = ens_mean.argmax(axis=1)\n",
    "out_df['funniness_average'] = 3."
   ]
  },
  {
   "cell_type": "code",
   "execution_count": 44,
   "metadata": {},
   "outputs": [
    {
     "data": {
      "text/html": [
       "<div>\n",
       "<style scoped>\n",
       "    .dataframe tbody tr th:only-of-type {\n",
       "        vertical-align: middle;\n",
       "    }\n",
       "\n",
       "    .dataframe tbody tr th {\n",
       "        vertical-align: top;\n",
       "    }\n",
       "\n",
       "    .dataframe thead th {\n",
       "        text-align: right;\n",
       "    }\n",
       "</style>\n",
       "<table border=\"1\" class=\"dataframe\">\n",
       "  <thead>\n",
       "    <tr style=\"text-align: right;\">\n",
       "      <th></th>\n",
       "      <th>id</th>\n",
       "      <th>is_humor</th>\n",
       "      <th>funniness_average</th>\n",
       "    </tr>\n",
       "  </thead>\n",
       "  <tbody>\n",
       "    <tr>\n",
       "      <th>0</th>\n",
       "      <td>tweet1</td>\n",
       "      <td>1</td>\n",
       "      <td>3.0</td>\n",
       "    </tr>\n",
       "    <tr>\n",
       "      <th>1</th>\n",
       "      <td>tweet2</td>\n",
       "      <td>0</td>\n",
       "      <td>3.0</td>\n",
       "    </tr>\n",
       "    <tr>\n",
       "      <th>2</th>\n",
       "      <td>tweet3</td>\n",
       "      <td>1</td>\n",
       "      <td>3.0</td>\n",
       "    </tr>\n",
       "    <tr>\n",
       "      <th>3</th>\n",
       "      <td>tweet4</td>\n",
       "      <td>0</td>\n",
       "      <td>3.0</td>\n",
       "    </tr>\n",
       "    <tr>\n",
       "      <th>4</th>\n",
       "      <td>tweet5</td>\n",
       "      <td>0</td>\n",
       "      <td>3.0</td>\n",
       "    </tr>\n",
       "  </tbody>\n",
       "</table>\n",
       "</div>"
      ],
      "text/plain": [
       "       id  is_humor  funniness_average\n",
       "0  tweet1         1                3.0\n",
       "1  tweet2         0                3.0\n",
       "2  tweet3         1                3.0\n",
       "3  tweet4         0                3.0\n",
       "4  tweet5         0                3.0"
      ]
     },
     "execution_count": 44,
     "metadata": {},
     "output_type": "execute_result"
    }
   ],
   "source": [
    "out_df.head()"
   ]
  },
  {
   "cell_type": "code",
   "execution_count": 45,
   "metadata": {},
   "outputs": [],
   "source": [
    "out_df.to_csv('sub0606_2.csv',header=True,index=False)"
   ]
  }
 ],
 "metadata": {
  "kernelspec": {
   "display_name": "Python 3",
   "language": "python",
   "name": "python3"
  },
  "language_info": {
   "codemirror_mode": {
    "name": "ipython",
    "version": 3
   },
   "file_extension": ".py",
   "mimetype": "text/x-python",
   "name": "python",
   "nbconvert_exporter": "python",
   "pygments_lexer": "ipython3",
   "version": "3.7.3"
  },
  "varInspector": {
   "cols": {
    "lenName": 16,
    "lenType": 16,
    "lenVar": 40
   },
   "kernels_config": {
    "python": {
     "delete_cmd_postfix": "",
     "delete_cmd_prefix": "del ",
     "library": "var_list.py",
     "varRefreshCmd": "print(var_dic_list())"
    },
    "r": {
     "delete_cmd_postfix": ") ",
     "delete_cmd_prefix": "rm(",
     "library": "var_list.r",
     "varRefreshCmd": "cat(var_dic_list()) "
    }
   },
   "types_to_exclude": [
    "module",
    "function",
    "builtin_function_or_method",
    "instance",
    "_Feature"
   ],
   "window_display": false
  }
 },
 "nbformat": 4,
 "nbformat_minor": 2
}
