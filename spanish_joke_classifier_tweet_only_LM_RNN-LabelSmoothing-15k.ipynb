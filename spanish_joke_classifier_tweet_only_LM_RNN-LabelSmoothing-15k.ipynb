{
 "cells": [
  {
   "cell_type": "markdown",
   "metadata": {},
   "source": [
    "Use the tweets for the updated vocab, test classifer on humor"
   ]
  },
  {
   "cell_type": "code",
   "execution_count": 1,
   "metadata": {},
   "outputs": [
    {
     "name": "stdout",
     "output_type": "stream",
     "text": [
      "/home/farzin/haha_2019\r\n"
     ]
    }
   ],
   "source": [
    "!pwd"
   ]
  },
  {
   "cell_type": "code",
   "execution_count": 2,
   "metadata": {},
   "outputs": [],
   "source": [
    "%reload_ext autoreload\n",
    "%autoreload 2"
   ]
  },
  {
   "cell_type": "code",
   "execution_count": 3,
   "metadata": {},
   "outputs": [],
   "source": [
    "import os\n",
    "os.environ[\"CUDA_VISIBLE_DEVICES\"]=\"0\""
   ]
  },
  {
   "cell_type": "code",
   "execution_count": 4,
   "metadata": {},
   "outputs": [],
   "source": [
    "from fastai.text import *\n",
    "from fastai.callbacks import SaveModelCallback\n",
    "import sentencepiece as spm #https://github.com/google/sentencepiece"
   ]
  },
  {
   "cell_type": "markdown",
   "metadata": {},
   "source": [
    "# Python code Examples (testing out tokenizer)"
   ]
  },
  {
   "cell_type": "markdown",
   "metadata": {},
   "source": [
    "## Data"
   ]
  },
  {
   "cell_type": "markdown",
   "metadata": {},
   "source": [
    "### Reading the texts"
   ]
  },
  {
   "cell_type": "code",
   "execution_count": 5,
   "metadata": {},
   "outputs": [],
   "source": [
    "PATH = Path('./data/rnn/')"
   ]
  },
  {
   "cell_type": "code",
   "execution_count": 6,
   "metadata": {},
   "outputs": [],
   "source": [
    "all_texts_df = pd.read_csv('./data/haha_2019_train.csv')"
   ]
  },
  {
   "cell_type": "code",
   "execution_count": 7,
   "metadata": {},
   "outputs": [
    {
     "data": {
      "text/html": [
       "<div>\n",
       "<style scoped>\n",
       "    .dataframe tbody tr th:only-of-type {\n",
       "        vertical-align: middle;\n",
       "    }\n",
       "\n",
       "    .dataframe tbody tr th {\n",
       "        vertical-align: top;\n",
       "    }\n",
       "\n",
       "    .dataframe thead th {\n",
       "        text-align: right;\n",
       "    }\n",
       "</style>\n",
       "<table border=\"1\" class=\"dataframe\">\n",
       "  <thead>\n",
       "    <tr style=\"text-align: right;\">\n",
       "      <th></th>\n",
       "      <th>id</th>\n",
       "      <th>text</th>\n",
       "      <th>is_humor</th>\n",
       "      <th>votes_no</th>\n",
       "      <th>votes_1</th>\n",
       "      <th>votes_2</th>\n",
       "      <th>votes_3</th>\n",
       "      <th>votes_4</th>\n",
       "      <th>votes_5</th>\n",
       "      <th>funniness_average</th>\n",
       "    </tr>\n",
       "  </thead>\n",
       "  <tbody>\n",
       "    <tr>\n",
       "      <th>0</th>\n",
       "      <td>705196579758583809</td>\n",
       "      <td>Niveles de retraso mental: \\r\\n\\r\\n— Bajo.\\r\\n...</td>\n",
       "      <td>1</td>\n",
       "      <td>1</td>\n",
       "      <td>2</td>\n",
       "      <td>2</td>\n",
       "      <td>0</td>\n",
       "      <td>0</td>\n",
       "      <td>0</td>\n",
       "      <td>1.5</td>\n",
       "    </tr>\n",
       "    <tr>\n",
       "      <th>1</th>\n",
       "      <td>678040651817213952</td>\n",
       "      <td>—Vamos Luke desenfunda tu sable, demuestra tu ...</td>\n",
       "      <td>1</td>\n",
       "      <td>1</td>\n",
       "      <td>3</td>\n",
       "      <td>0</td>\n",
       "      <td>1</td>\n",
       "      <td>0</td>\n",
       "      <td>0</td>\n",
       "      <td>1.5</td>\n",
       "    </tr>\n",
       "    <tr>\n",
       "      <th>2</th>\n",
       "      <td>546750892213829633</td>\n",
       "      <td>- ¿Te ofrezco algo?, ¿Agua, café, mi corazón, ...</td>\n",
       "      <td>1</td>\n",
       "      <td>0</td>\n",
       "      <td>2</td>\n",
       "      <td>1</td>\n",
       "      <td>0</td>\n",
       "      <td>1</td>\n",
       "      <td>1</td>\n",
       "      <td>2.6</td>\n",
       "    </tr>\n",
       "    <tr>\n",
       "      <th>3</th>\n",
       "      <td>965807211292364801</td>\n",
       "      <td>No se porqué me hago la cabeza deooos</td>\n",
       "      <td>0</td>\n",
       "      <td>3</td>\n",
       "      <td>0</td>\n",
       "      <td>0</td>\n",
       "      <td>0</td>\n",
       "      <td>0</td>\n",
       "      <td>0</td>\n",
       "      <td>NaN</td>\n",
       "    </tr>\n",
       "    <tr>\n",
       "      <th>4</th>\n",
       "      <td>638403841839484928</td>\n",
       "      <td>Quisiera saber que hago durante la siesta de l...</td>\n",
       "      <td>0</td>\n",
       "      <td>4</td>\n",
       "      <td>0</td>\n",
       "      <td>1</td>\n",
       "      <td>0</td>\n",
       "      <td>0</td>\n",
       "      <td>0</td>\n",
       "      <td>NaN</td>\n",
       "    </tr>\n",
       "  </tbody>\n",
       "</table>\n",
       "</div>"
      ],
      "text/plain": [
       "                   id                                               text  \\\n",
       "0  705196579758583809  Niveles de retraso mental: \\r\\n\\r\\n— Bajo.\\r\\n...   \n",
       "1  678040651817213952  —Vamos Luke desenfunda tu sable, demuestra tu ...   \n",
       "2  546750892213829633  - ¿Te ofrezco algo?, ¿Agua, café, mi corazón, ...   \n",
       "3  965807211292364801              No se porqué me hago la cabeza deooos   \n",
       "4  638403841839484928  Quisiera saber que hago durante la siesta de l...   \n",
       "\n",
       "   is_humor  votes_no  votes_1  votes_2  votes_3  votes_4  votes_5  \\\n",
       "0         1         1        2        2        0        0        0   \n",
       "1         1         1        3        0        1        0        0   \n",
       "2         1         0        2        1        0        1        1   \n",
       "3         0         3        0        0        0        0        0   \n",
       "4         0         4        0        1        0        0        0   \n",
       "\n",
       "   funniness_average  \n",
       "0                1.5  \n",
       "1                1.5  \n",
       "2                2.6  \n",
       "3                NaN  \n",
       "4                NaN  "
      ]
     },
     "execution_count": 7,
     "metadata": {},
     "output_type": "execute_result"
    }
   ],
   "source": [
    "all_texts_df.head()"
   ]
  },
  {
   "cell_type": "markdown",
   "metadata": {},
   "source": [
    "### apply pre-rules to text"
   ]
  },
  {
   "cell_type": "code",
   "execution_count": 8,
   "metadata": {},
   "outputs": [],
   "source": [
    "## New Line char for replacement in text\n",
    "NL = 'xxnl'\n",
    "defaults.text_spec_tok.append(NL) #add a New Line special char\n",
    "\n",
    "def sub_nl(t:str) -> str:\n",
    "    \"Replaces \\n by xxnl\"\n",
    "    return t.replace(\"\\r\\n\",\"\\n\").replace(\"\\n\",NL+\" \")\n",
    "\n",
    "# def sub_br(t:str) -> str:\n",
    "#     \"Replaces the <br /> by \\n\"\n",
    "#     re_br = re.compile(r'<\\s*br\\s*/?>', re.IGNORECASE)\n",
    "#     return re_br.sub(\"\\n\", t)\n",
    "\n",
    "def spec_add_spaces(t:str) -> str:\n",
    "    \"Add spaces between special characters\"\n",
    "    return re.sub(r'([/#?!@,])', r' \\1 ', t)\n",
    "\n",
    "def rm_useless_spaces(t:str) -> str:\n",
    "    \"Remove multiple spaces\"\n",
    "    return re.sub(' {2,}', ' ', t)\n",
    "\n",
    "def replace_rep(t:str) -> str:\n",
    "    \"Replace repetitions at the character level\"\n",
    "    def _replace_rep(m:Collection[str]) -> str:\n",
    "        c,cc = m.groups()\n",
    "        return f' {TK_REP} {len(cc)+1} {c} '\n",
    "    re_rep = re.compile(r'(\\S)(\\1{3,})')\n",
    "    return re_rep.sub(_replace_rep, t)\n",
    "    \n",
    "def replace_wrep(t:str) -> str:\n",
    "    \"Replace word repetitions\"\n",
    "    def _replace_wrep(m:Collection[str]) -> str:\n",
    "        c,cc = m.groups()\n",
    "        return f' {TK_WREP} {len(cc.split())+1} {c} '\n",
    "    re_wrep = re.compile(r'(\\b\\w+\\W+)(\\1{3,})')\n",
    "    return re_wrep.sub(_replace_wrep, t)\n",
    "\n",
    "def deal_caps(t:str) -> str:\n",
    "    \"Replace words in all caps\"\n",
    "    res = []\n",
    "    for s in re.findall(r'\\w+|\\W+', t):\n",
    "        res += ([f' {TK_UP} ',s.lower()] if (s.isupper() and (len(s)>2)) else [s.lower()])\n",
    "    return ''.join(res)\n",
    "\n",
    "def fixup(x:str) -> str:\n",
    "    \"List of replacements from html strings\"\n",
    "    re1 = re.compile(r'  +')\n",
    "    x = x.replace('#39;', \"'\").replace('amp;', '&').replace('#146;', \"'\").replace(\n",
    "        'nbsp;', ' ').replace('#36;', '$').replace('\\\\n', \"\\n\").replace('quot;', \"'\").replace(\n",
    "        '<br />', \"\\n\").replace('\\\\\"', '\"').replace('<unk>',UNK).replace(' @.@ ','.').replace(\n",
    "        ' @-@ ','-').replace('\\\\', ' \\\\ ')\n",
    "    return re1.sub(' ', html.unescape(x))\n",
    "\n",
    "default_rules = [fixup, replace_rep, replace_wrep, deal_caps, spec_add_spaces, \n",
    "                 rm_useless_spaces, sub_nl]"
   ]
  },
  {
   "cell_type": "code",
   "execution_count": 9,
   "metadata": {},
   "outputs": [
    {
     "name": "stdout",
     "output_type": "stream",
     "text": [
      "Default Rules:\n",
      " ['fixup', 'replace_rep', 'replace_wrep', 'deal_caps', 'spec_add_spaces', 'rm_useless_spaces', 'sub_nl'] \n",
      "\n",
      "\n",
      "<function fixup at 0x7f9b76fe5158>\n",
      "<function replace_rep at 0x7f9b7702aea0>\n",
      "<function replace_wrep at 0x7f9b76fe5048>\n",
      "<function deal_caps at 0x7f9b76fe50d0>\n",
      "<function spec_add_spaces at 0x7f9b7702af28>\n",
      "<function rm_useless_spaces at 0x7f9b7702abf8>\n",
      "<function sub_nl at 0x7f9b7702a9d8>\n"
     ]
    }
   ],
   "source": [
    "## apply the rules\n",
    "raw_text = all_texts_df.loc[:,'text']\n",
    "\n",
    "print(\"Default Rules:\\n\",[x.__name__ for x in default_rules],\"\\n\\n\")\n",
    "\n",
    "for rule in default_rules:\n",
    "    print(rule)\n",
    "    raw_text = raw_text.apply(lambda x: rule(str(x)))\n",
    "    \n",
    "all_texts_df['new_text'] = 'xxbos ' + raw_text"
   ]
  },
  {
   "cell_type": "code",
   "execution_count": 10,
   "metadata": {},
   "outputs": [
    {
     "data": {
      "text/plain": [
       "0    xxbos niveles de retraso mental: xxnl xxnl — b...\n",
       "1    xxbos —vamos luke desenfunda tu sable , demues...\n",
       "2    xxbos - ¿te ofrezco algo ? , ¿agua , café , mi...\n",
       "3          xxbos no se porqué me hago la cabeza deooos\n",
       "4    xxbos quisiera saber que hago durante la siest...\n",
       "Name: new_text, dtype: object"
      ]
     },
     "execution_count": 10,
     "metadata": {},
     "output_type": "execute_result"
    }
   ],
   "source": [
    "all_texts_df['new_text'].head()"
   ]
  },
  {
   "cell_type": "code",
   "execution_count": 11,
   "metadata": {},
   "outputs": [
    {
     "data": {
      "text/plain": [
       "(24000, 11)"
      ]
     },
     "execution_count": 11,
     "metadata": {},
     "output_type": "execute_result"
    }
   ],
   "source": [
    "all_texts_df.shape"
   ]
  },
  {
   "cell_type": "markdown",
   "metadata": {},
   "source": [
    "### Clean up the imbalanced data to balance"
   ]
  },
  {
   "cell_type": "code",
   "execution_count": 12,
   "metadata": {},
   "outputs": [
    {
     "name": "stdout",
     "output_type": "stream",
     "text": [
      "Number of positive samples: 9253\n",
      "Number of negative samples: 14747\n",
      "Total samples: 24000\n"
     ]
    }
   ],
   "source": [
    "print('Number of positive samples:', (all_texts_df.is_humor == 1).sum())\n",
    "print('Number of negative samples:',  (all_texts_df.is_humor == 0).sum())\n",
    "print('Total samples:', len(all_texts_df))"
   ]
  },
  {
   "cell_type": "code",
   "execution_count": 13,
   "metadata": {},
   "outputs": [],
   "source": [
    "rnd_seed = 20190313\n",
    "np.random.seed(rnd_seed)\n",
    "\n",
    "idx = np.random.permutation(len(all_texts_df))\n",
    "test_cut = int(0.15 * len(idx))\n",
    "valid_cut = int(0.15 * len(idx-test_cut))\n",
    "\n",
    "df_train_all = all_texts_df.iloc[idx[:-(valid_cut+test_cut)],:]\n",
    "df_valid     = all_texts_df.iloc[idx[-(valid_cut+test_cut):-test_cut],:]\n",
    "df_test      = all_texts_df.iloc[idx[-test_cut:],:]"
   ]
  },
  {
   "cell_type": "code",
   "execution_count": 14,
   "metadata": {},
   "outputs": [
    {
     "name": "stdout",
     "output_type": "stream",
     "text": [
      "Test prevalence(n = 3600): 0.3938888888888889\n",
      "Valid prevalence(n = 3600): 0.3852777777777778\n",
      "Train all prevalence(n = 16800): 0.3838095238095238\n",
      "all samples (n = 24000)\n"
     ]
    }
   ],
   "source": [
    "print('Test prevalence(n = %d):'%len(df_test),df_test.is_humor.sum()/ len(df_test))\n",
    "print('Valid prevalence(n = %d):'%len(df_valid),df_valid.is_humor.sum()/ len(df_valid))\n",
    "print('Train all prevalence(n = %d):'%len(df_train_all), df_train_all.is_humor.sum()/ len(df_train_all))\n",
    "print('all samples (n = %d)'%len(all_texts_df))\n",
    "assert len(all_texts_df) == (len(df_test)+len(df_valid)+len(df_train_all)),'math didnt work'"
   ]
  },
  {
   "cell_type": "code",
   "execution_count": 15,
   "metadata": {},
   "outputs": [
    {
     "data": {
      "text/plain": [
       "((6448, 11), (10352, 11))"
      ]
     },
     "execution_count": 15,
     "metadata": {},
     "output_type": "execute_result"
    }
   ],
   "source": [
    "## oversample the less-frequent occuring cases\n",
    "# split the training data into positive and negative\n",
    "rows_pos = df_train_all.is_humor == 1\n",
    "df_train_pos = df_train_all.loc[rows_pos]\n",
    "df_train_neg = df_train_all.loc[~rows_pos]\n",
    "df_train_pos.shape,df_train_neg.shape"
   ]
  },
  {
   "cell_type": "code",
   "execution_count": 16,
   "metadata": {},
   "outputs": [
    {
     "name": "stdout",
     "output_type": "stream",
     "text": [
      "Train prevalence (n = 20704): 0.5\n"
     ]
    }
   ],
   "source": [
    "df_resample_pos = df_train_pos.sample(n=len(df_train_neg),replace=True,\n",
    "                                      axis=0,random_state=rnd_seed).reset_index(drop=True)\n",
    "df_train = pd.concat([df_resample_pos,df_train_neg],axis=0) #randomized again in DataBunch?\n",
    "print('Train prevalence (n = %d):'%len(df_train), df_train.is_humor.sum()/ len(df_train))"
   ]
  },
  {
   "cell_type": "markdown",
   "metadata": {},
   "source": [
    "### sp tokenizer from training"
   ]
  },
  {
   "cell_type": "code",
   "execution_count": 17,
   "metadata": {},
   "outputs": [],
   "source": [
    "model_prefix = './all_tweets_es_15k_0517'"
   ]
  },
  {
   "cell_type": "code",
   "execution_count": 18,
   "metadata": {},
   "outputs": [],
   "source": [
    "## itos from m.vocab file: just read directly and populate the dictionary\n",
    "itos = [] #{}\n",
    "with open(f'{model_prefix}.vocab','r') as f:\n",
    "    for line_num,line in enumerate(f):\n",
    "#         itos[line_num] = line.split(\"\\t\")[0]\n",
    "        itos.append(line.split(\"\\t\")[0])\n",
    "        \n",
    "class SPTokenizer(BaseTokenizer):\n",
    "    \"Wrapper around a SentncePiece tokenizer to make it a `BaseTokenizer`.\"\n",
    "    def __init__(self, model_prefix:str):\n",
    "        self.tok = spm.SentencePieceProcessor()\n",
    "        self.tok.load(f'{model_prefix}.model')\n",
    "\n",
    "    def tokenizer(self, t:str) -> List[str]:\n",
    "#         return self.tok.EncodeAsIds(t)  ## tokenize + numericalize. We have them broken into two parts,just return tokens\n",
    "        return self.tok.EncodeAsPieces(t)\n",
    "        \n",
    "class CustomTokenizer():\n",
    "    '''Wrapper for SentencePiece toeknizer to fit into Fast.ai V1'''\n",
    "    def __init__(self,tok_func:Callable,model_prefix:str, pre_rules:ListRules=None):\n",
    "        self.tok_func,self.model_prefix = tok_func,model_prefix\n",
    "        self.pre_rules  = ifnone(pre_rules,  defaults.text_pre_rules )\n",
    "        \n",
    "    def __repr__(self) -> str:\n",
    "        res = f'Tokenizer {self.tok_func.__name__} using `{self.model_prefix}` model with the following rules:\\n'\n",
    "        for rule in self.pre_rules: res += f' - {rule.__name__}\\n'\n",
    "        return res        \n",
    "\n",
    "    def process_text(self, t:str,tok:BaseTokenizer) -> List[str]:\n",
    "        \"Processe one text `t` with tokenizer `tok`.\"\n",
    "        for rule in self.pre_rules: t = rule(t)  \n",
    "        toks = tok.tokenizer(t)\n",
    "    \n",
    "        return toks \n",
    "    \n",
    "    def _process_all_1(self,texts:Collection[str]) -> List[List[str]]:\n",
    "        'Process a list of `texts` in one process'\n",
    "        tok = self.tok_func(self.model_prefix)\n",
    "        return [self.process_text(t,tok) for t in texts]\n",
    "                                                                     \n",
    "    def process_all(self, texts:Collection[str]) -> List[List[str]]: \n",
    "        \"Process a list of `texts`.\"                                 \n",
    "        return self._process_all_1(texts)"
   ]
  },
  {
   "cell_type": "code",
   "execution_count": 19,
   "metadata": {},
   "outputs": [
    {
     "data": {
      "text/plain": [
       "['→', '😫', '🤨', '😲', '🏟', '📖', '🎸', '🏿', '😮', '🎬']"
      ]
     },
     "execution_count": 19,
     "metadata": {},
     "output_type": "execute_result"
    }
   ],
   "source": [
    "itos[-10:]"
   ]
  },
  {
   "cell_type": "code",
   "execution_count": 20,
   "metadata": {},
   "outputs": [],
   "source": [
    "mycust_tok = CustomTokenizer(SPTokenizer,model_prefix,pre_rules=default_rules)\n",
    "sp_vocab = Vocab(itos)"
   ]
  },
  {
   "cell_type": "code",
   "execution_count": 21,
   "metadata": {},
   "outputs": [],
   "source": [
    "data = TextClasDataBunch.from_df(PATH,df_train,df_valid,df_test,\n",
    "                               tokenizer=mycust_tok, vocab=sp_vocab,\n",
    "                               text_cols='new_text', label_cols='is_humor')"
   ]
  },
  {
   "cell_type": "code",
   "execution_count": 22,
   "metadata": {},
   "outputs": [
    {
     "data": {
      "text/html": [
       "<table border=\"1\" class=\"dataframe\">\n",
       "  <thead>\n",
       "    <tr style=\"text-align: right;\">\n",
       "      <th>text</th>\n",
       "      <th>target</th>\n",
       "    </tr>\n",
       "  </thead>\n",
       "  <tbody>\n",
       "    <tr>\n",
       "      <td>▁ xxbos ▁ xxbos ▁# ▁rt ▁ xxup ▁copia ▁y ▁ xxup ▁pega ▁en ▁ xxup ▁google ▁y ▁ve ▁la ▁ xxup ▁magia ▁s q rt ( cos ( x ) ) * cos ( 200 ▁x ) + sq rt ( abs ( x ) ) - . 07 ) * ( 4 - x * ▁x ) ^ 0 . 01 ▁, ▁s q rt ( 9 -</td>\n",
       "      <td>0</td>\n",
       "    </tr>\n",
       "    <tr>\n",
       "      <td>▁ xxbos ▁ xxbos ▁“ eta j if o xn hw ll sk jw jp k ris j na h if kn s gk fk na gu kr ons h ke kp fl n ana h ck an h di kd kn sj kd km rol ms j ll d jaj hen vs y ie hq n sj k dj wn ... ▁ xxup ▁b ry ant ▁ xxup ▁my</td>\n",
       "      <td>1</td>\n",
       "    </tr>\n",
       "    <tr>\n",
       "      <td>▁ xxbos ▁ xxbos ▁“ eta j if o xn hw ll sk jw jp k ris j na h if kn s gk fk na gu kr ons h ke kp fl n ana h ck an h di kd kn sj kd km rol ms j ll d jaj hen vs y ie hq n sj k dj wn ... ▁ xxup ▁b ry ant ▁ xxup ▁my</td>\n",
       "      <td>1</td>\n",
       "    </tr>\n",
       "    <tr>\n",
       "      <td>▁ xxbos ▁ xxbos ▁— ¡ do ctor ▁! ▁no ▁me ▁encuentro ▁bien . xxnl ▁— to me . xxnl ▁— ¿ y ▁esto ▁? ▁ xxnl ▁— un ▁mapa xxnl ▁— ¿ para ▁? ▁ xxnl ▁— ¡ ▁ xxup ▁para ▁ xxup ▁que ▁se ▁ xxup ▁encu entre ▁ xxup ▁mejor ▁! ▁ xxup ▁jaja ▁¡ si gu iente ▁! ▁ xxnl ▁— pero ... ▁ xxnl ▁—</td>\n",
       "      <td>1</td>\n",
       "    </tr>\n",
       "    <tr>\n",
       "      <td>▁ xxbos ▁ xxbos ▁— ¡ do ctor ▁! ▁no ▁me ▁encuentro ▁bien . xxnl ▁— to me . xxnl ▁— ¿ y ▁esto ▁? ▁ xxnl ▁— un ▁mapa xxnl ▁— ¿ para ▁? ▁ xxnl ▁— ¡ ▁ xxup ▁para ▁ xxup ▁que ▁se ▁ xxup ▁encu entre ▁ xxup ▁mejor ▁! ▁ xxup ▁jaja ▁¡ si gu iente ▁! ▁ xxnl ▁— pero ... ▁ xxnl ▁—</td>\n",
       "      <td>1</td>\n",
       "    </tr>\n",
       "    <tr>\n",
       "      <td>▁ xxbos ▁ xxbos ▁— ¡ do ctor ▁! ▁no ▁me ▁encuentro ▁bien . xxnl ▁— to me . xxnl ▁— ¿ y ▁esto ▁? ▁ xxnl ▁— un ▁mapa xxnl ▁— ¿ para ▁? ▁ xxnl ▁— ¡ ▁ xxup ▁para ▁ xxup ▁que ▁se ▁ xxup ▁encu entre ▁ xxup ▁mejor ▁! ▁ xxup ▁jaja ▁¡ si gu iente ▁! ▁ xxnl ▁— pero ... ▁ xxnl ▁—</td>\n",
       "      <td>1</td>\n",
       "    </tr>\n",
       "    <tr>\n",
       "      <td>▁ xxbos ▁ xxbos ▁- pi kachu ▁, ▁me ▁pica ▁la ▁espalda ▁, ▁r ás c ame . xxnl ▁- ▁¿ pi ka ▁, ▁pi ka ▁? ▁ xxnl ▁- sí ▁, ▁pica ▁y ▁mucho . ▁r ás c ame . ▁ xxnl ▁- ¿ pi ka ▁, ▁pi ka ▁? ▁ xxnl ▁- ▁¡ ▁ xxup ▁qué ▁si ▁ xxup ▁pendejo ▁, ▁ya ▁ xxup ▁r ás c ame</td>\n",
       "      <td>1</td>\n",
       "    </tr>\n",
       "    <tr>\n",
       "      <td>▁ xxbos ▁ xxbos ▁— oy e ▁hijo ▁, ▁¿ gan aste ▁la ▁final ▁de ▁la ▁champions ▁? ▁ xxnl ▁ xxnl ▁— no ▁abuelo ▁, ▁¿ por ▁qué ▁? ▁ xxnl ▁ xxnl ▁— ¿ y ▁esa ▁or ej ona ▁? ▁ xxnl ▁ xxnl ▁— ¡ ya ▁! ▁¡ deja ▁en ▁paz ▁a ▁mi ▁novia ▁! ▁ xxnl ▁ xxnl ▁— ▁ xxup ▁jajajaj á ▁¡ ▁ xxup</td>\n",
       "      <td>1</td>\n",
       "    </tr>\n",
       "    <tr>\n",
       "      <td>▁ xxbos ▁ xxbos ▁— c uel ga ▁tú . xxnl ▁— no ▁, ▁cuel ga ▁tú . ▁ xxnl ▁— no ▁, ▁tú . xxnl ▁— que ▁t ... xxnl ▁— ¡ ▁ xxup ▁pinche ▁ xxup ▁tonta ▁me ▁ xxup ▁col gó ▁! ▁ xxnl ▁— ¡ te ▁ xxup ▁escuché ▁ xxup ▁pendejo ▁! ▁ xxnl ▁— ▁ xxup ▁jajaj á ▁¡ ay ▁amor ▁! ▁es ▁broma</td>\n",
       "      <td>1</td>\n",
       "    </tr>\n",
       "    <tr>\n",
       "      <td>▁ xxbos ▁ xxbos ▁— ▁eres ▁feo . xxnl ▁ xxnl ▁— ▁¡ uy ▁ xxup ▁perdón ▁! ▁ xxup ▁octa va ▁ xxup ▁maravilla ▁ xxup ▁del ▁ xxup ▁mundo ▁, ▁ xxup ▁mis ▁ xxup ▁universo ▁, ▁ xxup ▁ser ▁de ▁ xxup ▁excel ent ísima ▁ xxup ▁belleza ▁ xxup ▁que ▁ xxup ▁ri e ga ▁ xxup ▁escar cha ▁ xxup ▁cuando ▁ xxup ▁cam ina</td>\n",
       "      <td>0</td>\n",
       "    </tr>\n",
       "  </tbody>\n",
       "</table>"
      ],
      "text/plain": [
       "<IPython.core.display.HTML object>"
      ]
     },
     "metadata": {},
     "output_type": "display_data"
    }
   ],
   "source": [
    "data.show_batch(10)  #less xxunk, but still a fair amount..."
   ]
  },
  {
   "cell_type": "markdown",
   "metadata": {},
   "source": [
    "### Check `xxunk` fraction on humor data"
   ]
  },
  {
   "cell_type": "code",
   "execution_count": 23,
   "metadata": {},
   "outputs": [
    {
     "data": {
      "text/plain": [
       "((498,), (20704,))"
      ]
     },
     "execution_count": 23,
     "metadata": {},
     "output_type": "execute_result"
    }
   ],
   "source": [
    "pct_xxunk = pd.Series([sum(y==0)/len(y) for y in [x.data for x in data.train_dl.x]])\n",
    "pct_xxunk[pct_xxunk>0].shape, pct_xxunk.shape"
   ]
  },
  {
   "cell_type": "code",
   "execution_count": 24,
   "metadata": {},
   "outputs": [
    {
     "data": {
      "text/plain": [
       "0.024053323029366306"
      ]
     },
     "execution_count": 24,
     "metadata": {},
     "output_type": "execute_result"
    }
   ],
   "source": [
    "498/20704."
   ]
  },
  {
   "cell_type": "code",
   "execution_count": 25,
   "metadata": {},
   "outputs": [
    {
     "data": {
      "image/png": "[encoded data removed]",
      "text/plain": [
       "<Figure size 432x288 with 1 Axes>"
      ]
     },
     "metadata": {
      "needs_background": "light"
     },
     "output_type": "display_data"
    }
   ],
   "source": [
    "pd.Series([sum(y==0)/len(y) for y in [x.data for x in data.train_dl.x]]).plot()\n",
    "_ = plt.title('Pct UNK in each tweet')"
   ]
  },
  {
   "cell_type": "markdown",
   "metadata": {},
   "source": [
    "### build and train model"
   ]
  },
  {
   "cell_type": "code",
   "execution_count": 26,
   "metadata": {},
   "outputs": [],
   "source": [
    "config = awd_lstm_clas_config.copy()\n",
    "config['qrnn'] = False\n",
    "config['n_hid'] = 2304\n",
    "\n",
    "learn = text_classifier_learner(data, AWD_LSTM, drop_mult=0.5,pretrained=False,\n",
    "                               config=config)\n",
    "learn.load_encoder('twitter_es_enc_RNN_0518_labelsmooth_15k')"
   ]
  },
  {
   "cell_type": "code",
   "execution_count": 27,
   "metadata": {},
   "outputs": [
    {
     "data": {
      "text/plain": [
       "FlattenedLoss of CrossEntropyLoss()"
      ]
     },
     "execution_count": 27,
     "metadata": {},
     "output_type": "execute_result"
    }
   ],
   "source": [
    "learn.loss_func"
   ]
  },
  {
   "cell_type": "code",
   "execution_count": 28,
   "metadata": {},
   "outputs": [],
   "source": [
    "from fastai.layers import LabelSmoothingCrossEntropy\n",
    "learn.loss_func = FlattenedLoss(LabelSmoothingCrossEntropy)"
   ]
  },
  {
   "cell_type": "code",
   "execution_count": 29,
   "metadata": {},
   "outputs": [
    {
     "data": {
      "text/html": [],
      "text/plain": [
       "<IPython.core.display.HTML object>"
      ]
     },
     "metadata": {},
     "output_type": "display_data"
    },
    {
     "name": "stdout",
     "output_type": "stream",
     "text": [
      "LR Finder is complete, type {learner_name}.recorder.plot() to see the graph.\n"
     ]
    }
   ],
   "source": [
    "lr_find(learn)"
   ]
  },
  {
   "cell_type": "code",
   "execution_count": 30,
   "metadata": {},
   "outputs": [
    {
     "data": {
      "image/png": "[encoded data removed]",
      "text/plain": [
       "<Figure size 432x288 with 1 Axes>"
      ]
     },
     "metadata": {
      "needs_background": "light"
     },
     "output_type": "display_data"
    }
   ],
   "source": [
    "learn.recorder.plot(skip_end=10)"
   ]
  },
  {
   "cell_type": "code",
   "execution_count": 31,
   "metadata": {},
   "outputs": [
    {
     "data": {
      "text/html": [
       "Total time: 06:47 <p><table style='width:375px; margin-bottom:10px'>\n",
       "  <tr>\n",
       "    <th>epoch</th>\n",
       "    <th>train_loss</th>\n",
       "    <th>valid_loss</th>\n",
       "    <th>accuracy</th>\n",
       "    <th>time</th>\n",
       "  </tr>\n",
       "  <tr>\n",
       "    <th>0</th>\n",
       "    <th>0.525091</th>\n",
       "    <th>0.478309</th>\n",
       "    <th>0.800833</th>\n",
       "    <th>00:20</th>\n",
       "  </tr>\n",
       "  <tr>\n",
       "    <th>1</th>\n",
       "    <th>0.572985</th>\n",
       "    <th>0.497188</th>\n",
       "    <th>0.785278</th>\n",
       "    <th>00:18</th>\n",
       "  </tr>\n",
       "  <tr>\n",
       "    <th>2</th>\n",
       "    <th>0.545007</th>\n",
       "    <th>0.465571</th>\n",
       "    <th>0.820556</th>\n",
       "    <th>00:19</th>\n",
       "  </tr>\n",
       "  <tr>\n",
       "    <th>3</th>\n",
       "    <th>0.545980</th>\n",
       "    <th>0.467116</th>\n",
       "    <th>0.815556</th>\n",
       "    <th>00:18</th>\n",
       "  </tr>\n",
       "  <tr>\n",
       "    <th>4</th>\n",
       "    <th>0.520137</th>\n",
       "    <th>0.466803</th>\n",
       "    <th>0.817500</th>\n",
       "    <th>00:20</th>\n",
       "  </tr>\n",
       "  <tr>\n",
       "    <th>5</th>\n",
       "    <th>0.533053</th>\n",
       "    <th>0.458950</th>\n",
       "    <th>0.823889</th>\n",
       "    <th>00:19</th>\n",
       "  </tr>\n",
       "  <tr>\n",
       "    <th>6</th>\n",
       "    <th>0.547613</th>\n",
       "    <th>0.476459</th>\n",
       "    <th>0.821389</th>\n",
       "    <th>00:18</th>\n",
       "  </tr>\n",
       "  <tr>\n",
       "    <th>7</th>\n",
       "    <th>0.534279</th>\n",
       "    <th>0.471567</th>\n",
       "    <th>0.819167</th>\n",
       "    <th>00:20</th>\n",
       "  </tr>\n",
       "  <tr>\n",
       "    <th>8</th>\n",
       "    <th>0.556836</th>\n",
       "    <th>0.473653</th>\n",
       "    <th>0.818333</th>\n",
       "    <th>00:18</th>\n",
       "  </tr>\n",
       "  <tr>\n",
       "    <th>9</th>\n",
       "    <th>0.508432</th>\n",
       "    <th>0.450609</th>\n",
       "    <th>0.836667</th>\n",
       "    <th>00:19</th>\n",
       "  </tr>\n",
       "  <tr>\n",
       "    <th>10</th>\n",
       "    <th>0.487440</th>\n",
       "    <th>0.469900</th>\n",
       "    <th>0.818889</th>\n",
       "    <th>00:19</th>\n",
       "  </tr>\n",
       "  <tr>\n",
       "    <th>11</th>\n",
       "    <th>0.500409</th>\n",
       "    <th>0.460739</th>\n",
       "    <th>0.831944</th>\n",
       "    <th>00:19</th>\n",
       "  </tr>\n",
       "  <tr>\n",
       "    <th>12</th>\n",
       "    <th>0.485470</th>\n",
       "    <th>0.459656</th>\n",
       "    <th>0.832222</th>\n",
       "    <th>00:19</th>\n",
       "  </tr>\n",
       "  <tr>\n",
       "    <th>13</th>\n",
       "    <th>0.521656</th>\n",
       "    <th>0.460130</th>\n",
       "    <th>0.830278</th>\n",
       "    <th>00:19</th>\n",
       "  </tr>\n",
       "  <tr>\n",
       "    <th>14</th>\n",
       "    <th>0.472373</th>\n",
       "    <th>0.461010</th>\n",
       "    <th>0.833889</th>\n",
       "    <th>00:20</th>\n",
       "  </tr>\n",
       "  <tr>\n",
       "    <th>15</th>\n",
       "    <th>0.467253</th>\n",
       "    <th>0.452470</th>\n",
       "    <th>0.841389</th>\n",
       "    <th>00:20</th>\n",
       "  </tr>\n",
       "  <tr>\n",
       "    <th>16</th>\n",
       "    <th>0.471351</th>\n",
       "    <th>0.455785</th>\n",
       "    <th>0.838056</th>\n",
       "    <th>00:20</th>\n",
       "  </tr>\n",
       "  <tr>\n",
       "    <th>17</th>\n",
       "    <th>0.513882</th>\n",
       "    <th>0.470866</th>\n",
       "    <th>0.821667</th>\n",
       "    <th>00:18</th>\n",
       "  </tr>\n",
       "  <tr>\n",
       "    <th>18</th>\n",
       "    <th>0.483888</th>\n",
       "    <th>0.463511</th>\n",
       "    <th>0.829722</th>\n",
       "    <th>00:19</th>\n",
       "  </tr>\n",
       "  <tr>\n",
       "    <th>19</th>\n",
       "    <th>0.469257</th>\n",
       "    <th>0.460482</th>\n",
       "    <th>0.838056</th>\n",
       "    <th>00:20</th>\n",
       "  </tr>\n",
       "</table>\n"
      ],
      "text/plain": [
       "<IPython.core.display.HTML object>"
      ]
     },
     "metadata": {},
     "output_type": "display_data"
    },
    {
     "name": "stdout",
     "output_type": "stream",
     "text": [
      "Better model found at epoch 0 with accuracy value: 0.8008333444595337.\n",
      "Better model found at epoch 2 with accuracy value: 0.820555567741394.\n",
      "Better model found at epoch 5 with accuracy value: 0.823888897895813.\n",
      "Better model found at epoch 9 with accuracy value: 0.8366666436195374.\n",
      "Better model found at epoch 15 with accuracy value: 0.8413888812065125.\n"
     ]
    }
   ],
   "source": [
    "learn.freeze()\n",
    "learn.fit_one_cycle(20, 1e-2, moms=(0.8,0.7), #moms=(0.65,0.35),\n",
    "                   callbacks=[SaveModelCallback(learn,every='improvement',mode='max',monitor='accuracy',name='best_acc_model')])"
   ]
  },
  {
   "cell_type": "code",
   "execution_count": 32,
   "metadata": {},
   "outputs": [
    {
     "data": {
      "image/png": "[encoded data removed]",
      "text/plain": [
       "<Figure size 432x288 with 1 Axes>"
      ]
     },
     "metadata": {
      "needs_background": "light"
     },
     "output_type": "display_data"
    },
    {
     "data": {
      "image/png": "[encoded data removed]",
      "text/plain": [
       "<Figure size 432x288 with 1 Axes>"
      ]
     },
     "metadata": {
      "needs_background": "light"
     },
     "output_type": "display_data"
    }
   ],
   "source": [
    "learn.recorder.plot_losses()\n",
    "learn.recorder.plot_metrics()"
   ]
  },
  {
   "cell_type": "code",
   "execution_count": 33,
   "metadata": {},
   "outputs": [],
   "source": [
    "learn.save('rnn_trained_head_labelsmoothing_15k')"
   ]
  },
  {
   "cell_type": "code",
   "execution_count": 34,
   "metadata": {},
   "outputs": [],
   "source": [
    "#learn = learn.load('rnn_trained_head')"
   ]
  },
  {
   "cell_type": "code",
   "execution_count": 35,
   "metadata": {},
   "outputs": [
    {
     "data": {
      "text/html": [
       "Total time: 03:51 <p><table style='width:375px; margin-bottom:10px'>\n",
       "  <tr>\n",
       "    <th>epoch</th>\n",
       "    <th>train_loss</th>\n",
       "    <th>valid_loss</th>\n",
       "    <th>accuracy</th>\n",
       "    <th>time</th>\n",
       "  </tr>\n",
       "  <tr>\n",
       "    <th>0</th>\n",
       "    <th>0.466932</th>\n",
       "    <th>0.451906</th>\n",
       "    <th>0.843611</th>\n",
       "    <th>00:21</th>\n",
       "  </tr>\n",
       "  <tr>\n",
       "    <th>1</th>\n",
       "    <th>0.465125</th>\n",
       "    <th>0.440363</th>\n",
       "    <th>0.843611</th>\n",
       "    <th>00:22</th>\n",
       "  </tr>\n",
       "  <tr>\n",
       "    <th>2</th>\n",
       "    <th>0.457072</th>\n",
       "    <th>0.453712</th>\n",
       "    <th>0.833889</th>\n",
       "    <th>00:22</th>\n",
       "  </tr>\n",
       "  <tr>\n",
       "    <th>3</th>\n",
       "    <th>0.437797</th>\n",
       "    <th>0.455269</th>\n",
       "    <th>0.847500</th>\n",
       "    <th>00:23</th>\n",
       "  </tr>\n",
       "  <tr>\n",
       "    <th>4</th>\n",
       "    <th>0.397702</th>\n",
       "    <th>0.460877</th>\n",
       "    <th>0.843056</th>\n",
       "    <th>00:23</th>\n",
       "  </tr>\n",
       "  <tr>\n",
       "    <th>5</th>\n",
       "    <th>0.372102</th>\n",
       "    <th>0.465670</th>\n",
       "    <th>0.844167</th>\n",
       "    <th>00:21</th>\n",
       "  </tr>\n",
       "  <tr>\n",
       "    <th>6</th>\n",
       "    <th>0.343797</th>\n",
       "    <th>0.489953</th>\n",
       "    <th>0.846667</th>\n",
       "    <th>00:20</th>\n",
       "  </tr>\n",
       "  <tr>\n",
       "    <th>7</th>\n",
       "    <th>0.306550</th>\n",
       "    <th>0.481742</th>\n",
       "    <th>0.846667</th>\n",
       "    <th>00:22</th>\n",
       "  </tr>\n",
       "  <tr>\n",
       "    <th>8</th>\n",
       "    <th>0.291319</th>\n",
       "    <th>0.496513</th>\n",
       "    <th>0.849444</th>\n",
       "    <th>00:22</th>\n",
       "  </tr>\n",
       "  <tr>\n",
       "    <th>9</th>\n",
       "    <th>0.308685</th>\n",
       "    <th>0.486068</th>\n",
       "    <th>0.848056</th>\n",
       "    <th>00:20</th>\n",
       "  </tr>\n",
       "</table>\n"
      ],
      "text/plain": [
       "<IPython.core.display.HTML object>"
      ]
     },
     "metadata": {},
     "output_type": "display_data"
    },
    {
     "name": "stdout",
     "output_type": "stream",
     "text": [
      "Better model found at epoch 0 with accuracy value: 0.8436111211776733.\n",
      "Better model found at epoch 3 with accuracy value: 0.8475000262260437.\n",
      "Better model found at epoch 8 with accuracy value: 0.8494444489479065.\n"
     ]
    }
   ],
   "source": [
    "learn.freeze_to(-2)\n",
    "learn.fit_one_cycle(10,slice(1e-3/(2.6**2),1e-2),moms=(0.7,0.4), wd=0.10,\n",
    "                   callbacks=[SaveModelCallback(learn,every='improvement',mode='max',monitor='accuracy',name='best_acc_model')])"
   ]
  },
  {
   "cell_type": "code",
   "execution_count": 36,
   "metadata": {},
   "outputs": [
    {
     "data": {
      "image/png": "[encoded data removed]",
      "text/plain": [
       "<Figure size 432x288 with 1 Axes>"
      ]
     },
     "metadata": {
      "needs_background": "light"
     },
     "output_type": "display_data"
    },
    {
     "data": {
      "image/png": "[encoded data removed]",
      "text/plain": [
       "<Figure size 432x288 with 1 Axes>"
      ]
     },
     "metadata": {
      "needs_background": "light"
     },
     "output_type": "display_data"
    }
   ],
   "source": [
    "learn.recorder.plot_losses()\n",
    "learn.recorder.plot_metrics()"
   ]
  },
  {
   "cell_type": "code",
   "execution_count": 37,
   "metadata": {
    "scrolled": true
   },
   "outputs": [
    {
     "data": {
      "text/html": [
       "Total time: 13:19 <p><table style='width:375px; margin-bottom:10px'>\n",
       "  <tr>\n",
       "    <th>epoch</th>\n",
       "    <th>train_loss</th>\n",
       "    <th>valid_loss</th>\n",
       "    <th>accuracy</th>\n",
       "    <th>time</th>\n",
       "  </tr>\n",
       "  <tr>\n",
       "    <th>0</th>\n",
       "    <th>0.307221</th>\n",
       "    <th>0.493755</th>\n",
       "    <th>0.838333</th>\n",
       "    <th>00:38</th>\n",
       "  </tr>\n",
       "  <tr>\n",
       "    <th>1</th>\n",
       "    <th>0.366639</th>\n",
       "    <th>0.491736</th>\n",
       "    <th>0.842500</th>\n",
       "    <th>00:37</th>\n",
       "  </tr>\n",
       "  <tr>\n",
       "    <th>2</th>\n",
       "    <th>0.361317</th>\n",
       "    <th>0.502081</th>\n",
       "    <th>0.840833</th>\n",
       "    <th>00:40</th>\n",
       "  </tr>\n",
       "  <tr>\n",
       "    <th>3</th>\n",
       "    <th>0.371209</th>\n",
       "    <th>0.690242</th>\n",
       "    <th>0.846944</th>\n",
       "    <th>00:35</th>\n",
       "  </tr>\n",
       "  <tr>\n",
       "    <th>4</th>\n",
       "    <th>0.310060</th>\n",
       "    <th>0.494019</th>\n",
       "    <th>0.831111</th>\n",
       "    <th>00:38</th>\n",
       "  </tr>\n",
       "  <tr>\n",
       "    <th>5</th>\n",
       "    <th>0.288322</th>\n",
       "    <th>0.524702</th>\n",
       "    <th>0.838333</th>\n",
       "    <th>00:40</th>\n",
       "  </tr>\n",
       "  <tr>\n",
       "    <th>6</th>\n",
       "    <th>0.288027</th>\n",
       "    <th>0.519861</th>\n",
       "    <th>0.843056</th>\n",
       "    <th>00:38</th>\n",
       "  </tr>\n",
       "  <tr>\n",
       "    <th>7</th>\n",
       "    <th>0.271005</th>\n",
       "    <th>0.508857</th>\n",
       "    <th>0.840278</th>\n",
       "    <th>00:37</th>\n",
       "  </tr>\n",
       "  <tr>\n",
       "    <th>8</th>\n",
       "    <th>0.267656</th>\n",
       "    <th>0.513006</th>\n",
       "    <th>0.846667</th>\n",
       "    <th>00:37</th>\n",
       "  </tr>\n",
       "  <tr>\n",
       "    <th>9</th>\n",
       "    <th>0.288606</th>\n",
       "    <th>0.555624</th>\n",
       "    <th>0.847500</th>\n",
       "    <th>00:35</th>\n",
       "  </tr>\n",
       "  <tr>\n",
       "    <th>10</th>\n",
       "    <th>0.282207</th>\n",
       "    <th>0.546462</th>\n",
       "    <th>0.846944</th>\n",
       "    <th>00:35</th>\n",
       "  </tr>\n",
       "  <tr>\n",
       "    <th>11</th>\n",
       "    <th>0.259073</th>\n",
       "    <th>0.512135</th>\n",
       "    <th>0.847500</th>\n",
       "    <th>00:35</th>\n",
       "  </tr>\n",
       "  <tr>\n",
       "    <th>12</th>\n",
       "    <th>0.261253</th>\n",
       "    <th>0.540814</th>\n",
       "    <th>0.846944</th>\n",
       "    <th>00:35</th>\n",
       "  </tr>\n",
       "  <tr>\n",
       "    <th>13</th>\n",
       "    <th>0.242215</th>\n",
       "    <th>0.534443</th>\n",
       "    <th>0.850278</th>\n",
       "    <th>00:38</th>\n",
       "  </tr>\n",
       "  <tr>\n",
       "    <th>14</th>\n",
       "    <th>0.268625</th>\n",
       "    <th>0.570017</th>\n",
       "    <th>0.848333</th>\n",
       "    <th>00:35</th>\n",
       "  </tr>\n",
       "  <tr>\n",
       "    <th>15</th>\n",
       "    <th>0.236096</th>\n",
       "    <th>0.539528</th>\n",
       "    <th>0.850556</th>\n",
       "    <th>00:37</th>\n",
       "  </tr>\n",
       "  <tr>\n",
       "    <th>16</th>\n",
       "    <th>0.239036</th>\n",
       "    <th>0.595887</th>\n",
       "    <th>0.853056</th>\n",
       "    <th>00:40</th>\n",
       "  </tr>\n",
       "  <tr>\n",
       "    <th>17</th>\n",
       "    <th>0.229212</th>\n",
       "    <th>0.547847</th>\n",
       "    <th>0.851389</th>\n",
       "    <th>00:39</th>\n",
       "  </tr>\n",
       "  <tr>\n",
       "    <th>18</th>\n",
       "    <th>0.234575</th>\n",
       "    <th>0.542251</th>\n",
       "    <th>0.853889</th>\n",
       "    <th>00:38</th>\n",
       "  </tr>\n",
       "  <tr>\n",
       "    <th>19</th>\n",
       "    <th>0.234854</th>\n",
       "    <th>0.578071</th>\n",
       "    <th>0.854167</th>\n",
       "    <th>00:36</th>\n",
       "  </tr>\n",
       "</table>\n"
      ],
      "text/plain": [
       "<IPython.core.display.HTML object>"
      ]
     },
     "metadata": {},
     "output_type": "display_data"
    },
    {
     "name": "stdout",
     "output_type": "stream",
     "text": [
      "Better model found at epoch 0 with accuracy value: 0.8383333086967468.\n",
      "Better model found at epoch 1 with accuracy value: 0.8424999713897705.\n",
      "Better model found at epoch 3 with accuracy value: 0.8469444513320923.\n",
      "Better model found at epoch 9 with accuracy value: 0.8475000262260437.\n",
      "Better model found at epoch 13 with accuracy value: 0.8502777814865112.\n",
      "Better model found at epoch 15 with accuracy value: 0.8505555391311646.\n",
      "Better model found at epoch 16 with accuracy value: 0.8530555367469788.\n",
      "Better model found at epoch 18 with accuracy value: 0.8538888692855835.\n",
      "Better model found at epoch 19 with accuracy value: 0.8541666865348816.\n"
     ]
    }
   ],
   "source": [
    "learn.freeze_to(-3)\n",
    "learn.fit_one_cycle(20,slice(1e-3/(2.6**3),1e-2),moms=(0.7,0.4), wd=0.20, pct_start=0.10,\n",
    "                   callbacks=[SaveModelCallback(learn,every='improvement',mode='max',monitor='accuracy',name='best_acc_model')])"
   ]
  },
  {
   "cell_type": "code",
   "execution_count": 38,
   "metadata": {},
   "outputs": [
    {
     "data": {
      "image/png": "[encoded data removed]",
      "text/plain": [
       "<Figure size 432x288 with 1 Axes>"
      ]
     },
     "metadata": {
      "needs_background": "light"
     },
     "output_type": "display_data"
    },
    {
     "data": {
      "image/png": "[encoded data removed]",
      "text/plain": [
       "<Figure size 432x288 with 1 Axes>"
      ]
     },
     "metadata": {
      "needs_background": "light"
     },
     "output_type": "display_data"
    }
   ],
   "source": [
    "learn.recorder.plot_losses()\n",
    "learn.recorder.plot_metrics()"
   ]
  },
  {
   "cell_type": "code",
   "execution_count": 39,
   "metadata": {},
   "outputs": [
    {
     "data": {
      "text/html": [
       "Total time: 16:14 <p><table style='width:375px; margin-bottom:10px'>\n",
       "  <tr>\n",
       "    <th>epoch</th>\n",
       "    <th>train_loss</th>\n",
       "    <th>valid_loss</th>\n",
       "    <th>accuracy</th>\n",
       "    <th>time</th>\n",
       "  </tr>\n",
       "  <tr>\n",
       "    <th>0</th>\n",
       "    <th>0.245836</th>\n",
       "    <th>0.605475</th>\n",
       "    <th>0.845833</th>\n",
       "    <th>00:49</th>\n",
       "  </tr>\n",
       "  <tr>\n",
       "    <th>1</th>\n",
       "    <th>0.255094</th>\n",
       "    <th>0.563678</th>\n",
       "    <th>0.842778</th>\n",
       "    <th>00:49</th>\n",
       "  </tr>\n",
       "  <tr>\n",
       "    <th>2</th>\n",
       "    <th>0.252321</th>\n",
       "    <th>0.587216</th>\n",
       "    <th>0.848889</th>\n",
       "    <th>00:48</th>\n",
       "  </tr>\n",
       "  <tr>\n",
       "    <th>3</th>\n",
       "    <th>0.272108</th>\n",
       "    <th>0.650676</th>\n",
       "    <th>0.800556</th>\n",
       "    <th>00:45</th>\n",
       "  </tr>\n",
       "  <tr>\n",
       "    <th>4</th>\n",
       "    <th>0.261166</th>\n",
       "    <th>0.584717</th>\n",
       "    <th>0.841111</th>\n",
       "    <th>00:47</th>\n",
       "  </tr>\n",
       "  <tr>\n",
       "    <th>5</th>\n",
       "    <th>0.271993</th>\n",
       "    <th>0.590726</th>\n",
       "    <th>0.843056</th>\n",
       "    <th>00:46</th>\n",
       "  </tr>\n",
       "  <tr>\n",
       "    <th>6</th>\n",
       "    <th>0.277105</th>\n",
       "    <th>0.552274</th>\n",
       "    <th>0.840000</th>\n",
       "    <th>00:45</th>\n",
       "  </tr>\n",
       "  <tr>\n",
       "    <th>7</th>\n",
       "    <th>0.255063</th>\n",
       "    <th>0.632633</th>\n",
       "    <th>0.840833</th>\n",
       "    <th>00:48</th>\n",
       "  </tr>\n",
       "  <tr>\n",
       "    <th>8</th>\n",
       "    <th>0.251324</th>\n",
       "    <th>0.551381</th>\n",
       "    <th>0.844444</th>\n",
       "    <th>00:46</th>\n",
       "  </tr>\n",
       "  <tr>\n",
       "    <th>9</th>\n",
       "    <th>0.242155</th>\n",
       "    <th>0.532631</th>\n",
       "    <th>0.842222</th>\n",
       "    <th>00:49</th>\n",
       "  </tr>\n",
       "  <tr>\n",
       "    <th>10</th>\n",
       "    <th>0.249959</th>\n",
       "    <th>0.642613</th>\n",
       "    <th>0.838611</th>\n",
       "    <th>00:46</th>\n",
       "  </tr>\n",
       "  <tr>\n",
       "    <th>11</th>\n",
       "    <th>0.245760</th>\n",
       "    <th>0.601112</th>\n",
       "    <th>0.844722</th>\n",
       "    <th>00:47</th>\n",
       "  </tr>\n",
       "  <tr>\n",
       "    <th>12</th>\n",
       "    <th>0.264227</th>\n",
       "    <th>0.601060</th>\n",
       "    <th>0.843611</th>\n",
       "    <th>00:44</th>\n",
       "  </tr>\n",
       "  <tr>\n",
       "    <th>13</th>\n",
       "    <th>0.242766</th>\n",
       "    <th>0.574335</th>\n",
       "    <th>0.845000</th>\n",
       "    <th>00:48</th>\n",
       "  </tr>\n",
       "  <tr>\n",
       "    <th>14</th>\n",
       "    <th>0.258103</th>\n",
       "    <th>0.621355</th>\n",
       "    <th>0.851389</th>\n",
       "    <th>00:45</th>\n",
       "  </tr>\n",
       "  <tr>\n",
       "    <th>15</th>\n",
       "    <th>0.239065</th>\n",
       "    <th>0.607788</th>\n",
       "    <th>0.847500</th>\n",
       "    <th>00:47</th>\n",
       "  </tr>\n",
       "  <tr>\n",
       "    <th>16</th>\n",
       "    <th>0.238122</th>\n",
       "    <th>0.580944</th>\n",
       "    <th>0.847778</th>\n",
       "    <th>00:46</th>\n",
       "  </tr>\n",
       "  <tr>\n",
       "    <th>17</th>\n",
       "    <th>0.229497</th>\n",
       "    <th>0.539493</th>\n",
       "    <th>0.847222</th>\n",
       "    <th>00:47</th>\n",
       "  </tr>\n",
       "  <tr>\n",
       "    <th>18</th>\n",
       "    <th>0.234219</th>\n",
       "    <th>0.578258</th>\n",
       "    <th>0.846667</th>\n",
       "    <th>00:52</th>\n",
       "  </tr>\n",
       "  <tr>\n",
       "    <th>19</th>\n",
       "    <th>0.230497</th>\n",
       "    <th>0.572968</th>\n",
       "    <th>0.846111</th>\n",
       "    <th>00:48</th>\n",
       "  </tr>\n",
       "</table>\n"
      ],
      "text/plain": [
       "<IPython.core.display.HTML object>"
      ]
     },
     "metadata": {},
     "output_type": "display_data"
    },
    {
     "name": "stdout",
     "output_type": "stream",
     "text": [
      "Better model found at epoch 0 with accuracy value: 0.8458333611488342.\n",
      "Better model found at epoch 2 with accuracy value: 0.8488888740539551.\n",
      "Better model found at epoch 14 with accuracy value: 0.8513888716697693.\n"
     ]
    }
   ],
   "source": [
    "learn.unfreeze()\n",
    "learn.fit_one_cycle(20,slice(1e-3/(2.6**4),1e-2),moms=(0.7,0.4), wd=0.25, pct_start=0.10,\n",
    "                   callbacks=[SaveModelCallback(learn,every='improvement',mode='max',monitor='accuracy',name='best_acc_model')])"
   ]
  },
  {
   "cell_type": "code",
   "execution_count": 40,
   "metadata": {},
   "outputs": [
    {
     "data": {
      "image/png": "[encoded data removed]",
      "text/plain": [
       "<Figure size 432x288 with 1 Axes>"
      ]
     },
     "metadata": {
      "needs_background": "light"
     },
     "output_type": "display_data"
    },
    {
     "data": {
      "image/png": "[encoded data removed]",
      "text/plain": [
       "<Figure size 432x288 with 1 Axes>"
      ]
     },
     "metadata": {
      "needs_background": "light"
     },
     "output_type": "display_data"
    }
   ],
   "source": [
    "learn.recorder.plot_losses()\n",
    "learn.recorder.plot_metrics()"
   ]
  },
  {
   "cell_type": "code",
   "execution_count": 41,
   "metadata": {},
   "outputs": [
    {
     "data": {
      "image/png": "[encoded data removed]",
      "text/plain": [
       "<Figure size 432x288 with 1 Axes>"
      ]
     },
     "metadata": {
      "needs_background": "light"
     },
     "output_type": "display_data"
    },
    {
     "data": {
      "image/png": "[encoded data removed]",
      "text/plain": [
       "<Figure size 432x288 with 1 Axes>"
      ]
     },
     "metadata": {
      "needs_background": "light"
     },
     "output_type": "display_data"
    }
   ],
   "source": [
    "preds_t,y_t,losses_t = learn.get_preds(DatasetType.Train,with_loss=True)\n",
    "interp_t = ClassificationInterpretation(learn, preds_t, y_t, losses_t)\n",
    "interp_t.plot_confusion_matrix()\n",
    "\n",
    "preds,y,losses = learn.get_preds(with_loss=True)\n",
    "interp = ClassificationInterpretation(learn, preds, y, losses)\n",
    "interp.plot_confusion_matrix()"
   ]
  },
  {
   "cell_type": "code",
   "execution_count": 42,
   "metadata": {},
   "outputs": [
    {
     "name": "stdout",
     "output_type": "stream",
     "text": [
      "----------\n"
     ]
    },
    {
     "data": {
      "text/html": [
       "<span style=\"font-family: monospace;\"><span title=\"0.055\" style=\"background-color: rgba(236, 243, 251, 0.5);\">▁</span> <span title=\"0.069\" style=\"background-color: rgba(233, 242, 250, 0.5);\">xxbos</span> <span title=\"0.184\" style=\"background-color: rgba(210, 227, 243, 0.5);\">▁yo</span> <span title=\"0.143\" style=\"background-color: rgba(218, 232, 245, 0.5);\">▁tengo</span> <span title=\"0.259\" style=\"background-color: rgba(195, 217, 238, 0.5);\">▁5</span> <span title=\"0.735\" style=\"background-color: rgba(36, 116, 182, 0.5);\">▁hermanas</span> <span title=\"0.248\" style=\"background-color: rgba(198, 219, 239, 0.5);\">:</span> <span title=\"0.746\" style=\"background-color: rgba(33, 113, 181, 0.5);\">▁pata</span> <span title=\"0.230\" style=\"background-color: rgba(202, 221, 240, 0.5);\">▁,</span> <span title=\"0.656\" style=\"background-color: rgba(58, 138, 193, 0.5);\">▁pe</span> <span title=\"0.323\" style=\"background-color: rgba(175, 209, 230, 0.5);\">ta</span> <span title=\"0.158\" style=\"background-color: rgba(215, 230, 244, 0.5);\">▁,</span> <span title=\"0.333\" style=\"background-color: rgba(171, 207, 229, 0.5);\">▁p</span> <span title=\"0.194\" style=\"background-color: rgba(209, 226, 242, 0.5);\">ita</span> <span title=\"0.100\" style=\"background-color: rgba(227, 238, 248, 0.5);\">▁,</span> <span title=\"0.289\" style=\"background-color: rgba(185, 213, 234, 0.5);\">▁po</span> <span title=\"0.179\" style=\"background-color: rgba(212, 228, 243, 0.5);\">ta</span> <span title=\"0.131\" style=\"background-color: rgba(221, 234, 246, 0.5);\">▁y</span> <span title=\"0.168\" style=\"background-color: rgba(213, 229, 244, 0.5);\">▁una</span> <span title=\"0.227\" style=\"background-color: rgba(202, 221, 240, 0.5);\">▁que</span> <span title=\"0.380\" style=\"background-color: rgba(155, 200, 224, 0.5);\">▁nunca</span> <span title=\"0.503\" style=\"background-color: rgba(106, 173, 213, 0.5);\">▁llega</span> <span title=\"0.267\" style=\"background-color: rgba(192, 216, 237, 0.5);\">▁a</span> <span title=\"0.343\" style=\"background-color: rgba(168, 206, 228, 0.5);\">▁la</span> <span title=\"1.000\" style=\"background-color: rgba(8, 48, 107, 0.5);\">▁casa</span> <span title=\"0.597\" style=\"background-color: rgba(75, 152, 201, 0.5);\">.</span></span>"
      ],
      "text/plain": [
       "<IPython.core.display.HTML object>"
      ]
     },
     "metadata": {},
     "output_type": "display_data"
    },
    {
     "name": "stdout",
     "output_type": "stream",
     "text": [
      "----------\n"
     ]
    },
    {
     "data": {
      "text/html": [
       "<span style=\"font-family: monospace;\"><span title=\"0.050\" style=\"background-color: rgba(237, 244, 251, 0.5);\">▁</span> <span title=\"0.068\" style=\"background-color: rgba(233, 242, 250, 0.5);\">xxbos</span> <span title=\"0.163\" style=\"background-color: rgba(215, 230, 244, 0.5);\">▁-</span> <span title=\"0.128\" style=\"background-color: rgba(221, 234, 246, 0.5);\">▁papá</span> <span title=\"0.042\" style=\"background-color: rgba(239, 245, 252, 0.5);\">▁,</span> <span title=\"0.097\" style=\"background-color: rgba(228, 238, 248, 0.5);\">▁¿</span> <span title=\"0.225\" style=\"background-color: rgba(203, 222, 240, 0.5);\">todos</span> <span title=\"0.107\" style=\"background-color: rgba(225, 237, 248, 0.5);\">▁los</span> <span title=\"0.436\" style=\"background-color: rgba(133, 188, 219, 0.5);\">▁cuentos</span> <span title=\"0.405\" style=\"background-color: rgba(146, 195, 222, 0.5);\">▁comien</span> <span title=\"0.156\" style=\"background-color: rgba(216, 231, 245, 0.5);\">zan</span> <span title=\"0.141\" style=\"background-color: rgba(218, 232, 245, 0.5);\">▁con</span> <span title=\"0.115\" style=\"background-color: rgba(224, 236, 247, 0.5);\">▁&quot;</span> <span title=\"0.406\" style=\"background-color: rgba(146, 195, 222, 0.5);\">hab</span> <span title=\"0.186\" style=\"background-color: rgba(210, 227, 243, 0.5);\">ía</span> <span title=\"0.168\" style=\"background-color: rgba(213, 229, 244, 0.5);\">▁una</span> <span title=\"0.217\" style=\"background-color: rgba(204, 223, 241, 0.5);\">▁vez</span> <span title=\"0.203\" style=\"background-color: rgba(207, 225, 242, 0.5);\">&quot;</span> <span title=\"0.224\" style=\"background-color: rgba(203, 222, 240, 0.5);\">▁?</span> <span title=\"0.346\" style=\"background-color: rgba(167, 206, 228, 0.5);\">▁-</span> <span title=\"0.270\" style=\"background-color: rgba(191, 216, 236, 0.5);\">▁no</span> <span title=\"0.964\" style=\"background-color: rgba(8, 57, 120, 0.5);\">▁hijo</span> <span title=\"0.059\" style=\"background-color: rgba(235, 243, 251, 0.5);\">▁,</span> <span title=\"0.209\" style=\"background-color: rgba(206, 224, 241, 0.5);\">▁muchos</span> <span title=\"0.214\" style=\"background-color: rgba(205, 223, 241, 0.5);\">▁comien</span> <span title=\"0.143\" style=\"background-color: rgba(218, 232, 245, 0.5);\">zan</span> <span title=\"0.060\" style=\"background-color: rgba(235, 243, 251, 0.5);\">▁con</span> <span title=\"0.087\" style=\"background-color: rgba(229, 239, 249, 0.5);\">▁&quot;</span> <span title=\"0.209\" style=\"background-color: rgba(206, 224, 241, 0.5);\">si</span> <span title=\"0.322\" style=\"background-color: rgba(175, 209, 230, 0.5);\">▁gano</span> <span title=\"0.200\" style=\"background-color: rgba(207, 225, 242, 0.5);\">▁las</span> <span title=\"0.332\" style=\"background-color: rgba(172, 208, 230, 0.5);\">▁elecciones</span> <span title=\"0.368\" style=\"background-color: rgba(160, 202, 225, 0.5);\">▁les</span> <span title=\"1.000\" style=\"background-color: rgba(8, 48, 107, 0.5);\">▁prometo</span> <span title=\"0.614\" style=\"background-color: rgba(69, 148, 199, 0.5);\">...</span></span>"
      ],
      "text/plain": [
       "<IPython.core.display.HTML object>"
      ]
     },
     "metadata": {},
     "output_type": "display_data"
    },
    {
     "name": "stdout",
     "output_type": "stream",
     "text": [
      "----------\n"
     ]
    },
    {
     "data": {
      "text/html": [
       "<span style=\"font-family: monospace;\"><span title=\"0.025\" style=\"background-color: rgba(242, 247, 253, 0.5);\">▁</span> <span title=\"0.042\" style=\"background-color: rgba(239, 245, 252, 0.5);\">xxbos</span> <span title=\"0.110\" style=\"background-color: rgba(225, 236, 247, 0.5);\">▁ja</span> <span title=\"0.101\" style=\"background-color: rgba(227, 238, 248, 0.5);\">imi</span> <span title=\"0.078\" style=\"background-color: rgba(232, 241, 250, 0.5);\">to</span> <span title=\"0.109\" style=\"background-color: rgba(225, 237, 248, 0.5);\">▁¿</span> <span title=\"0.163\" style=\"background-color: rgba(215, 230, 244, 0.5);\">le</span> <span title=\"0.163\" style=\"background-color: rgba(215, 230, 244, 0.5);\">▁te</span> <span title=\"0.224\" style=\"background-color: rgba(203, 222, 240, 0.5);\">mes</span> <span title=\"0.156\" style=\"background-color: rgba(215, 230, 244, 0.5);\">▁al</span> <span title=\"0.469\" style=\"background-color: rgba(120, 181, 216, 0.5);\">▁diablo</span> <span title=\"0.133\" style=\"background-color: rgba(221, 234, 246, 0.5);\">▁?</span> <span title=\"0.144\" style=\"background-color: rgba(218, 232, 245, 0.5);\">▁no</span> <span title=\"0.168\" style=\"background-color: rgba(213, 229, 244, 0.5);\">▁,</span> <span title=\"0.235\" style=\"background-color: rgba(200, 220, 239, 0.5);\">▁le</span> <span title=\"0.726\" style=\"background-color: rgba(39, 119, 184, 0.5);\">▁temo</span> <span title=\"0.322\" style=\"background-color: rgba(175, 209, 230, 0.5);\">▁a</span> <span title=\"0.447\" style=\"background-color: rgba(128, 185, 218, 0.5);\">▁mal</span> <span title=\"0.391\" style=\"background-color: rgba(151, 198, 223, 0.5);\">am</span> <span title=\"0.335\" style=\"background-color: rgba(171, 207, 229, 0.5);\">én</span> <span title=\"0.158\" style=\"background-color: rgba(215, 230, 244, 0.5);\">.</span> <span title=\"0.049\" style=\"background-color: rgba(237, 244, 251, 0.5);\">▁y</span> <span title=\"0.065\" style=\"background-color: rgba(234, 242, 250, 0.5);\">▁que</span> <span title=\"0.158\" style=\"background-color: rgba(215, 230, 244, 0.5);\">▁es</span> <span title=\"0.294\" style=\"background-color: rgba(183, 212, 234, 0.5);\">▁eso</span> <span title=\"0.049\" style=\"background-color: rgba(237, 244, 251, 0.5);\">▁?</span> <span title=\"0.072\" style=\"background-color: rgba(232, 241, 250, 0.5);\">▁no</span> <span title=\"0.108\" style=\"background-color: rgba(225, 237, 248, 0.5);\">▁sé</span> <span title=\"0.096\" style=\"background-color: rgba(228, 238, 248, 0.5);\">▁pero</span> <span title=\"0.161\" style=\"background-color: rgba(215, 230, 244, 0.5);\">▁siempre</span> <span title=\"0.164\" style=\"background-color: rgba(215, 230, 244, 0.5);\">▁q</span> <span title=\"0.205\" style=\"background-color: rgba(206, 224, 241, 0.5);\">▁re</span> <span title=\"0.226\" style=\"background-color: rgba(203, 222, 240, 0.5);\">zan</span> <span title=\"0.190\" style=\"background-color: rgba(209, 226, 242, 0.5);\">▁dicen</span> <span title=\"0.104\" style=\"background-color: rgba(226, 237, 248, 0.5);\">:</span> <span title=\"0.158\" style=\"background-color: rgba(215, 230, 244, 0.5);\">▁y</span> <span title=\"0.634\" style=\"background-color: rgba(63, 143, 196, 0.5);\">▁lib</span> <span title=\"0.278\" style=\"background-color: rgba(188, 215, 235, 0.5);\">ran</span> <span title=\"0.198\" style=\"background-color: rgba(208, 225, 242, 0.5);\">os</span> <span title=\"0.226\" style=\"background-color: rgba(203, 222, 240, 0.5);\">▁del</span> <span title=\"0.543\" style=\"background-color: rgba(93, 164, 208, 0.5);\">▁mal</span> <span title=\"0.494\" style=\"background-color: rgba(109, 175, 214, 0.5);\">am</span> <span title=\"0.631\" style=\"background-color: rgba(64, 144, 197, 0.5);\">én</span> <span title=\"1.000\" style=\"background-color: rgba(8, 48, 107, 0.5);\">▁!</span></span>"
      ],
      "text/plain": [
       "<IPython.core.display.HTML object>"
      ]
     },
     "metadata": {},
     "output_type": "display_data"
    },
    {
     "name": "stdout",
     "output_type": "stream",
     "text": [
      "----------\n"
     ]
    },
    {
     "data": {
      "text/html": [
       "<span style=\"font-family: monospace;\"><span title=\"0.047\" style=\"background-color: rgba(237, 244, 251, 0.5);\">▁</span> <span title=\"0.062\" style=\"background-color: rgba(235, 243, 251, 0.5);\">xxbos</span> <span title=\"0.140\" style=\"background-color: rgba(219, 233, 246, 0.5);\">▁ese</span> <span title=\"0.083\" style=\"background-color: rgba(230, 240, 249, 0.5);\">▁momento</span> <span title=\"0.056\" style=\"background-color: rgba(236, 243, 251, 0.5);\">▁cuando</span> <span title=\"0.095\" style=\"background-color: rgba(228, 238, 248, 0.5);\">▁te</span> <span title=\"0.261\" style=\"background-color: rgba(195, 217, 238, 0.5);\">▁encuentras</span> <span title=\"0.065\" style=\"background-color: rgba(234, 242, 250, 0.5);\">▁a</span> <span title=\"0.087\" style=\"background-color: rgba(229, 239, 249, 0.5);\">▁tu</span> <span title=\"0.208\" style=\"background-color: rgba(206, 224, 241, 0.5);\">▁ex</span> <span title=\"0.102\" style=\"background-color: rgba(226, 237, 248, 0.5);\">▁en</span> <span title=\"0.117\" style=\"background-color: rgba(223, 235, 247, 0.5);\">▁el</span> <span title=\"0.414\" style=\"background-color: rgba(143, 193, 221, 0.5);\">▁gym</span> <span title=\"0.112\" style=\"background-color: rgba(225, 236, 247, 0.5);\">▁y</span> <span title=\"0.185\" style=\"background-color: rgba(210, 227, 243, 0.5);\">▁te</span> <span title=\"0.475\" style=\"background-color: rgba(117, 179, 216, 0.5);\">▁preguntas</span> <span title=\"0.347\" style=\"background-color: rgba(167, 206, 228, 0.5);\">:</span> <span title=\"0.188\" style=\"background-color: rgba(209, 226, 242, 0.5);\">▁¿</span> <span title=\"0.365\" style=\"background-color: rgba(161, 203, 226, 0.5);\">por</span> <span title=\"0.321\" style=\"background-color: rgba(175, 209, 230, 0.5);\">▁qué</span> <span title=\"1.000\" style=\"background-color: rgba(8, 48, 107, 0.5);\">▁ching</span> <span title=\"0.349\" style=\"background-color: rgba(166, 205, 227, 0.5);\">ados</span> <span title=\"0.314\" style=\"background-color: rgba(177, 210, 231, 0.5);\">▁está</span> <span title=\"0.476\" style=\"background-color: rgba(117, 179, 216, 0.5);\">▁haciendo</span> <span title=\"0.817\" style=\"background-color: rgba(19, 95, 167, 0.5);\">▁car</span> <span title=\"0.707\" style=\"background-color: rgba(43, 123, 186, 0.5);\">dio</span> <span title=\"0.229\" style=\"background-color: rgba(202, 221, 240, 0.5);\">▁si</span> <span title=\"0.292\" style=\"background-color: rgba(185, 213, 234, 0.5);\">▁no</span> <span title=\"0.418\" style=\"background-color: rgba(141, 192, 221, 0.5);\">▁tiene</span> <span title=\"0.726\" style=\"background-color: rgba(39, 119, 184, 0.5);\">▁corazón</span> <span title=\"0.511\" style=\"background-color: rgba(103, 171, 212, 0.5);\">▁?</span></span>"
      ],
      "text/plain": [
       "<IPython.core.display.HTML object>"
      ]
     },
     "metadata": {},
     "output_type": "display_data"
    },
    {
     "name": "stdout",
     "output_type": "stream",
     "text": [
      "----------\n"
     ]
    },
    {
     "data": {
      "text/html": [
       "<span style=\"font-family: monospace;\"><span title=\"0.093\" style=\"background-color: rgba(228, 239, 249, 0.5);\">▁</span> <span title=\"0.140\" style=\"background-color: rgba(219, 233, 246, 0.5);\">xxbos</span> <span title=\"0.333\" style=\"background-color: rgba(171, 207, 229, 0.5);\">▁—</span> <span title=\"0.189\" style=\"background-color: rgba(209, 226, 242, 0.5);\">¿</span> <span title=\"0.467\" style=\"background-color: rgba(120, 181, 216, 0.5);\">cuántos</span> <span title=\"0.245\" style=\"background-color: rgba(199, 219, 239, 0.5);\">▁años</span> <span title=\"0.173\" style=\"background-color: rgba(212, 228, 243, 0.5);\">▁me</span> <span title=\"0.466\" style=\"background-color: rgba(120, 181, 216, 0.5);\">▁cal</span> <span title=\"0.265\" style=\"background-color: rgba(193, 217, 237, 0.5);\">cu</span> <span title=\"0.202\" style=\"background-color: rgba(207, 225, 242, 0.5);\">las</span> <span title=\"0.118\" style=\"background-color: rgba(223, 235, 247, 0.5);\">▁?</span> <span title=\"0.081\" style=\"background-color: rgba(231, 240, 249, 0.5);\">▁</span> <span title=\"0.060\" style=\"background-color: rgba(235, 243, 251, 0.5);\">xxnl</span> <span title=\"0.245\" style=\"background-color: rgba(199, 219, 239, 0.5);\">▁—</span> <span title=\"0.366\" style=\"background-color: rgba(161, 203, 226, 0.5);\">m</span> <span title=\"0.223\" style=\"background-color: rgba(203, 222, 240, 0.5);\">▁</span> <span title=\"0.241\" style=\"background-color: rgba(200, 220, 239, 0.5);\">xxrep</span> <span title=\"0.195\" style=\"background-color: rgba(209, 226, 242, 0.5);\">▁4</span> <span title=\"0.242\" style=\"background-color: rgba(200, 220, 239, 0.5);\">▁m</span> <span title=\"0.141\" style=\"background-color: rgba(218, 232, 245, 0.5);\">▁...</span> <span title=\"0.090\" style=\"background-color: rgba(229, 239, 249, 0.5);\">▁¿</span> <span title=\"0.228\" style=\"background-color: rgba(202, 221, 240, 0.5);\">24</span> <span title=\"0.120\" style=\"background-color: rgba(223, 235, 247, 0.5);\">▁?</span> <span title=\"0.044\" style=\"background-color: rgba(238, 245, 252, 0.5);\">▁</span> <span title=\"0.034\" style=\"background-color: rgba(240, 246, 252, 0.5);\">xxnl</span> <span title=\"0.108\" style=\"background-color: rgba(225, 237, 248, 0.5);\">▁—</span> <span title=\"0.174\" style=\"background-color: rgba(212, 228, 243, 0.5);\">¡</span> <span title=\"0.253\" style=\"background-color: rgba(197, 218, 238, 0.5);\">wo</span> <span title=\"0.115\" style=\"background-color: rgba(224, 236, 247, 0.5);\">w</span> <span title=\"0.081\" style=\"background-color: rgba(231, 240, 249, 0.5);\">▁!</span> <span title=\"0.062\" style=\"background-color: rgba(235, 243, 251, 0.5);\">▁¿</span> <span title=\"0.230\" style=\"background-color: rgba(202, 221, 240, 0.5);\">cómo</span> <span title=\"0.560\" style=\"background-color: rgba(87, 160, 206, 0.5);\">▁sup</span> <span title=\"0.171\" style=\"background-color: rgba(213, 229, 244, 0.5);\">iste</span> <span title=\"0.079\" style=\"background-color: rgba(231, 240, 249, 0.5);\">▁?</span> <span title=\"0.028\" style=\"background-color: rgba(241, 247, 253, 0.5);\">▁</span> <span title=\"0.038\" style=\"background-color: rgba(239, 246, 252, 0.5);\">xxnl</span> <span title=\"0.143\" style=\"background-color: rgba(218, 232, 245, 0.5);\">▁—</span> <span title=\"0.183\" style=\"background-color: rgba(211, 227, 243, 0.5);\">es</span> <span title=\"0.155\" style=\"background-color: rgba(216, 231, 245, 0.5);\">▁que</span> <span title=\"0.325\" style=\"background-color: rgba(173, 208, 230, 0.5);\">▁mi</span> <span title=\"0.141\" style=\"background-color: rgba(218, 232, 245, 0.5);\">▁hermano</span> <span title=\"0.121\" style=\"background-color: rgba(223, 235, 247, 0.5);\">▁tiene</span> <span title=\"0.231\" style=\"background-color: rgba(201, 221, 240, 0.5);\">▁12</span> <span title=\"0.131\" style=\"background-color: rgba(221, 234, 246, 0.5);\">▁y</span> <span title=\"0.228\" style=\"background-color: rgba(202, 221, 240, 0.5);\">▁es</span> <span title=\"0.487\" style=\"background-color: rgba(112, 177, 215, 0.5);\">▁medio</span> <span title=\"1.000\" style=\"background-color: rgba(8, 48, 107, 0.5);\">▁pendejo</span> <span title=\"0.434\" style=\"background-color: rgba(133, 188, 219, 0.5);\">.</span></span>"
      ],
      "text/plain": [
       "<IPython.core.display.HTML object>"
      ]
     },
     "metadata": {},
     "output_type": "display_data"
    }
   ],
   "source": [
    "from fastai.text.models.awd_lstm import TextClassificationInterpretation\n",
    "from matplotlib.pyplot import cm\n",
    "txt_ci = TextClassificationInterpretation.from_learner(learn)\n",
    "(_,idxs) = interp.top_losses(5)\n",
    "for idx in to_np(idxs):\n",
    "    print(\"-\"*10)\n",
    "    txt_ci.show_intrinsic_attention(df_train.iloc[idx,1],cmap=cm.Blues) #textify breaks?"
   ]
  },
  {
   "cell_type": "code",
   "execution_count": 43,
   "metadata": {},
   "outputs": [],
   "source": [
    "learn.save(\"haha_20190516_tweet_vocab_labelsmoothing_15k\")"
   ]
  }
 ],
 "metadata": {
  "kernelspec": {
   "display_name": "Python 3.7 fasta.ai1 DEV",
   "language": "python",
   "name": "fastai1_dev"
  },
  "language_info": {
   "codemirror_mode": {
    "name": "ipython",
    "version": 3
   },
   "file_extension": ".py",
   "mimetype": "text/x-python",
   "name": "python",
   "nbconvert_exporter": "python",
   "pygments_lexer": "ipython3",
   "version": "3.7.3"
  },
  "varInspector": {
   "cols": {
    "lenName": 16,
    "lenType": 16,
    "lenVar": 40
   },
   "kernels_config": {
    "python": {
     "delete_cmd_postfix": "",
     "delete_cmd_prefix": "del ",
     "library": "var_list.py",
     "varRefreshCmd": "print(var_dic_list())"
    },
    "r": {
     "delete_cmd_postfix": ") ",
     "delete_cmd_prefix": "rm(",
     "library": "var_list.r",
     "varRefreshCmd": "cat(var_dic_list()) "
    }
   },
   "types_to_exclude": [
    "module",
    "function",
    "builtin_function_or_method",
    "instance",
    "_Feature"
   ],
   "window_display": false
  }
 },
 "nbformat": 4,
 "nbformat_minor": 2
}
