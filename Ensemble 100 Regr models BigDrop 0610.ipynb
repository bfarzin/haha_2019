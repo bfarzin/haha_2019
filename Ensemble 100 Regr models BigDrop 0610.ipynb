{
 "cells": [
  {
   "cell_type": "code",
   "execution_count": 1,
   "metadata": {},
   "outputs": [],
   "source": [
    "import glob\n",
    "\n",
    "from fastai.text import *\n",
    "# from fastai.callbacks import SaveModelCallback\n",
    "import sentencepiece as spm #https://github.com/google/sentencepiece\n",
    "\n",
    "from prod.sp_tok import *\n",
    "#torch.backends.cudnn.enabled=False #for quant.313v machine.  Not sure why..."
   ]
  },
  {
   "cell_type": "code",
   "execution_count": 2,
   "metadata": {},
   "outputs": [],
   "source": [
    "PATH = Path('./data/rnn')\n",
    "sp_model = './all_tweets_es_0609'\n",
    "\n",
    "defaults.text_spec_tok.append(NL) #add a New Line special char\n",
    "sp_vocab = Vocab( get_itos(sp_model) )\n",
    "mycust_tok = CustomTokenizer(SPTokenizer,sp_model,pre_rules=default_rules)"
   ]
  },
  {
   "cell_type": "code",
   "execution_count": 3,
   "metadata": {},
   "outputs": [],
   "source": [
    "test_df = pd.read_csv('./data/haha_2019_test.csv')\n",
    "test_df['funniness_average'] = 0\n",
    "test_df['funniness_average'].iloc[0] = 0.1\n",
    "test_df['funniness_average'].iloc[1] = 1.2\n",
    "test_df['funniness_average'].iloc[2] = 3.4\n",
    "## apply the rules\n",
    "raw_text = test_df.loc[:,'text']\n",
    "\n",
    "print(\"Default Rules:\\n\",[x.__name__ for x in default_rules],\"\\n\\n\")\n",
    "for rule in default_rules:\n",
    "    raw_text = raw_text.apply(lambda x: rule(str(x)))    \n",
    "test_df['new_text'] =  raw_text #tokenizer adds xxbos\n",
    "\n",
    "data_tst = TextClasDataBunch.from_df(PATH, test_df, test_df,\n",
    "                               tokenizer=mycust_tok, vocab=sp_vocab,\n",
    "                               text_cols='new_text', label_cols='funniness_average')"
   ]
  },
  {
   "cell_type": "code",
   "execution_count": 4,
   "metadata": {},
   "outputs": [
    {
     "data": {
      "text/plain": [
       "100"
      ]
     },
     "execution_count": 4,
     "metadata": {},
     "output_type": "execute_result"
    }
   ],
   "source": [
    "model_wt_fnames = [x.split('/')[-1] for x in glob.glob( str(PATH/'models')+'/haha_regr_0609_fld*.pth')]\n",
    "len(model_wt_fnames)"
   ]
  },
  {
   "cell_type": "code",
   "execution_count": 9,
   "metadata": {},
   "outputs": [],
   "source": [
    "!grep Reg ./prod/out_regr_tmp101.txt > ./by_seed_reg_perf"
   ]
  },
  {
   "cell_type": "code",
   "execution_count": 10,
   "metadata": {},
   "outputs": [
    {
     "name": "stdout",
     "output_type": "stream",
     "text": [
      "Reg Fold: 0 RndSeed: 952742,0.556799054145813\r\n",
      "Reg Fold: 1 RndSeed: 952742,0.527113139629364\r\n",
      "Reg Fold: 2 RndSeed: 952742,0.5140876770019531\r\n",
      "Reg Fold: 3 RndSeed: 952742,0.5316392779350281\r\n",
      "Reg Fold: 4 RndSeed: 952742,0.5504149198532104\r\n",
      "Reg Fold: 0 RndSeed: 443926,0.5491292476654053\r\n",
      "Reg Fold: 1 RndSeed: 443926,0.5375394225120544\r\n",
      "Reg Fold: 2 RndSeed: 443926,0.5298753380775452\r\n",
      "Reg Fold: 3 RndSeed: 443926,0.5300775170326233\r\n",
      "Reg Fold: 4 RndSeed: 443926,0.5408030152320862\r\n"
     ]
    }
   ],
   "source": [
    "!head by_seed_reg_perf"
   ]
  },
  {
   "cell_type": "code",
   "execution_count": 11,
   "metadata": {},
   "outputs": [
    {
     "data": {
      "text/html": [
       "<div>\n",
       "<style scoped>\n",
       "    .dataframe tbody tr th:only-of-type {\n",
       "        vertical-align: middle;\n",
       "    }\n",
       "\n",
       "    .dataframe tbody tr th {\n",
       "        vertical-align: top;\n",
       "    }\n",
       "\n",
       "    .dataframe thead th {\n",
       "        text-align: right;\n",
       "    }\n",
       "</style>\n",
       "<table border=\"1\" class=\"dataframe\">\n",
       "  <thead>\n",
       "    <tr style=\"text-align: right;\">\n",
       "      <th></th>\n",
       "      <th>id</th>\n",
       "      <th>mse</th>\n",
       "      <th>rnd_seed</th>\n",
       "      <th>nfold</th>\n",
       "    </tr>\n",
       "  </thead>\n",
       "  <tbody>\n",
       "    <tr>\n",
       "      <th>0</th>\n",
       "      <td>Reg Fold: 0 RndSeed: 952742</td>\n",
       "      <td>0.556799</td>\n",
       "      <td>952742</td>\n",
       "      <td>0</td>\n",
       "    </tr>\n",
       "    <tr>\n",
       "      <th>1</th>\n",
       "      <td>Reg Fold: 1 RndSeed: 952742</td>\n",
       "      <td>0.527113</td>\n",
       "      <td>952742</td>\n",
       "      <td>1</td>\n",
       "    </tr>\n",
       "    <tr>\n",
       "      <th>2</th>\n",
       "      <td>Reg Fold: 2 RndSeed: 952742</td>\n",
       "      <td>0.514088</td>\n",
       "      <td>952742</td>\n",
       "      <td>2</td>\n",
       "    </tr>\n",
       "    <tr>\n",
       "      <th>3</th>\n",
       "      <td>Reg Fold: 3 RndSeed: 952742</td>\n",
       "      <td>0.531639</td>\n",
       "      <td>952742</td>\n",
       "      <td>3</td>\n",
       "    </tr>\n",
       "    <tr>\n",
       "      <th>4</th>\n",
       "      <td>Reg Fold: 4 RndSeed: 952742</td>\n",
       "      <td>0.550415</td>\n",
       "      <td>952742</td>\n",
       "      <td>4</td>\n",
       "    </tr>\n",
       "  </tbody>\n",
       "</table>\n",
       "</div>"
      ],
      "text/plain": [
       "                            id       mse rnd_seed nfold\n",
       "0  Reg Fold: 0 RndSeed: 952742  0.556799   952742     0\n",
       "1  Reg Fold: 1 RndSeed: 952742  0.527113   952742     1\n",
       "2  Reg Fold: 2 RndSeed: 952742  0.514088   952742     2\n",
       "3  Reg Fold: 3 RndSeed: 952742  0.531639   952742     3\n",
       "4  Reg Fold: 4 RndSeed: 952742  0.550415   952742     4"
      ]
     },
     "execution_count": 11,
     "metadata": {},
     "output_type": "execute_result"
    }
   ],
   "source": [
    "## be more picky about the models.  Take the top quarter in validation. Does better val -> better test?\n",
    "valid_perf = pd.read_csv('by_seed_reg_perf', names = ['id','mse'])\n",
    "valid_perf['rnd_seed'] = valid_perf.id.str.split(':',expand=True).iloc[:,-1].str.strip()\n",
    "valid_perf['nfold'] = valid_perf.id.str.split(' ',expand=True).iloc[:,2]\n",
    "valid_perf.head()"
   ]
  },
  {
   "cell_type": "code",
   "execution_count": 13,
   "metadata": {},
   "outputs": [
    {
     "data": {
      "text/plain": [
       "Text(0.5, 1.0, 'Freq of mse over all Random Seeds (100) \\n Vert line = 25th p-tile')"
      ]
     },
     "execution_count": 13,
     "metadata": {},
     "output_type": "execute_result"
    },
    {
     "data": {
      "image/png": "[encoded data removed]",
      "text/plain": [
       "<Figure size 432x288 with 1 Axes>"
      ]
     },
     "metadata": {
      "needs_background": "light"
     },
     "output_type": "display_data"
    }
   ],
   "source": [
    "# valid_perf.mse.hist(alpha=0.3)\n",
    "# plt.axvline(x=valid_perf.mse.quantile(0.25))\n",
    "valid_perf.groupby('rnd_seed')['mse'].mean().hist(alpha=0.3)\n",
    "plt.axvline(x=valid_perf.groupby('rnd_seed')['mse'].mean().min())\n",
    "\n",
    "#valid_perf[valid_perf.F1 >= valid_perf.F1.quantile(0.75)].F1.hist(alpha=0.3)\n",
    "plt.title('Freq of mse over all Random Seeds (100) \\n Vert line = 25th p-tile')"
   ]
  },
  {
   "cell_type": "code",
   "execution_count": 14,
   "metadata": {},
   "outputs": [
    {
     "data": {
      "text/plain": [
       "['haha_regr_0609_fld0_460304.pth',\n",
       " 'haha_regr_0609_fld1_460304.pth',\n",
       " 'haha_regr_0609_fld2_460304.pth',\n",
       " 'haha_regr_0609_fld3_460304.pth',\n",
       " 'haha_regr_0609_fld4_460304.pth']"
      ]
     },
     "execution_count": 14,
     "metadata": {},
     "output_type": "execute_result"
    }
   ],
   "source": [
    "seed_grouped_F1 = valid_perf.groupby('rnd_seed')['mse'].mean()\n",
    "selected_seeds = seed_grouped_F1[seed_grouped_F1<=seed_grouped_F1.min()].index.values.tolist()\n",
    "seed_fold_pair = valid_perf[valid_perf.rnd_seed.isin(selected_seeds)].loc[:,['rnd_seed','nfold']].values\n",
    "model_wt_fnames = []\n",
    "for (seed,fold) in seed_fold_pair:\n",
    "    model_wt_fnames.append(f'haha_regr_0609_fld{fold}_{seed}.pth')\n",
    "model_wt_fnames"
   ]
  },
  {
   "cell_type": "code",
   "execution_count": 15,
   "metadata": {},
   "outputs": [],
   "source": [
    "ensemble_preds = []\n",
    "for wt_fname in model_wt_fnames:\n",
    "    config = awd_lstm_clas_config.copy()\n",
    "    config['qrnn'] = True\n",
    "    config['n_hid'] = 2304\n",
    "    \n",
    "    learn = text_classifier_learner(data_tst, AWD_LSTM, drop_mult=0.7,pretrained=False,\n",
    "                               config=config)\n",
    "    learn = learn.load(wt_fname.split('.')[0]) #load weights\n",
    "    preds_t,y_t,losses_t = learn.get_preds(DatasetType.Valid,with_loss=True, ordered=True)\n",
    "    ensemble_preds.append(to_np(preds_t))"
   ]
  },
  {
   "cell_type": "code",
   "execution_count": 16,
   "metadata": {},
   "outputs": [
    {
     "data": {
      "text/plain": [
       "(5, 6000, 1)"
      ]
     },
     "execution_count": 16,
     "metadata": {},
     "output_type": "execute_result"
    }
   ],
   "source": [
    "np.array(ensemble_preds).shape"
   ]
  },
  {
   "cell_type": "code",
   "execution_count": 17,
   "metadata": {},
   "outputs": [
    {
     "data": {
      "text/plain": [
       "array([[[ 1.165335],\n",
       "        [ 0.045733],\n",
       "        [ 2.459762],\n",
       "        [ 0.161045],\n",
       "        ...,\n",
       "        [ 0.689134],\n",
       "        [-0.03462 ],\n",
       "        [ 1.361915],\n",
       "        [ 1.511036]],\n",
       "\n",
       "       [[ 1.357982],\n",
       "        [ 0.364403],\n",
       "        [ 2.286914],\n",
       "        [ 0.232941],\n",
       "        ...,\n",
       "        [ 0.592691],\n",
       "        [ 0.052261],\n",
       "        [ 1.149296],\n",
       "        [ 1.93051 ]],\n",
       "\n",
       "       [[ 1.311042],\n",
       "        [ 0.207793],\n",
       "        [ 2.817587],\n",
       "        [ 0.22541 ],\n",
       "        ...,\n",
       "        [ 0.932663],\n",
       "        [ 0.044561],\n",
       "        [ 1.164979],\n",
       "        [ 1.197653]],\n",
       "\n",
       "       [[ 1.154597],\n",
       "        [ 0.233841],\n",
       "        [ 2.387934],\n",
       "        [ 0.07883 ],\n",
       "        ...,\n",
       "        [ 0.601854],\n",
       "        [-0.020627],\n",
       "        [ 1.117711],\n",
       "        [ 1.520425]],\n",
       "\n",
       "       [[ 1.121697],\n",
       "        [ 0.187215],\n",
       "        [ 2.193333],\n",
       "        [ 0.061356],\n",
       "        ...,\n",
       "        [ 0.540405],\n",
       "        [ 0.111036],\n",
       "        [ 1.061157],\n",
       "        [ 1.530687]]], dtype=float32)"
      ]
     },
     "execution_count": 17,
     "metadata": {},
     "output_type": "execute_result"
    }
   ],
   "source": [
    "np.array(ensemble_preds)[:5,...]"
   ]
  },
  {
   "cell_type": "code",
   "execution_count": 18,
   "metadata": {},
   "outputs": [
    {
     "data": {
      "text/plain": [
       "array([[1.222131],\n",
       "       [0.207797],\n",
       "       [2.429106],\n",
       "       [0.151917],\n",
       "       ...,\n",
       "       [0.671349],\n",
       "       [0.030522],\n",
       "       [1.171012],\n",
       "       [1.538062]], dtype=float32)"
      ]
     },
     "execution_count": 18,
     "metadata": {},
     "output_type": "execute_result"
    }
   ],
   "source": [
    "ens_mean = np.array(ensemble_preds).mean(axis=0)\n",
    "ens_mean"
   ]
  },
  {
   "cell_type": "code",
   "execution_count": 19,
   "metadata": {},
   "outputs": [
    {
     "data": {
      "text/html": [
       "<div>\n",
       "<style scoped>\n",
       "    .dataframe tbody tr th:only-of-type {\n",
       "        vertical-align: middle;\n",
       "    }\n",
       "\n",
       "    .dataframe tbody tr th {\n",
       "        vertical-align: top;\n",
       "    }\n",
       "\n",
       "    .dataframe thead th {\n",
       "        text-align: right;\n",
       "    }\n",
       "</style>\n",
       "<table border=\"1\" class=\"dataframe\">\n",
       "  <thead>\n",
       "    <tr style=\"text-align: right;\">\n",
       "      <th></th>\n",
       "      <th>id</th>\n",
       "      <th>is_humor</th>\n",
       "      <th>funniness_average</th>\n",
       "    </tr>\n",
       "  </thead>\n",
       "  <tbody>\n",
       "    <tr>\n",
       "      <th>0</th>\n",
       "      <td>tweet1</td>\n",
       "      <td>1</td>\n",
       "      <td>3.0</td>\n",
       "    </tr>\n",
       "    <tr>\n",
       "      <th>1</th>\n",
       "      <td>tweet2</td>\n",
       "      <td>0</td>\n",
       "      <td>3.0</td>\n",
       "    </tr>\n",
       "    <tr>\n",
       "      <th>2</th>\n",
       "      <td>tweet3</td>\n",
       "      <td>1</td>\n",
       "      <td>3.0</td>\n",
       "    </tr>\n",
       "    <tr>\n",
       "      <th>3</th>\n",
       "      <td>tweet4</td>\n",
       "      <td>0</td>\n",
       "      <td>3.0</td>\n",
       "    </tr>\n",
       "    <tr>\n",
       "      <th>4</th>\n",
       "      <td>tweet5</td>\n",
       "      <td>0</td>\n",
       "      <td>3.0</td>\n",
       "    </tr>\n",
       "  </tbody>\n",
       "</table>\n",
       "</div>"
      ],
      "text/plain": [
       "       id  is_humor  funniness_average\n",
       "0  tweet1         1                3.0\n",
       "1  tweet2         0                3.0\n",
       "2  tweet3         1                3.0\n",
       "3  tweet4         0                3.0\n",
       "4  tweet5         0                3.0"
      ]
     },
     "execution_count": 19,
     "metadata": {},
     "output_type": "execute_result"
    }
   ],
   "source": [
    "out_df = pd.read_csv('sub0610_finetune_bestSeed.csv')\n",
    "out_df.head()"
   ]
  },
  {
   "cell_type": "code",
   "execution_count": 20,
   "metadata": {},
   "outputs": [
    {
     "data": {
      "text/plain": [
       "((6000, 3), (6000, 1))"
      ]
     },
     "execution_count": 20,
     "metadata": {},
     "output_type": "execute_result"
    }
   ],
   "source": [
    "out_df.shape, ens_mean.shape"
   ]
  },
  {
   "cell_type": "code",
   "execution_count": 21,
   "metadata": {},
   "outputs": [],
   "source": [
    "out_df.funniness_average = ens_mean"
   ]
  },
  {
   "cell_type": "code",
   "execution_count": 22,
   "metadata": {},
   "outputs": [
    {
     "data": {
      "text/html": [
       "<div>\n",
       "<style scoped>\n",
       "    .dataframe tbody tr th:only-of-type {\n",
       "        vertical-align: middle;\n",
       "    }\n",
       "\n",
       "    .dataframe tbody tr th {\n",
       "        vertical-align: top;\n",
       "    }\n",
       "\n",
       "    .dataframe thead th {\n",
       "        text-align: right;\n",
       "    }\n",
       "</style>\n",
       "<table border=\"1\" class=\"dataframe\">\n",
       "  <thead>\n",
       "    <tr style=\"text-align: right;\">\n",
       "      <th></th>\n",
       "      <th>id</th>\n",
       "      <th>is_humor</th>\n",
       "      <th>funniness_average</th>\n",
       "    </tr>\n",
       "  </thead>\n",
       "  <tbody>\n",
       "    <tr>\n",
       "      <th>0</th>\n",
       "      <td>tweet1</td>\n",
       "      <td>1</td>\n",
       "      <td>1.222131</td>\n",
       "    </tr>\n",
       "    <tr>\n",
       "      <th>1</th>\n",
       "      <td>tweet2</td>\n",
       "      <td>0</td>\n",
       "      <td>0.207797</td>\n",
       "    </tr>\n",
       "    <tr>\n",
       "      <th>2</th>\n",
       "      <td>tweet3</td>\n",
       "      <td>1</td>\n",
       "      <td>2.429106</td>\n",
       "    </tr>\n",
       "    <tr>\n",
       "      <th>3</th>\n",
       "      <td>tweet4</td>\n",
       "      <td>0</td>\n",
       "      <td>0.151917</td>\n",
       "    </tr>\n",
       "    <tr>\n",
       "      <th>4</th>\n",
       "      <td>tweet5</td>\n",
       "      <td>0</td>\n",
       "      <td>-0.169308</td>\n",
       "    </tr>\n",
       "  </tbody>\n",
       "</table>\n",
       "</div>"
      ],
      "text/plain": [
       "       id  is_humor  funniness_average\n",
       "0  tweet1         1           1.222131\n",
       "1  tweet2         0           0.207797\n",
       "2  tweet3         1           2.429106\n",
       "3  tweet4         0           0.151917\n",
       "4  tweet5         0          -0.169308"
      ]
     },
     "execution_count": 22,
     "metadata": {},
     "output_type": "execute_result"
    }
   ],
   "source": [
    "out_df.head()"
   ]
  },
  {
   "cell_type": "code",
   "execution_count": 23,
   "metadata": {},
   "outputs": [],
   "source": [
    "out_df.to_csv('sub0610_finetune_bestSeed.csv',header=True,index=False)"
   ]
  },
  {
   "cell_type": "code",
   "execution_count": 25,
   "metadata": {},
   "outputs": [
    {
     "name": "stdout",
     "output_type": "stream",
     "text": [
      "  adding: sub0610_finetune_bestSeed.csv (deflated 66%)\r\n"
     ]
    }
   ],
   "source": [
    "!zip  sub0610_finetune_bestSeed.zip sub0610_finetune_bestSeed.csv "
   ]
  },
  {
   "cell_type": "code",
   "execution_count": 26,
   "metadata": {},
   "outputs": [],
   "source": [
    "!cp sub0610_finetune_bestSeed.zip /mnt/awcnas4_AWX/tmp/"
   ]
  },
  {
   "cell_type": "code",
   "execution_count": null,
   "metadata": {},
   "outputs": [],
   "source": []
  }
 ],
 "metadata": {
  "kernelspec": {
   "display_name": "Python 3",
   "language": "python",
   "name": "python3"
  },
  "language_info": {
   "codemirror_mode": {
    "name": "ipython",
    "version": 3
   },
   "file_extension": ".py",
   "mimetype": "text/x-python",
   "name": "python",
   "nbconvert_exporter": "python",
   "pygments_lexer": "ipython3",
   "version": "3.7.3"
  },
  "varInspector": {
   "cols": {
    "lenName": 16,
    "lenType": 16,
    "lenVar": 40
   },
   "kernels_config": {
    "python": {
     "delete_cmd_postfix": "",
     "delete_cmd_prefix": "del ",
     "library": "var_list.py",
     "varRefreshCmd": "print(var_dic_list())"
    },
    "r": {
     "delete_cmd_postfix": ") ",
     "delete_cmd_prefix": "rm(",
     "library": "var_list.r",
     "varRefreshCmd": "cat(var_dic_list()) "
    }
   },
   "types_to_exclude": [
    "module",
    "function",
    "builtin_function_or_method",
    "instance",
    "_Feature"
   ],
   "window_display": false
  }
 },
 "nbformat": 4,
 "nbformat_minor": 2
}
