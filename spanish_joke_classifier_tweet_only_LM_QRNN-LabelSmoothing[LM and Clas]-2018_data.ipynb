{
 "cells": [
  {
   "cell_type": "markdown",
   "metadata": {},
   "source": [
    "Use the tweets for the updated vocab, test classifer on humor"
   ]
  },
  {
   "cell_type": "code",
   "execution_count": 1,
   "metadata": {},
   "outputs": [
    {
     "name": "stdout",
     "output_type": "stream",
     "text": [
      "/home/farzin/haha_2019\r\n"
     ]
    }
   ],
   "source": [
    "!pwd"
   ]
  },
  {
   "cell_type": "code",
   "execution_count": 2,
   "metadata": {},
   "outputs": [],
   "source": [
    "%reload_ext autoreload\n",
    "%autoreload 2"
   ]
  },
  {
   "cell_type": "code",
   "execution_count": 3,
   "metadata": {},
   "outputs": [],
   "source": [
    "import os\n",
    "os.environ[\"CUDA_VISIBLE_DEVICES\"]=\"1\""
   ]
  },
  {
   "cell_type": "code",
   "execution_count": 4,
   "metadata": {},
   "outputs": [],
   "source": [
    "from fastai.text import *\n",
    "from fastai.callbacks import SaveModelCallback\n",
    "import sentencepiece as spm #https://github.com/google/sentencepiece"
   ]
  },
  {
   "cell_type": "markdown",
   "metadata": {},
   "source": [
    "# Python code Examples (testing out tokenizer)"
   ]
  },
  {
   "cell_type": "markdown",
   "metadata": {},
   "source": [
    "## Data"
   ]
  },
  {
   "cell_type": "markdown",
   "metadata": {},
   "source": [
    "### Reading the texts"
   ]
  },
  {
   "cell_type": "code",
   "execution_count": 5,
   "metadata": {},
   "outputs": [],
   "source": [
    "PATH = Path('./data/rnn/')"
   ]
  },
  {
   "cell_type": "code",
   "execution_count": 6,
   "metadata": {},
   "outputs": [],
   "source": [
    "all_texts_df = pd.read_csv('./data/haha_training_2018.csv')"
   ]
  },
  {
   "cell_type": "code",
   "execution_count": 7,
   "metadata": {},
   "outputs": [
    {
     "data": {
      "text/html": [
       "<div>\n",
       "<style scoped>\n",
       "    .dataframe tbody tr th:only-of-type {\n",
       "        vertical-align: middle;\n",
       "    }\n",
       "\n",
       "    .dataframe tbody tr th {\n",
       "        vertical-align: top;\n",
       "    }\n",
       "\n",
       "    .dataframe thead th {\n",
       "        text-align: right;\n",
       "    }\n",
       "</style>\n",
       "<table border=\"1\" class=\"dataframe\">\n",
       "  <thead>\n",
       "    <tr style=\"text-align: right;\">\n",
       "      <th></th>\n",
       "      <th>id</th>\n",
       "      <th>text</th>\n",
       "      <th>is_humor</th>\n",
       "      <th>votes_no</th>\n",
       "      <th>votes_1</th>\n",
       "      <th>votes_2</th>\n",
       "      <th>votes_3</th>\n",
       "      <th>votes_4</th>\n",
       "      <th>votes_5</th>\n",
       "      <th>funniness_average</th>\n",
       "    </tr>\n",
       "  </thead>\n",
       "  <tbody>\n",
       "    <tr>\n",
       "      <th>0</th>\n",
       "      <td>705196579758583809</td>\n",
       "      <td>Niveles de retraso mental: \\n\\n— Bajo.\\n— Medi...</td>\n",
       "      <td>1</td>\n",
       "      <td>0</td>\n",
       "      <td>2</td>\n",
       "      <td>2</td>\n",
       "      <td>0</td>\n",
       "      <td>0</td>\n",
       "      <td>0</td>\n",
       "      <td>1.5</td>\n",
       "    </tr>\n",
       "    <tr>\n",
       "      <th>1</th>\n",
       "      <td>678040651817213952</td>\n",
       "      <td>—Vamos Luke desenfunda tu sable, demuestra tu ...</td>\n",
       "      <td>1</td>\n",
       "      <td>1</td>\n",
       "      <td>3</td>\n",
       "      <td>0</td>\n",
       "      <td>1</td>\n",
       "      <td>0</td>\n",
       "      <td>0</td>\n",
       "      <td>1.5</td>\n",
       "    </tr>\n",
       "    <tr>\n",
       "      <th>2</th>\n",
       "      <td>546750892213829633</td>\n",
       "      <td>- ¿Te ofrezco algo?, ¿Agua, café, mi corazón, ...</td>\n",
       "      <td>1</td>\n",
       "      <td>0</td>\n",
       "      <td>1</td>\n",
       "      <td>1</td>\n",
       "      <td>0</td>\n",
       "      <td>1</td>\n",
       "      <td>1</td>\n",
       "      <td>3.0</td>\n",
       "    </tr>\n",
       "    <tr>\n",
       "      <th>3</th>\n",
       "      <td>965807211292364801</td>\n",
       "      <td>No se porqué me hago la cabeza deooos</td>\n",
       "      <td>0</td>\n",
       "      <td>3</td>\n",
       "      <td>0</td>\n",
       "      <td>0</td>\n",
       "      <td>0</td>\n",
       "      <td>0</td>\n",
       "      <td>0</td>\n",
       "      <td>NaN</td>\n",
       "    </tr>\n",
       "    <tr>\n",
       "      <th>4</th>\n",
       "      <td>638403841839484928</td>\n",
       "      <td>Quisiera saber que hago durante la siesta de l...</td>\n",
       "      <td>0</td>\n",
       "      <td>4</td>\n",
       "      <td>0</td>\n",
       "      <td>1</td>\n",
       "      <td>0</td>\n",
       "      <td>0</td>\n",
       "      <td>0</td>\n",
       "      <td>NaN</td>\n",
       "    </tr>\n",
       "  </tbody>\n",
       "</table>\n",
       "</div>"
      ],
      "text/plain": [
       "                   id                                               text  \\\n",
       "0  705196579758583809  Niveles de retraso mental: \\n\\n— Bajo.\\n— Medi...   \n",
       "1  678040651817213952  —Vamos Luke desenfunda tu sable, demuestra tu ...   \n",
       "2  546750892213829633  - ¿Te ofrezco algo?, ¿Agua, café, mi corazón, ...   \n",
       "3  965807211292364801              No se porqué me hago la cabeza deooos   \n",
       "4  638403841839484928  Quisiera saber que hago durante la siesta de l...   \n",
       "\n",
       "   is_humor  votes_no  votes_1  votes_2  votes_3  votes_4  votes_5  \\\n",
       "0         1         0        2        2        0        0        0   \n",
       "1         1         1        3        0        1        0        0   \n",
       "2         1         0        1        1        0        1        1   \n",
       "3         0         3        0        0        0        0        0   \n",
       "4         0         4        0        1        0        0        0   \n",
       "\n",
       "   funniness_average  \n",
       "0                1.5  \n",
       "1                1.5  \n",
       "2                3.0  \n",
       "3                NaN  \n",
       "4                NaN  "
      ]
     },
     "execution_count": 7,
     "metadata": {},
     "output_type": "execute_result"
    }
   ],
   "source": [
    "all_texts_df.head()"
   ]
  },
  {
   "cell_type": "markdown",
   "metadata": {},
   "source": [
    "### apply pre-rules to text"
   ]
  },
  {
   "cell_type": "code",
   "execution_count": 8,
   "metadata": {},
   "outputs": [],
   "source": [
    "## New Line char for replacement in text\n",
    "NL = 'xxnl'\n",
    "defaults.text_spec_tok.append(NL) #add a New Line special char\n",
    "\n",
    "def sub_nl(t:str) -> str:\n",
    "    \"Replaces \\n by xxnl\"\n",
    "    return t.replace(\"\\r\\n\",\"\\n\").replace(\"\\n\",NL+\" \")\n",
    "\n",
    "# def sub_br(t:str) -> str:\n",
    "#     \"Replaces the <br /> by \\n\"\n",
    "#     re_br = re.compile(r'<\\s*br\\s*/?>', re.IGNORECASE)\n",
    "#     return re_br.sub(\"\\n\", t)\n",
    "\n",
    "def spec_add_spaces(t:str) -> str:\n",
    "    \"Add spaces between special characters\"\n",
    "    return re.sub(r'([/#?!@,])', r' \\1 ', t)\n",
    "\n",
    "def rm_useless_spaces(t:str) -> str:\n",
    "    \"Remove multiple spaces\"\n",
    "    return re.sub(' {2,}', ' ', t)\n",
    "\n",
    "def replace_rep(t:str) -> str:\n",
    "    \"Replace repetitions at the character level\"\n",
    "    def _replace_rep(m:Collection[str]) -> str:\n",
    "        c,cc = m.groups()\n",
    "        return f' {TK_REP} {len(cc)+1} {c} '\n",
    "    re_rep = re.compile(r'(\\S)(\\1{3,})')\n",
    "    return re_rep.sub(_replace_rep, t)\n",
    "    \n",
    "def replace_wrep(t:str) -> str:\n",
    "    \"Replace word repetitions\"\n",
    "    def _replace_wrep(m:Collection[str]) -> str:\n",
    "        c,cc = m.groups()\n",
    "        return f' {TK_WREP} {len(cc.split())+1} {c} '\n",
    "    re_wrep = re.compile(r'(\\b\\w+\\W+)(\\1{3,})')\n",
    "    return re_wrep.sub(_replace_wrep, t)\n",
    "\n",
    "def deal_caps(t:str) -> str:\n",
    "    \"Replace words in all caps\"\n",
    "    res = []\n",
    "    for s in re.findall(r'\\w+|\\W+', t):\n",
    "        res += ([f' {TK_UP} ',s.lower()] if (s.isupper() and (len(s)>2)) else [s.lower()])\n",
    "    return ''.join(res)\n",
    "\n",
    "def fixup(x:str) -> str:\n",
    "    \"List of replacements from html strings\"\n",
    "    re1 = re.compile(r'  +')\n",
    "    x = x.replace('#39;', \"'\").replace('amp;', '&').replace('#146;', \"'\").replace(\n",
    "        'nbsp;', ' ').replace('#36;', '$').replace('\\\\n', \"\\n\").replace('quot;', \"'\").replace(\n",
    "        '<br />', \"\\n\").replace('\\\\\"', '\"').replace('<unk>',UNK).replace(' @.@ ','.').replace(\n",
    "        ' @-@ ','-').replace('\\\\', ' \\\\ ')\n",
    "    return re1.sub(' ', html.unescape(x))\n",
    "\n",
    "default_rules = [fixup, replace_rep, replace_wrep, deal_caps, spec_add_spaces, \n",
    "                 rm_useless_spaces, sub_nl]"
   ]
  },
  {
   "cell_type": "code",
   "execution_count": 9,
   "metadata": {},
   "outputs": [
    {
     "name": "stdout",
     "output_type": "stream",
     "text": [
      "Default Rules:\n",
      " ['fixup', 'replace_rep', 'replace_wrep', 'deal_caps', 'spec_add_spaces', 'rm_useless_spaces', 'sub_nl'] \n",
      "\n",
      "\n",
      "<function fixup at 0x7f4e72e250d0>\n",
      "<function replace_rep at 0x7f4e72e61ea0>\n",
      "<function replace_wrep at 0x7f4e72e61f28>\n",
      "<function deal_caps at 0x7f4e72e25048>\n",
      "<function spec_add_spaces at 0x7f4e72e61268>\n",
      "<function rm_useless_spaces at 0x7f4e72e61e18>\n",
      "<function sub_nl at 0x7f4e72e61950>\n"
     ]
    }
   ],
   "source": [
    "## apply the rules\n",
    "raw_text = all_texts_df.loc[:,'text']\n",
    "\n",
    "print(\"Default Rules:\\n\",[x.__name__ for x in default_rules],\"\\n\\n\")\n",
    "\n",
    "for rule in default_rules:\n",
    "    print(rule)\n",
    "    raw_text = raw_text.apply(lambda x: rule(str(x)))\n",
    "    \n",
    "all_texts_df['new_text'] =  raw_text #tokenizer adds xxbos"
   ]
  },
  {
   "cell_type": "code",
   "execution_count": 10,
   "metadata": {},
   "outputs": [
    {
     "data": {
      "text/plain": [
       "0    niveles de retraso mental: xxnl xxnl — bajo.xx...\n",
       "1    —vamos luke desenfunda tu sable , demuestra tu...\n",
       "2    - ¿te ofrezco algo ? , ¿agua , café , mi coraz...\n",
       "3                no se porqué me hago la cabeza deooos\n",
       "4    quisiera saber que hago durante la siesta de l...\n",
       "Name: new_text, dtype: object"
      ]
     },
     "execution_count": 10,
     "metadata": {},
     "output_type": "execute_result"
    }
   ],
   "source": [
    "all_texts_df['new_text'].head()"
   ]
  },
  {
   "cell_type": "code",
   "execution_count": 11,
   "metadata": {},
   "outputs": [
    {
     "data": {
      "text/plain": [
       "(16000, 11)"
      ]
     },
     "execution_count": 11,
     "metadata": {},
     "output_type": "execute_result"
    }
   ],
   "source": [
    "all_texts_df.shape"
   ]
  },
  {
   "cell_type": "markdown",
   "metadata": {},
   "source": [
    "### Clean up the imbalanced data to balance"
   ]
  },
  {
   "cell_type": "code",
   "execution_count": 12,
   "metadata": {},
   "outputs": [
    {
     "name": "stdout",
     "output_type": "stream",
     "text": [
      "Number of positive samples: 5865\n",
      "Number of negative samples: 10135\n",
      "Total samples: 16000\n"
     ]
    }
   ],
   "source": [
    "print('Number of positive samples:', (all_texts_df.is_humor == 1).sum())\n",
    "print('Number of negative samples:',  (all_texts_df.is_humor == 0).sum())\n",
    "print('Total samples:', len(all_texts_df))"
   ]
  },
  {
   "cell_type": "code",
   "execution_count": 13,
   "metadata": {},
   "outputs": [],
   "source": [
    "rnd_seed = 20190313\n",
    "np.random.seed(rnd_seed)\n",
    "\n",
    "idx = np.random.permutation(len(all_texts_df))\n",
    "test_cut = int(0.15 * len(idx))\n",
    "valid_cut = int(0.15 * len(idx-test_cut))\n",
    "\n",
    "df_train_all = all_texts_df.iloc[idx[:-(valid_cut+test_cut)],:]\n",
    "df_valid     = all_texts_df.iloc[idx[-(valid_cut+test_cut):-test_cut],:]\n",
    "df_test      = all_texts_df.iloc[idx[-test_cut:],:]"
   ]
  },
  {
   "cell_type": "code",
   "execution_count": 14,
   "metadata": {},
   "outputs": [
    {
     "name": "stdout",
     "output_type": "stream",
     "text": [
      "Test prevalence(n = 2400): 0.36833333333333335\n",
      "Valid prevalence(n = 2400): 0.37583333333333335\n",
      "Train all prevalence(n = 11200): 0.3641964285714286\n",
      "all samples (n = 16000)\n"
     ]
    }
   ],
   "source": [
    "print('Test prevalence(n = %d):'%len(df_test),df_test.is_humor.sum()/ len(df_test))\n",
    "print('Valid prevalence(n = %d):'%len(df_valid),df_valid.is_humor.sum()/ len(df_valid))\n",
    "print('Train all prevalence(n = %d):'%len(df_train_all), df_train_all.is_humor.sum()/ len(df_train_all))\n",
    "print('all samples (n = %d)'%len(all_texts_df))\n",
    "assert len(all_texts_df) == (len(df_test)+len(df_valid)+len(df_train_all)),'math didnt work'"
   ]
  },
  {
   "cell_type": "code",
   "execution_count": 15,
   "metadata": {},
   "outputs": [
    {
     "data": {
      "text/plain": [
       "((4079, 11), (7121, 11))"
      ]
     },
     "execution_count": 15,
     "metadata": {},
     "output_type": "execute_result"
    }
   ],
   "source": [
    "## oversample the less-frequent occuring cases\n",
    "# split the training data into positive and negative\n",
    "rows_pos = df_train_all.is_humor == 1\n",
    "df_train_pos = df_train_all.loc[rows_pos]\n",
    "df_train_neg = df_train_all.loc[~rows_pos]\n",
    "df_train_pos.shape,df_train_neg.shape"
   ]
  },
  {
   "cell_type": "code",
   "execution_count": 16,
   "metadata": {},
   "outputs": [
    {
     "name": "stdout",
     "output_type": "stream",
     "text": [
      "Train prevalence (n = 14242): 0.5\n"
     ]
    }
   ],
   "source": [
    "df_resample_pos = df_train_pos.sample(n=len(df_train_neg),replace=True,\n",
    "                                      axis=0,random_state=rnd_seed).reset_index(drop=True)\n",
    "df_train = pd.concat([df_resample_pos,df_train_neg],axis=0) #randomized again in DataBunch?\n",
    "print('Train prevalence (n = %d):'%len(df_train), df_train.is_humor.sum()/ len(df_train))"
   ]
  },
  {
   "cell_type": "markdown",
   "metadata": {},
   "source": [
    "### sp tokenizer from training"
   ]
  },
  {
   "cell_type": "code",
   "execution_count": 17,
   "metadata": {},
   "outputs": [],
   "source": [
    "model_prefix = './all_tweets_es_0509'"
   ]
  },
  {
   "cell_type": "code",
   "execution_count": 18,
   "metadata": {},
   "outputs": [],
   "source": [
    "## itos from m.vocab file: just read directly and populate the dictionary\n",
    "itos = [] #{}\n",
    "with open(f'{model_prefix}.vocab','r') as f:\n",
    "    for line_num,line in enumerate(f):\n",
    "#         itos[line_num] = line.split(\"\\t\")[0]\n",
    "        itos.append(line.split(\"\\t\")[0])\n",
    "        \n",
    "class SPTokenizer(BaseTokenizer):\n",
    "    \"Wrapper around a SentncePiece tokenizer to make it a `BaseTokenizer`.\"\n",
    "    def __init__(self, model_prefix:str):\n",
    "        self.tok = spm.SentencePieceProcessor()\n",
    "        self.tok.load(f'{model_prefix}.model')\n",
    "\n",
    "    def tokenizer(self, t:str) -> List[str]:\n",
    "#         return self.tok.EncodeAsIds(t)  ## tokenize + numericalize. We have them broken into two parts,just return tokens\n",
    "        return self.tok.EncodeAsPieces(t)\n",
    "        \n",
    "class CustomTokenizer():\n",
    "    '''Wrapper for SentencePiece toeknizer to fit into Fast.ai V1'''\n",
    "    def __init__(self,tok_func:Callable,model_prefix:str, pre_rules:ListRules=None):\n",
    "        self.tok_func,self.model_prefix = tok_func,model_prefix\n",
    "        self.pre_rules  = ifnone(pre_rules,  defaults.text_pre_rules )\n",
    "        \n",
    "    def __repr__(self) -> str:\n",
    "        res = f'Tokenizer {self.tok_func.__name__} using `{self.model_prefix}` model with the following rules:\\n'\n",
    "        for rule in self.pre_rules: res += f' - {rule.__name__}\\n'\n",
    "        return res        \n",
    "\n",
    "    def process_text(self, t:str,tok:BaseTokenizer) -> List[str]:\n",
    "        \"Processe one text `t` with tokenizer `tok`.\"\n",
    "        for rule in self.pre_rules: t = rule(t)  \n",
    "        toks = tok.tokenizer(t)\n",
    "    \n",
    "        return toks \n",
    "    \n",
    "    def _process_all_1(self,texts:Collection[str]) -> List[List[str]]:\n",
    "        'Process a list of `texts` in one process'\n",
    "        tok = self.tok_func(self.model_prefix)\n",
    "        return [self.process_text(t,tok) for t in texts]\n",
    "                                                                     \n",
    "    def process_all(self, texts:Collection[str]) -> List[List[str]]: \n",
    "        \"Process a list of `texts`.\"                                 \n",
    "        return self._process_all_1(texts)"
   ]
  },
  {
   "cell_type": "code",
   "execution_count": 19,
   "metadata": {},
   "outputs": [
    {
     "data": {
      "text/plain": [
       "['→', '😫', '🤨', '😲', '🏟', '📖', '🎸', '🏿', '😮', '🎬']"
      ]
     },
     "execution_count": 19,
     "metadata": {},
     "output_type": "execute_result"
    }
   ],
   "source": [
    "itos[-10:]"
   ]
  },
  {
   "cell_type": "code",
   "execution_count": 20,
   "metadata": {},
   "outputs": [],
   "source": [
    "mycust_tok = CustomTokenizer(SPTokenizer,model_prefix,pre_rules=default_rules)\n",
    "sp_vocab = Vocab(itos)"
   ]
  },
  {
   "cell_type": "code",
   "execution_count": 21,
   "metadata": {},
   "outputs": [],
   "source": [
    "data = TextClasDataBunch.from_df(PATH,df_train,df_valid,df_test,\n",
    "                               tokenizer=mycust_tok, vocab=sp_vocab,\n",
    "                               text_cols='new_text', label_cols='is_humor')"
   ]
  },
  {
   "cell_type": "code",
   "execution_count": 22,
   "metadata": {},
   "outputs": [
    {
     "data": {
      "text/html": [
       "<table border=\"1\" class=\"dataframe\">\n",
       "  <thead>\n",
       "    <tr style=\"text-align: right;\">\n",
       "      <th>text</th>\n",
       "      <th>target</th>\n",
       "    </tr>\n",
       "  </thead>\n",
       "  <tbody>\n",
       "    <tr>\n",
       "      <td>▁ xxbos ▁❤ .- ~ * ( ▁? ▁el ▁di vo 00 ▁d 3 ▁tw 1 tter ▁! ▁! ▁! ▁? ▁? ▁~ k 3 ▁di 4 vl 0 zz ▁ki 3 r 3 z ▁k 3 ▁p 4 rt 3 ▁d 3 ▁no 00 ▁n 0 ▁3 nt 13 nd 3 z ▁b 3 the ▁k 0 n ▁ki 3 n ▁t 3 ▁d 3 ▁l 4 ▁g 4</td>\n",
       "      <td>0</td>\n",
       "    </tr>\n",
       "    <tr>\n",
       "      <td>▁ xxbos ▁¡ dame ▁la ▁\" t \" ▁! ▁... ▁¡ t ▁! ▁ xxnl ▁¡ dame ▁la ▁\" e \" ▁! ▁... ▁¡ e ▁! ▁ xxnl ▁¡ dame ▁la ▁\" a \" ▁! ▁... ▁¡ a ▁! ▁ xxnl ▁¡ dame ▁la ▁\" m \" ▁! ▁... ▁¡ m ▁! ▁ xxnl ▁¡ dame ▁la ▁\" o \" ▁! ▁... ▁¡ o ▁! ▁ xxnl ▁¿¡ qué ▁dice</td>\n",
       "      <td>1</td>\n",
       "    </tr>\n",
       "    <tr>\n",
       "      <td>▁ xxbos ▁estaban ▁2 ▁perros ▁hablando : ▁ xxnl ▁— wo of ▁wo of . ▁ xxnl ▁— ▁ xxup ▁woo of ▁! ▁ xxnl ▁— ▁ xxup ▁wo of ▁! ▁¡ ▁ xxup ▁wo of ▁! ▁ xxnl ▁— wo of ▁wo of ▁wo of ▁! ▁ xxnl ▁— y ▁ud ▁ xxup ▁como ▁un ▁ xxup ▁tonto ▁ xxup ▁lad r ándole ▁a ▁la ▁ xxup ▁pantalla ▁#</td>\n",
       "      <td>1</td>\n",
       "    </tr>\n",
       "    <tr>\n",
       "      <td>▁ xxbos ▁ xxunk 🌹 g . ▁n ▁ros es xxnl ▁ xxunk arc tic ▁mon ke ys xxnl ▁ xxunk the ▁do ors xxnl ▁📻 xxunk radio head xxnl ▁ xxunk to ol xxnl ▁ xxunk muse xxnl ▁ xxunk roll ing ▁s . xxnl ▁🔥 xxunk flam ing ▁lips xxnl ▁👊 👊 f . ▁fighters xxnl ▁ xxunk 💥 xxunk the ▁clash xxnl ▁ xxunk 🔥 ar cade</td>\n",
       "      <td>0</td>\n",
       "    </tr>\n",
       "    <tr>\n",
       "      <td>▁ xxbos ▁esperando ▁a ▁que ▁me ▁contestes ▁por ▁whatsapp ▁ xxnl ▁ xxnl ▁| &lt; 😄 xxnl ▁| ▁(( &gt; xxnl ▁| ▁| ▁ xxunk ▁ xxnl ▁ xxnl ▁| &lt; 😔 xxnl ▁| ▁(( &gt; xxnl ▁| ▁| ▁ xxunk ▁ xxnl ▁ xxnl ▁| &lt; 😭 xxnl ▁| ▁(( &gt; xxnl ▁| ▁| ▁ xxunk ▁ xxnl ▁ xxnl ▁| &lt; xxunk xxnl ▁| ▁(( &gt; xxnl ▁|</td>\n",
       "      <td>1</td>\n",
       "    </tr>\n",
       "    <tr>\n",
       "      <td>▁ xxbos ▁ xxup ▁adn ▁de ▁ xxup ▁las ▁ xxup ▁mujeres : xxnl ▁ xxnl ▁😡 ▁😡 xxnl ▁😡 ▁😡 xxnl ▁😡 ▁😡 xxnl ▁😡 xxnl ▁😡 ▁😡 xxnl ▁😡 ▁😡 xxnl ▁😡 ▁😡 xxnl ▁😡 xxnl ▁😡 ▁😡 xxnl ▁😡 ▁😡 xxnl ▁😡 ▁😡 xxnl ▁😡 ▁😡 xxnl ▁😡 ▁😡 xxnl ▁😡 ▁😡 xxnl ▁😡 xxnl ▁😡 ▁😡 xxnl ▁😡 ▁😡 xxnl ▁😡 ▁😡 xxnl ▁😡 ▁😡</td>\n",
       "      <td>1</td>\n",
       "    </tr>\n",
       "    <tr>\n",
       "      <td>▁ xxbos ▁ xxup ▁adn ▁de ▁ xxup ▁las ▁ xxup ▁mujeres : xxnl ▁ xxnl ▁😡 ▁😡 xxnl ▁😡 ▁😡 xxnl ▁😡 ▁😡 xxnl ▁😡 xxnl ▁😡 ▁😡 xxnl ▁😡 ▁😡 xxnl ▁😡 ▁😡 xxnl ▁😡 xxnl ▁😡 ▁😡 xxnl ▁😡 ▁😡 xxnl ▁😡 ▁😡 xxnl ▁😡 ▁😡 xxnl ▁😡 ▁😡 xxnl ▁😡 ▁😡 xxnl ▁😡 xxnl ▁😡 ▁😡 xxnl ▁😡 ▁😡 xxnl ▁😡 ▁😡 xxnl ▁😡 ▁😡</td>\n",
       "      <td>1</td>\n",
       "    </tr>\n",
       "    <tr>\n",
       "      <td>▁ xxbos ▁—¿ a ▁qué ▁te ▁dedicas ▁? ▁ xxnl ▁ xxnl ▁— a ▁la ▁tele patía . xxnl ▁ xxnl ▁—¿ hab las ▁por ▁la ▁mente ▁? ▁ xxnl ▁ xxnl ▁— no ▁, ▁vendo ▁televis ores ▁para ▁tías . ▁ xxup ▁tele ▁pa ▁ xxup ▁tía . xxnl ▁ xxnl ▁—¡ ▁ xxup ▁vete ▁a ▁la ▁ xxup ▁mierda ▁! ▁ xxnl ▁ xxnl ▁— ay ▁:'(</td>\n",
       "      <td>1</td>\n",
       "    </tr>\n",
       "    <tr>\n",
       "      <td>▁ xxbos ▁¡ ▁ xxup ▁desde ▁el ▁ xxup ▁pasado ▁ xxup ▁jueves ▁ xxup ▁pague ▁la ▁ xxup ▁cajita ▁ xxup ▁clap ▁ xxup ▁que ▁ xxup ▁desde ▁ xxup ▁septiembre ▁no ▁ xxup ▁ven dian ▁en ▁mi ▁ xxup ▁barrio ▁ xxup ▁calle ▁ xxup ▁soledad ▁ xxup ▁sector ▁5 ▁ xxup ▁bocas ▁ xxup ▁cab im ás ▁y ▁ xxup ▁sin ▁ xxup ▁llegar ▁!</td>\n",
       "      <td>0</td>\n",
       "    </tr>\n",
       "    <tr>\n",
       "      <td>▁ xxbos ▁— mamá ▁, ▁¿ puedo ▁salir ▁? ▁— no . ▁—¿ me ▁das ▁un ▁calce tín ▁? ▁— ok ▁, ▁toma . ▁— el ▁ xxup ▁amo ▁le ▁ha ▁ xxup ▁dado ▁a ▁ xxup ▁dob by ▁un ▁ xxup ▁calce tín ... ▁¡ ▁ xxup ▁dob by ▁es ▁ xxup ▁libre ▁! ▁# ▁ xxup ▁jajaja ▁# ▁ xxup ▁hp quo tes ▁# ▁xd</td>\n",
       "      <td>1</td>\n",
       "    </tr>\n",
       "  </tbody>\n",
       "</table>"
      ],
      "text/plain": [
       "<IPython.core.display.HTML object>"
      ]
     },
     "metadata": {},
     "output_type": "display_data"
    }
   ],
   "source": [
    "data.show_batch(10)  #less xxunk, but still a fair amount..."
   ]
  },
  {
   "cell_type": "markdown",
   "metadata": {},
   "source": [
    "### Check `xxunk` fraction on humor data"
   ]
  },
  {
   "cell_type": "code",
   "execution_count": 23,
   "metadata": {},
   "outputs": [
    {
     "data": {
      "text/plain": [
       "((476,), (14242,))"
      ]
     },
     "execution_count": 23,
     "metadata": {},
     "output_type": "execute_result"
    }
   ],
   "source": [
    "pct_xxunk = pd.Series([sum(y==0)/len(y) for y in [x.data for x in data.train_dl.x]])\n",
    "pct_xxunk[pct_xxunk>0].shape, pct_xxunk.shape"
   ]
  },
  {
   "cell_type": "code",
   "execution_count": 24,
   "metadata": {},
   "outputs": [
    {
     "data": {
      "text/plain": [
       "0.024053323029366306"
      ]
     },
     "execution_count": 24,
     "metadata": {},
     "output_type": "execute_result"
    }
   ],
   "source": [
    "498/20704."
   ]
  },
  {
   "cell_type": "code",
   "execution_count": 25,
   "metadata": {},
   "outputs": [
    {
     "data": {
      "image/png": "[encoded data removed]",
      "text/plain": [
       "<Figure size 432x288 with 1 Axes>"
      ]
     },
     "metadata": {
      "needs_background": "light"
     },
     "output_type": "display_data"
    }
   ],
   "source": [
    "pd.Series([sum(y==0)/len(y) for y in [x.data for x in data.train_dl.x]]).plot()\n",
    "_ = plt.title('Pct UNK in each tweet')"
   ]
  },
  {
   "cell_type": "markdown",
   "metadata": {},
   "source": [
    "### build and train model"
   ]
  },
  {
   "cell_type": "code",
   "execution_count": 26,
   "metadata": {},
   "outputs": [],
   "source": [
    "config = awd_lstm_clas_config.copy()\n",
    "config['qrnn'] = True\n",
    "config['n_hid'] = 2304\n",
    "\n",
    "learn = text_classifier_learner(data, AWD_LSTM, drop_mult=0.7,pretrained=False,\n",
    "                               config=config)\n",
    "learn.load_encoder('twitter_es_enc_QRNN_0517_labelsmooth')"
   ]
  },
  {
   "cell_type": "code",
   "execution_count": 27,
   "metadata": {},
   "outputs": [
    {
     "data": {
      "text/plain": [
       "FlattenedLoss of CrossEntropyLoss()"
      ]
     },
     "execution_count": 27,
     "metadata": {},
     "output_type": "execute_result"
    }
   ],
   "source": [
    "learn.loss_func"
   ]
  },
  {
   "cell_type": "code",
   "execution_count": 28,
   "metadata": {},
   "outputs": [],
   "source": [
    "from fastai.layers import LabelSmoothingCrossEntropy\n",
    "learn.loss_func = FlattenedLoss(LabelSmoothingCrossEntropy)"
   ]
  },
  {
   "cell_type": "code",
   "execution_count": 29,
   "metadata": {},
   "outputs": [
    {
     "data": {
      "text/html": [],
      "text/plain": [
       "<IPython.core.display.HTML object>"
      ]
     },
     "metadata": {},
     "output_type": "display_data"
    },
    {
     "name": "stdout",
     "output_type": "stream",
     "text": [
      "LR Finder is complete, type {learner_name}.recorder.plot() to see the graph.\n"
     ]
    }
   ],
   "source": [
    "lr_find(learn)"
   ]
  },
  {
   "cell_type": "code",
   "execution_count": 30,
   "metadata": {},
   "outputs": [
    {
     "data": {
      "image/png": "[encoded data removed]",
      "text/plain": [
       "<Figure size 432x288 with 1 Axes>"
      ]
     },
     "metadata": {
      "needs_background": "light"
     },
     "output_type": "display_data"
    }
   ],
   "source": [
    "learn.recorder.plot(skip_end=10)"
   ]
  },
  {
   "cell_type": "code",
   "execution_count": 31,
   "metadata": {},
   "outputs": [],
   "source": [
    "\n",
    "## transform that will drop (replace?) low prob words in each input batch.  \n",
    "# 1) run words through LM, find prob of next word for each word\n",
    "# 2) use prob to adjust/drop each word in the batch\n",
    "# 3) Use a transform/augmentation for each prediction.\n",
    "\n",
    "### Transform that will change/replace the entire sentence.  En-Fr -> Fr-En to get the same semantics, but new set of words.\n",
    "## can we do with many words?  Can we couple with single-word drop/replace?\n",
    "## multiplies the amount of transforms?  Applied after word-level transform?"
   ]
  },
  {
   "cell_type": "code",
   "execution_count": 31,
   "metadata": {},
   "outputs": [
    {
     "data": {
      "text/html": [
       "Total time: 04:49 <p><table style='width:375px; margin-bottom:10px'>\n",
       "  <tr>\n",
       "    <th>epoch</th>\n",
       "    <th>train_loss</th>\n",
       "    <th>valid_loss</th>\n",
       "    <th>accuracy</th>\n",
       "    <th>time</th>\n",
       "  </tr>\n",
       "  <tr>\n",
       "    <th>0</th>\n",
       "    <th>0.539328</th>\n",
       "    <th>0.458334</th>\n",
       "    <th>0.825833</th>\n",
       "    <th>00:13</th>\n",
       "  </tr>\n",
       "  <tr>\n",
       "    <th>1</th>\n",
       "    <th>0.590944</th>\n",
       "    <th>0.432842</th>\n",
       "    <th>0.840833</th>\n",
       "    <th>00:12</th>\n",
       "  </tr>\n",
       "  <tr>\n",
       "    <th>2</th>\n",
       "    <th>0.519057</th>\n",
       "    <th>0.440495</th>\n",
       "    <th>0.840000</th>\n",
       "    <th>00:13</th>\n",
       "  </tr>\n",
       "  <tr>\n",
       "    <th>3</th>\n",
       "    <th>0.495039</th>\n",
       "    <th>0.418538</th>\n",
       "    <th>0.863333</th>\n",
       "    <th>00:13</th>\n",
       "  </tr>\n",
       "  <tr>\n",
       "    <th>4</th>\n",
       "    <th>0.484278</th>\n",
       "    <th>0.414843</th>\n",
       "    <th>0.862500</th>\n",
       "    <th>00:13</th>\n",
       "  </tr>\n",
       "  <tr>\n",
       "    <th>5</th>\n",
       "    <th>0.513669</th>\n",
       "    <th>0.406797</th>\n",
       "    <th>0.871250</th>\n",
       "    <th>00:12</th>\n",
       "  </tr>\n",
       "  <tr>\n",
       "    <th>6</th>\n",
       "    <th>0.411987</th>\n",
       "    <th>0.417804</th>\n",
       "    <th>0.869167</th>\n",
       "    <th>00:14</th>\n",
       "  </tr>\n",
       "  <tr>\n",
       "    <th>7</th>\n",
       "    <th>0.428629</th>\n",
       "    <th>0.426466</th>\n",
       "    <th>0.866250</th>\n",
       "    <th>00:12</th>\n",
       "  </tr>\n",
       "  <tr>\n",
       "    <th>8</th>\n",
       "    <th>0.396094</th>\n",
       "    <th>0.416589</th>\n",
       "    <th>0.865833</th>\n",
       "    <th>00:13</th>\n",
       "  </tr>\n",
       "  <tr>\n",
       "    <th>9</th>\n",
       "    <th>0.364979</th>\n",
       "    <th>0.448784</th>\n",
       "    <th>0.870000</th>\n",
       "    <th>00:13</th>\n",
       "  </tr>\n",
       "  <tr>\n",
       "    <th>10</th>\n",
       "    <th>0.356879</th>\n",
       "    <th>0.436937</th>\n",
       "    <th>0.867083</th>\n",
       "    <th>00:13</th>\n",
       "  </tr>\n",
       "  <tr>\n",
       "    <th>11</th>\n",
       "    <th>0.385688</th>\n",
       "    <th>0.452179</th>\n",
       "    <th>0.869583</th>\n",
       "    <th>00:12</th>\n",
       "  </tr>\n",
       "  <tr>\n",
       "    <th>12</th>\n",
       "    <th>0.342293</th>\n",
       "    <th>0.441004</th>\n",
       "    <th>0.871667</th>\n",
       "    <th>00:13</th>\n",
       "  </tr>\n",
       "  <tr>\n",
       "    <th>13</th>\n",
       "    <th>0.346091</th>\n",
       "    <th>0.459702</th>\n",
       "    <th>0.872917</th>\n",
       "    <th>00:13</th>\n",
       "  </tr>\n",
       "  <tr>\n",
       "    <th>14</th>\n",
       "    <th>0.338996</th>\n",
       "    <th>0.452604</th>\n",
       "    <th>0.872917</th>\n",
       "    <th>00:12</th>\n",
       "  </tr>\n",
       "  <tr>\n",
       "    <th>15</th>\n",
       "    <th>0.321128</th>\n",
       "    <th>0.454021</th>\n",
       "    <th>0.871667</th>\n",
       "    <th>00:13</th>\n",
       "  </tr>\n",
       "  <tr>\n",
       "    <th>16</th>\n",
       "    <th>0.330611</th>\n",
       "    <th>0.462852</th>\n",
       "    <th>0.872500</th>\n",
       "    <th>00:12</th>\n",
       "  </tr>\n",
       "  <tr>\n",
       "    <th>17</th>\n",
       "    <th>0.312976</th>\n",
       "    <th>0.493865</th>\n",
       "    <th>0.871667</th>\n",
       "    <th>00:13</th>\n",
       "  </tr>\n",
       "  <tr>\n",
       "    <th>18</th>\n",
       "    <th>0.307322</th>\n",
       "    <th>0.454991</th>\n",
       "    <th>0.871667</th>\n",
       "    <th>00:14</th>\n",
       "  </tr>\n",
       "  <tr>\n",
       "    <th>19</th>\n",
       "    <th>0.314690</th>\n",
       "    <th>0.548462</th>\n",
       "    <th>0.864583</th>\n",
       "    <th>00:13</th>\n",
       "  </tr>\n",
       "</table>\n"
      ],
      "text/plain": [
       "<IPython.core.display.HTML object>"
      ]
     },
     "metadata": {},
     "output_type": "display_data"
    },
    {
     "name": "stdout",
     "output_type": "stream",
     "text": [
      "Better model found at epoch 0 with accuracy value: 0.8258333206176758.\n",
      "Better model found at epoch 1 with accuracy value: 0.840833306312561.\n",
      "Better model found at epoch 3 with accuracy value: 0.8633333444595337.\n",
      "Better model found at epoch 5 with accuracy value: 0.8712499737739563.\n",
      "Better model found at epoch 12 with accuracy value: 0.871666669845581.\n",
      "Better model found at epoch 13 with accuracy value: 0.8729166388511658.\n"
     ]
    }
   ],
   "source": [
    "learn.unfreeze()\n",
    "## 0.7 drop\n",
    "learn.fit_one_cycle(20, slice(1e-2/(2.6**4),1e-2), moms=(0.7,0.4), pct_start=0.25, div_factor=8.,\n",
    "             callbacks=[SaveModelCallback(learn,every='improvement',mode='max',monitor='accuracy',name='best_acc_model_Q')])"
   ]
  },
  {
   "cell_type": "code",
   "execution_count": 32,
   "metadata": {},
   "outputs": [
    {
     "data": {
      "image/png": "[encoded data removed]",
      "text/plain": [
       "<Figure size 432x288 with 1 Axes>"
      ]
     },
     "metadata": {
      "needs_background": "light"
     },
     "output_type": "display_data"
    },
    {
     "data": {
      "image/png": "[encoded data removed]",
      "text/plain": [
       "<Figure size 432x288 with 1 Axes>"
      ]
     },
     "metadata": {
      "needs_background": "light"
     },
     "output_type": "display_data"
    },
    {
     "data": {
      "image/png": "[encoded data removed]",
      "text/plain": [
       "<Figure size 864x288 with 2 Axes>"
      ]
     },
     "metadata": {
      "needs_background": "light"
     },
     "output_type": "display_data"
    }
   ],
   "source": [
    "learn.recorder.plot_losses()\n",
    "learn.recorder.plot_metrics()\n",
    "learn.recorder.plot_lr(show_moms=True)"
   ]
  },
  {
   "cell_type": "code",
   "execution_count": 33,
   "metadata": {},
   "outputs": [
    {
     "data": {
      "text/html": [
       "Total time: 04:38 <p><table style='width:375px; margin-bottom:10px'>\n",
       "  <tr>\n",
       "    <th>epoch</th>\n",
       "    <th>train_loss</th>\n",
       "    <th>valid_loss</th>\n",
       "    <th>accuracy</th>\n",
       "    <th>time</th>\n",
       "  </tr>\n",
       "  <tr>\n",
       "    <th>0</th>\n",
       "    <th>0.325791</th>\n",
       "    <th>0.441368</th>\n",
       "    <th>0.872917</th>\n",
       "    <th>00:13</th>\n",
       "  </tr>\n",
       "  <tr>\n",
       "    <th>1</th>\n",
       "    <th>0.317832</th>\n",
       "    <th>0.463952</th>\n",
       "    <th>0.873333</th>\n",
       "    <th>00:13</th>\n",
       "  </tr>\n",
       "  <tr>\n",
       "    <th>2</th>\n",
       "    <th>0.307571</th>\n",
       "    <th>0.455167</th>\n",
       "    <th>0.871250</th>\n",
       "    <th>00:13</th>\n",
       "  </tr>\n",
       "  <tr>\n",
       "    <th>3</th>\n",
       "    <th>0.329909</th>\n",
       "    <th>0.514750</th>\n",
       "    <th>0.869583</th>\n",
       "    <th>00:12</th>\n",
       "  </tr>\n",
       "  <tr>\n",
       "    <th>4</th>\n",
       "    <th>0.302498</th>\n",
       "    <th>0.468625</th>\n",
       "    <th>0.872917</th>\n",
       "    <th>00:13</th>\n",
       "  </tr>\n",
       "  <tr>\n",
       "    <th>5</th>\n",
       "    <th>0.326468</th>\n",
       "    <th>0.487390</th>\n",
       "    <th>0.872083</th>\n",
       "    <th>00:12</th>\n",
       "  </tr>\n",
       "  <tr>\n",
       "    <th>6</th>\n",
       "    <th>0.304142</th>\n",
       "    <th>0.496113</th>\n",
       "    <th>0.872917</th>\n",
       "    <th>00:13</th>\n",
       "  </tr>\n",
       "  <tr>\n",
       "    <th>7</th>\n",
       "    <th>0.318486</th>\n",
       "    <th>0.496989</th>\n",
       "    <th>0.866667</th>\n",
       "    <th>00:12</th>\n",
       "  </tr>\n",
       "  <tr>\n",
       "    <th>8</th>\n",
       "    <th>0.292429</th>\n",
       "    <th>0.478430</th>\n",
       "    <th>0.872083</th>\n",
       "    <th>00:13</th>\n",
       "  </tr>\n",
       "  <tr>\n",
       "    <th>9</th>\n",
       "    <th>0.300715</th>\n",
       "    <th>0.447217</th>\n",
       "    <th>0.875000</th>\n",
       "    <th>00:13</th>\n",
       "  </tr>\n",
       "  <tr>\n",
       "    <th>10</th>\n",
       "    <th>0.281949</th>\n",
       "    <th>0.452251</th>\n",
       "    <th>0.875000</th>\n",
       "    <th>00:13</th>\n",
       "  </tr>\n",
       "  <tr>\n",
       "    <th>11</th>\n",
       "    <th>0.300865</th>\n",
       "    <th>0.452869</th>\n",
       "    <th>0.865417</th>\n",
       "    <th>00:13</th>\n",
       "  </tr>\n",
       "  <tr>\n",
       "    <th>12</th>\n",
       "    <th>0.285662</th>\n",
       "    <th>0.464470</th>\n",
       "    <th>0.870833</th>\n",
       "    <th>00:13</th>\n",
       "  </tr>\n",
       "  <tr>\n",
       "    <th>13</th>\n",
       "    <th>0.287359</th>\n",
       "    <th>0.472347</th>\n",
       "    <th>0.869583</th>\n",
       "    <th>00:13</th>\n",
       "  </tr>\n",
       "  <tr>\n",
       "    <th>14</th>\n",
       "    <th>0.328654</th>\n",
       "    <th>0.458893</th>\n",
       "    <th>0.869583</th>\n",
       "    <th>00:12</th>\n",
       "  </tr>\n",
       "  <tr>\n",
       "    <th>15</th>\n",
       "    <th>0.278390</th>\n",
       "    <th>0.497731</th>\n",
       "    <th>0.869167</th>\n",
       "    <th>00:13</th>\n",
       "  </tr>\n",
       "  <tr>\n",
       "    <th>16</th>\n",
       "    <th>0.284406</th>\n",
       "    <th>0.515736</th>\n",
       "    <th>0.867500</th>\n",
       "    <th>00:13</th>\n",
       "  </tr>\n",
       "  <tr>\n",
       "    <th>17</th>\n",
       "    <th>0.284090</th>\n",
       "    <th>0.462932</th>\n",
       "    <th>0.870417</th>\n",
       "    <th>00:13</th>\n",
       "  </tr>\n",
       "  <tr>\n",
       "    <th>18</th>\n",
       "    <th>0.289292</th>\n",
       "    <th>0.473977</th>\n",
       "    <th>0.869583</th>\n",
       "    <th>00:13</th>\n",
       "  </tr>\n",
       "  <tr>\n",
       "    <th>19</th>\n",
       "    <th>0.282424</th>\n",
       "    <th>0.491115</th>\n",
       "    <th>0.870000</th>\n",
       "    <th>00:13</th>\n",
       "  </tr>\n",
       "</table>\n"
      ],
      "text/plain": [
       "<IPython.core.display.HTML object>"
      ]
     },
     "metadata": {},
     "output_type": "display_data"
    },
    {
     "name": "stdout",
     "output_type": "stream",
     "text": [
      "Better model found at epoch 0 with accuracy value: 0.8729166388511658.\n",
      "Better model found at epoch 1 with accuracy value: 0.8733333349227905.\n",
      "Better model found at epoch 9 with accuracy value: 0.875.\n"
     ]
    }
   ],
   "source": [
    "learn.fit(20, slice(1e-2/(2.6**5), 1e-2/8.),\n",
    "             callbacks=[SaveModelCallback(learn,every='improvement',mode='max',monitor='accuracy',name='best_acc_model_Q')])"
   ]
  },
  {
   "cell_type": "code",
   "execution_count": 34,
   "metadata": {},
   "outputs": [
    {
     "data": {
      "image/png": "[encoded data removed]",
      "text/plain": [
       "<Figure size 432x288 with 1 Axes>"
      ]
     },
     "metadata": {
      "needs_background": "light"
     },
     "output_type": "display_data"
    },
    {
     "data": {
      "image/png": "[encoded data removed]",
      "text/plain": [
       "<Figure size 432x288 with 1 Axes>"
      ]
     },
     "metadata": {
      "needs_background": "light"
     },
     "output_type": "display_data"
    },
    {
     "data": {
      "image/png": "[encoded data removed]",
      "text/plain": [
       "<Figure size 864x288 with 2 Axes>"
      ]
     },
     "metadata": {
      "needs_background": "light"
     },
     "output_type": "display_data"
    }
   ],
   "source": [
    "learn.recorder.plot_losses()\n",
    "learn.recorder.plot_metrics()\n",
    "learn.recorder.plot_lr(show_moms=True)"
   ]
  },
  {
   "cell_type": "code",
   "execution_count": 35,
   "metadata": {},
   "outputs": [],
   "source": [
    "learn.save('2018_example_rnn_trained_unfreezeAll_labelsmoothing_lmAndclas')"
   ]
  },
  {
   "cell_type": "code",
   "execution_count": 36,
   "metadata": {},
   "outputs": [
    {
     "data": {
      "image/png": "[encoded data removed]",
      "text/plain": [
       "<Figure size 432x288 with 1 Axes>"
      ]
     },
     "metadata": {
      "needs_background": "light"
     },
     "output_type": "display_data"
    },
    {
     "data": {
      "image/png": "[encoded data removed]",
      "text/plain": [
       "<Figure size 432x288 with 1 Axes>"
      ]
     },
     "metadata": {
      "needs_background": "light"
     },
     "output_type": "display_data"
    }
   ],
   "source": [
    "preds_t,y_t,losses_t = learn.get_preds(DatasetType.Train,with_loss=True)\n",
    "interp_t = ClassificationInterpretation(learn, preds_t, y_t, losses_t)\n",
    "interp_t.plot_confusion_matrix()\n",
    "\n",
    "preds,y,losses = learn.get_preds(with_loss=True)\n",
    "interp = ClassificationInterpretation(learn, preds, y, losses)\n",
    "interp.plot_confusion_matrix()"
   ]
  },
  {
   "cell_type": "code",
   "execution_count": 37,
   "metadata": {},
   "outputs": [
    {
     "name": "stdout",
     "output_type": "stream",
     "text": [
      "----------\n"
     ]
    },
    {
     "data": {
      "text/html": [
       "<span style=\"font-family: monospace;\"><span title=\"0.053\" style=\"background-color: rgba(236, 244, 251, 0.5);\">▁</span> <span title=\"0.088\" style=\"background-color: rgba(229, 239, 249, 0.5);\">xxbos</span> <span title=\"0.289\" style=\"background-color: rgba(185, 213, 234, 0.5);\">▁-¿</span> <span title=\"0.524\" style=\"background-color: rgba(98, 168, 210, 0.5);\">papá</span> <span title=\"0.067\" style=\"background-color: rgba(233, 242, 250, 0.5);\">▁que</span> <span title=\"0.057\" style=\"background-color: rgba(236, 243, 251, 0.5);\">▁es</span> <span title=\"0.047\" style=\"background-color: rgba(238, 245, 252, 0.5);\">▁en</span> <span title=\"0.054\" style=\"background-color: rgba(236, 244, 251, 0.5);\">▁lo</span> <span title=\"0.072\" style=\"background-color: rgba(232, 241, 250, 0.5);\">▁primero</span> <span title=\"0.046\" style=\"background-color: rgba(238, 245, 252, 0.5);\">▁que</span> <span title=\"0.106\" style=\"background-color: rgba(225, 237, 248, 0.5);\">▁te</span> <span title=\"0.374\" style=\"background-color: rgba(158, 202, 225, 0.5);\">▁fijas</span> <span title=\"0.298\" style=\"background-color: rgba(182, 212, 233, 0.5);\">▁cuando</span> <span title=\"1.000\" style=\"background-color: rgba(8, 48, 107, 0.5);\">▁volte</span> <span title=\"0.222\" style=\"background-color: rgba(203, 222, 240, 0.5);\">as</span> <span title=\"0.324\" style=\"background-color: rgba(175, 209, 230, 0.5);\">▁a</span> <span title=\"0.052\" style=\"background-color: rgba(236, 244, 251, 0.5);\">▁ver</span> <span title=\"0.055\" style=\"background-color: rgba(236, 243, 251, 0.5);\">▁a</span> <span title=\"0.063\" style=\"background-color: rgba(234, 242, 250, 0.5);\">▁una</span> <span title=\"0.157\" style=\"background-color: rgba(215, 230, 244, 0.5);\">▁mujer</span> <span title=\"0.083\" style=\"background-color: rgba(230, 240, 249, 0.5);\">▁?</span> <span title=\"0.058\" style=\"background-color: rgba(236, 243, 251, 0.5);\">▁</span> <span title=\"0.058\" style=\"background-color: rgba(236, 243, 251, 0.5);\">xxnl</span> <span title=\"0.056\" style=\"background-color: rgba(236, 243, 251, 0.5);\">▁</span> <span title=\"0.080\" style=\"background-color: rgba(231, 240, 249, 0.5);\">xxnl</span> <span title=\"0.130\" style=\"background-color: rgba(221, 234, 246, 0.5);\">▁-</span> <span title=\"0.117\" style=\"background-color: rgba(224, 236, 247, 0.5);\">en</span> <span title=\"0.092\" style=\"background-color: rgba(228, 239, 249, 0.5);\">▁que</span> <span title=\"0.102\" style=\"background-color: rgba(226, 237, 248, 0.5);\">▁tú</span> <span title=\"0.175\" style=\"background-color: rgba(212, 228, 243, 0.5);\">▁mamá</span> <span title=\"0.092\" style=\"background-color: rgba(228, 239, 249, 0.5);\">▁no</span> <span title=\"0.164\" style=\"background-color: rgba(215, 230, 244, 0.5);\">▁me</span> <span title=\"0.222\" style=\"background-color: rgba(203, 222, 240, 0.5);\">▁este</span> <span title=\"0.212\" style=\"background-color: rgba(205, 223, 241, 0.5);\">▁mirando</span> <span title=\"0.127\" style=\"background-color: rgba(221, 234, 246, 0.5);\">▁hijo</span> <span title=\"0.180\" style=\"background-color: rgba(211, 227, 243, 0.5);\">...</span> <span title=\"0.384\" style=\"background-color: rgba(154, 199, 224, 0.5);\">😌</span> <span title=\"0.055\" style=\"background-color: rgba(236, 243, 251, 0.5);\">xxnl</span> <span title=\"0.039\" style=\"background-color: rgba(239, 245, 252, 0.5);\">▁</span> <span title=\"0.081\" style=\"background-color: rgba(231, 240, 249, 0.5);\">xxnl</span> <span title=\"0.141\" style=\"background-color: rgba(218, 232, 245, 0.5);\">▁-</span> <span title=\"0.148\" style=\"background-color: rgba(218, 232, 245, 0.5);\">a</span> <span title=\"0.053\" style=\"background-color: rgba(236, 244, 251, 0.5);\">▁</span> <span title=\"0.074\" style=\"background-color: rgba(232, 241, 250, 0.5);\">xxrep</span> <span title=\"0.151\" style=\"background-color: rgba(217, 231, 245, 0.5);\">▁4</span> <span title=\"0.308\" style=\"background-color: rgba(180, 211, 232, 0.5);\">▁a</span> <span title=\"0.421\" style=\"background-color: rgba(139, 192, 221, 0.5);\">▁h</span></span>"
      ],
      "text/plain": [
       "<IPython.core.display.HTML object>"
      ]
     },
     "metadata": {},
     "output_type": "display_data"
    },
    {
     "name": "stdout",
     "output_type": "stream",
     "text": [
      "----------\n"
     ]
    },
    {
     "data": {
      "text/html": [
       "<span style=\"font-family: monospace;\"><span title=\"0.124\" style=\"background-color: rgba(222, 235, 247, 0.5);\">▁</span> <span title=\"0.297\" style=\"background-color: rgba(183, 212, 234, 0.5);\">xxbos</span> <span title=\"0.606\" style=\"background-color: rgba(71, 149, 200, 0.5);\">▁—¿</span> <span title=\"0.284\" style=\"background-color: rgba(187, 214, 235, 0.5);\">estás</span> <span title=\"0.158\" style=\"background-color: rgba(215, 230, 244, 0.5);\">▁pensando</span> <span title=\"0.093\" style=\"background-color: rgba(228, 239, 249, 0.5);\">▁lo</span> <span title=\"0.111\" style=\"background-color: rgba(225, 236, 247, 0.5);\">▁mismo</span> <span title=\"0.122\" style=\"background-color: rgba(222, 235, 247, 0.5);\">▁que</span> <span title=\"0.115\" style=\"background-color: rgba(224, 236, 247, 0.5);\">▁yo</span> <span title=\"0.100\" style=\"background-color: rgba(227, 238, 248, 0.5);\">▁?</span> <span title=\"0.165\" style=\"background-color: rgba(214, 229, 244, 0.5);\">▁—</span> <span title=\"0.218\" style=\"background-color: rgba(204, 223, 241, 0.5);\">eso</span> <span title=\"0.260\" style=\"background-color: rgba(195, 217, 238, 0.5);\">▁creo</span> <span title=\"0.553\" style=\"background-color: rgba(89, 162, 207, 0.5);\">▁—¿</span> <span title=\"0.354\" style=\"background-color: rgba(165, 205, 227, 0.5);\">lo</span> <span title=\"0.720\" style=\"background-color: rgba(40, 120, 184, 0.5);\">▁decimos</span> <span title=\"0.479\" style=\"background-color: rgba(115, 178, 215, 0.5);\">▁a</span> <span title=\"0.250\" style=\"background-color: rgba(198, 219, 239, 0.5);\">▁la</span> <span title=\"0.131\" style=\"background-color: rgba(221, 234, 246, 0.5);\">▁vez</span> <span title=\"0.173\" style=\"background-color: rgba(212, 228, 243, 0.5);\">▁?</span> <span title=\"0.308\" style=\"background-color: rgba(180, 211, 232, 0.5);\">▁—</span> <span title=\"0.284\" style=\"background-color: rgba(187, 214, 235, 0.5);\">ok</span> <span title=\"0.167\" style=\"background-color: rgba(214, 229, 244, 0.5);\">.</span> <span title=\"0.206\" style=\"background-color: rgba(206, 224, 241, 0.5);\">▁—</span> <span title=\"0.385\" style=\"background-color: rgba(154, 199, 224, 0.5);\">bueno</span> <span title=\"0.179\" style=\"background-color: rgba(212, 228, 243, 0.5);\">▁,</span> <span title=\"0.228\" style=\"background-color: rgba(202, 221, 240, 0.5);\">▁a</span> <span title=\"0.218\" style=\"background-color: rgba(204, 223, 241, 0.5);\">▁la</span> <span title=\"0.272\" style=\"background-color: rgba(191, 216, 236, 0.5);\">▁de</span> <span title=\"0.281\" style=\"background-color: rgba(188, 215, 235, 0.5);\">▁tres</span> <span title=\"0.304\" style=\"background-color: rgba(181, 211, 233, 0.5);\">.</span> <span title=\"0.443\" style=\"background-color: rgba(130, 186, 219, 0.5);\">▁¡</span> <span title=\"0.410\" style=\"background-color: rgba(144, 194, 222, 0.5);\">1</span> <span title=\"0.308\" style=\"background-color: rgba(180, 211, 232, 0.5);\">▁,</span> <span title=\"0.868\" style=\"background-color: rgba(8, 82, 156, 0.5);\">▁2</span> <span title=\"0.903\" style=\"background-color: rgba(8, 72, 143, 0.5);\">▁y</span> <span title=\"0.734\" style=\"background-color: rgba(37, 117, 183, 0.5);\">▁3</span> <span title=\"0.237\" style=\"background-color: rgba(200, 220, 239, 0.5);\">▁!</span> <span title=\"0.508\" style=\"background-color: rgba(105, 172, 213, 0.5);\">▁—¡</span> <span title=\"0.245\" style=\"background-color: rgba(199, 219, 239, 0.5);\">te</span> <span title=\"0.174\" style=\"background-color: rgba(212, 228, 243, 0.5);\">▁quiero</span> <span title=\"0.376\" style=\"background-color: rgba(157, 201, 224, 0.5);\">▁!</span> <span title=\"1.000\" style=\"background-color: rgba(8, 48, 107, 0.5);\">▁—¡</span> <span title=\"0.224\" style=\"background-color: rgba(203, 222, 240, 0.5);\">do</span> <span title=\"0.379\" style=\"background-color: rgba(157, 201, 224, 0.5);\">▁the</span> <span title=\"0.490\" style=\"background-color: rgba(111, 176, 214, 0.5);\">▁har</span> <span title=\"0.418\" style=\"background-color: rgba(139, 192, 221, 0.5);\">lem</span> <span title=\"0.573\" style=\"background-color: rgba(83, 157, 204, 0.5);\">▁sha</span> <span title=\"0.556\" style=\"background-color: rgba(88, 161, 206, 0.5);\">ke</span> <span title=\"0.610\" style=\"background-color: rgba(70, 148, 199, 0.5);\">▁!</span></span>"
      ],
      "text/plain": [
       "<IPython.core.display.HTML object>"
      ]
     },
     "metadata": {},
     "output_type": "display_data"
    },
    {
     "name": "stdout",
     "output_type": "stream",
     "text": [
      "----------\n"
     ]
    },
    {
     "data": {
      "text/html": [
       "<span style=\"font-family: monospace;\"><span title=\"0.051\" style=\"background-color: rgba(237, 244, 251, 0.5);\">▁</span> <span title=\"0.096\" style=\"background-color: rgba(228, 238, 248, 0.5);\">xxbos</span> <span title=\"0.137\" style=\"background-color: rgba(219, 233, 246, 0.5);\">▁me</span> <span title=\"0.400\" style=\"background-color: rgba(147, 196, 222, 0.5);\">▁pidieron</span> <span title=\"0.110\" style=\"background-color: rgba(225, 236, 247, 0.5);\">▁una</span> <span title=\"0.208\" style=\"background-color: rgba(206, 224, 241, 0.5);\">▁palabra</span> <span title=\"0.081\" style=\"background-color: rgba(231, 240, 249, 0.5);\">▁que</span> <span title=\"0.109\" style=\"background-color: rgba(225, 237, 248, 0.5);\">▁tenga</span> <span title=\"0.193\" style=\"background-color: rgba(209, 226, 242, 0.5);\">▁cinco</span> <span title=\"0.113\" style=\"background-color: rgba(225, 236, 247, 0.5);\">▁&quot;</span> <span title=\"0.127\" style=\"background-color: rgba(221, 234, 246, 0.5);\">i</span> <span title=\"0.262\" style=\"background-color: rgba(195, 217, 238, 0.5);\">&quot;.</span> <span title=\"1.000\" style=\"background-color: rgba(8, 48, 107, 0.5);\">▁mmmm</span> <span title=\"0.177\" style=\"background-color: rgba(212, 228, 243, 0.5);\">▁es</span> <span title=\"0.276\" style=\"background-color: rgba(190, 215, 236, 0.5);\">▁dificil</span> <span title=\"0.303\" style=\"background-color: rgba(181, 211, 233, 0.5);\">isimo</span> <span title=\"0.073\" style=\"background-color: rgba(232, 241, 250, 0.5);\">.</span> <span title=\"0.047\" style=\"background-color: rgba(237, 244, 251, 0.5);\">▁</span> <span title=\"0.069\" style=\"background-color: rgba(233, 242, 250, 0.5);\">xxnl</span> <span title=\"0.241\" style=\"background-color: rgba(200, 220, 239, 0.5);\">▁#</span> <span title=\"0.620\" style=\"background-color: rgba(67, 147, 198, 0.5);\">▁frases</span></span>"
      ],
      "text/plain": [
       "<IPython.core.display.HTML object>"
      ]
     },
     "metadata": {},
     "output_type": "display_data"
    },
    {
     "name": "stdout",
     "output_type": "stream",
     "text": [
      "----------\n"
     ]
    },
    {
     "data": {
      "text/html": [
       "<span style=\"font-family: monospace;\"><span title=\"0.193\" style=\"background-color: rgba(209, 226, 242, 0.5);\">▁</span> <span title=\"0.429\" style=\"background-color: rgba(136, 190, 220, 0.5);\">xxbos</span> <span title=\"0.328\" style=\"background-color: rgba(173, 208, 230, 0.5);\">▁como</span> <span title=\"0.252\" style=\"background-color: rgba(197, 218, 238, 0.5);\">▁le</span> <span title=\"0.664\" style=\"background-color: rgba(55, 135, 192, 0.5);\">▁dice</span> <span title=\"0.506\" style=\"background-color: rgba(105, 172, 213, 0.5);\">▁un</span> <span title=\"0.840\" style=\"background-color: rgba(15, 90, 163, 0.5);\">▁mexicano</span> <span title=\"0.140\" style=\"background-color: rgba(219, 233, 246, 0.5);\">▁a</span> <span title=\"0.161\" style=\"background-color: rgba(215, 230, 244, 0.5);\">▁su</span> <span title=\"0.466\" style=\"background-color: rgba(120, 181, 216, 0.5);\">▁hijo</span> <span title=\"0.373\" style=\"background-color: rgba(158, 202, 225, 0.5);\">▁para</span> <span title=\"0.340\" style=\"background-color: rgba(168, 206, 228, 0.5);\">▁qe</span> <span title=\"0.393\" style=\"background-color: rgba(151, 198, 223, 0.5);\">▁lea</span> <span title=\"0.117\" style=\"background-color: rgba(224, 236, 247, 0.5);\">▁?</span> <span title=\"0.110\" style=\"background-color: rgba(225, 236, 247, 0.5);\">▁</span> <span title=\"0.185\" style=\"background-color: rgba(210, 227, 243, 0.5);\">xxnl</span> <span title=\"0.448\" style=\"background-color: rgba(128, 185, 218, 0.5);\">▁hi</span> <span title=\"1.000\" style=\"background-color: rgba(8, 48, 107, 0.5);\">jol</span> <span title=\"0.070\" style=\"background-color: rgba(233, 242, 250, 0.5);\">▁</span> <span title=\"0.050\" style=\"background-color: rgba(237, 244, 251, 0.5);\">xxrep</span> <span title=\"0.099\" style=\"background-color: rgba(227, 238, 248, 0.5);\">▁5</span> <span title=\"0.167\" style=\"background-color: rgba(214, 229, 244, 0.5);\">▁e</span> <span title=\"0.189\" style=\"background-color: rgba(209, 226, 242, 0.5);\">▁...</span> <span title=\"0.284\" style=\"background-color: rgba(187, 214, 235, 0.5);\">▁#</span> <span title=\"0.543\" style=\"background-color: rgba(93, 164, 208, 0.5);\">▁xd</span></span>"
      ],
      "text/plain": [
       "<IPython.core.display.HTML object>"
      ]
     },
     "metadata": {},
     "output_type": "display_data"
    },
    {
     "name": "stdout",
     "output_type": "stream",
     "text": [
      "----------\n"
     ]
    },
    {
     "data": {
      "text/html": [
       "<span style=\"font-family: monospace;\"><span title=\"0.126\" style=\"background-color: rgba(221, 234, 246, 0.5);\">▁</span> <span title=\"0.198\" style=\"background-color: rgba(208, 225, 242, 0.5);\">xxbos</span> <span title=\"0.326\" style=\"background-color: rgba(173, 208, 230, 0.5);\">▁-</span> <span title=\"1.000\" style=\"background-color: rgba(8, 48, 107, 0.5);\">profes</span> <span title=\"0.231\" style=\"background-color: rgba(201, 221, 240, 0.5);\">ora</span> <span title=\"0.131\" style=\"background-color: rgba(221, 234, 246, 0.5);\">▁,</span> <span title=\"0.172\" style=\"background-color: rgba(213, 229, 244, 0.5);\">▁¿</span> <span title=\"0.235\" style=\"background-color: rgba(200, 220, 239, 0.5);\">qué</span> <span title=\"0.292\" style=\"background-color: rgba(185, 213, 234, 0.5);\">▁significa</span> <span title=\"0.281\" style=\"background-color: rgba(188, 215, 235, 0.5);\">▁&quot;</span> <span title=\"0.397\" style=\"background-color: rgba(149, 197, 223, 0.5);\">s</span> <span title=\"0.767\" style=\"background-color: rgba(29, 108, 177, 0.5);\">tron</span> <span title=\"0.333\" style=\"background-color: rgba(171, 207, 229, 0.5);\">ger</span> <span title=\"0.149\" style=\"background-color: rgba(217, 231, 245, 0.5);\">&quot;</span> <span title=\"0.166\" style=\"background-color: rgba(214, 229, 244, 0.5);\">▁?</span> <span title=\"0.237\" style=\"background-color: rgba(200, 220, 239, 0.5);\">▁-</span> <span title=\"0.259\" style=\"background-color: rgba(195, 217, 238, 0.5);\">más</span> <span title=\"0.188\" style=\"background-color: rgba(209, 226, 242, 0.5);\">▁fuerte</span> <span title=\"0.177\" style=\"background-color: rgba(212, 228, 243, 0.5);\">▁-</span> <span title=\"0.230\" style=\"background-color: rgba(202, 221, 240, 0.5);\">▁¿</span> <span title=\"0.128\" style=\"background-color: rgba(221, 234, 246, 0.5);\">▁</span> <span title=\"0.161\" style=\"background-color: rgba(215, 230, 244, 0.5);\">xxup</span> <span title=\"0.167\" style=\"background-color: rgba(214, 229, 244, 0.5);\">▁qué</span> <span title=\"0.076\" style=\"background-color: rgba(232, 241, 250, 0.5);\">▁</span> <span title=\"0.199\" style=\"background-color: rgba(208, 225, 242, 0.5);\">xxup</span> <span title=\"0.419\" style=\"background-color: rgba(139, 192, 221, 0.5);\">▁significa</span> <span title=\"0.149\" style=\"background-color: rgba(217, 231, 245, 0.5);\">▁&quot;</span> <span title=\"0.058\" style=\"background-color: rgba(236, 243, 251, 0.5);\">▁</span> <span title=\"0.106\" style=\"background-color: rgba(225, 237, 248, 0.5);\">xxup</span> <span title=\"0.208\" style=\"background-color: rgba(206, 224, 241, 0.5);\">▁s</span> <span title=\"0.403\" style=\"background-color: rgba(146, 195, 222, 0.5);\">tron</span> <span title=\"0.107\" style=\"background-color: rgba(225, 237, 248, 0.5);\">ger</span> <span title=\"0.082\" style=\"background-color: rgba(231, 240, 249, 0.5);\">&quot;</span> <span title=\"0.243\" style=\"background-color: rgba(199, 219, 239, 0.5);\">▁?</span> <span title=\"0.670\" style=\"background-color: rgba(53, 133, 191, 0.5);\">▁-¡</span> <span title=\"0.220\" style=\"background-color: rgba(203, 222, 240, 0.5);\">te</span> <span title=\"0.355\" style=\"background-color: rgba(165, 205, 227, 0.5);\">▁dije</span> <span title=\"0.215\" style=\"background-color: rgba(204, 223, 241, 0.5);\">▁que</span> <span title=\"0.163\" style=\"background-color: rgba(215, 230, 244, 0.5);\">▁más</span> <span title=\"0.146\" style=\"background-color: rgba(218, 232, 245, 0.5);\">▁fuerte</span> <span title=\"0.114\" style=\"background-color: rgba(224, 236, 247, 0.5);\">▁!</span> <span title=\"0.220\" style=\"background-color: rgba(203, 222, 240, 0.5);\">▁-</span> <span title=\"0.472\" style=\"background-color: rgba(119, 180, 216, 0.5);\">vieja</span> <span title=\"0.637\" style=\"background-color: rgba(62, 142, 196, 0.5);\">▁sorda</span> <span title=\"0.206\" style=\"background-color: rgba(206, 224, 241, 0.5);\">▁,</span> <span title=\"0.332\" style=\"background-color: rgba(171, 207, 229, 0.5);\">▁¡</span> <span title=\"0.173\" style=\"background-color: rgba(212, 228, 243, 0.5);\">▁</span> <span title=\"0.346\" style=\"background-color: rgba(167, 206, 228, 0.5);\">xxup</span> <span title=\"0.496\" style=\"background-color: rgba(109, 175, 214, 0.5);\">▁s</span> <span title=\"0.565\" style=\"background-color: rgba(85, 159, 205, 0.5);\">tron</span> <span title=\"0.460\" style=\"background-color: rgba(123, 183, 217, 0.5);\">ger</span> <span title=\"0.651\" style=\"background-color: rgba(59, 139, 194, 0.5);\">▁!</span></span>"
      ],
      "text/plain": [
       "<IPython.core.display.HTML object>"
      ]
     },
     "metadata": {},
     "output_type": "display_data"
    }
   ],
   "source": [
    "from fastai.text.models.awd_lstm import TextClassificationInterpretation\n",
    "from matplotlib.pyplot import cm\n",
    "txt_ci = TextClassificationInterpretation.from_learner(learn)\n",
    "(_,idxs) = interp.top_losses(5)\n",
    "for idx in to_np(idxs):\n",
    "    print(\"-\"*10)\n",
    "    txt_ci.show_intrinsic_attention(df_train.iloc[idx,1],cmap=cm.Blues) #textify breaks?"
   ]
  },
  {
   "cell_type": "code",
   "execution_count": 42,
   "metadata": {},
   "outputs": [
    {
     "data": {
      "text/plain": [
       "864"
      ]
     },
     "execution_count": 42,
     "metadata": {},
     "output_type": "execute_result"
    }
   ],
   "source": [
    "733+131"
   ]
  },
  {
   "cell_type": "code",
   "execution_count": 51,
   "metadata": {},
   "outputs": [
    {
     "data": {
      "text/plain": [
       "0.875"
      ]
     },
     "execution_count": 51,
     "metadata": {},
     "output_type": "execute_result"
    }
   ],
   "source": [
    "to_np((preds.argmax(dim=1) == y).sum())/len(y)"
   ]
  },
  {
   "cell_type": "code",
   "execution_count": 60,
   "metadata": {},
   "outputs": [],
   "source": [
    "clas_pred = preds.argmax(dim=1)\n",
    "\n",
    "TP = ((clas_pred==1)*(preds.argmax(dim=1) == y)).sum()\n",
    "PRED_POS = (clas_pred==1).sum() #864\n",
    "prec = TP.item()/PRED_POS.item()"
   ]
  },
  {
   "cell_type": "code",
   "execution_count": 61,
   "metadata": {},
   "outputs": [],
   "source": [
    "COND_POS = (y==1).sum() #864\n",
    "rec = TP.item()/COND_POS.item()"
   ]
  },
  {
   "cell_type": "code",
   "execution_count": 62,
   "metadata": {},
   "outputs": [
    {
     "data": {
      "text/plain": [
       "0.8301245753114384"
      ]
     },
     "execution_count": 62,
     "metadata": {},
     "output_type": "execute_result"
    }
   ],
   "source": [
    "2* ((prec*rec)/(prec+rec))"
   ]
  },
  {
   "cell_type": "markdown",
   "metadata": {},
   "source": [
    "# Generate test file for submission"
   ]
  },
  {
   "cell_type": "code",
   "execution_count": 63,
   "metadata": {},
   "outputs": [
    {
     "data": {
      "text/html": [
       "<div>\n",
       "<style scoped>\n",
       "    .dataframe tbody tr th:only-of-type {\n",
       "        vertical-align: middle;\n",
       "    }\n",
       "\n",
       "    .dataframe tbody tr th {\n",
       "        vertical-align: top;\n",
       "    }\n",
       "\n",
       "    .dataframe thead th {\n",
       "        text-align: right;\n",
       "    }\n",
       "</style>\n",
       "<table border=\"1\" class=\"dataframe\">\n",
       "  <thead>\n",
       "    <tr style=\"text-align: right;\">\n",
       "      <th></th>\n",
       "      <th>id</th>\n",
       "      <th>text</th>\n",
       "      <th>is_humor</th>\n",
       "      <th>votes_no</th>\n",
       "      <th>votes_1</th>\n",
       "      <th>votes_2</th>\n",
       "      <th>votes_3</th>\n",
       "      <th>votes_4</th>\n",
       "      <th>votes_5</th>\n",
       "      <th>funniness_average</th>\n",
       "    </tr>\n",
       "  </thead>\n",
       "  <tbody>\n",
       "    <tr>\n",
       "      <th>0</th>\n",
       "      <td>965662671399018497</td>\n",
       "      <td>Me siento drogada con esas nuevas pastillas pa...</td>\n",
       "      <td>0</td>\n",
       "      <td>3</td>\n",
       "      <td>0</td>\n",
       "      <td>0</td>\n",
       "      <td>0</td>\n",
       "      <td>0</td>\n",
       "      <td>0</td>\n",
       "      <td>NaN</td>\n",
       "    </tr>\n",
       "    <tr>\n",
       "      <th>1</th>\n",
       "      <td>965755071894978560</td>\n",
       "      <td>Vato, no te imaginas lo mucho que te extraño.</td>\n",
       "      <td>0</td>\n",
       "      <td>3</td>\n",
       "      <td>0</td>\n",
       "      <td>0</td>\n",
       "      <td>0</td>\n",
       "      <td>0</td>\n",
       "      <td>0</td>\n",
       "      <td>NaN</td>\n",
       "    </tr>\n",
       "    <tr>\n",
       "      <th>2</th>\n",
       "      <td>67017953505320961</td>\n",
       "      <td>-¡Siñor le da permiso salir a jugar a ansina? ...</td>\n",
       "      <td>1</td>\n",
       "      <td>2</td>\n",
       "      <td>2</td>\n",
       "      <td>1</td>\n",
       "      <td>0</td>\n",
       "      <td>0</td>\n",
       "      <td>0</td>\n",
       "      <td>1.3333</td>\n",
       "    </tr>\n",
       "    <tr>\n",
       "      <th>3</th>\n",
       "      <td>244817127473823748</td>\n",
       "      <td>#TengoLaMania de que lo primero que hago al le...</td>\n",
       "      <td>0</td>\n",
       "      <td>3</td>\n",
       "      <td>0</td>\n",
       "      <td>0</td>\n",
       "      <td>0</td>\n",
       "      <td>0</td>\n",
       "      <td>0</td>\n",
       "      <td>NaN</td>\n",
       "    </tr>\n",
       "    <tr>\n",
       "      <th>4</th>\n",
       "      <td>923303856016158725</td>\n",
       "      <td>¿Por qué hay gente que dice \"el día de ayer\"? ...</td>\n",
       "      <td>1</td>\n",
       "      <td>1</td>\n",
       "      <td>2</td>\n",
       "      <td>0</td>\n",
       "      <td>0</td>\n",
       "      <td>1</td>\n",
       "      <td>0</td>\n",
       "      <td>2.0000</td>\n",
       "    </tr>\n",
       "  </tbody>\n",
       "</table>\n",
       "</div>"
      ],
      "text/plain": [
       "                   id                                               text  \\\n",
       "0  965662671399018497  Me siento drogada con esas nuevas pastillas pa...   \n",
       "1  965755071894978560      Vato, no te imaginas lo mucho que te extraño.   \n",
       "2   67017953505320961  -¡Siñor le da permiso salir a jugar a ansina? ...   \n",
       "3  244817127473823748  #TengoLaMania de que lo primero que hago al le...   \n",
       "4  923303856016158725  ¿Por qué hay gente que dice \"el día de ayer\"? ...   \n",
       "\n",
       "   is_humor  votes_no  votes_1  votes_2  votes_3  votes_4  votes_5  \\\n",
       "0         0         3        0        0        0        0        0   \n",
       "1         0         3        0        0        0        0        0   \n",
       "2         1         2        2        1        0        0        0   \n",
       "3         0         3        0        0        0        0        0   \n",
       "4         1         1        2        0        0        1        0   \n",
       "\n",
       "   funniness_average  \n",
       "0                NaN  \n",
       "1                NaN  \n",
       "2             1.3333  \n",
       "3                NaN  \n",
       "4             2.0000  "
      ]
     },
     "execution_count": 63,
     "metadata": {},
     "output_type": "execute_result"
    }
   ],
   "source": [
    "test_df = pd.read_csv('./data/haha_test_gold.csv')\n",
    "test_df.head()"
   ]
  },
  {
   "cell_type": "code",
   "execution_count": 64,
   "metadata": {},
   "outputs": [
    {
     "data": {
      "text/plain": [
       "(4000, 10)"
      ]
     },
     "execution_count": 64,
     "metadata": {},
     "output_type": "execute_result"
    }
   ],
   "source": [
    "test_df.shape"
   ]
  },
  {
   "cell_type": "code",
   "execution_count": 65,
   "metadata": {},
   "outputs": [
    {
     "name": "stdout",
     "output_type": "stream",
     "text": [
      "Default Rules:\n",
      " ['fixup', 'replace_rep', 'replace_wrep', 'deal_caps', 'spec_add_spaces', 'rm_useless_spaces', 'sub_nl'] \n",
      "\n",
      "\n"
     ]
    }
   ],
   "source": [
    "## apply the rules\n",
    "raw_text = test_df.loc[:,'text']\n",
    "\n",
    "print(\"Default Rules:\\n\",[x.__name__ for x in default_rules],\"\\n\\n\")\n",
    "for rule in default_rules:\n",
    "    raw_text = raw_text.apply(lambda x: rule(str(x)))    \n",
    "test_df['new_text'] =  raw_text #tokenizer adds xxbos"
   ]
  },
  {
   "cell_type": "code",
   "execution_count": 66,
   "metadata": {},
   "outputs": [],
   "source": [
    "data_tst = TextClasDataBunch.from_df(PATH, df_train, test_df,\n",
    "                               tokenizer=mycust_tok, vocab=sp_vocab,\n",
    "                               text_cols='new_text', label_cols='is_humor')"
   ]
  },
  {
   "cell_type": "code",
   "execution_count": 67,
   "metadata": {},
   "outputs": [],
   "source": [
    "learn.data = data_tst"
   ]
  },
  {
   "cell_type": "code",
   "execution_count": 68,
   "metadata": {},
   "outputs": [
    {
     "data": {
      "image/png": "[encoded data removed]",
      "text/plain": [
       "<Figure size 432x288 with 1 Axes>"
      ]
     },
     "metadata": {
      "needs_background": "light"
     },
     "output_type": "display_data"
    }
   ],
   "source": [
    "preds_t,y_t,losses_t = learn.get_preds(DatasetType.Valid,with_loss=True)\n",
    "interp_t = ClassificationInterpretation(learn, preds_t, y_t, losses_t)\n",
    "interp_t.plot_confusion_matrix()"
   ]
  },
  {
   "cell_type": "code",
   "execution_count": 74,
   "metadata": {},
   "outputs": [
    {
     "data": {
      "text/plain": [
       "0.869"
      ]
     },
     "execution_count": 74,
     "metadata": {},
     "output_type": "execute_result"
    }
   ],
   "source": [
    "to_np((preds_t.argmax(dim=1) == y_t).sum())/len(y_t)"
   ]
  },
  {
   "cell_type": "code",
   "execution_count": 77,
   "metadata": {},
   "outputs": [
    {
     "data": {
      "text/plain": [
       "'F1-score 0.82005'"
      ]
     },
     "execution_count": 77,
     "metadata": {},
     "output_type": "execute_result"
    }
   ],
   "source": [
    "clas_pred = preds_t.argmax(dim=1)\n",
    "\n",
    "TP = ((clas_pred==1)*(preds_t.argmax(dim=1) == y_t)).sum()\n",
    "PRED_POS = (clas_pred==1).sum() #864\n",
    "prec = TP.item()/PRED_POS.item()\n",
    "COND_POS = (y_t==1).sum() #864\n",
    "rec = TP.item()/COND_POS.item()\n",
    "f'F1-score {2* ((prec*rec)/(prec+rec)):2.5}'"
   ]
  },
  {
   "attachments": {
    "image.png": {
     "image/png": "[encoded data removed]"
    }
   },
   "cell_type": "markdown",
   "metadata": {},
   "source": [
    "![image.png](attachment:image.png)"
   ]
  },
  {
   "cell_type": "code",
   "execution_count": null,
   "metadata": {},
   "outputs": [],
   "source": []
  }
 ],
 "metadata": {
  "kernelspec": {
   "display_name": "Python 3.7 fasta.ai1 DEV",
   "language": "python",
   "name": "fastai1_dev"
  },
  "language_info": {
   "codemirror_mode": {
    "name": "ipython",
    "version": 3
   },
   "file_extension": ".py",
   "mimetype": "text/x-python",
   "name": "python",
   "nbconvert_exporter": "python",
   "pygments_lexer": "ipython3",
   "version": "3.7.3"
  },
  "varInspector": {
   "cols": {
    "lenName": 16,
    "lenType": 16,
    "lenVar": 40
   },
   "kernels_config": {
    "python": {
     "delete_cmd_postfix": "",
     "delete_cmd_prefix": "del ",
     "library": "var_list.py",
     "varRefreshCmd": "print(var_dic_list())"
    },
    "r": {
     "delete_cmd_postfix": ") ",
     "delete_cmd_prefix": "rm(",
     "library": "var_list.r",
     "varRefreshCmd": "cat(var_dic_list()) "
    }
   },
   "types_to_exclude": [
    "module",
    "function",
    "builtin_function_or_method",
    "instance",
    "_Feature"
   ],
   "window_display": false
  }
 },
 "nbformat": 4,
 "nbformat_minor": 2
}
