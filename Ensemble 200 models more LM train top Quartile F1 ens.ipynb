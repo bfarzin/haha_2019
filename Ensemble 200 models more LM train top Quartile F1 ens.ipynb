{
 "cells": [
  {
   "cell_type": "code",
   "execution_count": 1,
   "metadata": {},
   "outputs": [],
   "source": [
    "import glob\n",
    "\n",
    "from fastai.text import *\n",
    "# from fastai.callbacks import SaveModelCallback\n",
    "import sentencepiece as spm #https://github.com/google/sentencepiece\n",
    "\n",
    "from prod.sp_tok import *\n",
    "\n",
    "#torch.backends.cudnn.enabled=False #for quant.313v machine.  Not sure why..."
   ]
  },
  {
   "cell_type": "code",
   "execution_count": 2,
   "metadata": {},
   "outputs": [],
   "source": [
    "PATH = Path('./data/rnn')\n",
    "sp_model = './all_tweets_es_0606'\n",
    "\n",
    "defaults.text_spec_tok.append(NL) #add a New Line special char\n",
    "sp_vocab = Vocab( get_itos(sp_model) )\n",
    "mycust_tok = CustomTokenizer(SPTokenizer,sp_model,pre_rules=default_rules)"
   ]
  },
  {
   "cell_type": "code",
   "execution_count": 3,
   "metadata": {},
   "outputs": [],
   "source": [
    "test_df = pd.read_csv('./data/haha_2019_test.csv')\n",
    "test_df['is_humor'] = 0\n",
    "test_df['is_humor'].iloc[0] = 1 #create two classes in data.\n",
    "## apply the rules\n",
    "raw_text = test_df.loc[:,'text']\n",
    "\n",
    "print(\"Default Rules:\\n\",[x.__name__ for x in default_rules],\"\\n\\n\")\n",
    "for rule in default_rules:\n",
    "    raw_text = raw_text.apply(lambda x: rule(str(x)))    \n",
    "test_df['new_text'] =  raw_text #tokenizer adds xxbos\n",
    "\n",
    "data_tst = TextClasDataBunch.from_df(PATH, test_df, test_df,\n",
    "                               tokenizer=mycust_tok, vocab=sp_vocab,\n",
    "                               text_cols='new_text', label_cols='is_humor')"
   ]
  },
  {
   "cell_type": "code",
   "execution_count": 15,
   "metadata": {},
   "outputs": [
    {
     "data": {
      "text/plain": [
       "(103,\n",
       " ['haha_clas_fld0_284178.pth',\n",
       "  'haha_clas_fld0_860617.pth',\n",
       "  'haha_clas_fld0_763992.pth',\n",
       "  'haha_clas_fld2_478392.pth',\n",
       "  'haha_clas_fld2_301875.pth'])"
      ]
     },
     "execution_count": 15,
     "metadata": {},
     "output_type": "execute_result"
    }
   ],
   "source": [
    "model_wt_fnames = [x.split('/')[-1] for x in glob.glob( str(PATH/'models')+'/haha_clas_fld*.pth')]\n",
    "len(model_wt_fnames), model_wt_fnames[:5]"
   ]
  },
  {
   "cell_type": "code",
   "execution_count": 5,
   "metadata": {},
   "outputs": [],
   "source": [
    "!grep Clas ./prod/out_fwd_tmp100.txt > ./by_seed_fwd_perf"
   ]
  },
  {
   "cell_type": "code",
   "execution_count": 13,
   "metadata": {},
   "outputs": [
    {
     "data": {
      "text/html": [
       "<div>\n",
       "<style scoped>\n",
       "    .dataframe tbody tr th:only-of-type {\n",
       "        vertical-align: middle;\n",
       "    }\n",
       "\n",
       "    .dataframe tbody tr th {\n",
       "        vertical-align: top;\n",
       "    }\n",
       "\n",
       "    .dataframe thead th {\n",
       "        text-align: right;\n",
       "    }\n",
       "</style>\n",
       "<table border=\"1\" class=\"dataframe\">\n",
       "  <thead>\n",
       "    <tr style=\"text-align: right;\">\n",
       "      <th></th>\n",
       "      <th>id</th>\n",
       "      <th>acc</th>\n",
       "      <th>F1</th>\n",
       "      <th>rnd_seed</th>\n",
       "      <th>nfold</th>\n",
       "    </tr>\n",
       "  </thead>\n",
       "  <tbody>\n",
       "    <tr>\n",
       "      <th>0</th>\n",
       "      <td>Clas Fold: 0 RndSeed: 301875</td>\n",
       "      <td>0.857292</td>\n",
       "      <td>0.822003</td>\n",
       "      <td>301875</td>\n",
       "      <td>0</td>\n",
       "    </tr>\n",
       "    <tr>\n",
       "      <th>1</th>\n",
       "      <td>Clas Fold: 1 RndSeed: 301875</td>\n",
       "      <td>0.868125</td>\n",
       "      <td>0.830990</td>\n",
       "      <td>301875</td>\n",
       "      <td>1</td>\n",
       "    </tr>\n",
       "    <tr>\n",
       "      <th>2</th>\n",
       "      <td>Clas Fold: 2 RndSeed: 301875</td>\n",
       "      <td>0.870833</td>\n",
       "      <td>0.835182</td>\n",
       "      <td>301875</td>\n",
       "      <td>2</td>\n",
       "    </tr>\n",
       "    <tr>\n",
       "      <th>3</th>\n",
       "      <td>Clas Fold: 3 RndSeed: 301875</td>\n",
       "      <td>0.865417</td>\n",
       "      <td>0.824456</td>\n",
       "      <td>301875</td>\n",
       "      <td>3</td>\n",
       "    </tr>\n",
       "    <tr>\n",
       "      <th>4</th>\n",
       "      <td>Clas Fold: 4 RndSeed: 301875</td>\n",
       "      <td>0.853750</td>\n",
       "      <td>0.824412</td>\n",
       "      <td>301875</td>\n",
       "      <td>4</td>\n",
       "    </tr>\n",
       "  </tbody>\n",
       "</table>\n",
       "</div>"
      ],
      "text/plain": [
       "                             id       acc        F1 rnd_seed nfold\n",
       "0  Clas Fold: 0 RndSeed: 301875  0.857292  0.822003   301875     0\n",
       "1  Clas Fold: 1 RndSeed: 301875  0.868125  0.830990   301875     1\n",
       "2  Clas Fold: 2 RndSeed: 301875  0.870833  0.835182   301875     2\n",
       "3  Clas Fold: 3 RndSeed: 301875  0.865417  0.824456   301875     3\n",
       "4  Clas Fold: 4 RndSeed: 301875  0.853750  0.824412   301875     4"
      ]
     },
     "execution_count": 13,
     "metadata": {},
     "output_type": "execute_result"
    }
   ],
   "source": [
    "## be more picky about the models.  Take the top quarter in validation. Does better val -> better test?\n",
    "valid_perf = pd.read_csv('by_seed_fwd_perf', names = ['id','acc','F1'])\n",
    "valid_perf['rnd_seed'] = valid_perf.id.str.split(':',expand=True).iloc[:,-1].str.strip()\n",
    "valid_perf['nfold'] = valid_perf.id.str.split(' ',expand=True).iloc[:,2]\n",
    "valid_perf.head()"
   ]
  },
  {
   "cell_type": "code",
   "execution_count": 22,
   "metadata": {},
   "outputs": [
    {
     "data": {
      "text/plain": [
       "Text(0.5, 1.0, 'Freq of F1 over all Random Seeds (200) \\n Vert line = 75th p-tile')"
      ]
     },
     "execution_count": 22,
     "metadata": {},
     "output_type": "execute_result"
    },
    {
     "data": {
      "image/png": "[encoded data removed]",
      "text/plain": [
       "<Figure size 432x288 with 1 Axes>"
      ]
     },
     "metadata": {
      "needs_background": "light"
     },
     "output_type": "display_data"
    }
   ],
   "source": [
    "valid_perf.F1.hist(alpha=0.3)\n",
    "valid_perf.groupby('rnd_seed')['F1'].mean().hist(alpha=0.3)\n",
    "plt.axvline(x=valid_perf.F1.quantile(0.75))\n",
    "#valid_perf[valid_perf.F1 >= valid_perf.F1.quantile(0.75)].F1.hist(alpha=0.3)\n",
    "plt.title('Freq of F1 over all Random Seeds (200) \\n Vert line = 75th p-tile')"
   ]
  },
  {
   "cell_type": "code",
   "execution_count": 29,
   "metadata": {},
   "outputs": [],
   "source": [
    "seed_grouped_F1 = valid_perf.groupby('rnd_seed')['F1'].mean()\n",
    "selected_seeds = seed_grouped_F1[seed_grouped_F1>seed_grouped_F1.quantile(0.75)].index.values.tolist()\n",
    "seed_fold_pair = valid_perf[valid_perf.rnd_seed.isin(selected_seeds)].loc[:,['rnd_seed','nfold']].values\n",
    "model_wt_fnames = []\n",
    "for (seed,fold) in seed_fold_pair:\n",
    "    model_wt_fnames.append(f'haha_clas_fld{fold}_{seed}.pth')"
   ]
  },
  {
   "cell_type": "code",
   "execution_count": 44,
   "metadata": {},
   "outputs": [],
   "source": [
    "ensemble_preds = []\n",
    "for wt_fname in model_wt_fnames:\n",
    "    config = awd_lstm_clas_config.copy()\n",
    "    config['qrnn'] = True\n",
    "    config['n_hid'] = 2304\n",
    "    \n",
    "    learn = text_classifier_learner(data_tst, AWD_LSTM, drop_mult=0.7,pretrained=False,\n",
    "                               config=config)\n",
    "    learn = learn.load(wt_fname.split('.')[0]) #load weights\n",
    "    preds_t,y_t,losses_t = learn.get_preds(DatasetType.Valid,with_loss=True, ordered=True)\n",
    "    ensemble_preds.append(to_np(preds_t))"
   ]
  },
  {
   "cell_type": "code",
   "execution_count": 45,
   "metadata": {},
   "outputs": [
    {
     "data": {
      "text/plain": [
       "(25, 6000, 2)"
      ]
     },
     "execution_count": 45,
     "metadata": {},
     "output_type": "execute_result"
    }
   ],
   "source": [
    "np.array(ensemble_preds).shape"
   ]
  },
  {
   "cell_type": "code",
   "execution_count": 46,
   "metadata": {},
   "outputs": [
    {
     "data": {
      "text/plain": [
       "array([[[0.262402, 0.737598],\n",
       "        [0.94227 , 0.05773 ],\n",
       "        [0.088907, 0.911093],\n",
       "        [0.917108, 0.082892],\n",
       "        ...,\n",
       "        [0.429084, 0.570916],\n",
       "        [0.897227, 0.102773],\n",
       "        [0.433888, 0.566112],\n",
       "        [0.200117, 0.799883]],\n",
       "\n",
       "       [[0.131651, 0.868349],\n",
       "        [0.889234, 0.110765],\n",
       "        [0.061619, 0.938381],\n",
       "        [0.944622, 0.055378],\n",
       "        ...,\n",
       "        [0.401831, 0.598169],\n",
       "        [0.879978, 0.120022],\n",
       "        [0.272876, 0.727124],\n",
       "        [0.198984, 0.801016]],\n",
       "\n",
       "       [[0.225891, 0.774109],\n",
       "        [0.88268 , 0.11732 ],\n",
       "        [0.081785, 0.918215],\n",
       "        [0.914088, 0.085912],\n",
       "        ...,\n",
       "        [0.71429 , 0.28571 ],\n",
       "        [0.883511, 0.116489],\n",
       "        [0.419171, 0.580829],\n",
       "        [0.213234, 0.786766]],\n",
       "\n",
       "       [[0.319825, 0.680175],\n",
       "        [0.858617, 0.141383],\n",
       "        [0.098251, 0.901749],\n",
       "        [0.990269, 0.009731],\n",
       "        ...,\n",
       "        [0.557695, 0.442305],\n",
       "        [0.823432, 0.176568],\n",
       "        [0.638465, 0.361535],\n",
       "        [0.23046 , 0.76954 ]],\n",
       "\n",
       "       ...,\n",
       "\n",
       "       [[0.130499, 0.869501],\n",
       "        [0.809519, 0.190481],\n",
       "        [0.047624, 0.952376],\n",
       "        [0.916614, 0.083386],\n",
       "        ...,\n",
       "        [0.618537, 0.381463],\n",
       "        [0.937585, 0.062415],\n",
       "        [0.416311, 0.583689],\n",
       "        [0.17417 , 0.82583 ]],\n",
       "\n",
       "       [[0.220237, 0.779763],\n",
       "        [0.913989, 0.086011],\n",
       "        [0.07848 , 0.92152 ],\n",
       "        [0.945389, 0.054611],\n",
       "        ...,\n",
       "        [0.630965, 0.369035],\n",
       "        [0.930057, 0.069943],\n",
       "        [0.630333, 0.369667],\n",
       "        [0.1705  , 0.8295  ]],\n",
       "\n",
       "       [[0.138792, 0.861208],\n",
       "        [0.820507, 0.179493],\n",
       "        [0.058882, 0.941118],\n",
       "        [0.979182, 0.020818],\n",
       "        ...,\n",
       "        [0.50767 , 0.49233 ],\n",
       "        [0.779033, 0.220967],\n",
       "        [0.47385 , 0.52615 ],\n",
       "        [0.179078, 0.820922]],\n",
       "\n",
       "       [[0.233765, 0.766235],\n",
       "        [0.787368, 0.212632],\n",
       "        [0.042782, 0.957218],\n",
       "        [0.917724, 0.082276],\n",
       "        ...,\n",
       "        [0.512338, 0.487662],\n",
       "        [0.903876, 0.096124],\n",
       "        [0.293376, 0.706624],\n",
       "        [0.187073, 0.812927]]], dtype=float32)"
      ]
     },
     "execution_count": 46,
     "metadata": {},
     "output_type": "execute_result"
    }
   ],
   "source": [
    "np.array(ensemble_preds)"
   ]
  },
  {
   "cell_type": "code",
   "execution_count": 47,
   "metadata": {},
   "outputs": [
    {
     "data": {
      "text/plain": [
       "array([[0.200543, 0.799457],\n",
       "       [0.865051, 0.134949],\n",
       "       [0.073352, 0.926648],\n",
       "       [0.911476, 0.088524],\n",
       "       ...,\n",
       "       [0.507683, 0.492317],\n",
       "       [0.873265, 0.126735],\n",
       "       [0.425448, 0.574552],\n",
       "       [0.204346, 0.795654]], dtype=float32)"
      ]
     },
     "execution_count": 47,
     "metadata": {},
     "output_type": "execute_result"
    }
   ],
   "source": [
    "ens_mean = np.array(ensemble_preds).mean(axis=0)\n",
    "ens_mean"
   ]
  },
  {
   "cell_type": "code",
   "execution_count": 48,
   "metadata": {},
   "outputs": [],
   "source": [
    "out_df = test_df['id'].to_frame().copy()\n",
    "out_df['is_humor'] = ens_mean.argmax(axis=1)\n",
    "out_df['funniness_average'] = 3."
   ]
  },
  {
   "cell_type": "code",
   "execution_count": 49,
   "metadata": {},
   "outputs": [
    {
     "data": {
      "text/html": [
       "<div>\n",
       "<style scoped>\n",
       "    .dataframe tbody tr th:only-of-type {\n",
       "        vertical-align: middle;\n",
       "    }\n",
       "\n",
       "    .dataframe tbody tr th {\n",
       "        vertical-align: top;\n",
       "    }\n",
       "\n",
       "    .dataframe thead th {\n",
       "        text-align: right;\n",
       "    }\n",
       "</style>\n",
       "<table border=\"1\" class=\"dataframe\">\n",
       "  <thead>\n",
       "    <tr style=\"text-align: right;\">\n",
       "      <th></th>\n",
       "      <th>id</th>\n",
       "      <th>is_humor</th>\n",
       "      <th>funniness_average</th>\n",
       "    </tr>\n",
       "  </thead>\n",
       "  <tbody>\n",
       "    <tr>\n",
       "      <th>0</th>\n",
       "      <td>tweet1</td>\n",
       "      <td>1</td>\n",
       "      <td>3.0</td>\n",
       "    </tr>\n",
       "    <tr>\n",
       "      <th>1</th>\n",
       "      <td>tweet2</td>\n",
       "      <td>0</td>\n",
       "      <td>3.0</td>\n",
       "    </tr>\n",
       "    <tr>\n",
       "      <th>2</th>\n",
       "      <td>tweet3</td>\n",
       "      <td>1</td>\n",
       "      <td>3.0</td>\n",
       "    </tr>\n",
       "    <tr>\n",
       "      <th>3</th>\n",
       "      <td>tweet4</td>\n",
       "      <td>0</td>\n",
       "      <td>3.0</td>\n",
       "    </tr>\n",
       "    <tr>\n",
       "      <th>4</th>\n",
       "      <td>tweet5</td>\n",
       "      <td>0</td>\n",
       "      <td>3.0</td>\n",
       "    </tr>\n",
       "  </tbody>\n",
       "</table>\n",
       "</div>"
      ],
      "text/plain": [
       "       id  is_humor  funniness_average\n",
       "0  tweet1         1                3.0\n",
       "1  tweet2         0                3.0\n",
       "2  tweet3         1                3.0\n",
       "3  tweet4         0                3.0\n",
       "4  tweet5         0                3.0"
      ]
     },
     "execution_count": 49,
     "metadata": {},
     "output_type": "execute_result"
    }
   ],
   "source": [
    "out_df.head()"
   ]
  },
  {
   "cell_type": "code",
   "execution_count": 50,
   "metadata": {},
   "outputs": [],
   "source": [
    "out_df.to_csv('sub0608_finetune.csv',header=True,index=False)"
   ]
  },
  {
   "cell_type": "code",
   "execution_count": null,
   "metadata": {},
   "outputs": [],
   "source": []
  }
 ],
 "metadata": {
  "kernelspec": {
   "display_name": "Python 3",
   "language": "python",
   "name": "python3"
  },
  "language_info": {
   "codemirror_mode": {
    "name": "ipython",
    "version": 3
   },
   "file_extension": ".py",
   "mimetype": "text/x-python",
   "name": "python",
   "nbconvert_exporter": "python",
   "pygments_lexer": "ipython3",
   "version": "3.7.3"
  },
  "varInspector": {
   "cols": {
    "lenName": 16,
    "lenType": 16,
    "lenVar": 40
   },
   "kernels_config": {
    "python": {
     "delete_cmd_postfix": "",
     "delete_cmd_prefix": "del ",
     "library": "var_list.py",
     "varRefreshCmd": "print(var_dic_list())"
    },
    "r": {
     "delete_cmd_postfix": ") ",
     "delete_cmd_prefix": "rm(",
     "library": "var_list.r",
     "varRefreshCmd": "cat(var_dic_list()) "
    }
   },
   "types_to_exclude": [
    "module",
    "function",
    "builtin_function_or_method",
    "instance",
    "_Feature"
   ],
   "window_display": false
  }
 },
 "nbformat": 4,
 "nbformat_minor": 2
}
