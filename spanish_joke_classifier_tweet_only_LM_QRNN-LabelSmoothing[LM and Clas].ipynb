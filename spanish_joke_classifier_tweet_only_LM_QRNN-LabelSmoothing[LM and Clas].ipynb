{
 "cells": [
  {
   "cell_type": "markdown",
   "metadata": {},
   "source": [
    "Use the tweets for the updated vocab, test classifer on humor"
   ]
  },
  {
   "cell_type": "code",
   "execution_count": 1,
   "metadata": {},
   "outputs": [
    {
     "name": "stdout",
     "output_type": "stream",
     "text": [
      "/home/farzin/haha_2019\r\n"
     ]
    }
   ],
   "source": [
    "!pwd"
   ]
  },
  {
   "cell_type": "code",
   "execution_count": 2,
   "metadata": {},
   "outputs": [],
   "source": [
    "%reload_ext autoreload\n",
    "%autoreload 2"
   ]
  },
  {
   "cell_type": "code",
   "execution_count": 3,
   "metadata": {},
   "outputs": [],
   "source": [
    "import os\n",
    "os.environ[\"CUDA_VISIBLE_DEVICES\"]=\"1\""
   ]
  },
  {
   "cell_type": "code",
   "execution_count": 4,
   "metadata": {},
   "outputs": [],
   "source": [
    "from fastai.text import *\n",
    "from fastai.callbacks import SaveModelCallback\n",
    "import sentencepiece as spm #https://github.com/google/sentencepiece"
   ]
  },
  {
   "cell_type": "markdown",
   "metadata": {},
   "source": [
    "# Python code Examples (testing out tokenizer)"
   ]
  },
  {
   "cell_type": "markdown",
   "metadata": {},
   "source": [
    "## Data"
   ]
  },
  {
   "cell_type": "markdown",
   "metadata": {},
   "source": [
    "### Reading the texts"
   ]
  },
  {
   "cell_type": "code",
   "execution_count": 5,
   "metadata": {},
   "outputs": [],
   "source": [
    "PATH = Path('./data/rnn/')"
   ]
  },
  {
   "cell_type": "code",
   "execution_count": 6,
   "metadata": {},
   "outputs": [],
   "source": [
    "all_texts_df = pd.read_csv('./data/haha_2019_train.csv')"
   ]
  },
  {
   "cell_type": "code",
   "execution_count": 7,
   "metadata": {},
   "outputs": [
    {
     "data": {
      "text/html": [
       "<div>\n",
       "<style scoped>\n",
       "    .dataframe tbody tr th:only-of-type {\n",
       "        vertical-align: middle;\n",
       "    }\n",
       "\n",
       "    .dataframe tbody tr th {\n",
       "        vertical-align: top;\n",
       "    }\n",
       "\n",
       "    .dataframe thead th {\n",
       "        text-align: right;\n",
       "    }\n",
       "</style>\n",
       "<table border=\"1\" class=\"dataframe\">\n",
       "  <thead>\n",
       "    <tr style=\"text-align: right;\">\n",
       "      <th></th>\n",
       "      <th>id</th>\n",
       "      <th>text</th>\n",
       "      <th>is_humor</th>\n",
       "      <th>votes_no</th>\n",
       "      <th>votes_1</th>\n",
       "      <th>votes_2</th>\n",
       "      <th>votes_3</th>\n",
       "      <th>votes_4</th>\n",
       "      <th>votes_5</th>\n",
       "      <th>funniness_average</th>\n",
       "    </tr>\n",
       "  </thead>\n",
       "  <tbody>\n",
       "    <tr>\n",
       "      <th>0</th>\n",
       "      <td>705196579758583809</td>\n",
       "      <td>Niveles de retraso mental: \\r\\n\\r\\n— Bajo.\\r\\n...</td>\n",
       "      <td>1</td>\n",
       "      <td>1</td>\n",
       "      <td>2</td>\n",
       "      <td>2</td>\n",
       "      <td>0</td>\n",
       "      <td>0</td>\n",
       "      <td>0</td>\n",
       "      <td>1.5</td>\n",
       "    </tr>\n",
       "    <tr>\n",
       "      <th>1</th>\n",
       "      <td>678040651817213952</td>\n",
       "      <td>—Vamos Luke desenfunda tu sable, demuestra tu ...</td>\n",
       "      <td>1</td>\n",
       "      <td>1</td>\n",
       "      <td>3</td>\n",
       "      <td>0</td>\n",
       "      <td>1</td>\n",
       "      <td>0</td>\n",
       "      <td>0</td>\n",
       "      <td>1.5</td>\n",
       "    </tr>\n",
       "    <tr>\n",
       "      <th>2</th>\n",
       "      <td>546750892213829633</td>\n",
       "      <td>- ¿Te ofrezco algo?, ¿Agua, café, mi corazón, ...</td>\n",
       "      <td>1</td>\n",
       "      <td>0</td>\n",
       "      <td>2</td>\n",
       "      <td>1</td>\n",
       "      <td>0</td>\n",
       "      <td>1</td>\n",
       "      <td>1</td>\n",
       "      <td>2.6</td>\n",
       "    </tr>\n",
       "    <tr>\n",
       "      <th>3</th>\n",
       "      <td>965807211292364801</td>\n",
       "      <td>No se porqué me hago la cabeza deooos</td>\n",
       "      <td>0</td>\n",
       "      <td>3</td>\n",
       "      <td>0</td>\n",
       "      <td>0</td>\n",
       "      <td>0</td>\n",
       "      <td>0</td>\n",
       "      <td>0</td>\n",
       "      <td>NaN</td>\n",
       "    </tr>\n",
       "    <tr>\n",
       "      <th>4</th>\n",
       "      <td>638403841839484928</td>\n",
       "      <td>Quisiera saber que hago durante la siesta de l...</td>\n",
       "      <td>0</td>\n",
       "      <td>4</td>\n",
       "      <td>0</td>\n",
       "      <td>1</td>\n",
       "      <td>0</td>\n",
       "      <td>0</td>\n",
       "      <td>0</td>\n",
       "      <td>NaN</td>\n",
       "    </tr>\n",
       "  </tbody>\n",
       "</table>\n",
       "</div>"
      ],
      "text/plain": [
       "                   id                                               text  \\\n",
       "0  705196579758583809  Niveles de retraso mental: \\r\\n\\r\\n— Bajo.\\r\\n...   \n",
       "1  678040651817213952  —Vamos Luke desenfunda tu sable, demuestra tu ...   \n",
       "2  546750892213829633  - ¿Te ofrezco algo?, ¿Agua, café, mi corazón, ...   \n",
       "3  965807211292364801              No se porqué me hago la cabeza deooos   \n",
       "4  638403841839484928  Quisiera saber que hago durante la siesta de l...   \n",
       "\n",
       "   is_humor  votes_no  votes_1  votes_2  votes_3  votes_4  votes_5  \\\n",
       "0         1         1        2        2        0        0        0   \n",
       "1         1         1        3        0        1        0        0   \n",
       "2         1         0        2        1        0        1        1   \n",
       "3         0         3        0        0        0        0        0   \n",
       "4         0         4        0        1        0        0        0   \n",
       "\n",
       "   funniness_average  \n",
       "0                1.5  \n",
       "1                1.5  \n",
       "2                2.6  \n",
       "3                NaN  \n",
       "4                NaN  "
      ]
     },
     "execution_count": 7,
     "metadata": {},
     "output_type": "execute_result"
    }
   ],
   "source": [
    "all_texts_df.head()"
   ]
  },
  {
   "cell_type": "markdown",
   "metadata": {},
   "source": [
    "### apply pre-rules to text"
   ]
  },
  {
   "cell_type": "code",
   "execution_count": 8,
   "metadata": {},
   "outputs": [],
   "source": [
    "## New Line char for replacement in text\n",
    "NL = 'xxnl'\n",
    "defaults.text_spec_tok.append(NL) #add a New Line special char\n",
    "\n",
    "def sub_nl(t:str) -> str:\n",
    "    \"Replaces \\n by xxnl\"\n",
    "    return t.replace(\"\\r\\n\",\"\\n\").replace(\"\\n\",NL+\" \")\n",
    "\n",
    "# def sub_br(t:str) -> str:\n",
    "#     \"Replaces the <br /> by \\n\"\n",
    "#     re_br = re.compile(r'<\\s*br\\s*/?>', re.IGNORECASE)\n",
    "#     return re_br.sub(\"\\n\", t)\n",
    "\n",
    "def spec_add_spaces(t:str) -> str:\n",
    "    \"Add spaces between special characters\"\n",
    "    return re.sub(r'([/#?!@,])', r' \\1 ', t)\n",
    "\n",
    "def rm_useless_spaces(t:str) -> str:\n",
    "    \"Remove multiple spaces\"\n",
    "    return re.sub(' {2,}', ' ', t)\n",
    "\n",
    "def replace_rep(t:str) -> str:\n",
    "    \"Replace repetitions at the character level\"\n",
    "    def _replace_rep(m:Collection[str]) -> str:\n",
    "        c,cc = m.groups()\n",
    "        return f' {TK_REP} {len(cc)+1} {c} '\n",
    "    re_rep = re.compile(r'(\\S)(\\1{3,})')\n",
    "    return re_rep.sub(_replace_rep, t)\n",
    "    \n",
    "def replace_wrep(t:str) -> str:\n",
    "    \"Replace word repetitions\"\n",
    "    def _replace_wrep(m:Collection[str]) -> str:\n",
    "        c,cc = m.groups()\n",
    "        return f' {TK_WREP} {len(cc.split())+1} {c} '\n",
    "    re_wrep = re.compile(r'(\\b\\w+\\W+)(\\1{3,})')\n",
    "    return re_wrep.sub(_replace_wrep, t)\n",
    "\n",
    "def deal_caps(t:str) -> str:\n",
    "    \"Replace words in all caps\"\n",
    "    res = []\n",
    "    for s in re.findall(r'\\w+|\\W+', t):\n",
    "        res += ([f' {TK_UP} ',s.lower()] if (s.isupper() and (len(s)>2)) else [s.lower()])\n",
    "    return ''.join(res)\n",
    "\n",
    "def fixup(x:str) -> str:\n",
    "    \"List of replacements from html strings\"\n",
    "    re1 = re.compile(r'  +')\n",
    "    x = x.replace('#39;', \"'\").replace('amp;', '&').replace('#146;', \"'\").replace(\n",
    "        'nbsp;', ' ').replace('#36;', '$').replace('\\\\n', \"\\n\").replace('quot;', \"'\").replace(\n",
    "        '<br />', \"\\n\").replace('\\\\\"', '\"').replace('<unk>',UNK).replace(' @.@ ','.').replace(\n",
    "        ' @-@ ','-').replace('\\\\', ' \\\\ ')\n",
    "    return re1.sub(' ', html.unescape(x))\n",
    "\n",
    "default_rules = [fixup, replace_rep, replace_wrep, deal_caps, spec_add_spaces, \n",
    "                 rm_useless_spaces, sub_nl]"
   ]
  },
  {
   "cell_type": "code",
   "execution_count": 9,
   "metadata": {},
   "outputs": [
    {
     "name": "stdout",
     "output_type": "stream",
     "text": [
      "Default Rules:\n",
      " ['fixup', 'replace_rep', 'replace_wrep', 'deal_caps', 'spec_add_spaces', 'rm_useless_spaces', 'sub_nl'] \n",
      "\n",
      "\n",
      "<function fixup at 0x7f0afed9c158>\n",
      "<function replace_rep at 0x7f0afede6ea0>\n",
      "<function replace_wrep at 0x7f0afed9c048>\n",
      "<function deal_caps at 0x7f0afed9c0d0>\n",
      "<function spec_add_spaces at 0x7f0afede6c80>\n",
      "<function rm_useless_spaces at 0x7f0afede6b70>\n",
      "<function sub_nl at 0x7f0afede6f28>\n"
     ]
    }
   ],
   "source": [
    "## apply the rules\n",
    "raw_text = all_texts_df.loc[:,'text']\n",
    "\n",
    "print(\"Default Rules:\\n\",[x.__name__ for x in default_rules],\"\\n\\n\")\n",
    "\n",
    "for rule in default_rules:\n",
    "    print(rule)\n",
    "    raw_text = raw_text.apply(lambda x: rule(str(x)))\n",
    "    \n",
    "all_texts_df['new_text'] =  raw_text #tokenizer adds xxbos"
   ]
  },
  {
   "cell_type": "code",
   "execution_count": 10,
   "metadata": {},
   "outputs": [
    {
     "data": {
      "text/plain": [
       "0    niveles de retraso mental: xxnl xxnl — bajo.xx...\n",
       "1    —vamos luke desenfunda tu sable , demuestra tu...\n",
       "2    - ¿te ofrezco algo ? , ¿agua , café , mi coraz...\n",
       "3                no se porqué me hago la cabeza deooos\n",
       "4    quisiera saber que hago durante la siesta de l...\n",
       "Name: new_text, dtype: object"
      ]
     },
     "execution_count": 10,
     "metadata": {},
     "output_type": "execute_result"
    }
   ],
   "source": [
    "all_texts_df['new_text'].head()"
   ]
  },
  {
   "cell_type": "code",
   "execution_count": 11,
   "metadata": {},
   "outputs": [
    {
     "data": {
      "text/plain": [
       "(24000, 11)"
      ]
     },
     "execution_count": 11,
     "metadata": {},
     "output_type": "execute_result"
    }
   ],
   "source": [
    "all_texts_df.shape"
   ]
  },
  {
   "cell_type": "markdown",
   "metadata": {},
   "source": [
    "### Clean up the imbalanced data to balance"
   ]
  },
  {
   "cell_type": "code",
   "execution_count": 12,
   "metadata": {},
   "outputs": [
    {
     "name": "stdout",
     "output_type": "stream",
     "text": [
      "Number of positive samples: 9253\n",
      "Number of negative samples: 14747\n",
      "Total samples: 24000\n"
     ]
    }
   ],
   "source": [
    "print('Number of positive samples:', (all_texts_df.is_humor == 1).sum())\n",
    "print('Number of negative samples:',  (all_texts_df.is_humor == 0).sum())\n",
    "print('Total samples:', len(all_texts_df))"
   ]
  },
  {
   "cell_type": "code",
   "execution_count": 13,
   "metadata": {},
   "outputs": [],
   "source": [
    "rnd_seed = 20190313\n",
    "np.random.seed(rnd_seed)\n",
    "\n",
    "idx = np.random.permutation(len(all_texts_df))\n",
    "test_cut = int(0.15 * len(idx))\n",
    "valid_cut = int(0.15 * len(idx-test_cut))\n",
    "\n",
    "df_train_all = all_texts_df.iloc[idx[:-(valid_cut+test_cut)],:]\n",
    "df_valid     = all_texts_df.iloc[idx[-(valid_cut+test_cut):-test_cut],:]\n",
    "df_test      = all_texts_df.iloc[idx[-test_cut:],:]"
   ]
  },
  {
   "cell_type": "code",
   "execution_count": 14,
   "metadata": {},
   "outputs": [
    {
     "name": "stdout",
     "output_type": "stream",
     "text": [
      "Test prevalence(n = 3600): 0.3938888888888889\n",
      "Valid prevalence(n = 3600): 0.3852777777777778\n",
      "Train all prevalence(n = 16800): 0.3838095238095238\n",
      "all samples (n = 24000)\n"
     ]
    }
   ],
   "source": [
    "print('Test prevalence(n = %d):'%len(df_test),df_test.is_humor.sum()/ len(df_test))\n",
    "print('Valid prevalence(n = %d):'%len(df_valid),df_valid.is_humor.sum()/ len(df_valid))\n",
    "print('Train all prevalence(n = %d):'%len(df_train_all), df_train_all.is_humor.sum()/ len(df_train_all))\n",
    "print('all samples (n = %d)'%len(all_texts_df))\n",
    "assert len(all_texts_df) == (len(df_test)+len(df_valid)+len(df_train_all)),'math didnt work'"
   ]
  },
  {
   "cell_type": "code",
   "execution_count": 15,
   "metadata": {},
   "outputs": [
    {
     "data": {
      "text/plain": [
       "((6448, 11), (10352, 11))"
      ]
     },
     "execution_count": 15,
     "metadata": {},
     "output_type": "execute_result"
    }
   ],
   "source": [
    "## oversample the less-frequent occuring cases\n",
    "# split the training data into positive and negative\n",
    "rows_pos = df_train_all.is_humor == 1\n",
    "df_train_pos = df_train_all.loc[rows_pos]\n",
    "df_train_neg = df_train_all.loc[~rows_pos]\n",
    "df_train_pos.shape,df_train_neg.shape"
   ]
  },
  {
   "cell_type": "code",
   "execution_count": 16,
   "metadata": {},
   "outputs": [
    {
     "name": "stdout",
     "output_type": "stream",
     "text": [
      "Train prevalence (n = 20704): 0.5\n"
     ]
    }
   ],
   "source": [
    "df_resample_pos = df_train_pos.sample(n=len(df_train_neg),replace=True,\n",
    "                                      axis=0,random_state=rnd_seed).reset_index(drop=True)\n",
    "df_train = pd.concat([df_resample_pos,df_train_neg],axis=0) #randomized again in DataBunch?\n",
    "print('Train prevalence (n = %d):'%len(df_train), df_train.is_humor.sum()/ len(df_train))"
   ]
  },
  {
   "cell_type": "markdown",
   "metadata": {},
   "source": [
    "### sp tokenizer from training"
   ]
  },
  {
   "cell_type": "code",
   "execution_count": 17,
   "metadata": {},
   "outputs": [],
   "source": [
    "model_prefix = './all_tweets_es_0509'"
   ]
  },
  {
   "cell_type": "code",
   "execution_count": 18,
   "metadata": {},
   "outputs": [],
   "source": [
    "## itos from m.vocab file: just read directly and populate the dictionary\n",
    "itos = [] #{}\n",
    "with open(f'{model_prefix}.vocab','r') as f:\n",
    "    for line_num,line in enumerate(f):\n",
    "#         itos[line_num] = line.split(\"\\t\")[0]\n",
    "        itos.append(line.split(\"\\t\")[0])\n",
    "        \n",
    "class SPTokenizer(BaseTokenizer):\n",
    "    \"Wrapper around a SentncePiece tokenizer to make it a `BaseTokenizer`.\"\n",
    "    def __init__(self, model_prefix:str):\n",
    "        self.tok = spm.SentencePieceProcessor()\n",
    "        self.tok.load(f'{model_prefix}.model')\n",
    "\n",
    "    def tokenizer(self, t:str) -> List[str]:\n",
    "#         return self.tok.EncodeAsIds(t)  ## tokenize + numericalize. We have them broken into two parts,just return tokens\n",
    "        return self.tok.EncodeAsPieces(t)\n",
    "        \n",
    "class CustomTokenizer():\n",
    "    '''Wrapper for SentencePiece toeknizer to fit into Fast.ai V1'''\n",
    "    def __init__(self,tok_func:Callable,model_prefix:str, pre_rules:ListRules=None):\n",
    "        self.tok_func,self.model_prefix = tok_func,model_prefix\n",
    "        self.pre_rules  = ifnone(pre_rules,  defaults.text_pre_rules )\n",
    "        \n",
    "    def __repr__(self) -> str:\n",
    "        res = f'Tokenizer {self.tok_func.__name__} using `{self.model_prefix}` model with the following rules:\\n'\n",
    "        for rule in self.pre_rules: res += f' - {rule.__name__}\\n'\n",
    "        return res        \n",
    "\n",
    "    def process_text(self, t:str,tok:BaseTokenizer) -> List[str]:\n",
    "        \"Processe one text `t` with tokenizer `tok`.\"\n",
    "        for rule in self.pre_rules: t = rule(t)  \n",
    "        toks = tok.tokenizer(t)\n",
    "    \n",
    "        return toks \n",
    "    \n",
    "    def _process_all_1(self,texts:Collection[str]) -> List[List[str]]:\n",
    "        'Process a list of `texts` in one process'\n",
    "        tok = self.tok_func(self.model_prefix)\n",
    "        return [self.process_text(t,tok) for t in texts]\n",
    "                                                                     \n",
    "    def process_all(self, texts:Collection[str]) -> List[List[str]]: \n",
    "        \"Process a list of `texts`.\"                                 \n",
    "        return self._process_all_1(texts)"
   ]
  },
  {
   "cell_type": "code",
   "execution_count": 19,
   "metadata": {},
   "outputs": [
    {
     "data": {
      "text/plain": [
       "['→', '😫', '🤨', '😲', '🏟', '📖', '🎸', '🏿', '😮', '🎬']"
      ]
     },
     "execution_count": 19,
     "metadata": {},
     "output_type": "execute_result"
    }
   ],
   "source": [
    "itos[-10:]"
   ]
  },
  {
   "cell_type": "code",
   "execution_count": 20,
   "metadata": {},
   "outputs": [],
   "source": [
    "mycust_tok = CustomTokenizer(SPTokenizer,model_prefix,pre_rules=default_rules)\n",
    "sp_vocab = Vocab(itos)"
   ]
  },
  {
   "cell_type": "code",
   "execution_count": 21,
   "metadata": {},
   "outputs": [],
   "source": [
    "data = TextClasDataBunch.from_df(PATH,df_train,df_valid,df_test,\n",
    "                               tokenizer=mycust_tok, vocab=sp_vocab,\n",
    "                               text_cols='new_text', label_cols='is_humor')"
   ]
  },
  {
   "cell_type": "code",
   "execution_count": 22,
   "metadata": {},
   "outputs": [
    {
     "data": {
      "text/html": [
       "<table border=\"1\" class=\"dataframe\">\n",
       "  <thead>\n",
       "    <tr style=\"text-align: right;\">\n",
       "      <th>text</th>\n",
       "      <th>target</th>\n",
       "    </tr>\n",
       "  </thead>\n",
       "  <tbody>\n",
       "    <tr>\n",
       "      <td>▁ xxbos ▁❤ .- ~ * ( ▁? ▁el ▁di vo 00 ▁d 3 ▁tw 1 tter ▁! ▁! ▁! ▁? ▁? ▁~ k 3 ▁di 4 vl 0 zz ▁ki 3 r 3 z ▁k 3 ▁p 4 rt 3 ▁d 3 ▁no 00 ▁n 0 ▁3 nt 13 nd 3 z ▁b 3 the ▁k 0 n ▁ki 3 n ▁t 3 ▁d 3 ▁l 4 ▁g 4</td>\n",
       "      <td>0</td>\n",
       "    </tr>\n",
       "    <tr>\n",
       "      <td>▁ xxbos ▁❤ ️ -( el ▁di vo 00 ▁d 3 ▁tw 1 tter ▁! ▁! ▁? ▁i 0 ▁zo i ▁tu ▁ma 3 zt lo ▁? ▁ki 3 n ▁z up 0 ▁3 nz 3 ñ 4 l th 3 ▁? ▁d 3 ▁tu ▁k cuer p 0 ▁io o ▁k 0 noz ko ▁az t 4 ▁la ▁maz ▁in ty ma ▁p 4 r te ▁? ▁) ~</td>\n",
       "      <td>0</td>\n",
       "    </tr>\n",
       "    <tr>\n",
       "      <td>▁ xxbos ▁—¡ idio ta ▁! ▁ xxnl ▁—¡ h ist érica ▁! ▁ xxnl ▁— que ▁tarado . xxnl ▁— tar ada ▁tú . xxnl ▁— te ▁odio . xxnl ▁— yo ▁también . xxnl ▁— ▁¡ ▁ xxup ▁jode te ▁! ▁ xxnl ▁— no ▁me ▁hables . xxnl ▁—¡ ok ▁! ▁ xxnl ▁—¡ ok ▁! ▁ xxnl ▁— te ▁amo . xxnl ▁— yo ▁más .</td>\n",
       "      <td>0</td>\n",
       "    </tr>\n",
       "    <tr>\n",
       "      <td>▁ xxbos ▁¡ ya ▁llegó ▁santa ▁! ▁ xxnl ▁ xxunk _ xxunk xxnl ▁( ・ xxunk ・ ) xxnl ▁_ | ▁ xxunk / ( ___ ▁ xxnl ▁/ ▁l ▁( __ __ / xxnl ▁ xxnl ▁ah ▁no ▁, ▁es ▁mi ▁papá ▁bien ▁pedo . xxnl ▁ xxnl ▁&lt; xxunk / xxunk - xxunk ___ xxnl ▁/ &lt; _ ▁/ ▁ xxrep ▁4 ▁_ ▁/ ”</td>\n",
       "      <td>1</td>\n",
       "    </tr>\n",
       "    <tr>\n",
       "      <td>▁ xxbos ▁¡ ya ▁llegó ▁santa ▁! ▁ xxnl ▁ xxunk _ xxunk xxnl ▁( ・ xxunk ・ ) xxnl ▁_ | ▁ xxunk / ( ___ ▁ xxnl ▁/ ▁l ▁( __ __ / xxnl ▁ xxnl ▁ah ▁no ▁, ▁es ▁mi ▁papá ▁bien ▁pedo . xxnl ▁ xxnl ▁&lt; xxunk / xxunk - xxunk ___ xxnl ▁/ &lt; _ ▁/ ▁ xxrep ▁4 ▁_ ▁/ ”</td>\n",
       "      <td>1</td>\n",
       "    </tr>\n",
       "    <tr>\n",
       "      <td>▁ xxbos ▁( ▁ xxup ▁o _ o ) ▁( xxunk _ ▁ xxunk ) ▁( ▁ xxup ▁o _ o ) ▁( xxunk _ ▁ xxunk ) ▁( ▁ xxup ▁o _ o ) ▁( xxunk _ ▁ xxunk ) ▁( ▁ xxup ▁o _ o ) ▁( xxunk _ ▁ xxunk ) ▁( xxunk _ ▁ xxunk ). ▁yo ▁con ▁el ▁móvil ▁en ▁clase .</td>\n",
       "      <td>1</td>\n",
       "    </tr>\n",
       "    <tr>\n",
       "      <td>▁ xxbos ▁— cuel ga ▁tú . xxnl ▁— no ▁, ▁cuelga ▁tú . ▁ xxnl ▁— no ▁, ▁tú . xxnl ▁— que ▁t ... xxnl ▁—¡ ▁ xxup ▁pinche ▁ xxup ▁tonta ▁me ▁ xxup ▁colgó ▁! ▁ xxnl ▁—¡ te ▁ xxup ▁escuché ▁ xxup ▁pendejo ▁! ▁ xxnl ▁— ▁ xxup ▁jajaj á ▁¡ ay ▁amor ▁! ▁es ▁broma ▁, ▁te ▁amo .</td>\n",
       "      <td>1</td>\n",
       "    </tr>\n",
       "    <tr>\n",
       "      <td>▁ xxbos ▁ xxup ▁tengo ▁un ▁ xxup ▁gran ▁ xxup ▁anuncio ▁, ▁ xxup ▁una ▁ xxup ▁noticia ▁ xxup ▁que ▁ xxup ▁cambiará ▁la ▁ xxup ▁historia ▁de ▁ xxup ▁twitter ▁, ▁ xxup ▁que ▁ xxup ▁devolver á ▁el ▁ xxup ▁sentido ▁a ▁ xxup ▁nuestra ▁ xxup ▁vida . xxnl ▁ xxnl ▁ xxup ▁pendientes ▁ xxup ▁hoy ▁en ▁la ▁ xxup ▁noche</td>\n",
       "      <td>0</td>\n",
       "    </tr>\n",
       "    <tr>\n",
       "      <td>▁ xxbos ▁— mamá ▁, ▁¿ puedo ▁salir ▁? ▁— no . ▁—¿ me ▁das ▁un ▁calce tín ▁? ▁— ok ▁, ▁toma . ▁— el ▁ xxup ▁amo ▁le ▁ha ▁ xxup ▁dado ▁a ▁ xxup ▁dob by ▁un ▁ xxup ▁calce tín ... ▁¡ ▁ xxup ▁dob by ▁es ▁ xxup ▁libre ▁! ▁# ▁ xxup ▁jajaja ▁# ▁ xxup ▁hp quo tes ▁# ▁xd</td>\n",
       "      <td>1</td>\n",
       "    </tr>\n",
       "    <tr>\n",
       "      <td>▁ xxbos ▁—¿ maestro ▁entonces ▁ya ▁aprobé ▁? ▁ xxnl ▁ xxnl ▁( • ▁- ▁• ) ▁ xxnl ▁ xxunk ▁ xxunk ▁ xxunk ▁__ ( • ▁- ▁• ) ▁ xxnl ▁_ xxunk ▁_ xxunk ▁ xxunk ▁ xxunk ▁ xxnl ▁ xxnl ▁—¡ hija ▁, ▁yo ▁soy ▁el ▁conser je ▁! ▁ xxnl ▁ xxnl ▁—¡ ay ▁, ▁por ▁no ▁poner ▁atención ▁!</td>\n",
       "      <td>1</td>\n",
       "    </tr>\n",
       "  </tbody>\n",
       "</table>"
      ],
      "text/plain": [
       "<IPython.core.display.HTML object>"
      ]
     },
     "metadata": {},
     "output_type": "display_data"
    }
   ],
   "source": [
    "data.show_batch(10)  #less xxunk, but still a fair amount..."
   ]
  },
  {
   "cell_type": "markdown",
   "metadata": {},
   "source": [
    "### Check `xxunk` fraction on humor data"
   ]
  },
  {
   "cell_type": "code",
   "execution_count": 23,
   "metadata": {},
   "outputs": [
    {
     "data": {
      "text/plain": [
       "((498,), (20704,))"
      ]
     },
     "execution_count": 23,
     "metadata": {},
     "output_type": "execute_result"
    }
   ],
   "source": [
    "pct_xxunk = pd.Series([sum(y==0)/len(y) for y in [x.data for x in data.train_dl.x]])\n",
    "pct_xxunk[pct_xxunk>0].shape, pct_xxunk.shape"
   ]
  },
  {
   "cell_type": "code",
   "execution_count": 24,
   "metadata": {},
   "outputs": [
    {
     "data": {
      "text/plain": [
       "0.024053323029366306"
      ]
     },
     "execution_count": 24,
     "metadata": {},
     "output_type": "execute_result"
    }
   ],
   "source": [
    "498/20704."
   ]
  },
  {
   "cell_type": "code",
   "execution_count": 25,
   "metadata": {},
   "outputs": [
    {
     "data": {
      "image/png": "[encoded data removed]",
      "text/plain": [
       "<Figure size 432x288 with 1 Axes>"
      ]
     },
     "metadata": {
      "needs_background": "light"
     },
     "output_type": "display_data"
    }
   ],
   "source": [
    "pd.Series([sum(y==0)/len(y) for y in [x.data for x in data.train_dl.x]]).plot()\n",
    "_ = plt.title('Pct UNK in each tweet')"
   ]
  },
  {
   "cell_type": "markdown",
   "metadata": {},
   "source": [
    "### build and train model"
   ]
  },
  {
   "cell_type": "code",
   "execution_count": 26,
   "metadata": {},
   "outputs": [],
   "source": [
    "config = awd_lstm_clas_config.copy()\n",
    "config['qrnn'] = True\n",
    "config['n_hid'] = 2304\n",
    "\n",
    "learn = text_classifier_learner(data, AWD_LSTM, drop_mult=0.5,pretrained=False,\n",
    "                               config=config)\n",
    "learn.load_encoder('twitter_es_enc_QRNN_0517_labelsmooth')"
   ]
  },
  {
   "cell_type": "code",
   "execution_count": 27,
   "metadata": {},
   "outputs": [
    {
     "data": {
      "text/plain": [
       "FlattenedLoss of CrossEntropyLoss()"
      ]
     },
     "execution_count": 27,
     "metadata": {},
     "output_type": "execute_result"
    }
   ],
   "source": [
    "learn.loss_func"
   ]
  },
  {
   "cell_type": "code",
   "execution_count": 28,
   "metadata": {},
   "outputs": [],
   "source": [
    "from fastai.layers import LabelSmoothingCrossEntropy\n",
    "learn.loss_func = FlattenedLoss(LabelSmoothingCrossEntropy)"
   ]
  },
  {
   "cell_type": "code",
   "execution_count": 29,
   "metadata": {},
   "outputs": [
    {
     "data": {
      "text/html": [],
      "text/plain": [
       "<IPython.core.display.HTML object>"
      ]
     },
     "metadata": {},
     "output_type": "display_data"
    },
    {
     "name": "stdout",
     "output_type": "stream",
     "text": [
      "LR Finder is complete, type {learner_name}.recorder.plot() to see the graph.\n"
     ]
    }
   ],
   "source": [
    "lr_find(learn)"
   ]
  },
  {
   "cell_type": "code",
   "execution_count": 30,
   "metadata": {},
   "outputs": [
    {
     "data": {
      "image/png": "[encoded data removed]",
      "text/plain": [
       "<Figure size 432x288 with 1 Axes>"
      ]
     },
     "metadata": {
      "needs_background": "light"
     },
     "output_type": "display_data"
    }
   ],
   "source": [
    "learn.recorder.plot(skip_end=10)"
   ]
  },
  {
   "cell_type": "code",
   "execution_count": 31,
   "metadata": {},
   "outputs": [
    {
     "data": {
      "text/html": [
       "Total time: 02:44 <p><table style='width:375px; margin-bottom:10px'>\n",
       "  <tr>\n",
       "    <th>epoch</th>\n",
       "    <th>train_loss</th>\n",
       "    <th>valid_loss</th>\n",
       "    <th>accuracy</th>\n",
       "    <th>time</th>\n",
       "  </tr>\n",
       "  <tr>\n",
       "    <th>0</th>\n",
       "    <th>0.530334</th>\n",
       "    <th>0.492437</th>\n",
       "    <th>0.788889</th>\n",
       "    <th>00:08</th>\n",
       "  </tr>\n",
       "  <tr>\n",
       "    <th>1</th>\n",
       "    <th>0.583671</th>\n",
       "    <th>0.505286</th>\n",
       "    <th>0.785278</th>\n",
       "    <th>00:07</th>\n",
       "  </tr>\n",
       "  <tr>\n",
       "    <th>2</th>\n",
       "    <th>0.549991</th>\n",
       "    <th>0.455687</th>\n",
       "    <th>0.824444</th>\n",
       "    <th>00:07</th>\n",
       "  </tr>\n",
       "  <tr>\n",
       "    <th>3</th>\n",
       "    <th>0.552571</th>\n",
       "    <th>0.452806</th>\n",
       "    <th>0.828889</th>\n",
       "    <th>00:07</th>\n",
       "  </tr>\n",
       "  <tr>\n",
       "    <th>4</th>\n",
       "    <th>0.514337</th>\n",
       "    <th>0.474386</th>\n",
       "    <th>0.808333</th>\n",
       "    <th>00:08</th>\n",
       "  </tr>\n",
       "  <tr>\n",
       "    <th>5</th>\n",
       "    <th>0.545819</th>\n",
       "    <th>0.454471</th>\n",
       "    <th>0.825000</th>\n",
       "    <th>00:07</th>\n",
       "  </tr>\n",
       "  <tr>\n",
       "    <th>6</th>\n",
       "    <th>0.549514</th>\n",
       "    <th>0.450177</th>\n",
       "    <th>0.834167</th>\n",
       "    <th>00:07</th>\n",
       "  </tr>\n",
       "  <tr>\n",
       "    <th>7</th>\n",
       "    <th>0.537598</th>\n",
       "    <th>0.475936</th>\n",
       "    <th>0.806667</th>\n",
       "    <th>00:08</th>\n",
       "  </tr>\n",
       "  <tr>\n",
       "    <th>8</th>\n",
       "    <th>0.564474</th>\n",
       "    <th>0.476038</th>\n",
       "    <th>0.800556</th>\n",
       "    <th>00:07</th>\n",
       "  </tr>\n",
       "  <tr>\n",
       "    <th>9</th>\n",
       "    <th>0.521880</th>\n",
       "    <th>0.461547</th>\n",
       "    <th>0.828611</th>\n",
       "    <th>00:08</th>\n",
       "  </tr>\n",
       "  <tr>\n",
       "    <th>10</th>\n",
       "    <th>0.507639</th>\n",
       "    <th>0.455959</th>\n",
       "    <th>0.826111</th>\n",
       "    <th>00:07</th>\n",
       "  </tr>\n",
       "  <tr>\n",
       "    <th>11</th>\n",
       "    <th>0.509569</th>\n",
       "    <th>0.461411</th>\n",
       "    <th>0.823056</th>\n",
       "    <th>00:08</th>\n",
       "  </tr>\n",
       "  <tr>\n",
       "    <th>12</th>\n",
       "    <th>0.502480</th>\n",
       "    <th>0.450871</th>\n",
       "    <th>0.830000</th>\n",
       "    <th>00:08</th>\n",
       "  </tr>\n",
       "  <tr>\n",
       "    <th>13</th>\n",
       "    <th>0.522914</th>\n",
       "    <th>0.451720</th>\n",
       "    <th>0.833889</th>\n",
       "    <th>00:07</th>\n",
       "  </tr>\n",
       "  <tr>\n",
       "    <th>14</th>\n",
       "    <th>0.487806</th>\n",
       "    <th>0.449101</th>\n",
       "    <th>0.829722</th>\n",
       "    <th>00:08</th>\n",
       "  </tr>\n",
       "  <tr>\n",
       "    <th>15</th>\n",
       "    <th>0.477700</th>\n",
       "    <th>0.445415</th>\n",
       "    <th>0.838333</th>\n",
       "    <th>00:08</th>\n",
       "  </tr>\n",
       "  <tr>\n",
       "    <th>16</th>\n",
       "    <th>0.493164</th>\n",
       "    <th>0.447281</th>\n",
       "    <th>0.838056</th>\n",
       "    <th>00:08</th>\n",
       "  </tr>\n",
       "  <tr>\n",
       "    <th>17</th>\n",
       "    <th>0.521874</th>\n",
       "    <th>0.457485</th>\n",
       "    <th>0.823889</th>\n",
       "    <th>00:07</th>\n",
       "  </tr>\n",
       "  <tr>\n",
       "    <th>18</th>\n",
       "    <th>0.501553</th>\n",
       "    <th>0.462929</th>\n",
       "    <th>0.820556</th>\n",
       "    <th>00:07</th>\n",
       "  </tr>\n",
       "  <tr>\n",
       "    <th>19</th>\n",
       "    <th>0.478518</th>\n",
       "    <th>0.446358</th>\n",
       "    <th>0.846111</th>\n",
       "    <th>00:08</th>\n",
       "  </tr>\n",
       "</table>\n"
      ],
      "text/plain": [
       "<IPython.core.display.HTML object>"
      ]
     },
     "metadata": {},
     "output_type": "display_data"
    },
    {
     "name": "stdout",
     "output_type": "stream",
     "text": [
      "Better model found at epoch 0 with accuracy value: 0.7888888716697693.\n",
      "Better model found at epoch 2 with accuracy value: 0.8244444727897644.\n",
      "Better model found at epoch 3 with accuracy value: 0.8288888931274414.\n",
      "Better model found at epoch 6 with accuracy value: 0.8341666460037231.\n",
      "Better model found at epoch 15 with accuracy value: 0.8383333086967468.\n",
      "Better model found at epoch 19 with accuracy value: 0.8461111187934875.\n"
     ]
    }
   ],
   "source": [
    "learn.freeze()\n",
    "learn.fit_one_cycle(20, 1e-2, moms=(0.8,0.7), #moms=(0.65,0.35),\n",
    "             callbacks=[SaveModelCallback(learn,every='improvement',mode='max',monitor='accuracy',name='best_acc_model_Q')])"
   ]
  },
  {
   "cell_type": "code",
   "execution_count": 32,
   "metadata": {},
   "outputs": [
    {
     "data": {
      "image/png": "[encoded data removed]",
      "text/plain": [
       "<Figure size 432x288 with 1 Axes>"
      ]
     },
     "metadata": {
      "needs_background": "light"
     },
     "output_type": "display_data"
    },
    {
     "data": {
      "image/png": "[encoded data removed]",
      "text/plain": [
       "<Figure size 432x288 with 1 Axes>"
      ]
     },
     "metadata": {
      "needs_background": "light"
     },
     "output_type": "display_data"
    }
   ],
   "source": [
    "learn.recorder.plot_losses()\n",
    "learn.recorder.plot_metrics()"
   ]
  },
  {
   "cell_type": "code",
   "execution_count": 33,
   "metadata": {},
   "outputs": [],
   "source": [
    "learn.save('rnn_trained_head_labelsmoothing_lmAndclas')"
   ]
  },
  {
   "cell_type": "code",
   "execution_count": 34,
   "metadata": {},
   "outputs": [],
   "source": [
    "#learn = learn.load('rnn_trained_head')"
   ]
  },
  {
   "cell_type": "code",
   "execution_count": 35,
   "metadata": {},
   "outputs": [
    {
     "data": {
      "text/html": [
       "Total time: 01:33 <p><table style='width:375px; margin-bottom:10px'>\n",
       "  <tr>\n",
       "    <th>epoch</th>\n",
       "    <th>train_loss</th>\n",
       "    <th>valid_loss</th>\n",
       "    <th>accuracy</th>\n",
       "    <th>time</th>\n",
       "  </tr>\n",
       "  <tr>\n",
       "    <th>0</th>\n",
       "    <th>0.496525</th>\n",
       "    <th>0.444996</th>\n",
       "    <th>0.837500</th>\n",
       "    <th>00:08</th>\n",
       "  </tr>\n",
       "  <tr>\n",
       "    <th>1</th>\n",
       "    <th>0.486575</th>\n",
       "    <th>0.457905</th>\n",
       "    <th>0.822778</th>\n",
       "    <th>00:09</th>\n",
       "  </tr>\n",
       "  <tr>\n",
       "    <th>2</th>\n",
       "    <th>0.480600</th>\n",
       "    <th>0.453389</th>\n",
       "    <th>0.830833</th>\n",
       "    <th>00:09</th>\n",
       "  </tr>\n",
       "  <tr>\n",
       "    <th>3</th>\n",
       "    <th>0.505455</th>\n",
       "    <th>0.459621</th>\n",
       "    <th>0.831111</th>\n",
       "    <th>00:09</th>\n",
       "  </tr>\n",
       "  <tr>\n",
       "    <th>4</th>\n",
       "    <th>0.464784</th>\n",
       "    <th>0.434034</th>\n",
       "    <th>0.846944</th>\n",
       "    <th>00:09</th>\n",
       "  </tr>\n",
       "  <tr>\n",
       "    <th>5</th>\n",
       "    <th>0.457409</th>\n",
       "    <th>0.451777</th>\n",
       "    <th>0.842778</th>\n",
       "    <th>00:08</th>\n",
       "  </tr>\n",
       "  <tr>\n",
       "    <th>6</th>\n",
       "    <th>0.460903</th>\n",
       "    <th>0.446290</th>\n",
       "    <th>0.853056</th>\n",
       "    <th>00:08</th>\n",
       "  </tr>\n",
       "  <tr>\n",
       "    <th>7</th>\n",
       "    <th>0.408656</th>\n",
       "    <th>0.452867</th>\n",
       "    <th>0.848056</th>\n",
       "    <th>00:09</th>\n",
       "  </tr>\n",
       "  <tr>\n",
       "    <th>8</th>\n",
       "    <th>0.388132</th>\n",
       "    <th>0.453990</th>\n",
       "    <th>0.850278</th>\n",
       "    <th>00:09</th>\n",
       "  </tr>\n",
       "  <tr>\n",
       "    <th>9</th>\n",
       "    <th>0.421487</th>\n",
       "    <th>0.456143</th>\n",
       "    <th>0.848889</th>\n",
       "    <th>00:08</th>\n",
       "  </tr>\n",
       "</table>\n"
      ],
      "text/plain": [
       "<IPython.core.display.HTML object>"
      ]
     },
     "metadata": {},
     "output_type": "display_data"
    },
    {
     "name": "stdout",
     "output_type": "stream",
     "text": [
      "Better model found at epoch 0 with accuracy value: 0.8374999761581421.\n",
      "Better model found at epoch 4 with accuracy value: 0.8469444513320923.\n",
      "Better model found at epoch 6 with accuracy value: 0.8530555367469788.\n"
     ]
    }
   ],
   "source": [
    "learn.freeze_to(-2)\n",
    "learn.fit_one_cycle(10,slice(1e-3/(2.6**2),1e-2),moms=(0.7,0.4), wd=0.10,\n",
    "                   callbacks=[SaveModelCallback(learn,every='improvement',mode='max',monitor='accuracy',name='best_acc_model_Q')])"
   ]
  },
  {
   "cell_type": "code",
   "execution_count": 36,
   "metadata": {},
   "outputs": [
    {
     "data": {
      "image/png": "[encoded data removed]",
      "text/plain": [
       "<Figure size 432x288 with 1 Axes>"
      ]
     },
     "metadata": {
      "needs_background": "light"
     },
     "output_type": "display_data"
    },
    {
     "data": {
      "image/png": "[encoded data removed]",
      "text/plain": [
       "<Figure size 432x288 with 1 Axes>"
      ]
     },
     "metadata": {
      "needs_background": "light"
     },
     "output_type": "display_data"
    }
   ],
   "source": [
    "learn.recorder.plot_losses()\n",
    "learn.recorder.plot_metrics()"
   ]
  },
  {
   "cell_type": "code",
   "execution_count": 37,
   "metadata": {
    "scrolled": true
   },
   "outputs": [
    {
     "data": {
      "text/html": [
       "Total time: 04:15 <p><table style='width:375px; margin-bottom:10px'>\n",
       "  <tr>\n",
       "    <th>epoch</th>\n",
       "    <th>train_loss</th>\n",
       "    <th>valid_loss</th>\n",
       "    <th>accuracy</th>\n",
       "    <th>time</th>\n",
       "  </tr>\n",
       "  <tr>\n",
       "    <th>0</th>\n",
       "    <th>0.394638</th>\n",
       "    <th>0.438547</th>\n",
       "    <th>0.852500</th>\n",
       "    <th>00:12</th>\n",
       "  </tr>\n",
       "  <tr>\n",
       "    <th>1</th>\n",
       "    <th>0.442074</th>\n",
       "    <th>0.436298</th>\n",
       "    <th>0.852500</th>\n",
       "    <th>00:12</th>\n",
       "  </tr>\n",
       "  <tr>\n",
       "    <th>2</th>\n",
       "    <th>0.425384</th>\n",
       "    <th>0.447652</th>\n",
       "    <th>0.853056</th>\n",
       "    <th>00:13</th>\n",
       "  </tr>\n",
       "  <tr>\n",
       "    <th>3</th>\n",
       "    <th>0.464220</th>\n",
       "    <th>0.533727</th>\n",
       "    <th>0.807500</th>\n",
       "    <th>00:11</th>\n",
       "  </tr>\n",
       "  <tr>\n",
       "    <th>4</th>\n",
       "    <th>0.403652</th>\n",
       "    <th>0.443917</th>\n",
       "    <th>0.858611</th>\n",
       "    <th>00:12</th>\n",
       "  </tr>\n",
       "  <tr>\n",
       "    <th>5</th>\n",
       "    <th>0.387134</th>\n",
       "    <th>0.488873</th>\n",
       "    <th>0.836111</th>\n",
       "    <th>00:13</th>\n",
       "  </tr>\n",
       "  <tr>\n",
       "    <th>6</th>\n",
       "    <th>0.373729</th>\n",
       "    <th>0.491393</th>\n",
       "    <th>0.853611</th>\n",
       "    <th>00:12</th>\n",
       "  </tr>\n",
       "  <tr>\n",
       "    <th>7</th>\n",
       "    <th>0.357953</th>\n",
       "    <th>0.487404</th>\n",
       "    <th>0.852222</th>\n",
       "    <th>00:12</th>\n",
       "  </tr>\n",
       "  <tr>\n",
       "    <th>8</th>\n",
       "    <th>0.346367</th>\n",
       "    <th>0.501845</th>\n",
       "    <th>0.832222</th>\n",
       "    <th>00:12</th>\n",
       "  </tr>\n",
       "  <tr>\n",
       "    <th>9</th>\n",
       "    <th>0.370946</th>\n",
       "    <th>0.501016</th>\n",
       "    <th>0.849722</th>\n",
       "    <th>00:11</th>\n",
       "  </tr>\n",
       "  <tr>\n",
       "    <th>10</th>\n",
       "    <th>0.360138</th>\n",
       "    <th>0.508120</th>\n",
       "    <th>0.832778</th>\n",
       "    <th>00:11</th>\n",
       "  </tr>\n",
       "  <tr>\n",
       "    <th>11</th>\n",
       "    <th>0.332255</th>\n",
       "    <th>0.504371</th>\n",
       "    <th>0.844167</th>\n",
       "    <th>00:12</th>\n",
       "  </tr>\n",
       "  <tr>\n",
       "    <th>12</th>\n",
       "    <th>0.324855</th>\n",
       "    <th>0.507680</th>\n",
       "    <th>0.845833</th>\n",
       "    <th>00:11</th>\n",
       "  </tr>\n",
       "  <tr>\n",
       "    <th>13</th>\n",
       "    <th>0.297755</th>\n",
       "    <th>0.503560</th>\n",
       "    <th>0.848333</th>\n",
       "    <th>00:12</th>\n",
       "  </tr>\n",
       "  <tr>\n",
       "    <th>14</th>\n",
       "    <th>0.316617</th>\n",
       "    <th>0.518685</th>\n",
       "    <th>0.853889</th>\n",
       "    <th>00:11</th>\n",
       "  </tr>\n",
       "  <tr>\n",
       "    <th>15</th>\n",
       "    <th>0.290978</th>\n",
       "    <th>0.486418</th>\n",
       "    <th>0.847222</th>\n",
       "    <th>00:12</th>\n",
       "  </tr>\n",
       "  <tr>\n",
       "    <th>16</th>\n",
       "    <th>0.281956</th>\n",
       "    <th>0.483697</th>\n",
       "    <th>0.849444</th>\n",
       "    <th>00:13</th>\n",
       "  </tr>\n",
       "  <tr>\n",
       "    <th>17</th>\n",
       "    <th>0.271981</th>\n",
       "    <th>0.481024</th>\n",
       "    <th>0.853056</th>\n",
       "    <th>00:12</th>\n",
       "  </tr>\n",
       "  <tr>\n",
       "    <th>18</th>\n",
       "    <th>0.275279</th>\n",
       "    <th>0.477039</th>\n",
       "    <th>0.850556</th>\n",
       "    <th>00:12</th>\n",
       "  </tr>\n",
       "  <tr>\n",
       "    <th>19</th>\n",
       "    <th>0.275895</th>\n",
       "    <th>0.494364</th>\n",
       "    <th>0.852500</th>\n",
       "    <th>00:12</th>\n",
       "  </tr>\n",
       "</table>\n"
      ],
      "text/plain": [
       "<IPython.core.display.HTML object>"
      ]
     },
     "metadata": {},
     "output_type": "display_data"
    },
    {
     "name": "stdout",
     "output_type": "stream",
     "text": [
      "Better model found at epoch 0 with accuracy value: 0.8525000214576721.\n",
      "Better model found at epoch 2 with accuracy value: 0.8530555367469788.\n",
      "Better model found at epoch 4 with accuracy value: 0.8586111068725586.\n"
     ]
    }
   ],
   "source": [
    "learn.freeze_to(-3)\n",
    "learn.fit_one_cycle(20,slice(1e-3/(2.6**3),1e-2),moms=(0.7,0.4), wd=0.20, pct_start=0.10,\n",
    "             callbacks=[SaveModelCallback(learn,every='improvement',mode='max',monitor='accuracy',name='best_acc_model_Q')])"
   ]
  },
  {
   "cell_type": "code",
   "execution_count": 38,
   "metadata": {},
   "outputs": [
    {
     "data": {
      "image/png": "[encoded data removed]",
      "text/plain": [
       "<Figure size 432x288 with 1 Axes>"
      ]
     },
     "metadata": {
      "needs_background": "light"
     },
     "output_type": "display_data"
    },
    {
     "data": {
      "image/png": "[encoded data removed]",
      "text/plain": [
       "<Figure size 432x288 with 1 Axes>"
      ]
     },
     "metadata": {
      "needs_background": "light"
     },
     "output_type": "display_data"
    }
   ],
   "source": [
    "learn.recorder.plot_losses()\n",
    "learn.recorder.plot_metrics()"
   ]
  },
  {
   "cell_type": "code",
   "execution_count": 39,
   "metadata": {},
   "outputs": [
    {
     "data": {
      "text/html": [
       "Total time: 06:20 <p><table style='width:375px; margin-bottom:10px'>\n",
       "  <tr>\n",
       "    <th>epoch</th>\n",
       "    <th>train_loss</th>\n",
       "    <th>valid_loss</th>\n",
       "    <th>accuracy</th>\n",
       "    <th>time</th>\n",
       "  </tr>\n",
       "  <tr>\n",
       "    <th>0</th>\n",
       "    <th>0.369679</th>\n",
       "    <th>0.477126</th>\n",
       "    <th>0.851667</th>\n",
       "    <th>00:18</th>\n",
       "  </tr>\n",
       "  <tr>\n",
       "    <th>1</th>\n",
       "    <th>0.370208</th>\n",
       "    <th>0.456726</th>\n",
       "    <th>0.842222</th>\n",
       "    <th>00:18</th>\n",
       "  </tr>\n",
       "  <tr>\n",
       "    <th>2</th>\n",
       "    <th>0.378581</th>\n",
       "    <th>0.469011</th>\n",
       "    <th>0.856111</th>\n",
       "    <th>00:18</th>\n",
       "  </tr>\n",
       "  <tr>\n",
       "    <th>3</th>\n",
       "    <th>0.374260</th>\n",
       "    <th>0.479056</th>\n",
       "    <th>0.843333</th>\n",
       "    <th>00:17</th>\n",
       "  </tr>\n",
       "  <tr>\n",
       "    <th>4</th>\n",
       "    <th>0.356858</th>\n",
       "    <th>0.484679</th>\n",
       "    <th>0.847778</th>\n",
       "    <th>00:18</th>\n",
       "  </tr>\n",
       "  <tr>\n",
       "    <th>5</th>\n",
       "    <th>0.371946</th>\n",
       "    <th>0.472907</th>\n",
       "    <th>0.847222</th>\n",
       "    <th>00:18</th>\n",
       "  </tr>\n",
       "  <tr>\n",
       "    <th>6</th>\n",
       "    <th>0.364014</th>\n",
       "    <th>0.497942</th>\n",
       "    <th>0.849167</th>\n",
       "    <th>00:18</th>\n",
       "  </tr>\n",
       "  <tr>\n",
       "    <th>7</th>\n",
       "    <th>0.329316</th>\n",
       "    <th>0.481564</th>\n",
       "    <th>0.840000</th>\n",
       "    <th>00:18</th>\n",
       "  </tr>\n",
       "  <tr>\n",
       "    <th>8</th>\n",
       "    <th>0.335960</th>\n",
       "    <th>0.539415</th>\n",
       "    <th>0.852500</th>\n",
       "    <th>00:18</th>\n",
       "  </tr>\n",
       "  <tr>\n",
       "    <th>9</th>\n",
       "    <th>0.315019</th>\n",
       "    <th>0.475280</th>\n",
       "    <th>0.844167</th>\n",
       "    <th>00:19</th>\n",
       "  </tr>\n",
       "  <tr>\n",
       "    <th>10</th>\n",
       "    <th>0.313247</th>\n",
       "    <th>0.540399</th>\n",
       "    <th>0.849722</th>\n",
       "    <th>00:18</th>\n",
       "  </tr>\n",
       "  <tr>\n",
       "    <th>11</th>\n",
       "    <th>0.308603</th>\n",
       "    <th>0.512775</th>\n",
       "    <th>0.856111</th>\n",
       "    <th>00:18</th>\n",
       "  </tr>\n",
       "  <tr>\n",
       "    <th>12</th>\n",
       "    <th>0.321048</th>\n",
       "    <th>0.508256</th>\n",
       "    <th>0.852500</th>\n",
       "    <th>00:18</th>\n",
       "  </tr>\n",
       "  <tr>\n",
       "    <th>13</th>\n",
       "    <th>0.292187</th>\n",
       "    <th>0.499734</th>\n",
       "    <th>0.853889</th>\n",
       "    <th>00:18</th>\n",
       "  </tr>\n",
       "  <tr>\n",
       "    <th>14</th>\n",
       "    <th>0.307365</th>\n",
       "    <th>0.531293</th>\n",
       "    <th>0.857778</th>\n",
       "    <th>00:17</th>\n",
       "  </tr>\n",
       "  <tr>\n",
       "    <th>15</th>\n",
       "    <th>0.287889</th>\n",
       "    <th>0.486746</th>\n",
       "    <th>0.851111</th>\n",
       "    <th>00:18</th>\n",
       "  </tr>\n",
       "  <tr>\n",
       "    <th>16</th>\n",
       "    <th>0.281115</th>\n",
       "    <th>0.507105</th>\n",
       "    <th>0.856667</th>\n",
       "    <th>00:18</th>\n",
       "  </tr>\n",
       "  <tr>\n",
       "    <th>17</th>\n",
       "    <th>0.264081</th>\n",
       "    <th>0.494282</th>\n",
       "    <th>0.853611</th>\n",
       "    <th>00:19</th>\n",
       "  </tr>\n",
       "  <tr>\n",
       "    <th>18</th>\n",
       "    <th>0.268498</th>\n",
       "    <th>0.485998</th>\n",
       "    <th>0.856111</th>\n",
       "    <th>00:19</th>\n",
       "  </tr>\n",
       "  <tr>\n",
       "    <th>19</th>\n",
       "    <th>0.266453</th>\n",
       "    <th>0.492832</th>\n",
       "    <th>0.855000</th>\n",
       "    <th>00:18</th>\n",
       "  </tr>\n",
       "</table>\n"
      ],
      "text/plain": [
       "<IPython.core.display.HTML object>"
      ]
     },
     "metadata": {},
     "output_type": "display_data"
    },
    {
     "name": "stdout",
     "output_type": "stream",
     "text": [
      "Better model found at epoch 0 with accuracy value: 0.8516666889190674.\n",
      "Better model found at epoch 2 with accuracy value: 0.8561111092567444.\n",
      "Better model found at epoch 14 with accuracy value: 0.8577777743339539.\n"
     ]
    }
   ],
   "source": [
    "learn.unfreeze()\n",
    "learn.fit_one_cycle(20,slice(1e-3/(2.6**4),1e-2),moms=(0.7,0.4), wd=0.25, pct_start=0.10,\n",
    "              callbacks=[SaveModelCallback(learn,every='improvement',mode='max',monitor='accuracy',name='best_acc_model_Q')])"
   ]
  },
  {
   "cell_type": "code",
   "execution_count": 40,
   "metadata": {},
   "outputs": [
    {
     "data": {
      "image/png": "[encoded data removed]",
      "text/plain": [
       "<Figure size 432x288 with 1 Axes>"
      ]
     },
     "metadata": {
      "needs_background": "light"
     },
     "output_type": "display_data"
    },
    {
     "data": {
      "image/png": "[encoded data removed]",
      "text/plain": [
       "<Figure size 432x288 with 1 Axes>"
      ]
     },
     "metadata": {
      "needs_background": "light"
     },
     "output_type": "display_data"
    }
   ],
   "source": [
    "learn.recorder.plot_losses()\n",
    "learn.recorder.plot_metrics()"
   ]
  },
  {
   "cell_type": "code",
   "execution_count": 41,
   "metadata": {},
   "outputs": [
    {
     "data": {
      "image/png": "[encoded data removed]",
      "text/plain": [
       "<Figure size 432x288 with 1 Axes>"
      ]
     },
     "metadata": {
      "needs_background": "light"
     },
     "output_type": "display_data"
    },
    {
     "data": {
      "image/png": "[encoded data removed]",
      "text/plain": [
       "<Figure size 432x288 with 1 Axes>"
      ]
     },
     "metadata": {
      "needs_background": "light"
     },
     "output_type": "display_data"
    }
   ],
   "source": [
    "preds_t,y_t,losses_t = learn.get_preds(DatasetType.Train,with_loss=True)\n",
    "interp_t = ClassificationInterpretation(learn, preds_t, y_t, losses_t)\n",
    "interp_t.plot_confusion_matrix()\n",
    "\n",
    "preds,y,losses = learn.get_preds(with_loss=True)\n",
    "interp = ClassificationInterpretation(learn, preds, y, losses)\n",
    "interp.plot_confusion_matrix()"
   ]
  },
  {
   "cell_type": "code",
   "execution_count": 42,
   "metadata": {},
   "outputs": [
    {
     "name": "stdout",
     "output_type": "stream",
     "text": [
      "----------\n"
     ]
    },
    {
     "data": {
      "text/html": [
       "<span style=\"font-family: monospace;\"><span title=\"0.119\" style=\"background-color: rgba(223, 235, 247, 0.5);\">▁</span> <span title=\"0.140\" style=\"background-color: rgba(219, 233, 246, 0.5);\">xxbos</span> <span title=\"0.242\" style=\"background-color: rgba(199, 219, 239, 0.5);\">▁es</span> <span title=\"0.390\" style=\"background-color: rgba(152, 199, 223, 0.5);\">▁increíble</span> <span title=\"0.173\" style=\"background-color: rgba(212, 228, 243, 0.5);\">▁lo</span> <span title=\"0.248\" style=\"background-color: rgba(198, 219, 239, 0.5);\">▁que</span> <span title=\"0.505\" style=\"background-color: rgba(105, 172, 213, 0.5);\">▁dura</span> <span title=\"0.340\" style=\"background-color: rgba(168, 206, 228, 0.5);\">▁la</span> <span title=\"1.000\" style=\"background-color: rgba(8, 48, 107, 0.5);\">▁batería</span> <span title=\"0.266\" style=\"background-color: rgba(193, 217, 237, 0.5);\">▁del</span> <span title=\"0.557\" style=\"background-color: rgba(88, 161, 206, 0.5);\">▁celular</span> <span title=\"0.316\" style=\"background-color: rgba(177, 210, 231, 0.5);\">▁cuando</span> <span title=\"0.403\" style=\"background-color: rgba(146, 195, 222, 0.5);\">▁nadie</span> <span title=\"0.390\" style=\"background-color: rgba(152, 199, 223, 0.5);\">▁te</span> <span title=\"0.354\" style=\"background-color: rgba(165, 205, 227, 0.5);\">▁quiere</span> <span title=\"0.163\" style=\"background-color: rgba(215, 230, 244, 0.5);\">.</span></span>"
      ],
      "text/plain": [
       "<IPython.core.display.HTML object>"
      ]
     },
     "metadata": {},
     "output_type": "display_data"
    },
    {
     "name": "stdout",
     "output_type": "stream",
     "text": [
      "----------\n"
     ]
    },
    {
     "data": {
      "text/html": [
       "<span style=\"font-family: monospace;\"><span title=\"0.097\" style=\"background-color: rgba(228, 238, 248, 0.5);\">▁</span> <span title=\"0.181\" style=\"background-color: rgba(211, 227, 243, 0.5);\">xxbos</span> <span title=\"0.186\" style=\"background-color: rgba(210, 227, 243, 0.5);\">▁&quot;</span> <span title=\"0.183\" style=\"background-color: rgba(211, 227, 243, 0.5);\">la</span> <span title=\"0.281\" style=\"background-color: rgba(188, 215, 235, 0.5);\">▁vida</span> <span title=\"0.194\" style=\"background-color: rgba(209, 226, 242, 0.5);\">▁es</span> <span title=\"0.309\" style=\"background-color: rgba(178, 210, 232, 0.5);\">▁corta</span> <span title=\"0.186\" style=\"background-color: rgba(210, 227, 243, 0.5);\">▁para</span> <span title=\"0.473\" style=\"background-color: rgba(117, 179, 216, 0.5);\">...&quot;</span> <span title=\"1.000\" style=\"background-color: rgba(8, 48, 107, 0.5);\">▁bitch</span> <span title=\"0.149\" style=\"background-color: rgba(217, 231, 245, 0.5);\">▁,</span> <span title=\"0.179\" style=\"background-color: rgba(212, 228, 243, 0.5);\">▁la</span> <span title=\"0.240\" style=\"background-color: rgba(200, 220, 239, 0.5);\">▁vida</span> <span title=\"0.289\" style=\"background-color: rgba(185, 213, 234, 0.5);\">▁es</span> <span title=\"0.709\" style=\"background-color: rgba(43, 123, 186, 0.5);\">▁corta</span> <span title=\"0.333\" style=\"background-color: rgba(171, 207, 229, 0.5);\">▁para</span> <span title=\"0.259\" style=\"background-color: rgba(195, 217, 238, 0.5);\">▁todo</span> <span title=\"0.038\" style=\"background-color: rgba(239, 246, 252, 0.5);\">.</span></span>"
      ],
      "text/plain": [
       "<IPython.core.display.HTML object>"
      ]
     },
     "metadata": {},
     "output_type": "display_data"
    },
    {
     "name": "stdout",
     "output_type": "stream",
     "text": [
      "----------\n"
     ]
    },
    {
     "data": {
      "text/html": [
       "<span style=\"font-family: monospace;\"><span title=\"0.117\" style=\"background-color: rgba(223, 235, 247, 0.5);\">▁</span> <span title=\"0.191\" style=\"background-color: rgba(209, 226, 242, 0.5);\">xxbos</span> <span title=\"0.230\" style=\"background-color: rgba(202, 221, 240, 0.5);\">▁si</span> <span title=\"0.209\" style=\"background-color: rgba(206, 224, 241, 0.5);\">▁al</span> <span title=\"0.330\" style=\"background-color: rgba(172, 208, 230, 0.5);\">▁llegar</span> <span title=\"0.339\" style=\"background-color: rgba(170, 207, 229, 0.5);\">▁al</span> <span title=\"0.995\" style=\"background-color: rgba(8, 49, 108, 0.5);\">▁motel</span> <span title=\"0.178\" style=\"background-color: rgba(212, 228, 243, 0.5);\">▁te</span> <span title=\"0.261\" style=\"background-color: rgba(195, 217, 238, 0.5);\">▁das</span> <span title=\"0.220\" style=\"background-color: rgba(203, 222, 240, 0.5);\">▁cuenta</span> <span title=\"0.172\" style=\"background-color: rgba(212, 228, 243, 0.5);\">▁de</span> <span title=\"0.159\" style=\"background-color: rgba(215, 230, 244, 0.5);\">▁que</span> <span title=\"0.310\" style=\"background-color: rgba(178, 210, 232, 0.5);\">▁ella</span> <span title=\"0.605\" style=\"background-color: rgba(72, 150, 200, 0.5);\">▁trae</span> <span title=\"0.363\" style=\"background-color: rgba(162, 203, 226, 0.5);\">▁un</span> <span title=\"0.879\" style=\"background-color: rgba(8, 79, 153, 0.5);\">▁sexy</span> <span title=\"0.890\" style=\"background-color: rgba(8, 76, 150, 0.5);\">▁coordinado</span> <span title=\"0.232\" style=\"background-color: rgba(201, 221, 240, 0.5);\">▁,</span> <span title=\"0.723\" style=\"background-color: rgba(40, 120, 184, 0.5);\">▁déjame</span> <span title=\"0.417\" style=\"background-color: rgba(141, 192, 221, 0.5);\">▁decirte</span> <span title=\"0.223\" style=\"background-color: rgba(203, 222, 240, 0.5);\">▁que</span> <span title=\"0.316\" style=\"background-color: rgba(177, 210, 231, 0.5);\">▁al</span> <span title=\"0.277\" style=\"background-color: rgba(190, 215, 236, 0.5);\">▁que</span> <span title=\"0.181\" style=\"background-color: rgba(211, 227, 243, 0.5);\">▁se</span> <span title=\"0.318\" style=\"background-color: rgba(176, 209, 231, 0.5);\">▁van</span> <span title=\"0.388\" style=\"background-color: rgba(152, 199, 223, 0.5);\">▁a</span> <span title=\"1.000\" style=\"background-color: rgba(8, 48, 107, 0.5);\">▁coger</span> <span title=\"0.553\" style=\"background-color: rgba(89, 162, 207, 0.5);\">▁es</span> <span title=\"0.568\" style=\"background-color: rgba(84, 158, 205, 0.5);\">▁a</span> <span title=\"0.541\" style=\"background-color: rgba(93, 164, 208, 0.5);\">▁ti</span> <span title=\"0.150\" style=\"background-color: rgba(217, 231, 245, 0.5);\">.</span></span>"
      ],
      "text/plain": [
       "<IPython.core.display.HTML object>"
      ]
     },
     "metadata": {},
     "output_type": "display_data"
    },
    {
     "name": "stdout",
     "output_type": "stream",
     "text": [
      "----------\n"
     ]
    },
    {
     "data": {
      "text/html": [
       "<span style=\"font-family: monospace;\"><span title=\"0.086\" style=\"background-color: rgba(230, 240, 249, 0.5);\">▁</span> <span title=\"0.208\" style=\"background-color: rgba(206, 224, 241, 0.5);\">xxbos</span> <span title=\"0.288\" style=\"background-color: rgba(186, 214, 234, 0.5);\">▁—</span> <span title=\"0.624\" style=\"background-color: rgba(66, 146, 198, 0.5);\">papá</span> <span title=\"0.099\" style=\"background-color: rgba(227, 238, 248, 0.5);\">▁,</span> <span title=\"0.132\" style=\"background-color: rgba(221, 234, 246, 0.5);\">▁¿</span> <span title=\"0.282\" style=\"background-color: rgba(187, 214, 235, 0.5);\">sabes</span> <span title=\"0.132\" style=\"background-color: rgba(221, 234, 246, 0.5);\">▁cómo</span> <span title=\"0.213\" style=\"background-color: rgba(205, 223, 241, 0.5);\">▁se</span> <span title=\"0.811\" style=\"background-color: rgba(20, 97, 168, 0.5);\">▁despiden</span> <span title=\"0.178\" style=\"background-color: rgba(212, 228, 243, 0.5);\">▁los</span> <span title=\"0.347\" style=\"background-color: rgba(167, 206, 228, 0.5);\">▁qui</span> <span title=\"0.243\" style=\"background-color: rgba(199, 219, 239, 0.5);\">micos</span> <span title=\"0.146\" style=\"background-color: rgba(218, 232, 245, 0.5);\">▁?</span> <span title=\"0.153\" style=\"background-color: rgba(216, 231, 245, 0.5);\">▁—</span> <span title=\"0.116\" style=\"background-color: rgba(224, 236, 247, 0.5);\">no</span> <span title=\"0.077\" style=\"background-color: rgba(232, 241, 250, 0.5);\">▁,</span> <span title=\"0.090\" style=\"background-color: rgba(229, 239, 249, 0.5);\">▁¿</span> <span title=\"0.183\" style=\"background-color: rgba(211, 227, 243, 0.5);\">cómo</span> <span title=\"0.101\" style=\"background-color: rgba(227, 238, 248, 0.5);\">▁?</span> <span title=\"0.231\" style=\"background-color: rgba(201, 221, 240, 0.5);\">▁—</span> <span title=\"0.260\" style=\"background-color: rgba(195, 217, 238, 0.5);\">a</span> <span title=\"0.293\" style=\"background-color: rgba(185, 213, 234, 0.5);\">cido</span> <span title=\"0.201\" style=\"background-color: rgba(207, 225, 242, 0.5);\">▁un</span> <span title=\"0.319\" style=\"background-color: rgba(176, 209, 231, 0.5);\">▁gusto</span> <span title=\"0.308\" style=\"background-color: rgba(180, 211, 232, 0.5);\">...</span> <span title=\"0.540\" style=\"background-color: rgba(93, 164, 208, 0.5);\">▁cc</span> <span title=\"0.327\" style=\"background-color: rgba(173, 208, 230, 0.5);\">▁@</span> <span title=\"0.160\" style=\"background-color: rgba(215, 230, 244, 0.5);\">▁</span> <span title=\"0.325\" style=\"background-color: rgba(173, 208, 230, 0.5);\">xxup</span> <span title=\"1.000\" style=\"background-color: rgba(8, 48, 107, 0.5);\">▁mati</span> <span title=\"0.988\" style=\"background-color: rgba(8, 51, 111, 0.5);\">pascual</span> <span title=\"0.757\" style=\"background-color: rgba(31, 111, 179, 0.5);\">etti</span></span>"
      ],
      "text/plain": [
       "<IPython.core.display.HTML object>"
      ]
     },
     "metadata": {},
     "output_type": "display_data"
    },
    {
     "name": "stdout",
     "output_type": "stream",
     "text": [
      "----------\n"
     ]
    },
    {
     "data": {
      "text/html": [
       "<span style=\"font-family: monospace;\"><span title=\"0.170\" style=\"background-color: rgba(213, 229, 244, 0.5);\">▁</span> <span title=\"0.353\" style=\"background-color: rgba(165, 205, 227, 0.5);\">xxbos</span> <span title=\"1.000\" style=\"background-color: rgba(8, 48, 107, 0.5);\">▁—</span> <span title=\"0.707\" style=\"background-color: rgba(44, 124, 187, 0.5);\">cuánto</span> <span title=\"0.381\" style=\"background-color: rgba(155, 200, 224, 0.5);\">▁tiempo</span> <span title=\"0.469\" style=\"background-color: rgba(119, 180, 216, 0.5);\">▁ar</span> <span title=\"0.230\" style=\"background-color: rgba(202, 221, 240, 0.5);\">be</span> <span title=\"0.343\" style=\"background-color: rgba(168, 206, 228, 0.5);\">loa</span> <span title=\"0.096\" style=\"background-color: rgba(228, 238, 248, 0.5);\">▁,</span> <span title=\"0.123\" style=\"background-color: rgba(222, 235, 247, 0.5);\">▁cómo</span> <span title=\"0.191\" style=\"background-color: rgba(209, 226, 242, 0.5);\">▁va</span> <span title=\"0.175\" style=\"background-color: rgba(212, 228, 243, 0.5);\">▁la</span> <span title=\"0.268\" style=\"background-color: rgba(192, 216, 237, 0.5);\">▁temporada</span> <span title=\"0.100\" style=\"background-color: rgba(227, 238, 248, 0.5);\">▁,</span> <span title=\"0.189\" style=\"background-color: rgba(209, 226, 242, 0.5);\">▁¿</span> <span title=\"0.471\" style=\"background-color: rgba(119, 180, 216, 0.5);\">muchos</span> <span title=\"0.321\" style=\"background-color: rgba(175, 209, 230, 0.5);\">▁goles</span> <span title=\"0.087\" style=\"background-color: rgba(229, 239, 249, 0.5);\">▁?</span> <span title=\"0.141\" style=\"background-color: rgba(218, 232, 245, 0.5);\">▁¿</span> <span title=\"0.366\" style=\"background-color: rgba(161, 203, 226, 0.5);\">muchas</span> <span title=\"0.403\" style=\"background-color: rgba(146, 195, 222, 0.5);\">▁asistencias</span> <span title=\"0.134\" style=\"background-color: rgba(220, 233, 246, 0.5);\">▁?</span> <span title=\"0.210\" style=\"background-color: rgba(206, 224, 241, 0.5);\">▁¿</span> <span title=\"0.216\" style=\"background-color: rgba(204, 223, 241, 0.5);\">y</span> <span title=\"0.284\" style=\"background-color: rgba(187, 214, 235, 0.5);\">▁en</span> <span title=\"0.396\" style=\"background-color: rgba(149, 197, 223, 0.5);\">▁defensa</span> <span title=\"0.106\" style=\"background-color: rgba(225, 237, 248, 0.5);\">▁?</span> <span title=\"0.090\" style=\"background-color: rgba(229, 239, 249, 0.5);\">▁</span> <span title=\"0.107\" style=\"background-color: rgba(225, 237, 248, 0.5);\">xxnl</span> <span title=\"0.109\" style=\"background-color: rgba(225, 237, 248, 0.5);\">▁</span> <span title=\"0.210\" style=\"background-color: rgba(206, 224, 241, 0.5);\">xxnl</span> <span title=\"0.466\" style=\"background-color: rgba(120, 181, 216, 0.5);\">▁—</span> <span title=\"0.646\" style=\"background-color: rgba(60, 140, 195, 0.5);\">he</span> <span title=\"0.880\" style=\"background-color: rgba(8, 79, 153, 0.5);\">▁escrito</span> <span title=\"0.541\" style=\"background-color: rgba(93, 164, 208, 0.5);\">▁muchos</span> <span title=\"0.854\" style=\"background-color: rgba(12, 86, 160, 0.5);\">▁tuits</span> <span title=\"0.226\" style=\"background-color: rgba(203, 222, 240, 0.5);\">.</span></span>"
      ],
      "text/plain": [
       "<IPython.core.display.HTML object>"
      ]
     },
     "metadata": {},
     "output_type": "display_data"
    }
   ],
   "source": [
    "from fastai.text.models.awd_lstm import TextClassificationInterpretation\n",
    "from matplotlib.pyplot import cm\n",
    "txt_ci = TextClassificationInterpretation.from_learner(learn)\n",
    "(_,idxs) = interp.top_losses(5)\n",
    "for idx in to_np(idxs):\n",
    "    print(\"-\"*10)\n",
    "    txt_ci.show_intrinsic_attention(df_train.iloc[idx,1],cmap=cm.Blues) #textify breaks?"
   ]
  },
  {
   "cell_type": "code",
   "execution_count": 43,
   "metadata": {},
   "outputs": [],
   "source": [
    "learn.save(\"haha_20190516_tweet_vocab_labelsmoothing_lmAndclas\")"
   ]
  },
  {
   "cell_type": "markdown",
   "metadata": {},
   "source": [
    "# Generate test file for submission"
   ]
  },
  {
   "cell_type": "code",
   "execution_count": 46,
   "metadata": {},
   "outputs": [
    {
     "data": {
      "text/html": [
       "<div>\n",
       "<style scoped>\n",
       "    .dataframe tbody tr th:only-of-type {\n",
       "        vertical-align: middle;\n",
       "    }\n",
       "\n",
       "    .dataframe tbody tr th {\n",
       "        vertical-align: top;\n",
       "    }\n",
       "\n",
       "    .dataframe thead th {\n",
       "        text-align: right;\n",
       "    }\n",
       "</style>\n",
       "<table border=\"1\" class=\"dataframe\">\n",
       "  <thead>\n",
       "    <tr style=\"text-align: right;\">\n",
       "      <th></th>\n",
       "      <th>id</th>\n",
       "      <th>text</th>\n",
       "    </tr>\n",
       "  </thead>\n",
       "  <tbody>\n",
       "    <tr>\n",
       "      <th>0</th>\n",
       "      <td>tweet1</td>\n",
       "      <td>Historia #36.\\n*Entra corriendo y gritando al ...</td>\n",
       "    </tr>\n",
       "    <tr>\n",
       "      <th>1</th>\n",
       "      <td>tweet2</td>\n",
       "      <td>estoy tomando helado en el centro y pedi tiram...</td>\n",
       "    </tr>\n",
       "    <tr>\n",
       "      <th>2</th>\n",
       "      <td>tweet3</td>\n",
       "      <td>— ¿De 15 o 20 centímetros?\\n\\n— Ven y averígua...</td>\n",
       "    </tr>\n",
       "    <tr>\n",
       "      <th>3</th>\n",
       "      <td>tweet4</td>\n",
       "      <td>Que fea soy</td>\n",
       "    </tr>\n",
       "    <tr>\n",
       "      <th>4</th>\n",
       "      <td>tweet5</td>\n",
       "      <td>#OMG, VAMOS EN RETROCESO RESULTE CON 40 SEGUID...</td>\n",
       "    </tr>\n",
       "  </tbody>\n",
       "</table>\n",
       "</div>"
      ],
      "text/plain": [
       "       id                                               text\n",
       "0  tweet1  Historia #36.\\n*Entra corriendo y gritando al ...\n",
       "1  tweet2  estoy tomando helado en el centro y pedi tiram...\n",
       "2  tweet3  — ¿De 15 o 20 centímetros?\\n\\n— Ven y averígua...\n",
       "3  tweet4                                        Que fea soy\n",
       "4  tweet5  #OMG, VAMOS EN RETROCESO RESULTE CON 40 SEGUID..."
      ]
     },
     "execution_count": 46,
     "metadata": {},
     "output_type": "execute_result"
    }
   ],
   "source": [
    "test_df = pd.read_csv('./data/haha_2019_test.csv')\n",
    "test_df.head()"
   ]
  },
  {
   "cell_type": "code",
   "execution_count": 47,
   "metadata": {},
   "outputs": [
    {
     "data": {
      "text/plain": [
       "(6000, 2)"
      ]
     },
     "execution_count": 47,
     "metadata": {},
     "output_type": "execute_result"
    }
   ],
   "source": [
    "test_df.shape"
   ]
  },
  {
   "cell_type": "code",
   "execution_count": 49,
   "metadata": {},
   "outputs": [
    {
     "name": "stdout",
     "output_type": "stream",
     "text": [
      "Default Rules:\n",
      " ['fixup', 'replace_rep', 'replace_wrep', 'deal_caps', 'spec_add_spaces', 'rm_useless_spaces', 'sub_nl'] \n",
      "\n",
      "\n"
     ]
    }
   ],
   "source": [
    "## apply the rules\n",
    "raw_text = test_df.loc[:,'text']\n",
    "\n",
    "print(\"Default Rules:\\n\",[x.__name__ for x in default_rules],\"\\n\\n\")\n",
    "for rule in default_rules:\n",
    "    raw_text = raw_text.apply(lambda x: rule(str(x)))    \n",
    "test_df['new_text'] =  raw_text #tokenizer adds xxbos"
   ]
  },
  {
   "cell_type": "code",
   "execution_count": 78,
   "metadata": {},
   "outputs": [],
   "source": [
    "data_tst = TextClasDataBunch.from_df(PATH, df_train, df_valid, test_df,\n",
    "                               tokenizer=mycust_tok, vocab=sp_vocab,\n",
    "                               text_cols='new_text', label_cols='is_humor')"
   ]
  },
  {
   "cell_type": "code",
   "execution_count": 79,
   "metadata": {},
   "outputs": [],
   "source": [
    "learn.data = data_tst"
   ]
  },
  {
   "cell_type": "code",
   "execution_count": 80,
   "metadata": {},
   "outputs": [
    {
     "data": {
      "image/png": "[encoded data removed]",
      "text/plain": [
       "<Figure size 432x288 with 1 Axes>"
      ]
     },
     "metadata": {
      "needs_background": "light"
     },
     "output_type": "display_data"
    }
   ],
   "source": [
    "preds_t,y_t,losses_t = learn.get_preds(DatasetType.Train,with_loss=True)\n",
    "interp_t = ClassificationInterpretation(learn, preds_t, y_t, losses_t)\n",
    "interp_t.plot_confusion_matrix()"
   ]
  },
  {
   "cell_type": "code",
   "execution_count": 81,
   "metadata": {},
   "outputs": [
    {
     "data": {
      "image/png": "[encoded data removed]",
      "text/plain": [
       "<Figure size 432x288 with 1 Axes>"
      ]
     },
     "metadata": {
      "needs_background": "light"
     },
     "output_type": "display_data"
    }
   ],
   "source": [
    "preds_tst,y_tst,losses_tst = learn.get_preds(DatasetType.Test,with_loss=True, ordered=True)\n",
    "interp_t = ClassificationInterpretation(learn, preds_tst, y_tst, losses_tst)\n",
    "interp_t.plot_confusion_matrix()"
   ]
  },
  {
   "cell_type": "code",
   "execution_count": 85,
   "metadata": {},
   "outputs": [
    {
     "data": {
      "text/plain": [
       "Text ▁ xxbos ▁¿ le ▁pusiste ▁a ▁tu ▁hijo ▁bec kh am ▁hace ▁16 ▁años ▁y ▁ahora ▁odia ▁el ▁fútbol ▁, ▁a ▁la ▁humanidad ▁y ▁a ▁ti ... ▁? ▁. ¡ normal ▁, ▁ya ▁hay ▁que ▁ser ▁gilipollas ▁! ▁."
      ]
     },
     "execution_count": 85,
     "metadata": {},
     "output_type": "execute_result"
    }
   ],
   "source": [
    "data_tst.test_ds.get(-1)"
   ]
  },
  {
   "cell_type": "code",
   "execution_count": 92,
   "metadata": {},
   "outputs": [
    {
     "data": {
      "text/html": [
       "<div>\n",
       "<style scoped>\n",
       "    .dataframe tbody tr th:only-of-type {\n",
       "        vertical-align: middle;\n",
       "    }\n",
       "\n",
       "    .dataframe tbody tr th {\n",
       "        vertical-align: top;\n",
       "    }\n",
       "\n",
       "    .dataframe thead th {\n",
       "        text-align: right;\n",
       "    }\n",
       "</style>\n",
       "<table border=\"1\" class=\"dataframe\">\n",
       "  <thead>\n",
       "    <tr style=\"text-align: right;\">\n",
       "      <th></th>\n",
       "      <th>id</th>\n",
       "      <th>text</th>\n",
       "      <th>new_text</th>\n",
       "    </tr>\n",
       "  </thead>\n",
       "  <tbody>\n",
       "    <tr>\n",
       "      <th>0</th>\n",
       "      <td>tweet1</td>\n",
       "      <td>Historia #36.\\n*Entra corriendo y gritando al ...</td>\n",
       "      <td>historia # 36.xxnl *entra corriendo y gritando...</td>\n",
       "    </tr>\n",
       "    <tr>\n",
       "      <th>1</th>\n",
       "      <td>tweet2</td>\n",
       "      <td>estoy tomando helado en el centro y pedi tiram...</td>\n",
       "      <td>estoy tomando helado en el centro y pedi tiram...</td>\n",
       "    </tr>\n",
       "    <tr>\n",
       "      <th>2</th>\n",
       "      <td>tweet3</td>\n",
       "      <td>— ¿De 15 o 20 centímetros?\\n\\n— Ven y averígua...</td>\n",
       "      <td>— ¿de 15 o 20 centímetros ? xxnl xxnl — ven y ...</td>\n",
       "    </tr>\n",
       "    <tr>\n",
       "      <th>3</th>\n",
       "      <td>tweet4</td>\n",
       "      <td>Que fea soy</td>\n",
       "      <td>que fea soy</td>\n",
       "    </tr>\n",
       "    <tr>\n",
       "      <th>4</th>\n",
       "      <td>tweet5</td>\n",
       "      <td>#OMG, VAMOS EN RETROCESO RESULTE CON 40 SEGUID...</td>\n",
       "      <td># xxup omg , xxup vamos en xxup retroceso xxu...</td>\n",
       "    </tr>\n",
       "  </tbody>\n",
       "</table>\n",
       "</div>"
      ],
      "text/plain": [
       "       id                                               text  \\\n",
       "0  tweet1  Historia #36.\\n*Entra corriendo y gritando al ...   \n",
       "1  tweet2  estoy tomando helado en el centro y pedi tiram...   \n",
       "2  tweet3  — ¿De 15 o 20 centímetros?\\n\\n— Ven y averígua...   \n",
       "3  tweet4                                        Que fea soy   \n",
       "4  tweet5  #OMG, VAMOS EN RETROCESO RESULTE CON 40 SEGUID...   \n",
       "\n",
       "                                            new_text  \n",
       "0  historia # 36.xxnl *entra corriendo y gritando...  \n",
       "1  estoy tomando helado en el centro y pedi tiram...  \n",
       "2  — ¿de 15 o 20 centímetros ? xxnl xxnl — ven y ...  \n",
       "3                                        que fea soy  \n",
       "4   # xxup omg , xxup vamos en xxup retroceso xxu...  "
      ]
     },
     "execution_count": 92,
     "metadata": {},
     "output_type": "execute_result"
    }
   ],
   "source": [
    "test_df.head()"
   ]
  },
  {
   "cell_type": "code",
   "execution_count": 48,
   "metadata": {},
   "outputs": [],
   "source": [
    "out_cols = ['id','is_humor','funniness_average'] #need value in last col.  Try 3?"
   ]
  },
  {
   "cell_type": "code",
   "execution_count": 87,
   "metadata": {},
   "outputs": [],
   "source": [
    "out_df = test_df['id'].to_frame().copy()"
   ]
  },
  {
   "cell_type": "code",
   "execution_count": 88,
   "metadata": {},
   "outputs": [],
   "source": [
    "out_df['is_humor'] = to_np(preds_tst.argmax(dim=1))"
   ]
  },
  {
   "cell_type": "code",
   "execution_count": 90,
   "metadata": {},
   "outputs": [],
   "source": [
    "out_df['funniness_average'] = 3."
   ]
  },
  {
   "cell_type": "code",
   "execution_count": 93,
   "metadata": {},
   "outputs": [
    {
     "data": {
      "text/html": [
       "<div>\n",
       "<style scoped>\n",
       "    .dataframe tbody tr th:only-of-type {\n",
       "        vertical-align: middle;\n",
       "    }\n",
       "\n",
       "    .dataframe tbody tr th {\n",
       "        vertical-align: top;\n",
       "    }\n",
       "\n",
       "    .dataframe thead th {\n",
       "        text-align: right;\n",
       "    }\n",
       "</style>\n",
       "<table border=\"1\" class=\"dataframe\">\n",
       "  <thead>\n",
       "    <tr style=\"text-align: right;\">\n",
       "      <th></th>\n",
       "      <th>id</th>\n",
       "      <th>is_humor</th>\n",
       "      <th>funniness_average</th>\n",
       "    </tr>\n",
       "  </thead>\n",
       "  <tbody>\n",
       "    <tr>\n",
       "      <th>0</th>\n",
       "      <td>tweet1</td>\n",
       "      <td>1</td>\n",
       "      <td>3.0</td>\n",
       "    </tr>\n",
       "    <tr>\n",
       "      <th>1</th>\n",
       "      <td>tweet2</td>\n",
       "      <td>0</td>\n",
       "      <td>3.0</td>\n",
       "    </tr>\n",
       "    <tr>\n",
       "      <th>2</th>\n",
       "      <td>tweet3</td>\n",
       "      <td>1</td>\n",
       "      <td>3.0</td>\n",
       "    </tr>\n",
       "    <tr>\n",
       "      <th>3</th>\n",
       "      <td>tweet4</td>\n",
       "      <td>0</td>\n",
       "      <td>3.0</td>\n",
       "    </tr>\n",
       "    <tr>\n",
       "      <th>4</th>\n",
       "      <td>tweet5</td>\n",
       "      <td>0</td>\n",
       "      <td>3.0</td>\n",
       "    </tr>\n",
       "  </tbody>\n",
       "</table>\n",
       "</div>"
      ],
      "text/plain": [
       "       id  is_humor  funniness_average\n",
       "0  tweet1         1                3.0\n",
       "1  tweet2         0                3.0\n",
       "2  tweet3         1                3.0\n",
       "3  tweet4         0                3.0\n",
       "4  tweet5         0                3.0"
      ]
     },
     "execution_count": 93,
     "metadata": {},
     "output_type": "execute_result"
    }
   ],
   "source": [
    "out_df.head()"
   ]
  },
  {
   "cell_type": "code",
   "execution_count": 97,
   "metadata": {},
   "outputs": [],
   "source": [
    "out_df.to_csv('sub0520_1.csv',header=True,index=False)"
   ]
  },
  {
   "cell_type": "code",
   "execution_count": 98,
   "metadata": {},
   "outputs": [
    {
     "name": "stdout",
     "output_type": "stream",
     "text": [
      "id,is_humor,funniness_average\r\n",
      "tweet1,1,3.0\r\n",
      "tweet2,0,3.0\r\n",
      "tweet3,1,3.0\r\n",
      "tweet4,0,3.0\r\n",
      "tweet5,0,3.0\r\n",
      "tweet6,0,3.0\r\n",
      "tweet7,0,3.0\r\n",
      "tweet8,0,3.0\r\n",
      "tweet9,0,3.0\r\n"
     ]
    }
   ],
   "source": [
    "!head sub0520_1.csv"
   ]
  },
  {
   "cell_type": "code",
   "execution_count": 100,
   "metadata": {},
   "outputs": [
    {
     "name": "stdout",
     "output_type": "stream",
     "text": [
      "  adding: sub0520_1.csv (deflated 84%)\r\n"
     ]
    }
   ],
   "source": [
    "!zip  sub0520_1.zip sub0520_1.csv "
   ]
  },
  {
   "cell_type": "code",
   "execution_count": 101,
   "metadata": {},
   "outputs": [],
   "source": [
    "!cp sub0520_1.zip /mnt/awcnas4_AWX/tmp/"
   ]
  },
  {
   "cell_type": "code",
   "execution_count": null,
   "metadata": {},
   "outputs": [],
   "source": []
  }
 ],
 "metadata": {
  "kernelspec": {
   "display_name": "Python 3.7 fasta.ai1 DEV",
   "language": "python",
   "name": "fastai1_dev"
  },
  "language_info": {
   "codemirror_mode": {
    "name": "ipython",
    "version": 3
   },
   "file_extension": ".py",
   "mimetype": "text/x-python",
   "name": "python",
   "nbconvert_exporter": "python",
   "pygments_lexer": "ipython3",
   "version": "3.7.3"
  },
  "varInspector": {
   "cols": {
    "lenName": 16,
    "lenType": 16,
    "lenVar": 40
   },
   "kernels_config": {
    "python": {
     "delete_cmd_postfix": "",
     "delete_cmd_prefix": "del ",
     "library": "var_list.py",
     "varRefreshCmd": "print(var_dic_list())"
    },
    "r": {
     "delete_cmd_postfix": ") ",
     "delete_cmd_prefix": "rm(",
     "library": "var_list.r",
     "varRefreshCmd": "cat(var_dic_list()) "
    }
   },
   "types_to_exclude": [
    "module",
    "function",
    "builtin_function_or_method",
    "instance",
    "_Feature"
   ],
   "window_display": false
  }
 },
 "nbformat": 4,
 "nbformat_minor": 2
}
