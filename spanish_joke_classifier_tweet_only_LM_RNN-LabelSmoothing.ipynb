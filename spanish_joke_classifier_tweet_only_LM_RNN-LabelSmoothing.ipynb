{
 "cells": [
  {
   "cell_type": "markdown",
   "metadata": {},
   "source": [
    "Use the tweets for the updated vocab, test classifer on humor"
   ]
  },
  {
   "cell_type": "code",
   "execution_count": 1,
   "metadata": {},
   "outputs": [
    {
     "name": "stdout",
     "output_type": "stream",
     "text": [
      "/home/farzin/haha_2019\r\n"
     ]
    }
   ],
   "source": [
    "!pwd"
   ]
  },
  {
   "cell_type": "code",
   "execution_count": 2,
   "metadata": {},
   "outputs": [],
   "source": [
    "%reload_ext autoreload\n",
    "%autoreload 2"
   ]
  },
  {
   "cell_type": "code",
   "execution_count": 3,
   "metadata": {},
   "outputs": [],
   "source": [
    "import os\n",
    "os.environ[\"CUDA_VISIBLE_DEVICES\"]=\"0\""
   ]
  },
  {
   "cell_type": "code",
   "execution_count": 4,
   "metadata": {},
   "outputs": [],
   "source": [
    "from fastai.text import *\n",
    "from fastai.callbacks import SaveModelCallback\n",
    "import sentencepiece as spm #https://github.com/google/sentencepiece"
   ]
  },
  {
   "cell_type": "markdown",
   "metadata": {},
   "source": [
    "# Python code Examples (testing out tokenizer)"
   ]
  },
  {
   "cell_type": "markdown",
   "metadata": {},
   "source": [
    "## Data"
   ]
  },
  {
   "cell_type": "markdown",
   "metadata": {},
   "source": [
    "### Reading the texts"
   ]
  },
  {
   "cell_type": "code",
   "execution_count": 5,
   "metadata": {},
   "outputs": [],
   "source": [
    "PATH = Path('./data/rnn/')"
   ]
  },
  {
   "cell_type": "code",
   "execution_count": 6,
   "metadata": {},
   "outputs": [],
   "source": [
    "all_texts_df = pd.read_csv('./data/haha_2019_train.csv')"
   ]
  },
  {
   "cell_type": "code",
   "execution_count": 7,
   "metadata": {},
   "outputs": [
    {
     "data": {
      "text/html": [
       "<div>\n",
       "<style scoped>\n",
       "    .dataframe tbody tr th:only-of-type {\n",
       "        vertical-align: middle;\n",
       "    }\n",
       "\n",
       "    .dataframe tbody tr th {\n",
       "        vertical-align: top;\n",
       "    }\n",
       "\n",
       "    .dataframe thead th {\n",
       "        text-align: right;\n",
       "    }\n",
       "</style>\n",
       "<table border=\"1\" class=\"dataframe\">\n",
       "  <thead>\n",
       "    <tr style=\"text-align: right;\">\n",
       "      <th></th>\n",
       "      <th>id</th>\n",
       "      <th>text</th>\n",
       "      <th>is_humor</th>\n",
       "      <th>votes_no</th>\n",
       "      <th>votes_1</th>\n",
       "      <th>votes_2</th>\n",
       "      <th>votes_3</th>\n",
       "      <th>votes_4</th>\n",
       "      <th>votes_5</th>\n",
       "      <th>funniness_average</th>\n",
       "    </tr>\n",
       "  </thead>\n",
       "  <tbody>\n",
       "    <tr>\n",
       "      <th>0</th>\n",
       "      <td>705196579758583809</td>\n",
       "      <td>Niveles de retraso mental: \\r\\n\\r\\n— Bajo.\\r\\n...</td>\n",
       "      <td>1</td>\n",
       "      <td>1</td>\n",
       "      <td>2</td>\n",
       "      <td>2</td>\n",
       "      <td>0</td>\n",
       "      <td>0</td>\n",
       "      <td>0</td>\n",
       "      <td>1.5</td>\n",
       "    </tr>\n",
       "    <tr>\n",
       "      <th>1</th>\n",
       "      <td>678040651817213952</td>\n",
       "      <td>—Vamos Luke desenfunda tu sable, demuestra tu ...</td>\n",
       "      <td>1</td>\n",
       "      <td>1</td>\n",
       "      <td>3</td>\n",
       "      <td>0</td>\n",
       "      <td>1</td>\n",
       "      <td>0</td>\n",
       "      <td>0</td>\n",
       "      <td>1.5</td>\n",
       "    </tr>\n",
       "    <tr>\n",
       "      <th>2</th>\n",
       "      <td>546750892213829633</td>\n",
       "      <td>- ¿Te ofrezco algo?, ¿Agua, café, mi corazón, ...</td>\n",
       "      <td>1</td>\n",
       "      <td>0</td>\n",
       "      <td>2</td>\n",
       "      <td>1</td>\n",
       "      <td>0</td>\n",
       "      <td>1</td>\n",
       "      <td>1</td>\n",
       "      <td>2.6</td>\n",
       "    </tr>\n",
       "    <tr>\n",
       "      <th>3</th>\n",
       "      <td>965807211292364801</td>\n",
       "      <td>No se porqué me hago la cabeza deooos</td>\n",
       "      <td>0</td>\n",
       "      <td>3</td>\n",
       "      <td>0</td>\n",
       "      <td>0</td>\n",
       "      <td>0</td>\n",
       "      <td>0</td>\n",
       "      <td>0</td>\n",
       "      <td>NaN</td>\n",
       "    </tr>\n",
       "    <tr>\n",
       "      <th>4</th>\n",
       "      <td>638403841839484928</td>\n",
       "      <td>Quisiera saber que hago durante la siesta de l...</td>\n",
       "      <td>0</td>\n",
       "      <td>4</td>\n",
       "      <td>0</td>\n",
       "      <td>1</td>\n",
       "      <td>0</td>\n",
       "      <td>0</td>\n",
       "      <td>0</td>\n",
       "      <td>NaN</td>\n",
       "    </tr>\n",
       "  </tbody>\n",
       "</table>\n",
       "</div>"
      ],
      "text/plain": [
       "                   id                                               text  \\\n",
       "0  705196579758583809  Niveles de retraso mental: \\r\\n\\r\\n— Bajo.\\r\\n...   \n",
       "1  678040651817213952  —Vamos Luke desenfunda tu sable, demuestra tu ...   \n",
       "2  546750892213829633  - ¿Te ofrezco algo?, ¿Agua, café, mi corazón, ...   \n",
       "3  965807211292364801              No se porqué me hago la cabeza deooos   \n",
       "4  638403841839484928  Quisiera saber que hago durante la siesta de l...   \n",
       "\n",
       "   is_humor  votes_no  votes_1  votes_2  votes_3  votes_4  votes_5  \\\n",
       "0         1         1        2        2        0        0        0   \n",
       "1         1         1        3        0        1        0        0   \n",
       "2         1         0        2        1        0        1        1   \n",
       "3         0         3        0        0        0        0        0   \n",
       "4         0         4        0        1        0        0        0   \n",
       "\n",
       "   funniness_average  \n",
       "0                1.5  \n",
       "1                1.5  \n",
       "2                2.6  \n",
       "3                NaN  \n",
       "4                NaN  "
      ]
     },
     "execution_count": 7,
     "metadata": {},
     "output_type": "execute_result"
    }
   ],
   "source": [
    "all_texts_df.head()"
   ]
  },
  {
   "cell_type": "markdown",
   "metadata": {},
   "source": [
    "### apply pre-rules to text"
   ]
  },
  {
   "cell_type": "code",
   "execution_count": 8,
   "metadata": {},
   "outputs": [],
   "source": [
    "## New Line char for replacement in text\n",
    "NL = 'xxnl'\n",
    "defaults.text_spec_tok.append(NL) #add a New Line special char\n",
    "\n",
    "def sub_nl(t:str) -> str:\n",
    "    \"Replaces \\n by xxnl\"\n",
    "    return t.replace(\"\\r\\n\",\"\\n\").replace(\"\\n\",NL+\" \")\n",
    "\n",
    "# def sub_br(t:str) -> str:\n",
    "#     \"Replaces the <br /> by \\n\"\n",
    "#     re_br = re.compile(r'<\\s*br\\s*/?>', re.IGNORECASE)\n",
    "#     return re_br.sub(\"\\n\", t)\n",
    "\n",
    "def spec_add_spaces(t:str) -> str:\n",
    "    \"Add spaces between special characters\"\n",
    "    return re.sub(r'([/#?!@,])', r' \\1 ', t)\n",
    "\n",
    "def rm_useless_spaces(t:str) -> str:\n",
    "    \"Remove multiple spaces\"\n",
    "    return re.sub(' {2,}', ' ', t)\n",
    "\n",
    "def replace_rep(t:str) -> str:\n",
    "    \"Replace repetitions at the character level\"\n",
    "    def _replace_rep(m:Collection[str]) -> str:\n",
    "        c,cc = m.groups()\n",
    "        return f' {TK_REP} {len(cc)+1} {c} '\n",
    "    re_rep = re.compile(r'(\\S)(\\1{3,})')\n",
    "    return re_rep.sub(_replace_rep, t)\n",
    "    \n",
    "def replace_wrep(t:str) -> str:\n",
    "    \"Replace word repetitions\"\n",
    "    def _replace_wrep(m:Collection[str]) -> str:\n",
    "        c,cc = m.groups()\n",
    "        return f' {TK_WREP} {len(cc.split())+1} {c} '\n",
    "    re_wrep = re.compile(r'(\\b\\w+\\W+)(\\1{3,})')\n",
    "    return re_wrep.sub(_replace_wrep, t)\n",
    "\n",
    "def deal_caps(t:str) -> str:\n",
    "    \"Replace words in all caps\"\n",
    "    res = []\n",
    "    for s in re.findall(r'\\w+|\\W+', t):\n",
    "        res += ([f' {TK_UP} ',s.lower()] if (s.isupper() and (len(s)>2)) else [s.lower()])\n",
    "    return ''.join(res)\n",
    "\n",
    "def fixup(x:str) -> str:\n",
    "    \"List of replacements from html strings\"\n",
    "    re1 = re.compile(r'  +')\n",
    "    x = x.replace('#39;', \"'\").replace('amp;', '&').replace('#146;', \"'\").replace(\n",
    "        'nbsp;', ' ').replace('#36;', '$').replace('\\\\n', \"\\n\").replace('quot;', \"'\").replace(\n",
    "        '<br />', \"\\n\").replace('\\\\\"', '\"').replace('<unk>',UNK).replace(' @.@ ','.').replace(\n",
    "        ' @-@ ','-').replace('\\\\', ' \\\\ ')\n",
    "    return re1.sub(' ', html.unescape(x))\n",
    "\n",
    "default_rules = [fixup, replace_rep, replace_wrep, deal_caps, spec_add_spaces, \n",
    "                 rm_useless_spaces, sub_nl]"
   ]
  },
  {
   "cell_type": "code",
   "execution_count": 9,
   "metadata": {},
   "outputs": [
    {
     "name": "stdout",
     "output_type": "stream",
     "text": [
      "Default Rules:\n",
      " ['fixup', 'replace_rep', 'replace_wrep', 'deal_caps', 'spec_add_spaces', 'rm_useless_spaces', 'sub_nl'] \n",
      "\n",
      "\n",
      "<function fixup at 0x7f56e62b32f0>\n",
      "<function replace_rep at 0x7f56e62b3158>\n",
      "<function replace_wrep at 0x7f56e62b31e0>\n",
      "<function deal_caps at 0x7f56e62b3268>\n",
      "<function spec_add_spaces at 0x7f56e62b3048>\n",
      "<function rm_useless_spaces at 0x7f56e62b30d0>\n",
      "<function sub_nl at 0x7f56e62fbd90>\n"
     ]
    }
   ],
   "source": [
    "## apply the rules\n",
    "raw_text = all_texts_df.loc[:,'text']\n",
    "\n",
    "print(\"Default Rules:\\n\",[x.__name__ for x in default_rules],\"\\n\\n\")\n",
    "\n",
    "for rule in default_rules:\n",
    "    print(rule)\n",
    "    raw_text = raw_text.apply(lambda x: rule(str(x)))\n",
    "    \n",
    "all_texts_df['new_text'] = 'xxbos ' + raw_text"
   ]
  },
  {
   "cell_type": "code",
   "execution_count": 10,
   "metadata": {},
   "outputs": [
    {
     "data": {
      "text/plain": [
       "0    xxbos niveles de retraso mental: xxnl xxnl — b...\n",
       "1    xxbos —vamos luke desenfunda tu sable , demues...\n",
       "2    xxbos - ¿te ofrezco algo ? , ¿agua , café , mi...\n",
       "3          xxbos no se porqué me hago la cabeza deooos\n",
       "4    xxbos quisiera saber que hago durante la siest...\n",
       "Name: new_text, dtype: object"
      ]
     },
     "execution_count": 10,
     "metadata": {},
     "output_type": "execute_result"
    }
   ],
   "source": [
    "all_texts_df['new_text'].head()"
   ]
  },
  {
   "cell_type": "code",
   "execution_count": 11,
   "metadata": {},
   "outputs": [
    {
     "data": {
      "text/plain": [
       "(24000, 11)"
      ]
     },
     "execution_count": 11,
     "metadata": {},
     "output_type": "execute_result"
    }
   ],
   "source": [
    "all_texts_df.shape"
   ]
  },
  {
   "cell_type": "markdown",
   "metadata": {},
   "source": [
    "### Clean up the imbalanced data to balance"
   ]
  },
  {
   "cell_type": "code",
   "execution_count": 12,
   "metadata": {},
   "outputs": [
    {
     "name": "stdout",
     "output_type": "stream",
     "text": [
      "Number of positive samples: 9253\n",
      "Number of negative samples: 14747\n",
      "Total samples: 24000\n"
     ]
    }
   ],
   "source": [
    "print('Number of positive samples:', (all_texts_df.is_humor == 1).sum())\n",
    "print('Number of negative samples:',  (all_texts_df.is_humor == 0).sum())\n",
    "print('Total samples:', len(all_texts_df))"
   ]
  },
  {
   "cell_type": "code",
   "execution_count": 13,
   "metadata": {},
   "outputs": [],
   "source": [
    "rnd_seed = 20190313\n",
    "np.random.seed(rnd_seed)\n",
    "\n",
    "idx = np.random.permutation(len(all_texts_df))\n",
    "test_cut = int(0.15 * len(idx))\n",
    "valid_cut = int(0.15 * len(idx-test_cut))\n",
    "\n",
    "df_train_all = all_texts_df.iloc[idx[:-(valid_cut+test_cut)],:]\n",
    "df_valid     = all_texts_df.iloc[idx[-(valid_cut+test_cut):-test_cut],:]\n",
    "df_test      = all_texts_df.iloc[idx[-test_cut:],:]"
   ]
  },
  {
   "cell_type": "code",
   "execution_count": 14,
   "metadata": {},
   "outputs": [
    {
     "name": "stdout",
     "output_type": "stream",
     "text": [
      "Test prevalence(n = 3600): 0.3938888888888889\n",
      "Valid prevalence(n = 3600): 0.3852777777777778\n",
      "Train all prevalence(n = 16800): 0.3838095238095238\n",
      "all samples (n = 24000)\n"
     ]
    }
   ],
   "source": [
    "print('Test prevalence(n = %d):'%len(df_test),df_test.is_humor.sum()/ len(df_test))\n",
    "print('Valid prevalence(n = %d):'%len(df_valid),df_valid.is_humor.sum()/ len(df_valid))\n",
    "print('Train all prevalence(n = %d):'%len(df_train_all), df_train_all.is_humor.sum()/ len(df_train_all))\n",
    "print('all samples (n = %d)'%len(all_texts_df))\n",
    "assert len(all_texts_df) == (len(df_test)+len(df_valid)+len(df_train_all)),'math didnt work'"
   ]
  },
  {
   "cell_type": "code",
   "execution_count": 15,
   "metadata": {},
   "outputs": [
    {
     "data": {
      "text/plain": [
       "((6448, 11), (10352, 11))"
      ]
     },
     "execution_count": 15,
     "metadata": {},
     "output_type": "execute_result"
    }
   ],
   "source": [
    "## oversample the less-frequent occuring cases\n",
    "# split the training data into positive and negative\n",
    "rows_pos = df_train_all.is_humor == 1\n",
    "df_train_pos = df_train_all.loc[rows_pos]\n",
    "df_train_neg = df_train_all.loc[~rows_pos]\n",
    "df_train_pos.shape,df_train_neg.shape"
   ]
  },
  {
   "cell_type": "code",
   "execution_count": 16,
   "metadata": {},
   "outputs": [
    {
     "name": "stdout",
     "output_type": "stream",
     "text": [
      "Train prevalence (n = 20704): 0.5\n"
     ]
    }
   ],
   "source": [
    "df_resample_pos = df_train_pos.sample(n=len(df_train_neg),replace=True,\n",
    "                                      axis=0,random_state=rnd_seed).reset_index(drop=True)\n",
    "df_train = pd.concat([df_resample_pos,df_train_neg],axis=0) #randomized again in DataBunch?\n",
    "print('Train prevalence (n = %d):'%len(df_train), df_train.is_humor.sum()/ len(df_train))"
   ]
  },
  {
   "cell_type": "markdown",
   "metadata": {},
   "source": [
    "### sp tokenizer from training"
   ]
  },
  {
   "cell_type": "code",
   "execution_count": 17,
   "metadata": {},
   "outputs": [],
   "source": [
    "model_prefix = './all_tweets_es_0509'"
   ]
  },
  {
   "cell_type": "code",
   "execution_count": 18,
   "metadata": {},
   "outputs": [],
   "source": [
    "## itos from m.vocab file: just read directly and populate the dictionary\n",
    "itos = [] #{}\n",
    "with open(f'{model_prefix}.vocab','r') as f:\n",
    "    for line_num,line in enumerate(f):\n",
    "#         itos[line_num] = line.split(\"\\t\")[0]\n",
    "        itos.append(line.split(\"\\t\")[0])\n",
    "        \n",
    "class SPTokenizer(BaseTokenizer):\n",
    "    \"Wrapper around a SentncePiece tokenizer to make it a `BaseTokenizer`.\"\n",
    "    def __init__(self, model_prefix:str):\n",
    "        self.tok = spm.SentencePieceProcessor()\n",
    "        self.tok.load(f'{model_prefix}.model')\n",
    "\n",
    "    def tokenizer(self, t:str) -> List[str]:\n",
    "#         return self.tok.EncodeAsIds(t)  ## tokenize + numericalize. We have them broken into two parts,just return tokens\n",
    "        return self.tok.EncodeAsPieces(t)\n",
    "        \n",
    "class CustomTokenizer():\n",
    "    '''Wrapper for SentencePiece toeknizer to fit into Fast.ai V1'''\n",
    "    def __init__(self,tok_func:Callable,model_prefix:str, pre_rules:ListRules=None):\n",
    "        self.tok_func,self.model_prefix = tok_func,model_prefix\n",
    "        self.pre_rules  = ifnone(pre_rules,  defaults.text_pre_rules )\n",
    "        \n",
    "    def __repr__(self) -> str:\n",
    "        res = f'Tokenizer {self.tok_func.__name__} using `{self.model_prefix}` model with the following rules:\\n'\n",
    "        for rule in self.pre_rules: res += f' - {rule.__name__}\\n'\n",
    "        return res        \n",
    "\n",
    "    def process_text(self, t:str,tok:BaseTokenizer) -> List[str]:\n",
    "        \"Processe one text `t` with tokenizer `tok`.\"\n",
    "        for rule in self.pre_rules: t = rule(t)  \n",
    "        toks = tok.tokenizer(t)\n",
    "    \n",
    "        return toks \n",
    "    \n",
    "    def _process_all_1(self,texts:Collection[str]) -> List[List[str]]:\n",
    "        'Process a list of `texts` in one process'\n",
    "        tok = self.tok_func(self.model_prefix)\n",
    "        return [self.process_text(t,tok) for t in texts]\n",
    "                                                                     \n",
    "    def process_all(self, texts:Collection[str]) -> List[List[str]]: \n",
    "        \"Process a list of `texts`.\"                                 \n",
    "        return self._process_all_1(texts)"
   ]
  },
  {
   "cell_type": "code",
   "execution_count": 19,
   "metadata": {},
   "outputs": [
    {
     "data": {
      "text/plain": [
       "['→', '😫', '🤨', '😲', '🏟', '📖', '🎸', '🏿', '😮', '🎬']"
      ]
     },
     "execution_count": 19,
     "metadata": {},
     "output_type": "execute_result"
    }
   ],
   "source": [
    "itos[-10:]"
   ]
  },
  {
   "cell_type": "code",
   "execution_count": 20,
   "metadata": {},
   "outputs": [],
   "source": [
    "mycust_tok = CustomTokenizer(SPTokenizer,model_prefix,pre_rules=default_rules)\n",
    "sp_vocab = Vocab(itos)"
   ]
  },
  {
   "cell_type": "code",
   "execution_count": 21,
   "metadata": {},
   "outputs": [],
   "source": [
    "data = TextClasDataBunch.from_df(PATH,df_train,df_valid,df_test,\n",
    "                               tokenizer=mycust_tok, vocab=sp_vocab,\n",
    "                               text_cols='new_text', label_cols='is_humor')"
   ]
  },
  {
   "cell_type": "code",
   "execution_count": 22,
   "metadata": {},
   "outputs": [
    {
     "data": {
      "text/html": [
       "<table border=\"1\" class=\"dataframe\">\n",
       "  <thead>\n",
       "    <tr style=\"text-align: right;\">\n",
       "      <th>text</th>\n",
       "      <th>target</th>\n",
       "    </tr>\n",
       "  </thead>\n",
       "  <tbody>\n",
       "    <tr>\n",
       "      <td>▁ xxbos ▁ xxbos ▁❤ .- ~ * ( ▁? ▁el ▁di vo 00 ▁d 3 ▁tw 1 tter ▁! ▁! ▁! ▁? ▁? ▁~ k 3 ▁di 4 vl 0 zz ▁ki 3 r 3 z ▁k 3 ▁p 4 rt 3 ▁d 3 ▁no 00 ▁n 0 ▁3 nt 13 nd 3 z ▁b 3 the ▁k 0 n ▁ki 3 n ▁t 3 ▁d 3 ▁l 4</td>\n",
       "      <td>0</td>\n",
       "    </tr>\n",
       "    <tr>\n",
       "      <td>▁ xxbos ▁ xxbos ▁❤ ️ -( el ▁di vo 00 ▁d 3 ▁tw 1 tter ▁! ▁! ▁? ▁i 0 ▁zo i ▁tu ▁ma 3 zt lo ▁? ▁ki 3 n ▁z up 0 ▁3 nz 3 ñ 4 l th 3 ▁? ▁d 3 ▁tu ▁k cuer p 0 ▁io o ▁k 0 noz ko ▁az t 4 ▁la ▁maz ▁in ty ma ▁p 4 r te ▁?</td>\n",
       "      <td>0</td>\n",
       "    </tr>\n",
       "    <tr>\n",
       "      <td>▁ xxbos ▁ xxbos ▁—¡ idio ta ▁! ▁ xxnl ▁—¡ h ist érica ▁! ▁ xxnl ▁— que ▁tarado . xxnl ▁— tar ada ▁tú . xxnl ▁— te ▁odio . xxnl ▁— yo ▁también . xxnl ▁— ▁¡ ▁ xxup ▁jode te ▁! ▁ xxnl ▁— no ▁me ▁hables . xxnl ▁—¡ ok ▁! ▁ xxnl ▁—¡ ok ▁! ▁ xxnl ▁— te ▁amo . xxnl ▁— yo</td>\n",
       "      <td>0</td>\n",
       "    </tr>\n",
       "    <tr>\n",
       "      <td>▁ xxbos ▁ xxbos ▁¡ ya ▁llegó ▁santa ▁! ▁ xxnl ▁ xxunk _ xxunk xxnl ▁( ・ xxunk ・ ) xxnl ▁_ | ▁ xxunk / ( ___ ▁ xxnl ▁/ ▁l ▁( __ __ / xxnl ▁ xxnl ▁ah ▁no ▁, ▁es ▁mi ▁papá ▁bien ▁pedo . xxnl ▁ xxnl ▁&lt; xxunk / xxunk - xxunk ___ xxnl ▁/ &lt; _ ▁/ ▁ xxrep ▁4 ▁_ ▁/ ”</td>\n",
       "      <td>1</td>\n",
       "    </tr>\n",
       "    <tr>\n",
       "      <td>▁ xxbos ▁ xxbos ▁¡ ya ▁llegó ▁santa ▁! ▁ xxnl ▁ xxunk _ xxunk xxnl ▁( ・ xxunk ・ ) xxnl ▁_ | ▁ xxunk / ( ___ ▁ xxnl ▁/ ▁l ▁( __ __ / xxnl ▁ xxnl ▁ah ▁no ▁, ▁es ▁mi ▁papá ▁bien ▁pedo . xxnl ▁ xxnl ▁&lt; xxunk / xxunk - xxunk ___ xxnl ▁/ &lt; _ ▁/ ▁ xxrep ▁4 ▁_ ▁/ ”</td>\n",
       "      <td>1</td>\n",
       "    </tr>\n",
       "    <tr>\n",
       "      <td>▁ xxbos ▁ xxbos ▁( ▁ xxup ▁o _ o ) ▁( xxunk _ ▁ xxunk ) ▁( ▁ xxup ▁o _ o ) ▁( xxunk _ ▁ xxunk ) ▁( ▁ xxup ▁o _ o ) ▁( xxunk _ ▁ xxunk ) ▁( ▁ xxup ▁o _ o ) ▁( xxunk _ ▁ xxunk ) ▁( xxunk _ ▁ xxunk ). ▁yo ▁con ▁el ▁móvil ▁en ▁clase .</td>\n",
       "      <td>1</td>\n",
       "    </tr>\n",
       "    <tr>\n",
       "      <td>▁ xxbos ▁ xxbos ▁— cuel ga ▁tú . xxnl ▁— no ▁, ▁cuelga ▁tú . ▁ xxnl ▁— no ▁, ▁tú . xxnl ▁— que ▁t ... xxnl ▁—¡ ▁ xxup ▁pinche ▁ xxup ▁tonta ▁me ▁ xxup ▁colgó ▁! ▁ xxnl ▁—¡ te ▁ xxup ▁escuché ▁ xxup ▁pendejo ▁! ▁ xxnl ▁— ▁ xxup ▁jajaj á ▁¡ ay ▁amor ▁! ▁es ▁broma ▁, ▁te ▁amo .</td>\n",
       "      <td>1</td>\n",
       "    </tr>\n",
       "    <tr>\n",
       "      <td>▁ xxbos ▁ xxbos ▁ xxup ▁tengo ▁un ▁ xxup ▁gran ▁ xxup ▁anuncio ▁, ▁ xxup ▁una ▁ xxup ▁noticia ▁ xxup ▁que ▁ xxup ▁cambiará ▁la ▁ xxup ▁historia ▁de ▁ xxup ▁twitter ▁, ▁ xxup ▁que ▁ xxup ▁devolver á ▁el ▁ xxup ▁sentido ▁a ▁ xxup ▁nuestra ▁ xxup ▁vida . xxnl ▁ xxnl ▁ xxup ▁pendientes ▁ xxup ▁hoy ▁en ▁la ▁ xxup ▁noche</td>\n",
       "      <td>0</td>\n",
       "    </tr>\n",
       "    <tr>\n",
       "      <td>▁ xxbos ▁ xxbos ▁— mamá ▁, ▁¿ puedo ▁salir ▁? ▁— no . ▁—¿ me ▁das ▁un ▁calce tín ▁? ▁— ok ▁, ▁toma . ▁— el ▁ xxup ▁amo ▁le ▁ha ▁ xxup ▁dado ▁a ▁ xxup ▁dob by ▁un ▁ xxup ▁calce tín ... ▁¡ ▁ xxup ▁dob by ▁es ▁ xxup ▁libre ▁! ▁# ▁ xxup ▁jajaja ▁# ▁ xxup ▁hp quo tes ▁# ▁xd</td>\n",
       "      <td>1</td>\n",
       "    </tr>\n",
       "    <tr>\n",
       "      <td>▁ xxbos ▁ xxbos ▁—¿ maestro ▁entonces ▁ya ▁aprobé ▁? ▁ xxnl ▁ xxnl ▁( • ▁- ▁• ) ▁ xxnl ▁ xxunk ▁ xxunk ▁ xxunk ▁__ ( • ▁- ▁• ) ▁ xxnl ▁_ xxunk ▁_ xxunk ▁ xxunk ▁ xxunk ▁ xxnl ▁ xxnl ▁—¡ hija ▁, ▁yo ▁soy ▁el ▁conser je ▁! ▁ xxnl ▁ xxnl ▁—¡ ay ▁, ▁por ▁no ▁poner ▁atención ▁!</td>\n",
       "      <td>1</td>\n",
       "    </tr>\n",
       "  </tbody>\n",
       "</table>"
      ],
      "text/plain": [
       "<IPython.core.display.HTML object>"
      ]
     },
     "metadata": {},
     "output_type": "display_data"
    }
   ],
   "source": [
    "data.show_batch(10)  #less xxunk, but still a fair amount..."
   ]
  },
  {
   "cell_type": "markdown",
   "metadata": {},
   "source": [
    "### Check `xxunk` fraction on humor data"
   ]
  },
  {
   "cell_type": "code",
   "execution_count": 23,
   "metadata": {},
   "outputs": [
    {
     "data": {
      "text/plain": [
       "((498,), (20704,))"
      ]
     },
     "execution_count": 23,
     "metadata": {},
     "output_type": "execute_result"
    }
   ],
   "source": [
    "pct_xxunk = pd.Series([sum(y==0)/len(y) for y in [x.data for x in data.train_dl.x]])\n",
    "pct_xxunk[pct_xxunk>0].shape, pct_xxunk.shape"
   ]
  },
  {
   "cell_type": "code",
   "execution_count": 24,
   "metadata": {},
   "outputs": [
    {
     "data": {
      "text/plain": [
       "0.024053323029366306"
      ]
     },
     "execution_count": 24,
     "metadata": {},
     "output_type": "execute_result"
    }
   ],
   "source": [
    "498/20704."
   ]
  },
  {
   "cell_type": "code",
   "execution_count": 25,
   "metadata": {},
   "outputs": [
    {
     "data": {
      "image/png": "[encoded data removed]",
      "text/plain": [
       "<Figure size 432x288 with 1 Axes>"
      ]
     },
     "metadata": {
      "needs_background": "light"
     },
     "output_type": "display_data"
    }
   ],
   "source": [
    "pd.Series([sum(y==0)/len(y) for y in [x.data for x in data.train_dl.x]]).plot()\n",
    "_ = plt.title('Pct UNK in each tweet')"
   ]
  },
  {
   "cell_type": "markdown",
   "metadata": {},
   "source": [
    "### build and train model"
   ]
  },
  {
   "cell_type": "code",
   "execution_count": 26,
   "metadata": {},
   "outputs": [],
   "source": [
    "config = awd_lstm_clas_config.copy()\n",
    "config['qrnn'] = False\n",
    "config['n_hid'] = 2304\n",
    "\n",
    "learn = text_classifier_learner(data, AWD_LSTM, drop_mult=0.5,pretrained=False,\n",
    "                               config=config)\n",
    "learn.load_encoder('twitter_es_enc_RNN_0510')"
   ]
  },
  {
   "cell_type": "code",
   "execution_count": 27,
   "metadata": {},
   "outputs": [
    {
     "data": {
      "text/plain": [
       "FlattenedLoss of CrossEntropyLoss()"
      ]
     },
     "execution_count": 27,
     "metadata": {},
     "output_type": "execute_result"
    }
   ],
   "source": [
    "learn.loss_func"
   ]
  },
  {
   "cell_type": "code",
   "execution_count": 28,
   "metadata": {},
   "outputs": [],
   "source": [
    "from fastai.layers import LabelSmoothingCrossEntropy\n",
    "learn.loss_func = FlattenedLoss(LabelSmoothingCrossEntropy)"
   ]
  },
  {
   "cell_type": "code",
   "execution_count": 29,
   "metadata": {},
   "outputs": [
    {
     "data": {
      "text/html": [],
      "text/plain": [
       "<IPython.core.display.HTML object>"
      ]
     },
     "metadata": {},
     "output_type": "display_data"
    },
    {
     "name": "stdout",
     "output_type": "stream",
     "text": [
      "LR Finder is complete, type {learner_name}.recorder.plot() to see the graph.\n"
     ]
    }
   ],
   "source": [
    "lr_find(learn)"
   ]
  },
  {
   "cell_type": "code",
   "execution_count": 30,
   "metadata": {},
   "outputs": [
    {
     "data": {
      "image/png": "[encoded data removed]",
      "text/plain": [
       "<Figure size 432x288 with 1 Axes>"
      ]
     },
     "metadata": {
      "needs_background": "light"
     },
     "output_type": "display_data"
    }
   ],
   "source": [
    "learn.recorder.plot(skip_end=10)"
   ]
  },
  {
   "cell_type": "code",
   "execution_count": 31,
   "metadata": {},
   "outputs": [
    {
     "data": {
      "text/html": [
       "Total time: 06:35 <p><table style='width:375px; margin-bottom:10px'>\n",
       "  <tr>\n",
       "    <th>epoch</th>\n",
       "    <th>train_loss</th>\n",
       "    <th>valid_loss</th>\n",
       "    <th>accuracy</th>\n",
       "    <th>time</th>\n",
       "  </tr>\n",
       "  <tr>\n",
       "    <th>0</th>\n",
       "    <th>0.519686</th>\n",
       "    <th>0.468194</th>\n",
       "    <th>0.810278</th>\n",
       "    <th>00:19</th>\n",
       "  </tr>\n",
       "  <tr>\n",
       "    <th>1</th>\n",
       "    <th>0.573963</th>\n",
       "    <th>0.486601</th>\n",
       "    <th>0.807778</th>\n",
       "    <th>00:17</th>\n",
       "  </tr>\n",
       "  <tr>\n",
       "    <th>2</th>\n",
       "    <th>0.532530</th>\n",
       "    <th>0.448201</th>\n",
       "    <th>0.827500</th>\n",
       "    <th>00:18</th>\n",
       "  </tr>\n",
       "  <tr>\n",
       "    <th>3</th>\n",
       "    <th>0.537822</th>\n",
       "    <th>0.456327</th>\n",
       "    <th>0.825556</th>\n",
       "    <th>00:17</th>\n",
       "  </tr>\n",
       "  <tr>\n",
       "    <th>4</th>\n",
       "    <th>0.498490</th>\n",
       "    <th>0.460203</th>\n",
       "    <th>0.818056</th>\n",
       "    <th>00:19</th>\n",
       "  </tr>\n",
       "  <tr>\n",
       "    <th>5</th>\n",
       "    <th>0.528919</th>\n",
       "    <th>0.458746</th>\n",
       "    <th>0.832222</th>\n",
       "    <th>00:18</th>\n",
       "  </tr>\n",
       "  <tr>\n",
       "    <th>6</th>\n",
       "    <th>0.537986</th>\n",
       "    <th>0.459706</th>\n",
       "    <th>0.826944</th>\n",
       "    <th>00:17</th>\n",
       "  </tr>\n",
       "  <tr>\n",
       "    <th>7</th>\n",
       "    <th>0.518640</th>\n",
       "    <th>0.454307</th>\n",
       "    <th>0.831389</th>\n",
       "    <th>00:19</th>\n",
       "  </tr>\n",
       "  <tr>\n",
       "    <th>8</th>\n",
       "    <th>0.549496</th>\n",
       "    <th>0.474334</th>\n",
       "    <th>0.806667</th>\n",
       "    <th>00:17</th>\n",
       "  </tr>\n",
       "  <tr>\n",
       "    <th>9</th>\n",
       "    <th>0.496106</th>\n",
       "    <th>0.461068</th>\n",
       "    <th>0.825556</th>\n",
       "    <th>00:18</th>\n",
       "  </tr>\n",
       "  <tr>\n",
       "    <th>10</th>\n",
       "    <th>0.486959</th>\n",
       "    <th>0.445744</th>\n",
       "    <th>0.835556</th>\n",
       "    <th>00:18</th>\n",
       "  </tr>\n",
       "  <tr>\n",
       "    <th>11</th>\n",
       "    <th>0.474238</th>\n",
       "    <th>0.456459</th>\n",
       "    <th>0.826944</th>\n",
       "    <th>00:18</th>\n",
       "  </tr>\n",
       "  <tr>\n",
       "    <th>12</th>\n",
       "    <th>0.466550</th>\n",
       "    <th>0.452931</th>\n",
       "    <th>0.836667</th>\n",
       "    <th>00:18</th>\n",
       "  </tr>\n",
       "  <tr>\n",
       "    <th>13</th>\n",
       "    <th>0.494476</th>\n",
       "    <th>0.455993</th>\n",
       "    <th>0.830278</th>\n",
       "    <th>00:18</th>\n",
       "  </tr>\n",
       "  <tr>\n",
       "    <th>14</th>\n",
       "    <th>0.454767</th>\n",
       "    <th>0.450739</th>\n",
       "    <th>0.836944</th>\n",
       "    <th>00:19</th>\n",
       "  </tr>\n",
       "  <tr>\n",
       "    <th>15</th>\n",
       "    <th>0.450027</th>\n",
       "    <th>0.453720</th>\n",
       "    <th>0.835833</th>\n",
       "    <th>00:19</th>\n",
       "  </tr>\n",
       "  <tr>\n",
       "    <th>16</th>\n",
       "    <th>0.454622</th>\n",
       "    <th>0.452811</th>\n",
       "    <th>0.834167</th>\n",
       "    <th>00:19</th>\n",
       "  </tr>\n",
       "  <tr>\n",
       "    <th>17</th>\n",
       "    <th>0.485714</th>\n",
       "    <th>0.463563</th>\n",
       "    <th>0.823611</th>\n",
       "    <th>00:17</th>\n",
       "  </tr>\n",
       "  <tr>\n",
       "    <th>18</th>\n",
       "    <th>0.468371</th>\n",
       "    <th>0.466908</th>\n",
       "    <th>0.825278</th>\n",
       "    <th>00:18</th>\n",
       "  </tr>\n",
       "  <tr>\n",
       "    <th>19</th>\n",
       "    <th>0.440226</th>\n",
       "    <th>0.460675</th>\n",
       "    <th>0.840278</th>\n",
       "    <th>00:19</th>\n",
       "  </tr>\n",
       "</table>\n"
      ],
      "text/plain": [
       "<IPython.core.display.HTML object>"
      ]
     },
     "metadata": {},
     "output_type": "display_data"
    },
    {
     "name": "stdout",
     "output_type": "stream",
     "text": [
      "Better model found at epoch 0 with accuracy value: 0.8102777600288391.\n",
      "Better model found at epoch 2 with accuracy value: 0.8274999856948853.\n",
      "Better model found at epoch 5 with accuracy value: 0.8322222232818604.\n",
      "Better model found at epoch 10 with accuracy value: 0.8355555534362793.\n",
      "Better model found at epoch 12 with accuracy value: 0.8366666436195374.\n",
      "Better model found at epoch 14 with accuracy value: 0.8369444608688354.\n",
      "Better model found at epoch 19 with accuracy value: 0.8402777910232544.\n"
     ]
    }
   ],
   "source": [
    "learn.freeze()\n",
    "learn.fit_one_cycle(20, 1e-2, moms=(0.8,0.7), #moms=(0.65,0.35),\n",
    "                   callbacks=[SaveModelCallback(learn,every='improvement',mode='max',monitor='accuracy',name='best_acc_model')])"
   ]
  },
  {
   "cell_type": "code",
   "execution_count": 32,
   "metadata": {},
   "outputs": [
    {
     "data": {
      "image/png": "[encoded data removed]",
      "text/plain": [
       "<Figure size 432x288 with 1 Axes>"
      ]
     },
     "metadata": {
      "needs_background": "light"
     },
     "output_type": "display_data"
    },
    {
     "data": {
      "image/png": "[encoded data removed]",
      "text/plain": [
       "<Figure size 432x288 with 1 Axes>"
      ]
     },
     "metadata": {
      "needs_background": "light"
     },
     "output_type": "display_data"
    }
   ],
   "source": [
    "learn.recorder.plot_losses()\n",
    "learn.recorder.plot_metrics()"
   ]
  },
  {
   "cell_type": "code",
   "execution_count": 33,
   "metadata": {},
   "outputs": [],
   "source": [
    "learn.save('rnn_trained_head_labelsmoothing')"
   ]
  },
  {
   "cell_type": "code",
   "execution_count": 34,
   "metadata": {},
   "outputs": [],
   "source": [
    "#learn = learn.load('rnn_trained_head')"
   ]
  },
  {
   "cell_type": "code",
   "execution_count": 35,
   "metadata": {},
   "outputs": [
    {
     "data": {
      "text/html": [
       "Total time: 03:48 <p><table style='width:375px; margin-bottom:10px'>\n",
       "  <tr>\n",
       "    <th>epoch</th>\n",
       "    <th>train_loss</th>\n",
       "    <th>valid_loss</th>\n",
       "    <th>accuracy</th>\n",
       "    <th>time</th>\n",
       "  </tr>\n",
       "  <tr>\n",
       "    <th>0</th>\n",
       "    <th>0.460430</th>\n",
       "    <th>0.454173</th>\n",
       "    <th>0.833333</th>\n",
       "    <th>00:20</th>\n",
       "  </tr>\n",
       "  <tr>\n",
       "    <th>1</th>\n",
       "    <th>0.451584</th>\n",
       "    <th>0.454501</th>\n",
       "    <th>0.834444</th>\n",
       "    <th>00:21</th>\n",
       "  </tr>\n",
       "  <tr>\n",
       "    <th>2</th>\n",
       "    <th>0.439556</th>\n",
       "    <th>0.439716</th>\n",
       "    <th>0.846944</th>\n",
       "    <th>00:21</th>\n",
       "  </tr>\n",
       "  <tr>\n",
       "    <th>3</th>\n",
       "    <th>0.450767</th>\n",
       "    <th>0.452660</th>\n",
       "    <th>0.845000</th>\n",
       "    <th>00:21</th>\n",
       "  </tr>\n",
       "  <tr>\n",
       "    <th>4</th>\n",
       "    <th>0.387353</th>\n",
       "    <th>0.451988</th>\n",
       "    <th>0.851389</th>\n",
       "    <th>00:22</th>\n",
       "  </tr>\n",
       "  <tr>\n",
       "    <th>5</th>\n",
       "    <th>0.370600</th>\n",
       "    <th>0.466879</th>\n",
       "    <th>0.854167</th>\n",
       "    <th>00:20</th>\n",
       "  </tr>\n",
       "  <tr>\n",
       "    <th>6</th>\n",
       "    <th>0.358342</th>\n",
       "    <th>0.491399</th>\n",
       "    <th>0.849444</th>\n",
       "    <th>00:19</th>\n",
       "  </tr>\n",
       "  <tr>\n",
       "    <th>7</th>\n",
       "    <th>0.306855</th>\n",
       "    <th>0.460045</th>\n",
       "    <th>0.851111</th>\n",
       "    <th>00:21</th>\n",
       "  </tr>\n",
       "  <tr>\n",
       "    <th>8</th>\n",
       "    <th>0.286741</th>\n",
       "    <th>0.461316</th>\n",
       "    <th>0.853611</th>\n",
       "    <th>00:21</th>\n",
       "  </tr>\n",
       "  <tr>\n",
       "    <th>9</th>\n",
       "    <th>0.308383</th>\n",
       "    <th>0.468522</th>\n",
       "    <th>0.850833</th>\n",
       "    <th>00:19</th>\n",
       "  </tr>\n",
       "</table>\n"
      ],
      "text/plain": [
       "<IPython.core.display.HTML object>"
      ]
     },
     "metadata": {},
     "output_type": "display_data"
    },
    {
     "name": "stdout",
     "output_type": "stream",
     "text": [
      "Better model found at epoch 0 with accuracy value: 0.8333333134651184.\n",
      "Better model found at epoch 1 with accuracy value: 0.8344444632530212.\n",
      "Better model found at epoch 2 with accuracy value: 0.8469444513320923.\n",
      "Better model found at epoch 4 with accuracy value: 0.8513888716697693.\n",
      "Better model found at epoch 5 with accuracy value: 0.8541666865348816.\n"
     ]
    }
   ],
   "source": [
    "learn.freeze_to(-2)\n",
    "learn.fit_one_cycle(10,slice(1e-3/(2.6**2),1e-2),moms=(0.7,0.4), wd=0.10,\n",
    "                   callbacks=[SaveModelCallback(learn,every='improvement',mode='max',monitor='accuracy',name='best_acc_model')])"
   ]
  },
  {
   "cell_type": "code",
   "execution_count": 36,
   "metadata": {},
   "outputs": [
    {
     "data": {
      "image/png": "[encoded data removed]",
      "text/plain": [
       "<Figure size 432x288 with 1 Axes>"
      ]
     },
     "metadata": {
      "needs_background": "light"
     },
     "output_type": "display_data"
    },
    {
     "data": {
      "image/png": "[encoded data removed]",
      "text/plain": [
       "<Figure size 432x288 with 1 Axes>"
      ]
     },
     "metadata": {
      "needs_background": "light"
     },
     "output_type": "display_data"
    }
   ],
   "source": [
    "learn.recorder.plot_losses()\n",
    "learn.recorder.plot_metrics()"
   ]
  },
  {
   "cell_type": "code",
   "execution_count": 37,
   "metadata": {
    "scrolled": true
   },
   "outputs": [
    {
     "data": {
      "text/html": [
       "Total time: 12:14 <p><table style='width:375px; margin-bottom:10px'>\n",
       "  <tr>\n",
       "    <th>epoch</th>\n",
       "    <th>train_loss</th>\n",
       "    <th>valid_loss</th>\n",
       "    <th>accuracy</th>\n",
       "    <th>time</th>\n",
       "  </tr>\n",
       "  <tr>\n",
       "    <th>0</th>\n",
       "    <th>0.311242</th>\n",
       "    <th>0.464337</th>\n",
       "    <th>0.846667</th>\n",
       "    <th>00:36</th>\n",
       "  </tr>\n",
       "  <tr>\n",
       "    <th>1</th>\n",
       "    <th>0.356472</th>\n",
       "    <th>0.455616</th>\n",
       "    <th>0.846944</th>\n",
       "    <th>00:35</th>\n",
       "  </tr>\n",
       "  <tr>\n",
       "    <th>2</th>\n",
       "    <th>0.342107</th>\n",
       "    <th>0.466557</th>\n",
       "    <th>0.856111</th>\n",
       "    <th>00:38</th>\n",
       "  </tr>\n",
       "  <tr>\n",
       "    <th>3</th>\n",
       "    <th>0.374203</th>\n",
       "    <th>0.502580</th>\n",
       "    <th>0.848889</th>\n",
       "    <th>00:33</th>\n",
       "  </tr>\n",
       "  <tr>\n",
       "    <th>4</th>\n",
       "    <th>0.301992</th>\n",
       "    <th>0.503634</th>\n",
       "    <th>0.842500</th>\n",
       "    <th>00:36</th>\n",
       "  </tr>\n",
       "  <tr>\n",
       "    <th>5</th>\n",
       "    <th>0.289060</th>\n",
       "    <th>0.484796</th>\n",
       "    <th>0.854444</th>\n",
       "    <th>00:38</th>\n",
       "  </tr>\n",
       "  <tr>\n",
       "    <th>6</th>\n",
       "    <th>0.280360</th>\n",
       "    <th>0.490116</th>\n",
       "    <th>0.849722</th>\n",
       "    <th>00:36</th>\n",
       "  </tr>\n",
       "  <tr>\n",
       "    <th>7</th>\n",
       "    <th>0.268052</th>\n",
       "    <th>0.510580</th>\n",
       "    <th>0.853333</th>\n",
       "    <th>00:35</th>\n",
       "  </tr>\n",
       "  <tr>\n",
       "    <th>8</th>\n",
       "    <th>0.259526</th>\n",
       "    <th>0.500897</th>\n",
       "    <th>0.856111</th>\n",
       "    <th>00:35</th>\n",
       "  </tr>\n",
       "  <tr>\n",
       "    <th>9</th>\n",
       "    <th>0.293435</th>\n",
       "    <th>0.553568</th>\n",
       "    <th>0.849722</th>\n",
       "    <th>00:33</th>\n",
       "  </tr>\n",
       "  <tr>\n",
       "    <th>10</th>\n",
       "    <th>0.281664</th>\n",
       "    <th>0.526009</th>\n",
       "    <th>0.853056</th>\n",
       "    <th>00:33</th>\n",
       "  </tr>\n",
       "  <tr>\n",
       "    <th>11</th>\n",
       "    <th>0.262115</th>\n",
       "    <th>0.488141</th>\n",
       "    <th>0.853611</th>\n",
       "    <th>00:33</th>\n",
       "  </tr>\n",
       "  <tr>\n",
       "    <th>12</th>\n",
       "    <th>0.254580</th>\n",
       "    <th>0.520202</th>\n",
       "    <th>0.854722</th>\n",
       "    <th>00:33</th>\n",
       "  </tr>\n",
       "  <tr>\n",
       "    <th>13</th>\n",
       "    <th>0.239906</th>\n",
       "    <th>0.514087</th>\n",
       "    <th>0.857222</th>\n",
       "    <th>00:36</th>\n",
       "  </tr>\n",
       "  <tr>\n",
       "    <th>14</th>\n",
       "    <th>0.263700</th>\n",
       "    <th>0.550769</th>\n",
       "    <th>0.851944</th>\n",
       "    <th>00:33</th>\n",
       "  </tr>\n",
       "  <tr>\n",
       "    <th>15</th>\n",
       "    <th>0.233548</th>\n",
       "    <th>0.524662</th>\n",
       "    <th>0.856111</th>\n",
       "    <th>00:35</th>\n",
       "  </tr>\n",
       "  <tr>\n",
       "    <th>16</th>\n",
       "    <th>0.234083</th>\n",
       "    <th>0.552522</th>\n",
       "    <th>0.853889</th>\n",
       "    <th>00:38</th>\n",
       "  </tr>\n",
       "  <tr>\n",
       "    <th>17</th>\n",
       "    <th>0.229030</th>\n",
       "    <th>0.544343</th>\n",
       "    <th>0.854722</th>\n",
       "    <th>00:37</th>\n",
       "  </tr>\n",
       "  <tr>\n",
       "    <th>18</th>\n",
       "    <th>0.232687</th>\n",
       "    <th>0.517835</th>\n",
       "    <th>0.857222</th>\n",
       "    <th>00:36</th>\n",
       "  </tr>\n",
       "  <tr>\n",
       "    <th>19</th>\n",
       "    <th>0.232431</th>\n",
       "    <th>0.543687</th>\n",
       "    <th>0.856944</th>\n",
       "    <th>00:34</th>\n",
       "  </tr>\n",
       "</table>\n"
      ],
      "text/plain": [
       "<IPython.core.display.HTML object>"
      ]
     },
     "metadata": {},
     "output_type": "display_data"
    },
    {
     "name": "stdout",
     "output_type": "stream",
     "text": [
      "Better model found at epoch 0 with accuracy value: 0.846666693687439.\n",
      "Better model found at epoch 1 with accuracy value: 0.8469444513320923.\n",
      "Better model found at epoch 2 with accuracy value: 0.8561111092567444.\n",
      "Better model found at epoch 13 with accuracy value: 0.8572221994400024.\n"
     ]
    }
   ],
   "source": [
    "learn.freeze_to(-3)\n",
    "learn.fit_one_cycle(20,slice(1e-3/(2.6**3),1e-2),moms=(0.7,0.4), wd=0.20, pct_start=0.10,\n",
    "                   callbacks=[SaveModelCallback(learn,every='improvement',mode='max',monitor='accuracy',name='best_acc_model')])"
   ]
  },
  {
   "cell_type": "code",
   "execution_count": 38,
   "metadata": {},
   "outputs": [
    {
     "data": {
      "image/png": "[encoded data removed]",
      "text/plain": [
       "<Figure size 432x288 with 1 Axes>"
      ]
     },
     "metadata": {
      "needs_background": "light"
     },
     "output_type": "display_data"
    },
    {
     "data": {
      "image/png": "[encoded data removed]",
      "text/plain": [
       "<Figure size 432x288 with 1 Axes>"
      ]
     },
     "metadata": {
      "needs_background": "light"
     },
     "output_type": "display_data"
    }
   ],
   "source": [
    "learn.recorder.plot_losses()\n",
    "learn.recorder.plot_metrics()"
   ]
  },
  {
   "cell_type": "code",
   "execution_count": 39,
   "metadata": {},
   "outputs": [
    {
     "data": {
      "text/html": [
       "Total time: 15:56 <p><table style='width:375px; margin-bottom:10px'>\n",
       "  <tr>\n",
       "    <th>epoch</th>\n",
       "    <th>train_loss</th>\n",
       "    <th>valid_loss</th>\n",
       "    <th>accuracy</th>\n",
       "    <th>time</th>\n",
       "  </tr>\n",
       "  <tr>\n",
       "    <th>0</th>\n",
       "    <th>0.246465</th>\n",
       "    <th>0.581712</th>\n",
       "    <th>0.853889</th>\n",
       "    <th>00:48</th>\n",
       "  </tr>\n",
       "  <tr>\n",
       "    <th>1</th>\n",
       "    <th>0.250548</th>\n",
       "    <th>0.541623</th>\n",
       "    <th>0.848333</th>\n",
       "    <th>00:47</th>\n",
       "  </tr>\n",
       "  <tr>\n",
       "    <th>2</th>\n",
       "    <th>0.256651</th>\n",
       "    <th>0.563490</th>\n",
       "    <th>0.847500</th>\n",
       "    <th>00:47</th>\n",
       "  </tr>\n",
       "  <tr>\n",
       "    <th>3</th>\n",
       "    <th>0.261663</th>\n",
       "    <th>0.586971</th>\n",
       "    <th>0.825833</th>\n",
       "    <th>00:44</th>\n",
       "  </tr>\n",
       "  <tr>\n",
       "    <th>4</th>\n",
       "    <th>0.251453</th>\n",
       "    <th>0.549721</th>\n",
       "    <th>0.853611</th>\n",
       "    <th>00:46</th>\n",
       "  </tr>\n",
       "  <tr>\n",
       "    <th>5</th>\n",
       "    <th>0.268214</th>\n",
       "    <th>0.572951</th>\n",
       "    <th>0.841667</th>\n",
       "    <th>00:46</th>\n",
       "  </tr>\n",
       "  <tr>\n",
       "    <th>6</th>\n",
       "    <th>0.265321</th>\n",
       "    <th>0.534081</th>\n",
       "    <th>0.849167</th>\n",
       "    <th>00:45</th>\n",
       "  </tr>\n",
       "  <tr>\n",
       "    <th>7</th>\n",
       "    <th>0.247341</th>\n",
       "    <th>0.556928</th>\n",
       "    <th>0.848611</th>\n",
       "    <th>00:47</th>\n",
       "  </tr>\n",
       "  <tr>\n",
       "    <th>8</th>\n",
       "    <th>0.252600</th>\n",
       "    <th>0.546027</th>\n",
       "    <th>0.843333</th>\n",
       "    <th>00:46</th>\n",
       "  </tr>\n",
       "  <tr>\n",
       "    <th>9</th>\n",
       "    <th>0.240492</th>\n",
       "    <th>0.521508</th>\n",
       "    <th>0.849444</th>\n",
       "    <th>00:49</th>\n",
       "  </tr>\n",
       "  <tr>\n",
       "    <th>10</th>\n",
       "    <th>0.247991</th>\n",
       "    <th>0.559212</th>\n",
       "    <th>0.860000</th>\n",
       "    <th>00:46</th>\n",
       "  </tr>\n",
       "  <tr>\n",
       "    <th>11</th>\n",
       "    <th>0.249579</th>\n",
       "    <th>0.586289</th>\n",
       "    <th>0.855833</th>\n",
       "    <th>00:46</th>\n",
       "  </tr>\n",
       "  <tr>\n",
       "    <th>12</th>\n",
       "    <th>0.262729</th>\n",
       "    <th>0.595545</th>\n",
       "    <th>0.847500</th>\n",
       "    <th>00:44</th>\n",
       "  </tr>\n",
       "  <tr>\n",
       "    <th>13</th>\n",
       "    <th>0.235448</th>\n",
       "    <th>0.567287</th>\n",
       "    <th>0.850833</th>\n",
       "    <th>00:47</th>\n",
       "  </tr>\n",
       "  <tr>\n",
       "    <th>14</th>\n",
       "    <th>0.256520</th>\n",
       "    <th>0.553367</th>\n",
       "    <th>0.853889</th>\n",
       "    <th>00:44</th>\n",
       "  </tr>\n",
       "  <tr>\n",
       "    <th>15</th>\n",
       "    <th>0.240161</th>\n",
       "    <th>0.560557</th>\n",
       "    <th>0.854167</th>\n",
       "    <th>00:47</th>\n",
       "  </tr>\n",
       "  <tr>\n",
       "    <th>16</th>\n",
       "    <th>0.238619</th>\n",
       "    <th>0.603834</th>\n",
       "    <th>0.855833</th>\n",
       "    <th>00:45</th>\n",
       "  </tr>\n",
       "  <tr>\n",
       "    <th>17</th>\n",
       "    <th>0.229838</th>\n",
       "    <th>0.526028</th>\n",
       "    <th>0.855000</th>\n",
       "    <th>00:47</th>\n",
       "  </tr>\n",
       "  <tr>\n",
       "    <th>18</th>\n",
       "    <th>0.234891</th>\n",
       "    <th>0.555027</th>\n",
       "    <th>0.854722</th>\n",
       "    <th>00:51</th>\n",
       "  </tr>\n",
       "  <tr>\n",
       "    <th>19</th>\n",
       "    <th>0.230134</th>\n",
       "    <th>0.539557</th>\n",
       "    <th>0.855833</th>\n",
       "    <th>00:47</th>\n",
       "  </tr>\n",
       "</table>\n"
      ],
      "text/plain": [
       "<IPython.core.display.HTML object>"
      ]
     },
     "metadata": {},
     "output_type": "display_data"
    },
    {
     "name": "stdout",
     "output_type": "stream",
     "text": [
      "Better model found at epoch 0 with accuracy value: 0.8538888692855835.\n",
      "Better model found at epoch 10 with accuracy value: 0.8600000143051147.\n"
     ]
    }
   ],
   "source": [
    "learn.unfreeze()\n",
    "learn.fit_one_cycle(20,slice(1e-3/(2.6**4),1e-2),moms=(0.7,0.4), wd=0.25, pct_start=0.10,\n",
    "                   callbacks=[SaveModelCallback(learn,every='improvement',mode='max',monitor='accuracy',name='best_acc_model')])"
   ]
  },
  {
   "cell_type": "code",
   "execution_count": 40,
   "metadata": {},
   "outputs": [
    {
     "data": {
      "image/png": "[encoded data removed]",
      "text/plain": [
       "<Figure size 432x288 with 1 Axes>"
      ]
     },
     "metadata": {
      "needs_background": "light"
     },
     "output_type": "display_data"
    },
    {
     "data": {
      "image/png": "[encoded data removed]",
      "text/plain": [
       "<Figure size 432x288 with 1 Axes>"
      ]
     },
     "metadata": {
      "needs_background": "light"
     },
     "output_type": "display_data"
    }
   ],
   "source": [
    "learn.recorder.plot_losses()\n",
    "learn.recorder.plot_metrics()"
   ]
  },
  {
   "cell_type": "code",
   "execution_count": 41,
   "metadata": {},
   "outputs": [
    {
     "data": {
      "image/png": "[encoded data removed]",
      "text/plain": [
       "<Figure size 432x288 with 1 Axes>"
      ]
     },
     "metadata": {
      "needs_background": "light"
     },
     "output_type": "display_data"
    },
    {
     "data": {
      "image/png": "[encoded data removed]",
      "text/plain": [
       "<Figure size 432x288 with 1 Axes>"
      ]
     },
     "metadata": {
      "needs_background": "light"
     },
     "output_type": "display_data"
    }
   ],
   "source": [
    "preds_t,y_t,losses_t = learn.get_preds(DatasetType.Train,with_loss=True)\n",
    "interp_t = ClassificationInterpretation(learn, preds_t, y_t, losses_t)\n",
    "interp_t.plot_confusion_matrix()\n",
    "\n",
    "preds,y,losses = learn.get_preds(with_loss=True)\n",
    "interp = ClassificationInterpretation(learn, preds, y, losses)\n",
    "interp.plot_confusion_matrix()"
   ]
  },
  {
   "cell_type": "code",
   "execution_count": 42,
   "metadata": {},
   "outputs": [
    {
     "name": "stdout",
     "output_type": "stream",
     "text": [
      "----------\n"
     ]
    },
    {
     "data": {
      "text/html": [
       "<span style=\"font-family: monospace;\"><span title=\"0.045\" style=\"background-color: rgba(238, 245, 252, 0.5);\">▁</span> <span title=\"0.046\" style=\"background-color: rgba(238, 245, 252, 0.5);\">xxbos</span> <span title=\"0.128\" style=\"background-color: rgba(221, 234, 246, 0.5);\">▁me</span> <span title=\"0.325\" style=\"background-color: rgba(173, 208, 230, 0.5);\">▁tir</span> <span title=\"0.335\" style=\"background-color: rgba(171, 207, 229, 0.5);\">aste</span> <span title=\"0.178\" style=\"background-color: rgba(212, 228, 243, 0.5);\">▁un</span> <span title=\"0.505\" style=\"background-color: rgba(105, 172, 213, 0.5);\">▁cartel</span> <span title=\"0.113\" style=\"background-color: rgba(225, 236, 247, 0.5);\">▁de</span> <span title=\"0.482\" style=\"background-color: rgba(114, 177, 215, 0.5);\">▁stop</span> <span title=\"0.079\" style=\"background-color: rgba(231, 240, 249, 0.5);\">.</span> <span title=\"0.074\" style=\"background-color: rgba(232, 241, 250, 0.5);\">xxnl</span> <span title=\"0.317\" style=\"background-color: rgba(176, 209, 231, 0.5);\">▁es</span> <span title=\"0.349\" style=\"background-color: rgba(166, 205, 227, 0.5);\">▁una</span> <span title=\"1.000\" style=\"background-color: rgba(8, 48, 107, 0.5);\">▁señal</span> <span title=\"0.527\" style=\"background-color: rgba(98, 168, 210, 0.5);\">...</span></span>"
      ],
      "text/plain": [
       "<IPython.core.display.HTML object>"
      ]
     },
     "metadata": {},
     "output_type": "display_data"
    },
    {
     "name": "stdout",
     "output_type": "stream",
     "text": [
      "----------\n"
     ]
    },
    {
     "data": {
      "text/html": [
       "<span style=\"font-family: monospace;\"><span title=\"0.058\" style=\"background-color: rgba(236, 243, 251, 0.5);\">▁</span> <span title=\"0.065\" style=\"background-color: rgba(234, 242, 250, 0.5);\">xxbos</span> <span title=\"0.178\" style=\"background-color: rgba(212, 228, 243, 0.5);\">▁nunca</span> <span title=\"0.198\" style=\"background-color: rgba(208, 225, 242, 0.5);\">▁he</span> <span title=\"0.651\" style=\"background-color: rgba(59, 139, 194, 0.5);\">▁dud</span> <span title=\"0.158\" style=\"background-color: rgba(215, 230, 244, 0.5);\">ado</span> <span title=\"0.126\" style=\"background-color: rgba(221, 234, 246, 0.5);\">▁de</span> <span title=\"0.142\" style=\"background-color: rgba(218, 232, 245, 0.5);\">▁mi</span> <span title=\"0.639\" style=\"background-color: rgba(62, 142, 196, 0.5);\">▁heteros</span> <span title=\"0.501\" style=\"background-color: rgba(106, 173, 213, 0.5);\">exualidad</span> <span title=\"0.062\" style=\"background-color: rgba(235, 243, 251, 0.5);\">▁,</span> <span title=\"0.118\" style=\"background-color: rgba(223, 235, 247, 0.5);\">▁pero</span> <span title=\"0.176\" style=\"background-color: rgba(212, 228, 243, 0.5);\">▁si</span> <span title=\"0.183\" style=\"background-color: rgba(211, 227, 243, 0.5);\">▁un</span> <span title=\"0.301\" style=\"background-color: rgba(181, 211, 233, 0.5);\">▁día</span> <span title=\"0.498\" style=\"background-color: rgba(107, 174, 214, 0.5);\">▁llega</span> <span title=\"1.000\" style=\"background-color: rgba(8, 48, 107, 0.5);\">▁brad</span> <span title=\"0.498\" style=\"background-color: rgba(107, 174, 214, 0.5);\">▁pi</span> <span title=\"0.252\" style=\"background-color: rgba(197, 218, 238, 0.5);\">tt</span> <span title=\"0.048\" style=\"background-color: rgba(237, 244, 251, 0.5);\">▁y</span> <span title=\"0.052\" style=\"background-color: rgba(236, 244, 251, 0.5);\">▁se</span> <span title=\"0.219\" style=\"background-color: rgba(203, 222, 240, 0.5);\">▁saca</span> <span title=\"0.098\" style=\"background-color: rgba(227, 238, 248, 0.5);\">▁la</span> <span title=\"0.243\" style=\"background-color: rgba(199, 219, 239, 0.5);\">▁verga</span> <span title=\"0.068\" style=\"background-color: rgba(233, 242, 250, 0.5);\">▁,</span> <span title=\"0.132\" style=\"background-color: rgba(221, 234, 246, 0.5);\">▁ni</span> <span title=\"0.318\" style=\"background-color: rgba(176, 209, 231, 0.5);\">▁modo</span> <span title=\"0.210\" style=\"background-color: rgba(206, 224, 241, 0.5);\">▁de</span> <span title=\"0.748\" style=\"background-color: rgba(33, 113, 181, 0.5);\">▁dejarlo</span> <span title=\"0.548\" style=\"background-color: rgba(90, 163, 207, 0.5);\">▁así</span> <span title=\"0.313\" style=\"background-color: rgba(177, 210, 231, 0.5);\">.</span></span>"
      ],
      "text/plain": [
       "<IPython.core.display.HTML object>"
      ]
     },
     "metadata": {},
     "output_type": "display_data"
    },
    {
     "name": "stdout",
     "output_type": "stream",
     "text": [
      "----------\n"
     ]
    },
    {
     "data": {
      "text/html": [
       "<span style=\"font-family: monospace;\"><span title=\"0.041\" style=\"background-color: rgba(239, 245, 252, 0.5);\">▁</span> <span title=\"0.039\" style=\"background-color: rgba(239, 245, 252, 0.5);\">xxbos</span> <span title=\"0.102\" style=\"background-color: rgba(226, 237, 248, 0.5);\">▁que</span> <span title=\"0.068\" style=\"background-color: rgba(233, 242, 250, 0.5);\">▁tu</span> <span title=\"0.132\" style=\"background-color: rgba(221, 234, 246, 0.5);\">▁mamá</span> <span title=\"0.227\" style=\"background-color: rgba(202, 221, 240, 0.5);\">▁abra</span> <span title=\"0.055\" style=\"background-color: rgba(236, 243, 251, 0.5);\">▁un</span> <span title=\"0.129\" style=\"background-color: rgba(221, 234, 246, 0.5);\">▁video</span> <span title=\"0.072\" style=\"background-color: rgba(232, 241, 250, 0.5);\">▁de</span> <span title=\"0.330\" style=\"background-color: rgba(172, 208, 230, 0.5);\">▁gemidos</span> <span title=\"0.036\" style=\"background-color: rgba(239, 246, 252, 0.5);\">▁,</span> <span title=\"0.169\" style=\"background-color: rgba(213, 229, 244, 0.5);\">▁cagar</span> <span title=\"0.056\" style=\"background-color: rgba(236, 243, 251, 0.5);\">te</span> <span title=\"0.049\" style=\"background-color: rgba(237, 244, 251, 0.5);\">▁de</span> <span title=\"0.081\" style=\"background-color: rgba(231, 240, 249, 0.5);\">▁risa</span> <span title=\"0.031\" style=\"background-color: rgba(240, 246, 252, 0.5);\">▁y</span> <span title=\"0.089\" style=\"background-color: rgba(229, 239, 249, 0.5);\">▁después</span> <span title=\"0.238\" style=\"background-color: rgba(200, 220, 239, 0.5);\">▁darte</span> <span title=\"0.131\" style=\"background-color: rgba(221, 234, 246, 0.5);\">▁cuenta</span> <span title=\"0.124\" style=\"background-color: rgba(222, 235, 247, 0.5);\">▁qué</span> <span title=\"0.102\" style=\"background-color: rgba(226, 237, 248, 0.5);\">▁no</span> <span title=\"0.149\" style=\"background-color: rgba(217, 231, 245, 0.5);\">▁era</span> <span title=\"0.148\" style=\"background-color: rgba(218, 232, 245, 0.5);\">▁una</span> <span title=\"0.432\" style=\"background-color: rgba(135, 189, 220, 0.5);\">▁broma</span> <span title=\"0.068\" style=\"background-color: rgba(233, 242, 250, 0.5);\">▁,</span> <span title=\"0.134\" style=\"background-color: rgba(220, 233, 246, 0.5);\">▁sino</span> <span title=\"0.070\" style=\"background-color: rgba(233, 242, 250, 0.5);\">▁que</span> <span title=\"0.131\" style=\"background-color: rgba(221, 234, 246, 0.5);\">▁se</span> <span title=\"0.700\" style=\"background-color: rgba(45, 125, 187, 0.5);\">▁grabó</span> <span title=\"0.154\" style=\"background-color: rgba(216, 231, 245, 0.5);\">▁con</span> <span title=\"0.185\" style=\"background-color: rgba(210, 227, 243, 0.5);\">▁el</span> <span title=\"1.000\" style=\"background-color: rgba(8, 48, 107, 0.5);\">▁mecánico</span> <span title=\"0.221\" style=\"background-color: rgba(203, 222, 240, 0.5);\">.</span></span>"
      ],
      "text/plain": [
       "<IPython.core.display.HTML object>"
      ]
     },
     "metadata": {},
     "output_type": "display_data"
    },
    {
     "name": "stdout",
     "output_type": "stream",
     "text": [
      "----------\n"
     ]
    },
    {
     "data": {
      "text/html": [
       "<span style=\"font-family: monospace;\"><span title=\"0.045\" style=\"background-color: rgba(238, 245, 252, 0.5);\">▁</span> <span title=\"0.033\" style=\"background-color: rgba(240, 246, 252, 0.5);\">xxbos</span> <span title=\"0.099\" style=\"background-color: rgba(227, 238, 248, 0.5);\">▁—</span> <span title=\"0.126\" style=\"background-color: rgba(221, 234, 246, 0.5);\">el</span> <span title=\"0.189\" style=\"background-color: rgba(209, 226, 242, 0.5);\">▁amor</span> <span title=\"0.083\" style=\"background-color: rgba(230, 240, 249, 0.5);\">▁no</span> <span title=\"0.172\" style=\"background-color: rgba(212, 228, 243, 0.5);\">▁conoce</span> <span title=\"0.105\" style=\"background-color: rgba(226, 237, 248, 0.5);\">▁de</span> <span title=\"0.194\" style=\"background-color: rgba(209, 226, 242, 0.5);\">▁límites</span> <span title=\"0.033\" style=\"background-color: rgba(240, 246, 252, 0.5);\">.</span> <span title=\"0.037\" style=\"background-color: rgba(239, 246, 252, 0.5);\">▁</span> <span title=\"0.015\" style=\"background-color: rgba(244, 249, 254, 0.5);\">xxnl</span> <span title=\"0.027\" style=\"background-color: rgba(242, 247, 253, 0.5);\">▁</span> <span title=\"0.016\" style=\"background-color: rgba(243, 248, 253, 0.5);\">xxnl</span> <span title=\"0.146\" style=\"background-color: rgba(218, 232, 245, 0.5);\">▁—</span> <span title=\"0.437\" style=\"background-color: rgba(133, 188, 219, 0.5);\">señor</span> <span title=\"0.055\" style=\"background-color: rgba(236, 243, 251, 0.5);\">▁,</span> <span title=\"0.196\" style=\"background-color: rgba(208, 225, 242, 0.5);\">▁iba</span> <span title=\"0.093\" style=\"background-color: rgba(228, 239, 249, 0.5);\">▁a</span> <span title=\"0.480\" style=\"background-color: rgba(115, 178, 215, 0.5);\">▁190</span> <span title=\"0.265\" style=\"background-color: rgba(193, 217, 237, 0.5);\">▁km</span> <span title=\"0.076\" style=\"background-color: rgba(232, 241, 250, 0.5);\">▁/</span> <span title=\"0.126\" style=\"background-color: rgba(221, 234, 246, 0.5);\">▁h</span> <span title=\"0.053\" style=\"background-color: rgba(236, 244, 251, 0.5);\">▁,</span> <span title=\"0.124\" style=\"background-color: rgba(222, 235, 247, 0.5);\">▁no</span> <span title=\"0.259\" style=\"background-color: rgba(195, 217, 238, 0.5);\">▁sea</span> <span title=\"0.722\" style=\"background-color: rgba(40, 120, 184, 0.5);\">▁mamón</span> <span title=\"0.149\" style=\"background-color: rgba(217, 231, 245, 0.5);\">▁y</span> <span title=\"1.000\" style=\"background-color: rgba(8, 48, 107, 0.5);\">▁bá</span> <span title=\"0.402\" style=\"background-color: rgba(147, 196, 222, 0.5);\">j</span> <span title=\"0.413\" style=\"background-color: rgba(143, 193, 221, 0.5);\">ese</span> <span title=\"0.120\" style=\"background-color: rgba(223, 235, 247, 0.5);\">▁del</span> <span title=\"0.277\" style=\"background-color: rgba(190, 215, 236, 0.5);\">▁auto</span> <span title=\"0.263\" style=\"background-color: rgba(193, 217, 237, 0.5);\">▁por</span> <span title=\"0.405\" style=\"background-color: rgba(146, 195, 222, 0.5);\">▁favor</span> <span title=\"0.286\" style=\"background-color: rgba(186, 214, 234, 0.5);\">.</span></span>"
      ],
      "text/plain": [
       "<IPython.core.display.HTML object>"
      ]
     },
     "metadata": {},
     "output_type": "display_data"
    },
    {
     "name": "stdout",
     "output_type": "stream",
     "text": [
      "----------\n"
     ]
    },
    {
     "data": {
      "text/html": [
       "<span style=\"font-family: monospace;\"><span title=\"0.019\" style=\"background-color: rgba(243, 248, 253, 0.5);\">▁</span> <span title=\"0.016\" style=\"background-color: rgba(243, 248, 253, 0.5);\">xxbos</span> <span title=\"0.063\" style=\"background-color: rgba(234, 242, 250, 0.5);\">▁mi</span> <span title=\"0.084\" style=\"background-color: rgba(230, 240, 249, 0.5);\">▁orgullo</span> <span title=\"0.043\" style=\"background-color: rgba(239, 245, 252, 0.5);\">▁de</span> <span title=\"0.115\" style=\"background-color: rgba(224, 236, 247, 0.5);\">▁hombre</span> <span title=\"0.068\" style=\"background-color: rgba(233, 242, 250, 0.5);\">▁no</span> <span title=\"0.047\" style=\"background-color: rgba(237, 244, 251, 0.5);\">▁me</span> <span title=\"0.107\" style=\"background-color: rgba(225, 237, 248, 0.5);\">▁deja</span> <span title=\"0.056\" style=\"background-color: rgba(236, 243, 251, 0.5);\">▁que</span> <span title=\"0.083\" style=\"background-color: rgba(230, 240, 249, 0.5);\">▁tu</span> <span title=\"0.378\" style=\"background-color: rgba(157, 201, 224, 0.5);\">▁pagues</span> <span title=\"0.072\" style=\"background-color: rgba(232, 241, 250, 0.5);\">▁la</span> <span title=\"0.139\" style=\"background-color: rgba(219, 233, 246, 0.5);\">▁cuenta</span> <span title=\"0.051\" style=\"background-color: rgba(236, 244, 251, 0.5);\">▁de</span> <span title=\"0.070\" style=\"background-color: rgba(233, 242, 250, 0.5);\">▁los</span> <span title=\"0.294\" style=\"background-color: rgba(183, 212, 234, 0.5);\">▁tacos</span> <span title=\"0.027\" style=\"background-color: rgba(242, 247, 253, 0.5);\">▁,</span> <span title=\"0.042\" style=\"background-color: rgba(239, 245, 252, 0.5);\">▁pero</span> <span title=\"0.088\" style=\"background-color: rgba(229, 239, 249, 0.5);\">▁mi</span> <span title=\"0.214\" style=\"background-color: rgba(205, 223, 241, 0.5);\">▁pobreza</span> <span title=\"0.080\" style=\"background-color: rgba(231, 240, 249, 0.5);\">▁si</span> <span title=\"0.067\" style=\"background-color: rgba(233, 242, 250, 0.5);\">▁,</span> <span title=\"0.068\" style=\"background-color: rgba(233, 242, 250, 0.5);\">▁así</span> <span title=\"0.060\" style=\"background-color: rgba(235, 243, 251, 0.5);\">▁que</span> <span title=\"0.158\" style=\"background-color: rgba(215, 230, 244, 0.5);\">▁pa</span> <span title=\"0.239\" style=\"background-color: rgba(200, 220, 239, 0.5);\">gal</span> <span title=\"0.114\" style=\"background-color: rgba(224, 236, 247, 0.5);\">os</span> <span title=\"0.062\" style=\"background-color: rgba(235, 243, 251, 0.5);\">▁,</span> <span title=\"0.249\" style=\"background-color: rgba(198, 219, 239, 0.5);\">▁sin</span> <span title=\"1.000\" style=\"background-color: rgba(8, 48, 107, 0.5);\">▁rencores</span> <span title=\"0.148\" style=\"background-color: rgba(218, 232, 245, 0.5);\">.</span></span>"
      ],
      "text/plain": [
       "<IPython.core.display.HTML object>"
      ]
     },
     "metadata": {},
     "output_type": "display_data"
    }
   ],
   "source": [
    "from fastai.text.models.awd_lstm import TextClassificationInterpretation\n",
    "from matplotlib.pyplot import cm\n",
    "txt_ci = TextClassificationInterpretation.from_learner(learn)\n",
    "(_,idxs) = interp.top_losses(5)\n",
    "for idx in to_np(idxs):\n",
    "    print(\"-\"*10)\n",
    "    txt_ci.show_intrinsic_attention(df_train.iloc[idx,1],cmap=cm.Blues) #textify breaks?"
   ]
  },
  {
   "cell_type": "code",
   "execution_count": 43,
   "metadata": {},
   "outputs": [],
   "source": [
    "learn.save(\"haha_20190516_tweet_vocab_labelsmoothing\")"
   ]
  },
  {
   "cell_type": "code",
   "execution_count": null,
   "metadata": {},
   "outputs": [],
   "source": []
  }
 ],
 "metadata": {
  "kernelspec": {
   "display_name": "Python 3.7 fasta.ai1 DEV",
   "language": "python",
   "name": "fastai1_dev"
  },
  "language_info": {
   "codemirror_mode": {
    "name": "ipython",
    "version": 3
   },
   "file_extension": ".py",
   "mimetype": "text/x-python",
   "name": "python",
   "nbconvert_exporter": "python",
   "pygments_lexer": "ipython3",
   "version": "3.7.3"
  },
  "varInspector": {
   "cols": {
    "lenName": 16,
    "lenType": 16,
    "lenVar": 40
   },
   "kernels_config": {
    "python": {
     "delete_cmd_postfix": "",
     "delete_cmd_prefix": "del ",
     "library": "var_list.py",
     "varRefreshCmd": "print(var_dic_list())"
    },
    "r": {
     "delete_cmd_postfix": ") ",
     "delete_cmd_prefix": "rm(",
     "library": "var_list.r",
     "varRefreshCmd": "cat(var_dic_list()) "
    }
   },
   "types_to_exclude": [
    "module",
    "function",
    "builtin_function_or_method",
    "instance",
    "_Feature"
   ],
   "window_display": false
  }
 },
 "nbformat": 4,
 "nbformat_minor": 2
}
