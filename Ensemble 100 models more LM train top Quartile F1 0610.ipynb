{
 "cells": [
  {
   "cell_type": "code",
   "execution_count": 1,
   "metadata": {},
   "outputs": [],
   "source": [
    "import glob\n",
    "\n",
    "from fastai.text import *\n",
    "# from fastai.callbacks import SaveModelCallback\n",
    "import sentencepiece as spm #https://github.com/google/sentencepiece\n",
    "\n",
    "from prod.sp_tok import *\n",
    "\n",
    "#torch.backends.cudnn.enabled=False #for quant.313v machine.  Not sure why..."
   ]
  },
  {
   "cell_type": "code",
   "execution_count": 2,
   "metadata": {},
   "outputs": [],
   "source": [
    "PATH = Path('./data/rnn')\n",
    "sp_model = './all_tweets_es_0609'\n",
    "\n",
    "defaults.text_spec_tok.append(NL) #add a New Line special char\n",
    "sp_vocab = Vocab( get_itos(sp_model) )\n",
    "mycust_tok = CustomTokenizer(SPTokenizer,sp_model,pre_rules=default_rules)"
   ]
  },
  {
   "cell_type": "code",
   "execution_count": 3,
   "metadata": {},
   "outputs": [],
   "source": [
    "test_df = pd.read_csv('./data/haha_2019_test.csv')\n",
    "test_df['is_humor'] = 0\n",
    "test_df['is_humor'].iloc[0] = 1 #create two classes in data.\n",
    "## apply the rules\n",
    "raw_text = test_df.loc[:,'text']\n",
    "\n",
    "print(\"Default Rules:\\n\",[x.__name__ for x in default_rules],\"\\n\\n\")\n",
    "for rule in default_rules:\n",
    "    raw_text = raw_text.apply(lambda x: rule(str(x)))    \n",
    "test_df['new_text'] =  raw_text #tokenizer adds xxbos\n",
    "\n",
    "data_tst = TextClasDataBunch.from_df(PATH, test_df, test_df,\n",
    "                               tokenizer=mycust_tok, vocab=sp_vocab,\n",
    "                               text_cols='new_text', label_cols='is_humor')"
   ]
  },
  {
   "cell_type": "code",
   "execution_count": 4,
   "metadata": {},
   "outputs": [
    {
     "data": {
      "text/plain": [
       "(9,\n",
       " ['haha_clas_0609_fld0_299965.pth',\n",
       "  'haha_clas_0609_fld1_84154.pth',\n",
       "  'haha_clas_0609_fld0_84154.pth',\n",
       "  'haha_clas_0609_fld3_84154.pth',\n",
       "  'haha_clas_0609_fld4_84154.pth'])"
      ]
     },
     "execution_count": 4,
     "metadata": {},
     "output_type": "execute_result"
    }
   ],
   "source": [
    "model_wt_fnames = [x.split('/')[-1] for x in glob.glob( str(PATH/'models')+'/haha_clas_0609_fld*.pth')]\n",
    "len(model_wt_fnames), model_wt_fnames[:5]"
   ]
  },
  {
   "cell_type": "code",
   "execution_count": 8,
   "metadata": {},
   "outputs": [],
   "source": [
    "!grep Clas ./prod/out_fwd_tmp101.txt > ./by_seed_fwd_perf"
   ]
  },
  {
   "cell_type": "code",
   "execution_count": 9,
   "metadata": {},
   "outputs": [
    {
     "data": {
      "text/html": [
       "<div>\n",
       "<style scoped>\n",
       "    .dataframe tbody tr th:only-of-type {\n",
       "        vertical-align: middle;\n",
       "    }\n",
       "\n",
       "    .dataframe tbody tr th {\n",
       "        vertical-align: top;\n",
       "    }\n",
       "\n",
       "    .dataframe thead th {\n",
       "        text-align: right;\n",
       "    }\n",
       "</style>\n",
       "<table border=\"1\" class=\"dataframe\">\n",
       "  <thead>\n",
       "    <tr style=\"text-align: right;\">\n",
       "      <th></th>\n",
       "      <th>id</th>\n",
       "      <th>acc</th>\n",
       "      <th>F1</th>\n",
       "      <th>rnd_seed</th>\n",
       "      <th>nfold</th>\n",
       "    </tr>\n",
       "  </thead>\n",
       "  <tbody>\n",
       "    <tr>\n",
       "      <th>0</th>\n",
       "      <td>Clas Fold: 0 RndSeed: 84154</td>\n",
       "      <td>0.863333</td>\n",
       "      <td>0.820109</td>\n",
       "      <td>84154</td>\n",
       "      <td>0</td>\n",
       "    </tr>\n",
       "    <tr>\n",
       "      <th>1</th>\n",
       "      <td>Clas Fold: 1 RndSeed: 84154</td>\n",
       "      <td>0.870625</td>\n",
       "      <td>0.826782</td>\n",
       "      <td>84154</td>\n",
       "      <td>1</td>\n",
       "    </tr>\n",
       "    <tr>\n",
       "      <th>2</th>\n",
       "      <td>Clas Fold: 2 RndSeed: 84154</td>\n",
       "      <td>0.865833</td>\n",
       "      <td>0.826363</td>\n",
       "      <td>84154</td>\n",
       "      <td>2</td>\n",
       "    </tr>\n",
       "    <tr>\n",
       "      <th>3</th>\n",
       "      <td>Clas Fold: 3 RndSeed: 84154</td>\n",
       "      <td>0.861667</td>\n",
       "      <td>0.816809</td>\n",
       "      <td>84154</td>\n",
       "      <td>3</td>\n",
       "    </tr>\n",
       "    <tr>\n",
       "      <th>4</th>\n",
       "      <td>Clas Fold: 4 RndSeed: 84154</td>\n",
       "      <td>0.863750</td>\n",
       "      <td>0.824062</td>\n",
       "      <td>84154</td>\n",
       "      <td>4</td>\n",
       "    </tr>\n",
       "  </tbody>\n",
       "</table>\n",
       "</div>"
      ],
      "text/plain": [
       "                            id       acc        F1 rnd_seed nfold\n",
       "0  Clas Fold: 0 RndSeed: 84154  0.863333  0.820109    84154     0\n",
       "1  Clas Fold: 1 RndSeed: 84154  0.870625  0.826782    84154     1\n",
       "2  Clas Fold: 2 RndSeed: 84154  0.865833  0.826363    84154     2\n",
       "3  Clas Fold: 3 RndSeed: 84154  0.861667  0.816809    84154     3\n",
       "4  Clas Fold: 4 RndSeed: 84154  0.863750  0.824062    84154     4"
      ]
     },
     "execution_count": 9,
     "metadata": {},
     "output_type": "execute_result"
    }
   ],
   "source": [
    "## be more picky about the models.  Take the top quarter in validation. Does better val -> better test?\n",
    "valid_perf = pd.read_csv('by_seed_fwd_perf', names = ['id','acc','F1'])\n",
    "valid_perf['rnd_seed'] = valid_perf.id.str.split(':',expand=True).iloc[:,-1].str.strip()\n",
    "valid_perf['nfold'] = valid_perf.id.str.split(' ',expand=True).iloc[:,2]\n",
    "valid_perf.head()"
   ]
  },
  {
   "cell_type": "code",
   "execution_count": 11,
   "metadata": {},
   "outputs": [
    {
     "data": {
      "text/plain": [
       "Text(0.5, 1.0, 'Freq of F1 over all Random Seeds (200) \\n Vert line = 75th p-tile')"
      ]
     },
     "execution_count": 11,
     "metadata": {},
     "output_type": "execute_result"
    },
    {
     "data": {
      "image/png": "[encoded data removed]",
      "text/plain": [
       "<Figure size 432x288 with 1 Axes>"
      ]
     },
     "metadata": {
      "needs_background": "light"
     },
     "output_type": "display_data"
    }
   ],
   "source": [
    "valid_perf.F1.hist(alpha=0.3)\n",
    "#valid_perf.groupby('rnd_seed')['F1'].mean().hist(alpha=0.3)\n",
    "plt.axvline(x=valid_perf.F1.quantile(0.75))\n",
    "#valid_perf[valid_perf.F1 >= valid_perf.F1.quantile(0.75)].F1.hist(alpha=0.3)\n",
    "plt.title('Freq of F1 over all Random Seeds (200) \\n Vert line = 75th p-tile')"
   ]
  },
  {
   "cell_type": "code",
   "execution_count": 14,
   "metadata": {},
   "outputs": [
    {
     "data": {
      "text/plain": [
       "['haha_clas_0609_fld0_84154.pth',\n",
       " 'haha_clas_0609_fld1_84154.pth',\n",
       " 'haha_clas_0609_fld2_84154.pth',\n",
       " 'haha_clas_0609_fld3_84154.pth',\n",
       " 'haha_clas_0609_fld4_84154.pth']"
      ]
     },
     "execution_count": 14,
     "metadata": {},
     "output_type": "execute_result"
    }
   ],
   "source": [
    "seed_grouped_F1 = valid_perf.groupby('rnd_seed')['F1'].mean()\n",
    "selected_seeds = seed_grouped_F1[seed_grouped_F1>=seed_grouped_F1.quantile(0.)].index.values.tolist()\n",
    "seed_fold_pair = valid_perf[valid_perf.rnd_seed.isin(selected_seeds)].loc[:,['rnd_seed','nfold']].values\n",
    "model_wt_fnames = []\n",
    "for (seed,fold) in seed_fold_pair:\n",
    "    model_wt_fnames.append(f'haha_clas_0609_fld{fold}_{seed}.pth')\n",
    "model_wt_fnames"
   ]
  },
  {
   "cell_type": "code",
   "execution_count": 15,
   "metadata": {},
   "outputs": [],
   "source": [
    "ensemble_preds = []\n",
    "for wt_fname in model_wt_fnames:\n",
    "    config = awd_lstm_clas_config.copy()\n",
    "    config['qrnn'] = True\n",
    "    config['n_hid'] = 2304\n",
    "    \n",
    "    learn = text_classifier_learner(data_tst, AWD_LSTM, drop_mult=0.7,pretrained=False,\n",
    "                               config=config)\n",
    "    learn = learn.load(wt_fname.split('.')[0]) #load weights\n",
    "    preds_t,y_t,losses_t = learn.get_preds(DatasetType.Valid,with_loss=True, ordered=True)\n",
    "    ensemble_preds.append(to_np(preds_t))"
   ]
  },
  {
   "cell_type": "code",
   "execution_count": 16,
   "metadata": {},
   "outputs": [
    {
     "data": {
      "text/plain": [
       "(5, 6000, 2)"
      ]
     },
     "execution_count": 16,
     "metadata": {},
     "output_type": "execute_result"
    }
   ],
   "source": [
    "np.array(ensemble_preds).shape"
   ]
  },
  {
   "cell_type": "code",
   "execution_count": 17,
   "metadata": {},
   "outputs": [
    {
     "data": {
      "text/plain": [
       "array([[[0.295374, 0.704626],\n",
       "        [0.933064, 0.066936],\n",
       "        [0.03395 , 0.96605 ],\n",
       "        [0.929978, 0.070022],\n",
       "        ...,\n",
       "        [0.856792, 0.143208],\n",
       "        [0.844322, 0.155678],\n",
       "        [0.343946, 0.656054],\n",
       "        [0.216388, 0.783612]],\n",
       "\n",
       "       [[0.189008, 0.810992],\n",
       "        [0.952272, 0.047728],\n",
       "        [0.084021, 0.915978],\n",
       "        [0.929111, 0.070889],\n",
       "        ...,\n",
       "        [0.704143, 0.295857],\n",
       "        [0.967521, 0.032479],\n",
       "        [0.394713, 0.605287],\n",
       "        [0.229939, 0.770061]],\n",
       "\n",
       "       [[0.184139, 0.815861],\n",
       "        [0.795188, 0.204812],\n",
       "        [0.049603, 0.950397],\n",
       "        [0.962914, 0.037086],\n",
       "        ...,\n",
       "        [0.50402 , 0.49598 ],\n",
       "        [0.988681, 0.011319],\n",
       "        [0.261577, 0.738423],\n",
       "        [0.142204, 0.857796]],\n",
       "\n",
       "       [[0.406496, 0.593504],\n",
       "        [0.846026, 0.153974],\n",
       "        [0.101522, 0.898478],\n",
       "        [0.941589, 0.058411],\n",
       "        ...,\n",
       "        [0.693508, 0.306492],\n",
       "        [0.943625, 0.056375],\n",
       "        [0.425064, 0.574936],\n",
       "        [0.25241 , 0.74759 ]],\n",
       "\n",
       "       [[0.3611  , 0.6389  ],\n",
       "        [0.926796, 0.073204],\n",
       "        [0.027333, 0.972667],\n",
       "        [0.994217, 0.005783],\n",
       "        ...,\n",
       "        [0.920412, 0.079588],\n",
       "        [0.980566, 0.019434],\n",
       "        [0.316789, 0.683211],\n",
       "        [0.15655 , 0.84345 ]]], dtype=float32)"
      ]
     },
     "execution_count": 17,
     "metadata": {},
     "output_type": "execute_result"
    }
   ],
   "source": [
    "np.array(ensemble_preds)"
   ]
  },
  {
   "cell_type": "code",
   "execution_count": 18,
   "metadata": {},
   "outputs": [
    {
     "data": {
      "text/plain": [
       "array([[0.287223, 0.712777],\n",
       "       [0.890669, 0.109331],\n",
       "       [0.059286, 0.940714],\n",
       "       [0.951562, 0.048438],\n",
       "       ...,\n",
       "       [0.735775, 0.264225],\n",
       "       [0.944943, 0.055057],\n",
       "       [0.348418, 0.651582],\n",
       "       [0.199498, 0.800502]], dtype=float32)"
      ]
     },
     "execution_count": 18,
     "metadata": {},
     "output_type": "execute_result"
    }
   ],
   "source": [
    "ens_mean = np.array(ensemble_preds).mean(axis=0)\n",
    "ens_mean"
   ]
  },
  {
   "cell_type": "code",
   "execution_count": 19,
   "metadata": {},
   "outputs": [],
   "source": [
    "out_df = test_df['id'].to_frame().copy()\n",
    "out_df['is_humor'] = ens_mean.argmax(axis=1)\n",
    "out_df['funniness_average'] = 3."
   ]
  },
  {
   "cell_type": "code",
   "execution_count": 20,
   "metadata": {},
   "outputs": [
    {
     "data": {
      "text/html": [
       "<div>\n",
       "<style scoped>\n",
       "    .dataframe tbody tr th:only-of-type {\n",
       "        vertical-align: middle;\n",
       "    }\n",
       "\n",
       "    .dataframe tbody tr th {\n",
       "        vertical-align: top;\n",
       "    }\n",
       "\n",
       "    .dataframe thead th {\n",
       "        text-align: right;\n",
       "    }\n",
       "</style>\n",
       "<table border=\"1\" class=\"dataframe\">\n",
       "  <thead>\n",
       "    <tr style=\"text-align: right;\">\n",
       "      <th></th>\n",
       "      <th>id</th>\n",
       "      <th>is_humor</th>\n",
       "      <th>funniness_average</th>\n",
       "    </tr>\n",
       "  </thead>\n",
       "  <tbody>\n",
       "    <tr>\n",
       "      <th>0</th>\n",
       "      <td>tweet1</td>\n",
       "      <td>1</td>\n",
       "      <td>3.0</td>\n",
       "    </tr>\n",
       "    <tr>\n",
       "      <th>1</th>\n",
       "      <td>tweet2</td>\n",
       "      <td>0</td>\n",
       "      <td>3.0</td>\n",
       "    </tr>\n",
       "    <tr>\n",
       "      <th>2</th>\n",
       "      <td>tweet3</td>\n",
       "      <td>1</td>\n",
       "      <td>3.0</td>\n",
       "    </tr>\n",
       "    <tr>\n",
       "      <th>3</th>\n",
       "      <td>tweet4</td>\n",
       "      <td>0</td>\n",
       "      <td>3.0</td>\n",
       "    </tr>\n",
       "    <tr>\n",
       "      <th>4</th>\n",
       "      <td>tweet5</td>\n",
       "      <td>0</td>\n",
       "      <td>3.0</td>\n",
       "    </tr>\n",
       "  </tbody>\n",
       "</table>\n",
       "</div>"
      ],
      "text/plain": [
       "       id  is_humor  funniness_average\n",
       "0  tweet1         1                3.0\n",
       "1  tweet2         0                3.0\n",
       "2  tweet3         1                3.0\n",
       "3  tweet4         0                3.0\n",
       "4  tweet5         0                3.0"
      ]
     },
     "execution_count": 20,
     "metadata": {},
     "output_type": "execute_result"
    }
   ],
   "source": [
    "out_df.head()"
   ]
  },
  {
   "cell_type": "code",
   "execution_count": 21,
   "metadata": {},
   "outputs": [],
   "source": [
    "out_df.to_csv('sub0609_finetune.csv',header=True,index=False)"
   ]
  },
  {
   "cell_type": "code",
   "execution_count": null,
   "metadata": {},
   "outputs": [],
   "source": []
  }
 ],
 "metadata": {
  "kernelspec": {
   "display_name": "Python 3",
   "language": "python",
   "name": "python3"
  },
  "language_info": {
   "codemirror_mode": {
    "name": "ipython",
    "version": 3
   },
   "file_extension": ".py",
   "mimetype": "text/x-python",
   "name": "python",
   "nbconvert_exporter": "python",
   "pygments_lexer": "ipython3",
   "version": "3.7.3"
  },
  "varInspector": {
   "cols": {
    "lenName": 16,
    "lenType": 16,
    "lenVar": 40
   },
   "kernels_config": {
    "python": {
     "delete_cmd_postfix": "",
     "delete_cmd_prefix": "del ",
     "library": "var_list.py",
     "varRefreshCmd": "print(var_dic_list())"
    },
    "r": {
     "delete_cmd_postfix": ") ",
     "delete_cmd_prefix": "rm(",
     "library": "var_list.r",
     "varRefreshCmd": "cat(var_dic_list()) "
    }
   },
   "types_to_exclude": [
    "module",
    "function",
    "builtin_function_or_method",
    "instance",
    "_Feature"
   ],
   "window_display": false
  }
 },
 "nbformat": 4,
 "nbformat_minor": 2
}
