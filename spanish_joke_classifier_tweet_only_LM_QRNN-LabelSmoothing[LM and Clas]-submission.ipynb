{
 "cells": [
  {
   "cell_type": "markdown",
   "metadata": {},
   "source": [
    "Use the tweets for the updated vocab, test classifer on humor"
   ]
  },
  {
   "cell_type": "code",
   "execution_count": 1,
   "metadata": {},
   "outputs": [
    {
     "name": "stdout",
     "output_type": "stream",
     "text": [
      "/home/farzin/haha_2019\r\n"
     ]
    }
   ],
   "source": [
    "!pwd"
   ]
  },
  {
   "cell_type": "code",
   "execution_count": 2,
   "metadata": {},
   "outputs": [],
   "source": [
    "%reload_ext autoreload\n",
    "%autoreload 2"
   ]
  },
  {
   "cell_type": "code",
   "execution_count": 3,
   "metadata": {},
   "outputs": [],
   "source": [
    "import os\n",
    "os.environ[\"CUDA_VISIBLE_DEVICES\"]=\"1\""
   ]
  },
  {
   "cell_type": "code",
   "execution_count": 4,
   "metadata": {},
   "outputs": [],
   "source": [
    "from fastai.text import *\n",
    "from fastai.callbacks import SaveModelCallback\n",
    "import sentencepiece as spm #https://github.com/google/sentencepiece"
   ]
  },
  {
   "cell_type": "markdown",
   "metadata": {},
   "source": [
    "# Python code Examples (testing out tokenizer)"
   ]
  },
  {
   "cell_type": "markdown",
   "metadata": {},
   "source": [
    "## Data"
   ]
  },
  {
   "cell_type": "markdown",
   "metadata": {},
   "source": [
    "### Reading the texts"
   ]
  },
  {
   "cell_type": "code",
   "execution_count": 5,
   "metadata": {},
   "outputs": [],
   "source": [
    "PATH = Path('./data/rnn/')"
   ]
  },
  {
   "cell_type": "code",
   "execution_count": 6,
   "metadata": {},
   "outputs": [],
   "source": [
    "all_texts_df = pd.read_csv('./data/haha_2019_train.csv')"
   ]
  },
  {
   "cell_type": "code",
   "execution_count": 7,
   "metadata": {},
   "outputs": [
    {
     "data": {
      "text/html": [
       "<div>\n",
       "<style scoped>\n",
       "    .dataframe tbody tr th:only-of-type {\n",
       "        vertical-align: middle;\n",
       "    }\n",
       "\n",
       "    .dataframe tbody tr th {\n",
       "        vertical-align: top;\n",
       "    }\n",
       "\n",
       "    .dataframe thead th {\n",
       "        text-align: right;\n",
       "    }\n",
       "</style>\n",
       "<table border=\"1\" class=\"dataframe\">\n",
       "  <thead>\n",
       "    <tr style=\"text-align: right;\">\n",
       "      <th></th>\n",
       "      <th>id</th>\n",
       "      <th>text</th>\n",
       "      <th>is_humor</th>\n",
       "      <th>votes_no</th>\n",
       "      <th>votes_1</th>\n",
       "      <th>votes_2</th>\n",
       "      <th>votes_3</th>\n",
       "      <th>votes_4</th>\n",
       "      <th>votes_5</th>\n",
       "      <th>funniness_average</th>\n",
       "    </tr>\n",
       "  </thead>\n",
       "  <tbody>\n",
       "    <tr>\n",
       "      <th>0</th>\n",
       "      <td>705196579758583809</td>\n",
       "      <td>Niveles de retraso mental: \\r\\n\\r\\n— Bajo.\\r\\n...</td>\n",
       "      <td>1</td>\n",
       "      <td>1</td>\n",
       "      <td>2</td>\n",
       "      <td>2</td>\n",
       "      <td>0</td>\n",
       "      <td>0</td>\n",
       "      <td>0</td>\n",
       "      <td>1.5</td>\n",
       "    </tr>\n",
       "    <tr>\n",
       "      <th>1</th>\n",
       "      <td>678040651817213952</td>\n",
       "      <td>—Vamos Luke desenfunda tu sable, demuestra tu ...</td>\n",
       "      <td>1</td>\n",
       "      <td>1</td>\n",
       "      <td>3</td>\n",
       "      <td>0</td>\n",
       "      <td>1</td>\n",
       "      <td>0</td>\n",
       "      <td>0</td>\n",
       "      <td>1.5</td>\n",
       "    </tr>\n",
       "    <tr>\n",
       "      <th>2</th>\n",
       "      <td>546750892213829633</td>\n",
       "      <td>- ¿Te ofrezco algo?, ¿Agua, café, mi corazón, ...</td>\n",
       "      <td>1</td>\n",
       "      <td>0</td>\n",
       "      <td>2</td>\n",
       "      <td>1</td>\n",
       "      <td>0</td>\n",
       "      <td>1</td>\n",
       "      <td>1</td>\n",
       "      <td>2.6</td>\n",
       "    </tr>\n",
       "    <tr>\n",
       "      <th>3</th>\n",
       "      <td>965807211292364801</td>\n",
       "      <td>No se porqué me hago la cabeza deooos</td>\n",
       "      <td>0</td>\n",
       "      <td>3</td>\n",
       "      <td>0</td>\n",
       "      <td>0</td>\n",
       "      <td>0</td>\n",
       "      <td>0</td>\n",
       "      <td>0</td>\n",
       "      <td>NaN</td>\n",
       "    </tr>\n",
       "    <tr>\n",
       "      <th>4</th>\n",
       "      <td>638403841839484928</td>\n",
       "      <td>Quisiera saber que hago durante la siesta de l...</td>\n",
       "      <td>0</td>\n",
       "      <td>4</td>\n",
       "      <td>0</td>\n",
       "      <td>1</td>\n",
       "      <td>0</td>\n",
       "      <td>0</td>\n",
       "      <td>0</td>\n",
       "      <td>NaN</td>\n",
       "    </tr>\n",
       "  </tbody>\n",
       "</table>\n",
       "</div>"
      ],
      "text/plain": [
       "                   id                                               text  \\\n",
       "0  705196579758583809  Niveles de retraso mental: \\r\\n\\r\\n— Bajo.\\r\\n...   \n",
       "1  678040651817213952  —Vamos Luke desenfunda tu sable, demuestra tu ...   \n",
       "2  546750892213829633  - ¿Te ofrezco algo?, ¿Agua, café, mi corazón, ...   \n",
       "3  965807211292364801              No se porqué me hago la cabeza deooos   \n",
       "4  638403841839484928  Quisiera saber que hago durante la siesta de l...   \n",
       "\n",
       "   is_humor  votes_no  votes_1  votes_2  votes_3  votes_4  votes_5  \\\n",
       "0         1         1        2        2        0        0        0   \n",
       "1         1         1        3        0        1        0        0   \n",
       "2         1         0        2        1        0        1        1   \n",
       "3         0         3        0        0        0        0        0   \n",
       "4         0         4        0        1        0        0        0   \n",
       "\n",
       "   funniness_average  \n",
       "0                1.5  \n",
       "1                1.5  \n",
       "2                2.6  \n",
       "3                NaN  \n",
       "4                NaN  "
      ]
     },
     "execution_count": 7,
     "metadata": {},
     "output_type": "execute_result"
    }
   ],
   "source": [
    "all_texts_df.head()"
   ]
  },
  {
   "cell_type": "markdown",
   "metadata": {},
   "source": [
    "### apply pre-rules to text"
   ]
  },
  {
   "cell_type": "code",
   "execution_count": 8,
   "metadata": {},
   "outputs": [],
   "source": [
    "## New Line char for replacement in text\n",
    "NL = 'xxnl'\n",
    "defaults.text_spec_tok.append(NL) #add a New Line special char\n",
    "\n",
    "def sub_nl(t:str) -> str:\n",
    "    \"Replaces \\n by xxnl\"\n",
    "    return t.replace(\"\\r\\n\",\"\\n\").replace(\"\\n\",NL+\" \")\n",
    "\n",
    "# def sub_br(t:str) -> str:\n",
    "#     \"Replaces the <br /> by \\n\"\n",
    "#     re_br = re.compile(r'<\\s*br\\s*/?>', re.IGNORECASE)\n",
    "#     return re_br.sub(\"\\n\", t)\n",
    "\n",
    "def spec_add_spaces(t:str) -> str:\n",
    "    \"Add spaces between special characters\"\n",
    "    return re.sub(r'([/#?!@,])', r' \\1 ', t)\n",
    "\n",
    "def rm_useless_spaces(t:str) -> str:\n",
    "    \"Remove multiple spaces\"\n",
    "    return re.sub(' {2,}', ' ', t)\n",
    "\n",
    "def replace_rep(t:str) -> str:\n",
    "    \"Replace repetitions at the character level\"\n",
    "    def _replace_rep(m:Collection[str]) -> str:\n",
    "        c,cc = m.groups()\n",
    "        return f' {TK_REP} {len(cc)+1} {c} '\n",
    "    re_rep = re.compile(r'(\\S)(\\1{3,})')\n",
    "    return re_rep.sub(_replace_rep, t)\n",
    "    \n",
    "def replace_wrep(t:str) -> str:\n",
    "    \"Replace word repetitions\"\n",
    "    def _replace_wrep(m:Collection[str]) -> str:\n",
    "        c,cc = m.groups()\n",
    "        return f' {TK_WREP} {len(cc.split())+1} {c} '\n",
    "    re_wrep = re.compile(r'(\\b\\w+\\W+)(\\1{3,})')\n",
    "    return re_wrep.sub(_replace_wrep, t)\n",
    "\n",
    "def deal_caps(t:str) -> str:\n",
    "    \"Replace words in all caps\"\n",
    "    res = []\n",
    "    for s in re.findall(r'\\w+|\\W+', t):\n",
    "        res += ([f' {TK_UP} ',s.lower()] if (s.isupper() and (len(s)>2)) else [s.lower()])\n",
    "    return ''.join(res)\n",
    "\n",
    "def fixup(x:str) -> str:\n",
    "    \"List of replacements from html strings\"\n",
    "    re1 = re.compile(r'  +')\n",
    "    x = x.replace('#39;', \"'\").replace('amp;', '&').replace('#146;', \"'\").replace(\n",
    "        'nbsp;', ' ').replace('#36;', '$').replace('\\\\n', \"\\n\").replace('quot;', \"'\").replace(\n",
    "        '<br />', \"\\n\").replace('\\\\\"', '\"').replace('<unk>',UNK).replace(' @.@ ','.').replace(\n",
    "        ' @-@ ','-').replace('\\\\', ' \\\\ ')\n",
    "    return re1.sub(' ', html.unescape(x))\n",
    "\n",
    "default_rules = [fixup, replace_rep, replace_wrep, deal_caps, spec_add_spaces, \n",
    "                 rm_useless_spaces, sub_nl]"
   ]
  },
  {
   "cell_type": "code",
   "execution_count": 9,
   "metadata": {},
   "outputs": [
    {
     "name": "stdout",
     "output_type": "stream",
     "text": [
      "Default Rules:\n",
      " ['fixup', 'replace_rep', 'replace_wrep', 'deal_caps', 'spec_add_spaces', 'rm_useless_spaces', 'sub_nl'] \n",
      "\n",
      "\n",
      "<function fixup at 0x7f82f2bc1a60>\n",
      "<function replace_rep at 0x7f82f2bc18c8>\n",
      "<function replace_wrep at 0x7f82f2bc1950>\n",
      "<function deal_caps at 0x7f82f2bc19d8>\n",
      "<function spec_add_spaces at 0x7f82f2bc1730>\n",
      "<function rm_useless_spaces at 0x7f82f2bc1840>\n",
      "<function sub_nl at 0x7f82f2bc1378>\n"
     ]
    }
   ],
   "source": [
    "## apply the rules\n",
    "raw_text = all_texts_df.loc[:,'text']\n",
    "\n",
    "print(\"Default Rules:\\n\",[x.__name__ for x in default_rules],\"\\n\\n\")\n",
    "\n",
    "for rule in default_rules:\n",
    "    print(rule)\n",
    "    raw_text = raw_text.apply(lambda x: rule(str(x)))\n",
    "    \n",
    "all_texts_df['new_text'] =  raw_text #tokenizer adds xxbos"
   ]
  },
  {
   "cell_type": "code",
   "execution_count": 10,
   "metadata": {},
   "outputs": [
    {
     "data": {
      "text/plain": [
       "0    niveles de retraso mental: xxnl xxnl — bajo.xx...\n",
       "1    —vamos luke desenfunda tu sable , demuestra tu...\n",
       "2    - ¿te ofrezco algo ? , ¿agua , café , mi coraz...\n",
       "3                no se porqué me hago la cabeza deooos\n",
       "4    quisiera saber que hago durante la siesta de l...\n",
       "Name: new_text, dtype: object"
      ]
     },
     "execution_count": 10,
     "metadata": {},
     "output_type": "execute_result"
    }
   ],
   "source": [
    "all_texts_df['new_text'].head()"
   ]
  },
  {
   "cell_type": "code",
   "execution_count": 11,
   "metadata": {},
   "outputs": [
    {
     "data": {
      "text/plain": [
       "(24000, 11)"
      ]
     },
     "execution_count": 11,
     "metadata": {},
     "output_type": "execute_result"
    }
   ],
   "source": [
    "all_texts_df.shape"
   ]
  },
  {
   "cell_type": "markdown",
   "metadata": {},
   "source": [
    "### Clean up the imbalanced data to balance"
   ]
  },
  {
   "cell_type": "code",
   "execution_count": 12,
   "metadata": {},
   "outputs": [
    {
     "name": "stdout",
     "output_type": "stream",
     "text": [
      "Number of positive samples: 9253\n",
      "Number of negative samples: 14747\n",
      "Total samples: 24000\n"
     ]
    }
   ],
   "source": [
    "print('Number of positive samples:', (all_texts_df.is_humor == 1).sum())\n",
    "print('Number of negative samples:',  (all_texts_df.is_humor == 0).sum())\n",
    "print('Total samples:', len(all_texts_df))"
   ]
  },
  {
   "cell_type": "code",
   "execution_count": 13,
   "metadata": {},
   "outputs": [],
   "source": [
    "rnd_seed = 20190313\n",
    "np.random.seed(rnd_seed)\n",
    "\n",
    "idx = np.random.permutation(len(all_texts_df))\n",
    "test_cut = int(0.15 * len(idx))\n",
    "valid_cut = int(0.15 * len(idx-test_cut))\n",
    "\n",
    "df_train_all = all_texts_df.iloc[idx[:-(valid_cut+test_cut)],:]\n",
    "df_valid     = all_texts_df.iloc[idx[-(valid_cut+test_cut):-test_cut],:]\n",
    "df_test      = all_texts_df.iloc[idx[-test_cut:],:]"
   ]
  },
  {
   "cell_type": "code",
   "execution_count": 14,
   "metadata": {},
   "outputs": [
    {
     "name": "stdout",
     "output_type": "stream",
     "text": [
      "Test prevalence(n = 3600): 0.3938888888888889\n",
      "Valid prevalence(n = 3600): 0.3852777777777778\n",
      "Train all prevalence(n = 16800): 0.3838095238095238\n",
      "all samples (n = 24000)\n"
     ]
    }
   ],
   "source": [
    "print('Test prevalence(n = %d):'%len(df_test),df_test.is_humor.sum()/ len(df_test))\n",
    "print('Valid prevalence(n = %d):'%len(df_valid),df_valid.is_humor.sum()/ len(df_valid))\n",
    "print('Train all prevalence(n = %d):'%len(df_train_all), df_train_all.is_humor.sum()/ len(df_train_all))\n",
    "print('all samples (n = %d)'%len(all_texts_df))\n",
    "assert len(all_texts_df) == (len(df_test)+len(df_valid)+len(df_train_all)),'math didnt work'"
   ]
  },
  {
   "cell_type": "code",
   "execution_count": 15,
   "metadata": {},
   "outputs": [
    {
     "data": {
      "text/plain": [
       "((6448, 11), (10352, 11))"
      ]
     },
     "execution_count": 15,
     "metadata": {},
     "output_type": "execute_result"
    }
   ],
   "source": [
    "## oversample the less-frequent occuring cases\n",
    "# split the training data into positive and negative\n",
    "rows_pos = df_train_all.is_humor == 1\n",
    "df_train_pos = df_train_all.loc[rows_pos]\n",
    "df_train_neg = df_train_all.loc[~rows_pos]\n",
    "df_train_pos.shape,df_train_neg.shape"
   ]
  },
  {
   "cell_type": "code",
   "execution_count": 16,
   "metadata": {},
   "outputs": [
    {
     "name": "stdout",
     "output_type": "stream",
     "text": [
      "Train prevalence (n = 20704): 0.5\n"
     ]
    }
   ],
   "source": [
    "df_resample_pos = df_train_pos.sample(n=len(df_train_neg),replace=True,\n",
    "                                      axis=0,random_state=rnd_seed).reset_index(drop=True)\n",
    "df_train = pd.concat([df_resample_pos,df_train_neg],axis=0) #randomized again in DataBunch?\n",
    "print('Train prevalence (n = %d):'%len(df_train), df_train.is_humor.sum()/ len(df_train))"
   ]
  },
  {
   "cell_type": "markdown",
   "metadata": {},
   "source": [
    "### sp tokenizer from training"
   ]
  },
  {
   "cell_type": "code",
   "execution_count": 17,
   "metadata": {},
   "outputs": [],
   "source": [
    "model_prefix = './all_tweets_es_0509'"
   ]
  },
  {
   "cell_type": "code",
   "execution_count": 18,
   "metadata": {},
   "outputs": [],
   "source": [
    "## itos from m.vocab file: just read directly and populate the dictionary\n",
    "itos = [] #{}\n",
    "with open(f'{model_prefix}.vocab','r') as f:\n",
    "    for line_num,line in enumerate(f):\n",
    "#         itos[line_num] = line.split(\"\\t\")[0]\n",
    "        itos.append(line.split(\"\\t\")[0])\n",
    "        \n",
    "class SPTokenizer(BaseTokenizer):\n",
    "    \"Wrapper around a SentncePiece tokenizer to make it a `BaseTokenizer`.\"\n",
    "    def __init__(self, model_prefix:str):\n",
    "        self.tok = spm.SentencePieceProcessor()\n",
    "        self.tok.load(f'{model_prefix}.model')\n",
    "\n",
    "    def tokenizer(self, t:str) -> List[str]:\n",
    "#         return self.tok.EncodeAsIds(t)  ## tokenize + numericalize. We have them broken into two parts,just return tokens\n",
    "        return self.tok.EncodeAsPieces(t)\n",
    "        \n",
    "class CustomTokenizer():\n",
    "    '''Wrapper for SentencePiece toeknizer to fit into Fast.ai V1'''\n",
    "    def __init__(self,tok_func:Callable,model_prefix:str, pre_rules:ListRules=None):\n",
    "        self.tok_func,self.model_prefix = tok_func,model_prefix\n",
    "        self.pre_rules  = ifnone(pre_rules,  defaults.text_pre_rules )\n",
    "        \n",
    "    def __repr__(self) -> str:\n",
    "        res = f'Tokenizer {self.tok_func.__name__} using `{self.model_prefix}` model with the following rules:\\n'\n",
    "        for rule in self.pre_rules: res += f' - {rule.__name__}\\n'\n",
    "        return res        \n",
    "\n",
    "    def process_text(self, t:str,tok:BaseTokenizer) -> List[str]:\n",
    "        \"Processe one text `t` with tokenizer `tok`.\"\n",
    "        for rule in self.pre_rules: t = rule(t)  \n",
    "        toks = tok.tokenizer(t)\n",
    "    \n",
    "        return toks \n",
    "    \n",
    "    def _process_all_1(self,texts:Collection[str]) -> List[List[str]]:\n",
    "        'Process a list of `texts` in one process'\n",
    "        tok = self.tok_func(self.model_prefix)\n",
    "        return [self.process_text(t,tok) for t in texts]\n",
    "                                                                     \n",
    "    def process_all(self, texts:Collection[str]) -> List[List[str]]: \n",
    "        \"Process a list of `texts`.\"                                 \n",
    "        return self._process_all_1(texts)"
   ]
  },
  {
   "cell_type": "code",
   "execution_count": 19,
   "metadata": {},
   "outputs": [
    {
     "data": {
      "text/plain": [
       "['→', '😫', '🤨', '😲', '🏟', '📖', '🎸', '🏿', '😮', '🎬']"
      ]
     },
     "execution_count": 19,
     "metadata": {},
     "output_type": "execute_result"
    }
   ],
   "source": [
    "itos[-10:]"
   ]
  },
  {
   "cell_type": "code",
   "execution_count": 20,
   "metadata": {},
   "outputs": [],
   "source": [
    "mycust_tok = CustomTokenizer(SPTokenizer,model_prefix,pre_rules=default_rules)\n",
    "sp_vocab = Vocab(itos)"
   ]
  },
  {
   "cell_type": "code",
   "execution_count": 21,
   "metadata": {},
   "outputs": [],
   "source": [
    "data = TextClasDataBunch.from_df(PATH,df_train,df_valid,df_test,\n",
    "                               tokenizer=mycust_tok, vocab=sp_vocab,\n",
    "                               text_cols='new_text', label_cols='is_humor')"
   ]
  },
  {
   "cell_type": "code",
   "execution_count": 22,
   "metadata": {},
   "outputs": [
    {
     "data": {
      "text/html": [
       "<table border=\"1\" class=\"dataframe\">\n",
       "  <thead>\n",
       "    <tr style=\"text-align: right;\">\n",
       "      <th>text</th>\n",
       "      <th>target</th>\n",
       "    </tr>\n",
       "  </thead>\n",
       "  <tbody>\n",
       "    <tr>\n",
       "      <td>▁ xxbos ▁❤ .- ~ * ( ▁? ▁el ▁di vo 00 ▁d 3 ▁tw 1 tter ▁! ▁! ▁! ▁? ▁? ▁~ k 3 ▁di 4 vl 0 zz ▁ki 3 r 3 z ▁k 3 ▁p 4 rt 3 ▁d 3 ▁no 00 ▁n 0 ▁3 nt 13 nd 3 z ▁b 3 the ▁k 0 n ▁ki 3 n ▁t 3 ▁d 3 ▁l 4 ▁g 4</td>\n",
       "      <td>0</td>\n",
       "    </tr>\n",
       "    <tr>\n",
       "      <td>▁ xxbos ▁❤ ️ -( el ▁di vo 00 ▁d 3 ▁tw 1 tter ▁! ▁! ▁? ▁i 0 ▁zo i ▁tu ▁ma 3 zt lo ▁? ▁ki 3 n ▁z up 0 ▁3 nz 3 ñ 4 l th 3 ▁? ▁d 3 ▁tu ▁k cuer p 0 ▁io o ▁k 0 noz ko ▁az t 4 ▁la ▁maz ▁in ty ma ▁p 4 r te ▁? ▁) ~</td>\n",
       "      <td>0</td>\n",
       "    </tr>\n",
       "    <tr>\n",
       "      <td>▁ xxbos ▁—¡ idio ta ▁! ▁ xxnl ▁—¡ h ist érica ▁! ▁ xxnl ▁— que ▁tarado . xxnl ▁— tar ada ▁tú . xxnl ▁— te ▁odio . xxnl ▁— yo ▁también . xxnl ▁— ▁¡ ▁ xxup ▁jode te ▁! ▁ xxnl ▁— no ▁me ▁hables . xxnl ▁—¡ ok ▁! ▁ xxnl ▁—¡ ok ▁! ▁ xxnl ▁— te ▁amo . xxnl ▁— yo ▁más .</td>\n",
       "      <td>0</td>\n",
       "    </tr>\n",
       "    <tr>\n",
       "      <td>▁ xxbos ▁¡ ya ▁llegó ▁santa ▁! ▁ xxnl ▁ xxunk _ xxunk xxnl ▁( ・ xxunk ・ ) xxnl ▁_ | ▁ xxunk / ( ___ ▁ xxnl ▁/ ▁l ▁( __ __ / xxnl ▁ xxnl ▁ah ▁no ▁, ▁es ▁mi ▁papá ▁bien ▁pedo . xxnl ▁ xxnl ▁&lt; xxunk / xxunk - xxunk ___ xxnl ▁/ &lt; _ ▁/ ▁ xxrep ▁4 ▁_ ▁/ ”</td>\n",
       "      <td>1</td>\n",
       "    </tr>\n",
       "    <tr>\n",
       "      <td>▁ xxbos ▁¡ ya ▁llegó ▁santa ▁! ▁ xxnl ▁ xxunk _ xxunk xxnl ▁( ・ xxunk ・ ) xxnl ▁_ | ▁ xxunk / ( ___ ▁ xxnl ▁/ ▁l ▁( __ __ / xxnl ▁ xxnl ▁ah ▁no ▁, ▁es ▁mi ▁papá ▁bien ▁pedo . xxnl ▁ xxnl ▁&lt; xxunk / xxunk - xxunk ___ xxnl ▁/ &lt; _ ▁/ ▁ xxrep ▁4 ▁_ ▁/ ”</td>\n",
       "      <td>1</td>\n",
       "    </tr>\n",
       "    <tr>\n",
       "      <td>▁ xxbos ▁( ▁ xxup ▁o _ o ) ▁( xxunk _ ▁ xxunk ) ▁( ▁ xxup ▁o _ o ) ▁( xxunk _ ▁ xxunk ) ▁( ▁ xxup ▁o _ o ) ▁( xxunk _ ▁ xxunk ) ▁( ▁ xxup ▁o _ o ) ▁( xxunk _ ▁ xxunk ) ▁( xxunk _ ▁ xxunk ). ▁yo ▁con ▁el ▁móvil ▁en ▁clase .</td>\n",
       "      <td>1</td>\n",
       "    </tr>\n",
       "    <tr>\n",
       "      <td>▁ xxbos ▁— cuel ga ▁tú . xxnl ▁— no ▁, ▁cuelga ▁tú . ▁ xxnl ▁— no ▁, ▁tú . xxnl ▁— que ▁t ... xxnl ▁—¡ ▁ xxup ▁pinche ▁ xxup ▁tonta ▁me ▁ xxup ▁colgó ▁! ▁ xxnl ▁—¡ te ▁ xxup ▁escuché ▁ xxup ▁pendejo ▁! ▁ xxnl ▁— ▁ xxup ▁jajaj á ▁¡ ay ▁amor ▁! ▁es ▁broma ▁, ▁te ▁amo .</td>\n",
       "      <td>1</td>\n",
       "    </tr>\n",
       "    <tr>\n",
       "      <td>▁ xxbos ▁ xxup ▁tengo ▁un ▁ xxup ▁gran ▁ xxup ▁anuncio ▁, ▁ xxup ▁una ▁ xxup ▁noticia ▁ xxup ▁que ▁ xxup ▁cambiará ▁la ▁ xxup ▁historia ▁de ▁ xxup ▁twitter ▁, ▁ xxup ▁que ▁ xxup ▁devolver á ▁el ▁ xxup ▁sentido ▁a ▁ xxup ▁nuestra ▁ xxup ▁vida . xxnl ▁ xxnl ▁ xxup ▁pendientes ▁ xxup ▁hoy ▁en ▁la ▁ xxup ▁noche</td>\n",
       "      <td>0</td>\n",
       "    </tr>\n",
       "    <tr>\n",
       "      <td>▁ xxbos ▁— mamá ▁, ▁¿ puedo ▁salir ▁? ▁— no . ▁—¿ me ▁das ▁un ▁calce tín ▁? ▁— ok ▁, ▁toma . ▁— el ▁ xxup ▁amo ▁le ▁ha ▁ xxup ▁dado ▁a ▁ xxup ▁dob by ▁un ▁ xxup ▁calce tín ... ▁¡ ▁ xxup ▁dob by ▁es ▁ xxup ▁libre ▁! ▁# ▁ xxup ▁jajaja ▁# ▁ xxup ▁hp quo tes ▁# ▁xd</td>\n",
       "      <td>1</td>\n",
       "    </tr>\n",
       "    <tr>\n",
       "      <td>▁ xxbos ▁—¿ maestro ▁entonces ▁ya ▁aprobé ▁? ▁ xxnl ▁ xxnl ▁( • ▁- ▁• ) ▁ xxnl ▁ xxunk ▁ xxunk ▁ xxunk ▁__ ( • ▁- ▁• ) ▁ xxnl ▁_ xxunk ▁_ xxunk ▁ xxunk ▁ xxunk ▁ xxnl ▁ xxnl ▁—¡ hija ▁, ▁yo ▁soy ▁el ▁conser je ▁! ▁ xxnl ▁ xxnl ▁—¡ ay ▁, ▁por ▁no ▁poner ▁atención ▁!</td>\n",
       "      <td>1</td>\n",
       "    </tr>\n",
       "  </tbody>\n",
       "</table>"
      ],
      "text/plain": [
       "<IPython.core.display.HTML object>"
      ]
     },
     "metadata": {},
     "output_type": "display_data"
    }
   ],
   "source": [
    "data.show_batch(10)  #less xxunk, but still a fair amount..."
   ]
  },
  {
   "cell_type": "markdown",
   "metadata": {},
   "source": [
    "### Check `xxunk` fraction on humor data"
   ]
  },
  {
   "cell_type": "code",
   "execution_count": 23,
   "metadata": {},
   "outputs": [
    {
     "data": {
      "text/plain": [
       "((498,), (20704,))"
      ]
     },
     "execution_count": 23,
     "metadata": {},
     "output_type": "execute_result"
    }
   ],
   "source": [
    "pct_xxunk = pd.Series([sum(y==0)/len(y) for y in [x.data for x in data.train_dl.x]])\n",
    "pct_xxunk[pct_xxunk>0].shape, pct_xxunk.shape"
   ]
  },
  {
   "cell_type": "code",
   "execution_count": 24,
   "metadata": {},
   "outputs": [
    {
     "data": {
      "text/plain": [
       "0.024053323029366306"
      ]
     },
     "execution_count": 24,
     "metadata": {},
     "output_type": "execute_result"
    }
   ],
   "source": [
    "498/20704."
   ]
  },
  {
   "cell_type": "code",
   "execution_count": 25,
   "metadata": {},
   "outputs": [
    {
     "data": {
      "image/png": "[encoded data removed]",
      "text/plain": [
       "<Figure size 432x288 with 1 Axes>"
      ]
     },
     "metadata": {
      "needs_background": "light"
     },
     "output_type": "display_data"
    }
   ],
   "source": [
    "pd.Series([sum(y==0)/len(y) for y in [x.data for x in data.train_dl.x]]).plot()\n",
    "_ = plt.title('Pct UNK in each tweet')"
   ]
  },
  {
   "cell_type": "markdown",
   "metadata": {},
   "source": [
    "### build and train model"
   ]
  },
  {
   "cell_type": "code",
   "execution_count": 26,
   "metadata": {},
   "outputs": [],
   "source": [
    "config = awd_lstm_clas_config.copy()\n",
    "config['qrnn'] = True\n",
    "config['n_hid'] = 2304\n",
    "\n",
    "learn = text_classifier_learner(data, AWD_LSTM, drop_mult=0.7,pretrained=False,\n",
    "                               config=config)\n",
    "learn.load_encoder('twitter_es_enc_QRNN_0517_labelsmooth')"
   ]
  },
  {
   "cell_type": "code",
   "execution_count": 27,
   "metadata": {},
   "outputs": [
    {
     "data": {
      "text/plain": [
       "FlattenedLoss of CrossEntropyLoss()"
      ]
     },
     "execution_count": 27,
     "metadata": {},
     "output_type": "execute_result"
    }
   ],
   "source": [
    "learn.loss_func"
   ]
  },
  {
   "cell_type": "code",
   "execution_count": 28,
   "metadata": {},
   "outputs": [],
   "source": [
    "from fastai.layers import LabelSmoothingCrossEntropy\n",
    "learn.loss_func = FlattenedLoss(LabelSmoothingCrossEntropy)"
   ]
  },
  {
   "cell_type": "code",
   "execution_count": 29,
   "metadata": {},
   "outputs": [
    {
     "data": {
      "text/html": [],
      "text/plain": [
       "<IPython.core.display.HTML object>"
      ]
     },
     "metadata": {},
     "output_type": "display_data"
    },
    {
     "name": "stdout",
     "output_type": "stream",
     "text": [
      "LR Finder is complete, type {learner_name}.recorder.plot() to see the graph.\n"
     ]
    }
   ],
   "source": [
    "lr_find(learn)"
   ]
  },
  {
   "cell_type": "code",
   "execution_count": 30,
   "metadata": {},
   "outputs": [
    {
     "data": {
      "image/png": "[encoded data removed]",
      "text/plain": [
       "<Figure size 432x288 with 1 Axes>"
      ]
     },
     "metadata": {
      "needs_background": "light"
     },
     "output_type": "display_data"
    }
   ],
   "source": [
    "learn.recorder.plot(skip_end=10)"
   ]
  },
  {
   "cell_type": "code",
   "execution_count": 31,
   "metadata": {},
   "outputs": [],
   "source": [
    "\n",
    "## transform that will drop (replace?) low prob words in each input batch.  \n",
    "# 1) run words through LM, find prob of next word for each word\n",
    "# 2) use prob to adjust/drop each word in the batch\n",
    "# 3) Use a transform/augmentation for each prediction.\n",
    "\n",
    "### Transform that will change/replace the entire sentence.  En-Fr -> Fr-En to get the same semantics, but new set of words.\n",
    "## can we do with many words?  Can we couple with single-word drop/replace?\n",
    "## multiplies the amount of transforms?  Applied after word-level transform?"
   ]
  },
  {
   "cell_type": "code",
   "execution_count": 32,
   "metadata": {},
   "outputs": [
    {
     "data": {
      "text/html": [
       "Total time: 06:55 <p><table style='width:375px; margin-bottom:10px'>\n",
       "  <tr>\n",
       "    <th>epoch</th>\n",
       "    <th>train_loss</th>\n",
       "    <th>valid_loss</th>\n",
       "    <th>accuracy</th>\n",
       "    <th>time</th>\n",
       "  </tr>\n",
       "  <tr>\n",
       "    <th>0</th>\n",
       "    <th>0.535854</th>\n",
       "    <th>0.483457</th>\n",
       "    <th>0.798056</th>\n",
       "    <th>00:20</th>\n",
       "  </tr>\n",
       "  <tr>\n",
       "    <th>1</th>\n",
       "    <th>0.578681</th>\n",
       "    <th>0.461223</th>\n",
       "    <th>0.815000</th>\n",
       "    <th>00:18</th>\n",
       "  </tr>\n",
       "  <tr>\n",
       "    <th>2</th>\n",
       "    <th>0.520449</th>\n",
       "    <th>0.436662</th>\n",
       "    <th>0.839722</th>\n",
       "    <th>00:19</th>\n",
       "  </tr>\n",
       "  <tr>\n",
       "    <th>3</th>\n",
       "    <th>0.511254</th>\n",
       "    <th>0.433840</th>\n",
       "    <th>0.839722</th>\n",
       "    <th>00:18</th>\n",
       "  </tr>\n",
       "  <tr>\n",
       "    <th>4</th>\n",
       "    <th>0.457509</th>\n",
       "    <th>0.450018</th>\n",
       "    <th>0.833889</th>\n",
       "    <th>00:20</th>\n",
       "  </tr>\n",
       "  <tr>\n",
       "    <th>5</th>\n",
       "    <th>0.471590</th>\n",
       "    <th>0.427399</th>\n",
       "    <th>0.855278</th>\n",
       "    <th>00:19</th>\n",
       "  </tr>\n",
       "  <tr>\n",
       "    <th>6</th>\n",
       "    <th>0.455029</th>\n",
       "    <th>0.446529</th>\n",
       "    <th>0.854722</th>\n",
       "    <th>00:18</th>\n",
       "  </tr>\n",
       "  <tr>\n",
       "    <th>7</th>\n",
       "    <th>0.419082</th>\n",
       "    <th>0.440096</th>\n",
       "    <th>0.857778</th>\n",
       "    <th>00:20</th>\n",
       "  </tr>\n",
       "  <tr>\n",
       "    <th>8</th>\n",
       "    <th>0.434765</th>\n",
       "    <th>0.475024</th>\n",
       "    <th>0.852500</th>\n",
       "    <th>00:18</th>\n",
       "  </tr>\n",
       "  <tr>\n",
       "    <th>9</th>\n",
       "    <th>0.379503</th>\n",
       "    <th>0.460347</th>\n",
       "    <th>0.852778</th>\n",
       "    <th>00:19</th>\n",
       "  </tr>\n",
       "  <tr>\n",
       "    <th>10</th>\n",
       "    <th>0.364003</th>\n",
       "    <th>0.478370</th>\n",
       "    <th>0.855556</th>\n",
       "    <th>00:20</th>\n",
       "  </tr>\n",
       "  <tr>\n",
       "    <th>11</th>\n",
       "    <th>0.348098</th>\n",
       "    <th>0.459991</th>\n",
       "    <th>0.850833</th>\n",
       "    <th>00:19</th>\n",
       "  </tr>\n",
       "  <tr>\n",
       "    <th>12</th>\n",
       "    <th>0.336807</th>\n",
       "    <th>0.474503</th>\n",
       "    <th>0.857222</th>\n",
       "    <th>00:19</th>\n",
       "  </tr>\n",
       "  <tr>\n",
       "    <th>13</th>\n",
       "    <th>0.345157</th>\n",
       "    <th>0.484372</th>\n",
       "    <th>0.855833</th>\n",
       "    <th>00:19</th>\n",
       "  </tr>\n",
       "  <tr>\n",
       "    <th>14</th>\n",
       "    <th>0.325082</th>\n",
       "    <th>0.477392</th>\n",
       "    <th>0.855833</th>\n",
       "    <th>00:20</th>\n",
       "  </tr>\n",
       "  <tr>\n",
       "    <th>15</th>\n",
       "    <th>0.314855</th>\n",
       "    <th>0.510461</th>\n",
       "    <th>0.853333</th>\n",
       "    <th>00:21</th>\n",
       "  </tr>\n",
       "  <tr>\n",
       "    <th>16</th>\n",
       "    <th>0.317242</th>\n",
       "    <th>0.486947</th>\n",
       "    <th>0.854722</th>\n",
       "    <th>00:21</th>\n",
       "  </tr>\n",
       "  <tr>\n",
       "    <th>17</th>\n",
       "    <th>0.330537</th>\n",
       "    <th>0.472086</th>\n",
       "    <th>0.853056</th>\n",
       "    <th>00:19</th>\n",
       "  </tr>\n",
       "  <tr>\n",
       "    <th>18</th>\n",
       "    <th>0.314986</th>\n",
       "    <th>0.476460</th>\n",
       "    <th>0.851944</th>\n",
       "    <th>00:19</th>\n",
       "  </tr>\n",
       "  <tr>\n",
       "    <th>19</th>\n",
       "    <th>0.307563</th>\n",
       "    <th>0.529728</th>\n",
       "    <th>0.853611</th>\n",
       "    <th>00:20</th>\n",
       "  </tr>\n",
       "</table>\n"
      ],
      "text/plain": [
       "<IPython.core.display.HTML object>"
      ]
     },
     "metadata": {},
     "output_type": "display_data"
    },
    {
     "name": "stdout",
     "output_type": "stream",
     "text": [
      "Better model found at epoch 0 with accuracy value: 0.7980555295944214.\n",
      "Better model found at epoch 1 with accuracy value: 0.8149999976158142.\n",
      "Better model found at epoch 2 with accuracy value: 0.839722216129303.\n",
      "Better model found at epoch 5 with accuracy value: 0.8552777767181396.\n",
      "Better model found at epoch 7 with accuracy value: 0.8577777743339539.\n"
     ]
    }
   ],
   "source": [
    "learn.unfreeze()\n",
    "## 0.7 drop\n",
    "learn.fit_one_cycle(20, slice(1e-2/(2.6**4),1e-2), moms=(0.7,0.4), pct_start=0.25, div_factor=8.,\n",
    "             callbacks=[SaveModelCallback(learn,every='improvement',mode='max',monitor='accuracy',name='best_acc_model_Q')])"
   ]
  },
  {
   "cell_type": "code",
   "execution_count": 33,
   "metadata": {},
   "outputs": [
    {
     "data": {
      "image/png": "[encoded data removed]",
      "text/plain": [
       "<Figure size 432x288 with 1 Axes>"
      ]
     },
     "metadata": {
      "needs_background": "light"
     },
     "output_type": "display_data"
    },
    {
     "data": {
      "image/png": "[encoded data removed]",
      "text/plain": [
       "<Figure size 432x288 with 1 Axes>"
      ]
     },
     "metadata": {
      "needs_background": "light"
     },
     "output_type": "display_data"
    },
    {
     "data": {
      "image/png": "[encoded data removed]",
      "text/plain": [
       "<Figure size 864x288 with 2 Axes>"
      ]
     },
     "metadata": {
      "needs_background": "light"
     },
     "output_type": "display_data"
    }
   ],
   "source": [
    "learn.recorder.plot_losses()\n",
    "learn.recorder.plot_metrics()\n",
    "learn.recorder.plot_lr(show_moms=True)"
   ]
  },
  {
   "cell_type": "code",
   "execution_count": 34,
   "metadata": {},
   "outputs": [
    {
     "data": {
      "text/html": [
       "Total time: 06:57 <p><table style='width:375px; margin-bottom:10px'>\n",
       "  <tr>\n",
       "    <th>epoch</th>\n",
       "    <th>train_loss</th>\n",
       "    <th>valid_loss</th>\n",
       "    <th>accuracy</th>\n",
       "    <th>time</th>\n",
       "  </tr>\n",
       "  <tr>\n",
       "    <th>0</th>\n",
       "    <th>0.392993</th>\n",
       "    <th>0.447783</th>\n",
       "    <th>0.855000</th>\n",
       "    <th>00:19</th>\n",
       "  </tr>\n",
       "  <tr>\n",
       "    <th>1</th>\n",
       "    <th>0.363019</th>\n",
       "    <th>0.455288</th>\n",
       "    <th>0.854722</th>\n",
       "    <th>00:20</th>\n",
       "  </tr>\n",
       "  <tr>\n",
       "    <th>2</th>\n",
       "    <th>0.358050</th>\n",
       "    <th>0.456685</th>\n",
       "    <th>0.858056</th>\n",
       "    <th>00:20</th>\n",
       "  </tr>\n",
       "  <tr>\n",
       "    <th>3</th>\n",
       "    <th>0.381803</th>\n",
       "    <th>0.488814</th>\n",
       "    <th>0.859167</th>\n",
       "    <th>00:20</th>\n",
       "  </tr>\n",
       "  <tr>\n",
       "    <th>4</th>\n",
       "    <th>0.351706</th>\n",
       "    <th>0.455521</th>\n",
       "    <th>0.856944</th>\n",
       "    <th>00:20</th>\n",
       "  </tr>\n",
       "  <tr>\n",
       "    <th>5</th>\n",
       "    <th>0.363182</th>\n",
       "    <th>0.467481</th>\n",
       "    <th>0.858611</th>\n",
       "    <th>00:19</th>\n",
       "  </tr>\n",
       "  <tr>\n",
       "    <th>6</th>\n",
       "    <th>0.372129</th>\n",
       "    <th>0.468975</th>\n",
       "    <th>0.857500</th>\n",
       "    <th>00:19</th>\n",
       "  </tr>\n",
       "  <tr>\n",
       "    <th>7</th>\n",
       "    <th>0.342714</th>\n",
       "    <th>0.464270</th>\n",
       "    <th>0.855000</th>\n",
       "    <th>00:21</th>\n",
       "  </tr>\n",
       "  <tr>\n",
       "    <th>8</th>\n",
       "    <th>0.332623</th>\n",
       "    <th>0.466089</th>\n",
       "    <th>0.857500</th>\n",
       "    <th>00:20</th>\n",
       "  </tr>\n",
       "  <tr>\n",
       "    <th>9</th>\n",
       "    <th>0.357800</th>\n",
       "    <th>0.487812</th>\n",
       "    <th>0.860000</th>\n",
       "    <th>00:18</th>\n",
       "  </tr>\n",
       "  <tr>\n",
       "    <th>10</th>\n",
       "    <th>0.322919</th>\n",
       "    <th>0.467579</th>\n",
       "    <th>0.851389</th>\n",
       "    <th>00:19</th>\n",
       "  </tr>\n",
       "  <tr>\n",
       "    <th>11</th>\n",
       "    <th>0.325618</th>\n",
       "    <th>0.474401</th>\n",
       "    <th>0.853056</th>\n",
       "    <th>00:20</th>\n",
       "  </tr>\n",
       "  <tr>\n",
       "    <th>12</th>\n",
       "    <th>0.309387</th>\n",
       "    <th>0.475376</th>\n",
       "    <th>0.856667</th>\n",
       "    <th>00:21</th>\n",
       "  </tr>\n",
       "  <tr>\n",
       "    <th>13</th>\n",
       "    <th>0.349509</th>\n",
       "    <th>0.508095</th>\n",
       "    <th>0.855000</th>\n",
       "    <th>00:19</th>\n",
       "  </tr>\n",
       "  <tr>\n",
       "    <th>14</th>\n",
       "    <th>0.314822</th>\n",
       "    <th>0.486665</th>\n",
       "    <th>0.855000</th>\n",
       "    <th>00:20</th>\n",
       "  </tr>\n",
       "  <tr>\n",
       "    <th>15</th>\n",
       "    <th>0.306972</th>\n",
       "    <th>0.483415</th>\n",
       "    <th>0.857500</th>\n",
       "    <th>00:21</th>\n",
       "  </tr>\n",
       "  <tr>\n",
       "    <th>16</th>\n",
       "    <th>0.306241</th>\n",
       "    <th>0.489239</th>\n",
       "    <th>0.853889</th>\n",
       "    <th>00:20</th>\n",
       "  </tr>\n",
       "  <tr>\n",
       "    <th>17</th>\n",
       "    <th>0.300895</th>\n",
       "    <th>0.510321</th>\n",
       "    <th>0.855833</th>\n",
       "    <th>00:19</th>\n",
       "  </tr>\n",
       "  <tr>\n",
       "    <th>18</th>\n",
       "    <th>0.306513</th>\n",
       "    <th>0.511574</th>\n",
       "    <th>0.853611</th>\n",
       "    <th>00:20</th>\n",
       "  </tr>\n",
       "  <tr>\n",
       "    <th>19</th>\n",
       "    <th>0.332204</th>\n",
       "    <th>0.529501</th>\n",
       "    <th>0.853889</th>\n",
       "    <th>00:19</th>\n",
       "  </tr>\n",
       "</table>\n"
      ],
      "text/plain": [
       "<IPython.core.display.HTML object>"
      ]
     },
     "metadata": {},
     "output_type": "display_data"
    },
    {
     "name": "stdout",
     "output_type": "stream",
     "text": [
      "Better model found at epoch 0 with accuracy value: 0.8550000190734863.\n",
      "Better model found at epoch 2 with accuracy value: 0.8580555319786072.\n",
      "Better model found at epoch 3 with accuracy value: 0.85916668176651.\n",
      "Better model found at epoch 9 with accuracy value: 0.8600000143051147.\n"
     ]
    }
   ],
   "source": [
    "learn.fit(20, slice(1e-2/(2.6**5), 1e-2/8.),\n",
    "             callbacks=[SaveModelCallback(learn,every='improvement',mode='max',monitor='accuracy',name='best_acc_model_Q')])"
   ]
  },
  {
   "cell_type": "code",
   "execution_count": 35,
   "metadata": {},
   "outputs": [
    {
     "data": {
      "image/png": "[encoded data removed]",
      "text/plain": [
       "<Figure size 432x288 with 1 Axes>"
      ]
     },
     "metadata": {
      "needs_background": "light"
     },
     "output_type": "display_data"
    },
    {
     "data": {
      "image/png": "[encoded data removed]",
      "text/plain": [
       "<Figure size 432x288 with 1 Axes>"
      ]
     },
     "metadata": {
      "needs_background": "light"
     },
     "output_type": "display_data"
    },
    {
     "data": {
      "image/png": "[encoded data removed]",
      "text/plain": [
       "<Figure size 864x288 with 2 Axes>"
      ]
     },
     "metadata": {
      "needs_background": "light"
     },
     "output_type": "display_data"
    }
   ],
   "source": [
    "learn.recorder.plot_losses()\n",
    "learn.recorder.plot_metrics()\n",
    "learn.recorder.plot_lr(show_moms=True)"
   ]
  },
  {
   "cell_type": "code",
   "execution_count": 33,
   "metadata": {},
   "outputs": [],
   "source": [
    "learn.save('rnn_trained_unfreezeAll_labelsmoothing_lmAndclas')"
   ]
  },
  {
   "cell_type": "code",
   "execution_count": 36,
   "metadata": {},
   "outputs": [
    {
     "data": {
      "image/png": "[encoded data removed]",
      "text/plain": [
       "<Figure size 432x288 with 1 Axes>"
      ]
     },
     "metadata": {
      "needs_background": "light"
     },
     "output_type": "display_data"
    },
    {
     "data": {
      "image/png": "[encoded data removed]",
      "text/plain": [
       "<Figure size 432x288 with 1 Axes>"
      ]
     },
     "metadata": {
      "needs_background": "light"
     },
     "output_type": "display_data"
    }
   ],
   "source": [
    "preds_t,y_t,losses_t = learn.get_preds(DatasetType.Train,with_loss=True)\n",
    "interp_t = ClassificationInterpretation(learn, preds_t, y_t, losses_t)\n",
    "interp_t.plot_confusion_matrix()\n",
    "\n",
    "preds,y,losses = learn.get_preds(with_loss=True)\n",
    "interp = ClassificationInterpretation(learn, preds, y, losses)\n",
    "interp.plot_confusion_matrix()"
   ]
  },
  {
   "cell_type": "code",
   "execution_count": 5,
   "metadata": {},
   "outputs": [
    {
     "data": {
      "text/plain": [
       "0.86"
      ]
     },
     "execution_count": 5,
     "metadata": {},
     "output_type": "execute_result"
    }
   ],
   "source": [
    "(1132+1964)/3600"
   ]
  },
  {
   "cell_type": "code",
   "execution_count": 4,
   "metadata": {},
   "outputs": [
    {
     "data": {
      "text/plain": [
       "0.8179190751445087"
      ]
     },
     "execution_count": 4,
     "metadata": {},
     "output_type": "execute_result"
    }
   ],
   "source": [
    "prec = 1132/(1132+249)\n",
    "rec = 1132/(1132+255)\n",
    "2* ((prec*rec)/(prec+rec))"
   ]
  },
  {
   "cell_type": "code",
   "execution_count": 37,
   "metadata": {},
   "outputs": [
    {
     "name": "stdout",
     "output_type": "stream",
     "text": [
      "----------\n"
     ]
    },
    {
     "data": {
      "text/html": [
       "<span style=\"font-family: monospace;\"><span title=\"0.083\" style=\"background-color: rgba(230, 240, 249, 0.5);\">▁</span> <span title=\"0.143\" style=\"background-color: rgba(218, 232, 245, 0.5);\">xxbos</span> <span title=\"0.179\" style=\"background-color: rgba(212, 228, 243, 0.5);\">▁es</span> <span title=\"0.215\" style=\"background-color: rgba(205, 223, 241, 0.5);\">▁increíble</span> <span title=\"0.113\" style=\"background-color: rgba(224, 236, 247, 0.5);\">▁lo</span> <span title=\"0.154\" style=\"background-color: rgba(216, 231, 245, 0.5);\">▁que</span> <span title=\"0.488\" style=\"background-color: rgba(111, 176, 214, 0.5);\">▁dura</span> <span title=\"0.287\" style=\"background-color: rgba(186, 214, 234, 0.5);\">▁la</span> <span title=\"1.000\" style=\"background-color: rgba(8, 48, 107, 0.5);\">▁batería</span> <span title=\"0.255\" style=\"background-color: rgba(196, 218, 238, 0.5);\">▁del</span> <span title=\"0.557\" style=\"background-color: rgba(88, 161, 206, 0.5);\">▁celular</span> <span title=\"0.230\" style=\"background-color: rgba(202, 221, 240, 0.5);\">▁cuando</span> <span title=\"0.268\" style=\"background-color: rgba(192, 216, 237, 0.5);\">▁nadie</span> <span title=\"0.265\" style=\"background-color: rgba(193, 217, 237, 0.5);\">▁te</span> <span title=\"0.384\" style=\"background-color: rgba(154, 199, 224, 0.5);\">▁quiere</span> <span title=\"0.239\" style=\"background-color: rgba(200, 220, 239, 0.5);\">.</span></span>"
      ],
      "text/plain": [
       "<IPython.core.display.HTML object>"
      ]
     },
     "metadata": {},
     "output_type": "display_data"
    },
    {
     "name": "stdout",
     "output_type": "stream",
     "text": [
      "----------\n"
     ]
    },
    {
     "data": {
      "text/html": [
       "<span style=\"font-family: monospace;\"><span title=\"0.079\" style=\"background-color: rgba(231, 240, 249, 0.5);\">▁</span> <span title=\"0.183\" style=\"background-color: rgba(211, 227, 243, 0.5);\">xxbos</span> <span title=\"0.109\" style=\"background-color: rgba(225, 237, 248, 0.5);\">▁&quot;</span> <span title=\"0.075\" style=\"background-color: rgba(232, 241, 250, 0.5);\">la</span> <span title=\"0.163\" style=\"background-color: rgba(215, 230, 244, 0.5);\">▁vida</span> <span title=\"0.162\" style=\"background-color: rgba(215, 230, 244, 0.5);\">▁es</span> <span title=\"0.320\" style=\"background-color: rgba(176, 209, 231, 0.5);\">▁corta</span> <span title=\"0.124\" style=\"background-color: rgba(222, 235, 247, 0.5);\">▁para</span> <span title=\"0.453\" style=\"background-color: rgba(125, 184, 217, 0.5);\">...&quot;</span> <span title=\"1.000\" style=\"background-color: rgba(8, 48, 107, 0.5);\">▁bitch</span> <span title=\"0.130\" style=\"background-color: rgba(221, 234, 246, 0.5);\">▁,</span> <span title=\"0.105\" style=\"background-color: rgba(226, 237, 248, 0.5);\">▁la</span> <span title=\"0.145\" style=\"background-color: rgba(218, 232, 245, 0.5);\">▁vida</span> <span title=\"0.153\" style=\"background-color: rgba(216, 231, 245, 0.5);\">▁es</span> <span title=\"0.456\" style=\"background-color: rgba(125, 184, 217, 0.5);\">▁corta</span> <span title=\"0.095\" style=\"background-color: rgba(228, 238, 248, 0.5);\">▁para</span> <span title=\"0.119\" style=\"background-color: rgba(223, 235, 247, 0.5);\">▁todo</span> <span title=\"0.169\" style=\"background-color: rgba(213, 229, 244, 0.5);\">.</span></span>"
      ],
      "text/plain": [
       "<IPython.core.display.HTML object>"
      ]
     },
     "metadata": {},
     "output_type": "display_data"
    },
    {
     "name": "stdout",
     "output_type": "stream",
     "text": [
      "----------\n"
     ]
    },
    {
     "data": {
      "text/html": [
       "<span style=\"font-family: monospace;\"><span title=\"0.090\" style=\"background-color: rgba(228, 239, 249, 0.5);\">▁</span> <span title=\"0.216\" style=\"background-color: rgba(204, 223, 241, 0.5);\">xxbos</span> <span title=\"0.171\" style=\"background-color: rgba(213, 229, 244, 0.5);\">▁&quot;</span> <span title=\"0.110\" style=\"background-color: rgba(225, 236, 247, 0.5);\">es</span> <span title=\"0.147\" style=\"background-color: rgba(218, 232, 245, 0.5);\">▁imposible</span> <span title=\"0.116\" style=\"background-color: rgba(224, 236, 247, 0.5);\">&quot;</span> <span title=\"0.097\" style=\"background-color: rgba(228, 238, 248, 0.5);\">▁,</span> <span title=\"0.252\" style=\"background-color: rgba(197, 218, 238, 0.5);\">▁dijo</span> <span title=\"0.174\" style=\"background-color: rgba(212, 228, 243, 0.5);\">▁el</span> <span title=\"0.254\" style=\"background-color: rgba(197, 218, 238, 0.5);\">▁orgullo</span> <span title=\"0.130\" style=\"background-color: rgba(221, 234, 246, 0.5);\">.</span> <span title=\"0.149\" style=\"background-color: rgba(217, 231, 245, 0.5);\">▁&quot;</span> <span title=\"0.237\" style=\"background-color: rgba(200, 220, 239, 0.5);\">es</span> <span title=\"0.787\" style=\"background-color: rgba(25, 103, 173, 0.5);\">▁arriesgado</span> <span title=\"0.087\" style=\"background-color: rgba(229, 239, 249, 0.5);\">&quot;</span> <span title=\"0.117\" style=\"background-color: rgba(224, 236, 247, 0.5);\">▁,</span> <span title=\"0.345\" style=\"background-color: rgba(167, 206, 228, 0.5);\">▁dijo</span> <span title=\"0.327\" style=\"background-color: rgba(173, 208, 230, 0.5);\">▁la</span> <span title=\"0.341\" style=\"background-color: rgba(168, 206, 228, 0.5);\">▁experiencia</span> <span title=\"0.151\" style=\"background-color: rgba(217, 231, 245, 0.5);\">.</span> <span title=\"0.386\" style=\"background-color: rgba(154, 199, 224, 0.5);\">▁&#x27;&#x27;</span> <span title=\"0.216\" style=\"background-color: rgba(204, 223, 241, 0.5);\">ma</span> <span title=\"0.649\" style=\"background-color: rgba(59, 139, 194, 0.5);\">tanga</span> <span title=\"0.272\" style=\"background-color: rgba(191, 216, 236, 0.5);\">&#x27;&#x27;</span> <span title=\"0.461\" style=\"background-color: rgba(123, 183, 217, 0.5);\">▁dijo</span> <span title=\"0.452\" style=\"background-color: rgba(127, 184, 218, 0.5);\">▁la</span> <span title=\"1.000\" style=\"background-color: rgba(8, 48, 107, 0.5);\">▁chan</span> <span title=\"0.323\" style=\"background-color: rgba(175, 209, 230, 0.5);\">ga</span> <span title=\"0.202\" style=\"background-color: rgba(207, 225, 242, 0.5);\">.</span></span>"
      ],
      "text/plain": [
       "<IPython.core.display.HTML object>"
      ]
     },
     "metadata": {},
     "output_type": "display_data"
    },
    {
     "name": "stdout",
     "output_type": "stream",
     "text": [
      "----------\n"
     ]
    },
    {
     "data": {
      "text/html": [
       "<span style=\"font-family: monospace;\"><span title=\"0.209\" style=\"background-color: rgba(206, 224, 241, 0.5);\">▁</span> <span title=\"0.422\" style=\"background-color: rgba(138, 191, 220, 0.5);\">xxbos</span> <span title=\"0.536\" style=\"background-color: rgba(94, 165, 209, 0.5);\">▁-</span> <span title=\"1.000\" style=\"background-color: rgba(8, 48, 107, 0.5);\">oye</span> <span title=\"0.319\" style=\"background-color: rgba(176, 209, 231, 0.5);\">▁,</span> <span title=\"0.375\" style=\"background-color: rgba(158, 202, 225, 0.5);\">▁¿</span> <span title=\"0.727\" style=\"background-color: rgba(38, 118, 183, 0.5);\">después</span> <span title=\"0.356\" style=\"background-color: rgba(163, 204, 227, 0.5);\">▁de</span> <span title=\"0.340\" style=\"background-color: rgba(168, 206, 228, 0.5);\">▁estos</span> <span title=\"0.720\" style=\"background-color: rgba(40, 120, 184, 0.5);\">▁besitos</span> <span title=\"0.274\" style=\"background-color: rgba(190, 215, 236, 0.5);\">▁,</span> <span title=\"0.337\" style=\"background-color: rgba(170, 207, 229, 0.5);\">▁qué</span> <span title=\"0.239\" style=\"background-color: rgba(200, 220, 239, 0.5);\">▁somos</span> <span title=\"0.198\" style=\"background-color: rgba(208, 225, 242, 0.5);\">▁?</span> <span title=\"0.184\" style=\"background-color: rgba(210, 227, 243, 0.5);\">▁</span> <span title=\"0.254\" style=\"background-color: rgba(196, 218, 238, 0.5);\">xxnl</span> <span title=\"0.583\" style=\"background-color: rgba(79, 155, 203, 0.5);\">▁-</span> <span title=\"0.899\" style=\"background-color: rgba(8, 73, 145, 0.5);\">pu</span> <span title=\"0.244\" style=\"background-color: rgba(199, 219, 239, 0.5);\">tos</span> <span title=\"0.246\" style=\"background-color: rgba(198, 219, 239, 0.5);\">▁,</span> <span title=\"0.708\" style=\"background-color: rgba(43, 123, 186, 0.5);\">▁compadre</span> <span title=\"0.361\" style=\"background-color: rgba(162, 203, 226, 0.5);\">▁,</span> <span title=\"0.757\" style=\"background-color: rgba(31, 111, 179, 0.5);\">▁putos</span> <span title=\"0.373\" style=\"background-color: rgba(158, 202, 225, 0.5);\">.</span></span>"
      ],
      "text/plain": [
       "<IPython.core.display.HTML object>"
      ]
     },
     "metadata": {},
     "output_type": "display_data"
    },
    {
     "name": "stdout",
     "output_type": "stream",
     "text": [
      "----------\n"
     ]
    },
    {
     "data": {
      "text/html": [
       "<span style=\"font-family: monospace;\"><span title=\"0.042\" style=\"background-color: rgba(239, 245, 252, 0.5);\">▁</span> <span title=\"0.115\" style=\"background-color: rgba(224, 236, 247, 0.5);\">xxbos</span> <span title=\"0.139\" style=\"background-color: rgba(219, 233, 246, 0.5);\">▁—</span> <span title=\"0.174\" style=\"background-color: rgba(212, 228, 243, 0.5);\">amor</span> <span title=\"0.055\" style=\"background-color: rgba(236, 243, 251, 0.5);\">▁,</span> <span title=\"0.076\" style=\"background-color: rgba(232, 241, 250, 0.5);\">▁¿</span> <span title=\"0.111\" style=\"background-color: rgba(225, 236, 247, 0.5);\">estoy</span> <span title=\"0.129\" style=\"background-color: rgba(221, 234, 246, 0.5);\">▁gorda</span> <span title=\"0.081\" style=\"background-color: rgba(231, 240, 249, 0.5);\">▁?</span> <span title=\"0.072\" style=\"background-color: rgba(232, 241, 250, 0.5);\">▁—</span> <span title=\"0.070\" style=\"background-color: rgba(233, 242, 250, 0.5);\">no</span> <span title=\"0.057\" style=\"background-color: rgba(236, 243, 251, 0.5);\">▁,</span> <span title=\"0.062\" style=\"background-color: rgba(235, 243, 251, 0.5);\">▁tienes</span> <span title=\"0.098\" style=\"background-color: rgba(227, 238, 248, 0.5);\">▁el</span> <span title=\"0.159\" style=\"background-color: rgba(215, 230, 244, 0.5);\">▁cuerpo</span> <span title=\"0.061\" style=\"background-color: rgba(235, 243, 251, 0.5);\">▁común</span> <span title=\"0.072\" style=\"background-color: rgba(232, 241, 250, 0.5);\">.</span> <span title=\"0.149\" style=\"background-color: rgba(217, 231, 245, 0.5);\">▁—¿</span> <span title=\"0.140\" style=\"background-color: rgba(219, 233, 246, 0.5);\">com</span> <span title=\"0.145\" style=\"background-color: rgba(218, 232, 245, 0.5);\">ún</span> <span title=\"0.072\" style=\"background-color: rgba(232, 241, 250, 0.5);\">▁?</span> <span title=\"0.188\" style=\"background-color: rgba(209, 226, 242, 0.5);\">▁—</span> <span title=\"0.271\" style=\"background-color: rgba(191, 216, 236, 0.5);\">sí</span> <span title=\"0.041\" style=\"background-color: rgba(239, 245, 252, 0.5);\">▁,</span> <span title=\"0.096\" style=\"background-color: rgba(228, 238, 248, 0.5);\">▁común</span> <span title=\"0.155\" style=\"background-color: rgba(216, 231, 245, 0.5);\">▁balón</span> <span title=\"0.120\" style=\"background-color: rgba(223, 235, 247, 0.5);\">▁pinche</span> <span title=\"0.193\" style=\"background-color: rgba(209, 226, 242, 0.5);\">▁gorda</span> <span title=\"0.127\" style=\"background-color: rgba(221, 234, 246, 0.5);\">▁,</span> <span title=\"0.182\" style=\"background-color: rgba(211, 227, 243, 0.5);\">▁¡</span> <span title=\"0.058\" style=\"background-color: rgba(236, 243, 251, 0.5);\">▁</span> <span title=\"0.244\" style=\"background-color: rgba(199, 219, 239, 0.5);\">xxup</span> <span title=\"1.000\" style=\"background-color: rgba(8, 48, 107, 0.5);\">▁métete</span> <span title=\"0.238\" style=\"background-color: rgba(200, 220, 239, 0.5);\">▁al</span> <span title=\"0.148\" style=\"background-color: rgba(218, 232, 245, 0.5);\">▁</span> <span title=\"0.099\" style=\"background-color: rgba(227, 238, 248, 0.5);\">xxup</span> <span title=\"0.185\" style=\"background-color: rgba(210, 227, 243, 0.5);\">▁gimnasio</span> <span title=\"0.226\" style=\"background-color: rgba(203, 222, 240, 0.5);\">▁!</span></span>"
      ],
      "text/plain": [
       "<IPython.core.display.HTML object>"
      ]
     },
     "metadata": {},
     "output_type": "display_data"
    }
   ],
   "source": [
    "from fastai.text.models.awd_lstm import TextClassificationInterpretation\n",
    "from matplotlib.pyplot import cm\n",
    "txt_ci = TextClassificationInterpretation.from_learner(learn)\n",
    "(_,idxs) = interp.top_losses(5)\n",
    "for idx in to_np(idxs):\n",
    "    print(\"-\"*10)\n",
    "    txt_ci.show_intrinsic_attention(df_train.iloc[idx,1],cmap=cm.Blues) #textify breaks?"
   ]
  },
  {
   "cell_type": "markdown",
   "metadata": {},
   "source": [
    "# Generate test file for submission"
   ]
  },
  {
   "cell_type": "code",
   "execution_count": 1,
   "metadata": {},
   "outputs": [
    {
     "ename": "NameError",
     "evalue": "name 'pd' is not defined",
     "output_type": "error",
     "traceback": [
      "\u001b[0;31m---------------------------------------------------------------------------\u001b[0m",
      "\u001b[0;31mNameError\u001b[0m                                 Traceback (most recent call last)",
      "\u001b[0;32m<ipython-input-1-3d8f694afe30>\u001b[0m in \u001b[0;36m<module>\u001b[0;34m\u001b[0m\n\u001b[0;32m----> 1\u001b[0;31m \u001b[0mtest_df\u001b[0m \u001b[0;34m=\u001b[0m \u001b[0mpd\u001b[0m\u001b[0;34m.\u001b[0m\u001b[0mread_csv\u001b[0m\u001b[0;34m(\u001b[0m\u001b[0;34m'./data/haha_2019_test.csv'\u001b[0m\u001b[0;34m)\u001b[0m\u001b[0;34m\u001b[0m\u001b[0;34m\u001b[0m\u001b[0m\n\u001b[0m\u001b[1;32m      2\u001b[0m \u001b[0mtest_df\u001b[0m\u001b[0;34m.\u001b[0m\u001b[0mhead\u001b[0m\u001b[0;34m(\u001b[0m\u001b[0;34m)\u001b[0m\u001b[0;34m\u001b[0m\u001b[0;34m\u001b[0m\u001b[0m\n",
      "\u001b[0;31mNameError\u001b[0m: name 'pd' is not defined"
     ]
    }
   ],
   "source": [
    "test_df = pd.read_csv('./data/haha_2019_test.csv')\n",
    "test_df.head()"
   ]
  },
  {
   "cell_type": "code",
   "execution_count": null,
   "metadata": {},
   "outputs": [],
   "source": [
    "test_df.shape"
   ]
  },
  {
   "cell_type": "code",
   "execution_count": null,
   "metadata": {},
   "outputs": [],
   "source": [
    "## apply the rules\n",
    "raw_text = test_df.loc[:,'text']\n",
    "\n",
    "print(\"Default Rules:\\n\",[x.__name__ for x in default_rules],\"\\n\\n\")\n",
    "for rule in default_rules:\n",
    "    raw_text = raw_text.apply(lambda x: rule(str(x)))    \n",
    "test_df['new_text'] =  raw_text #tokenizer adds xxbos"
   ]
  },
  {
   "cell_type": "code",
   "execution_count": null,
   "metadata": {},
   "outputs": [],
   "source": [
    "data_tst = TextClasDataBunch.from_df(PATH, df_train, test_df,\n",
    "                               tokenizer=mycust_tok, vocab=sp_vocab,\n",
    "                               text_cols='new_text', label_cols='is_humor')"
   ]
  },
  {
   "cell_type": "code",
   "execution_count": null,
   "metadata": {},
   "outputs": [],
   "source": [
    "learn.data = data_tst"
   ]
  },
  {
   "cell_type": "code",
   "execution_count": null,
   "metadata": {},
   "outputs": [],
   "source": [
    "preds_t,y_t,losses_t = learn.get_preds(DatasetType.Valid,with_loss=True)\n",
    "interp_t = ClassificationInterpretation(learn, preds_t, y_t, losses_t)\n",
    "interp_t.plot_confusion_matrix()"
   ]
  },
  {
   "cell_type": "code",
   "execution_count": null,
   "metadata": {},
   "outputs": [],
   "source": [
    "(preds_t.argmax(dim=1) == y_t).sum()"
   ]
  },
  {
   "cell_type": "code",
   "execution_count": null,
   "metadata": {},
   "outputs": [],
   "source": [
    "## last years data must be part of this years train??  no way we did this well.\n",
    "(2377+1347)/4000"
   ]
  },
  {
   "cell_type": "code",
   "execution_count": null,
   "metadata": {},
   "outputs": [],
   "source": [
    "show_doc(FBeta)"
   ]
  },
  {
   "cell_type": "code",
   "execution_count": 81,
   "metadata": {},
   "outputs": [
    {
     "data": {
      "image/png": "[encoded data removed]",
      "text/plain": [
       "<Figure size 432x288 with 1 Axes>"
      ]
     },
     "metadata": {
      "needs_background": "light"
     },
     "output_type": "display_data"
    }
   ],
   "source": [
    "preds_tst,y_tst,losses_tst = learn.get_preds(DatasetType.Test,with_loss=True, ordered=True)\n",
    "interp_t = ClassificationInterpretation(learn, preds_tst, y_tst, losses_tst)\n",
    "interp_t.plot_confusion_matrix()"
   ]
  },
  {
   "cell_type": "code",
   "execution_count": 85,
   "metadata": {},
   "outputs": [
    {
     "data": {
      "text/plain": [
       "Text ▁ xxbos ▁¿ le ▁pusiste ▁a ▁tu ▁hijo ▁bec kh am ▁hace ▁16 ▁años ▁y ▁ahora ▁odia ▁el ▁fútbol ▁, ▁a ▁la ▁humanidad ▁y ▁a ▁ti ... ▁? ▁. ¡ normal ▁, ▁ya ▁hay ▁que ▁ser ▁gilipollas ▁! ▁."
      ]
     },
     "execution_count": 85,
     "metadata": {},
     "output_type": "execute_result"
    }
   ],
   "source": [
    "data_tst.test_ds.get(-1)"
   ]
  },
  {
   "cell_type": "code",
   "execution_count": 92,
   "metadata": {},
   "outputs": [
    {
     "data": {
      "text/html": [
       "<div>\n",
       "<style scoped>\n",
       "    .dataframe tbody tr th:only-of-type {\n",
       "        vertical-align: middle;\n",
       "    }\n",
       "\n",
       "    .dataframe tbody tr th {\n",
       "        vertical-align: top;\n",
       "    }\n",
       "\n",
       "    .dataframe thead th {\n",
       "        text-align: right;\n",
       "    }\n",
       "</style>\n",
       "<table border=\"1\" class=\"dataframe\">\n",
       "  <thead>\n",
       "    <tr style=\"text-align: right;\">\n",
       "      <th></th>\n",
       "      <th>id</th>\n",
       "      <th>text</th>\n",
       "      <th>new_text</th>\n",
       "    </tr>\n",
       "  </thead>\n",
       "  <tbody>\n",
       "    <tr>\n",
       "      <th>0</th>\n",
       "      <td>tweet1</td>\n",
       "      <td>Historia #36.\\n*Entra corriendo y gritando al ...</td>\n",
       "      <td>historia # 36.xxnl *entra corriendo y gritando...</td>\n",
       "    </tr>\n",
       "    <tr>\n",
       "      <th>1</th>\n",
       "      <td>tweet2</td>\n",
       "      <td>estoy tomando helado en el centro y pedi tiram...</td>\n",
       "      <td>estoy tomando helado en el centro y pedi tiram...</td>\n",
       "    </tr>\n",
       "    <tr>\n",
       "      <th>2</th>\n",
       "      <td>tweet3</td>\n",
       "      <td>— ¿De 15 o 20 centímetros?\\n\\n— Ven y averígua...</td>\n",
       "      <td>— ¿de 15 o 20 centímetros ? xxnl xxnl — ven y ...</td>\n",
       "    </tr>\n",
       "    <tr>\n",
       "      <th>3</th>\n",
       "      <td>tweet4</td>\n",
       "      <td>Que fea soy</td>\n",
       "      <td>que fea soy</td>\n",
       "    </tr>\n",
       "    <tr>\n",
       "      <th>4</th>\n",
       "      <td>tweet5</td>\n",
       "      <td>#OMG, VAMOS EN RETROCESO RESULTE CON 40 SEGUID...</td>\n",
       "      <td># xxup omg , xxup vamos en xxup retroceso xxu...</td>\n",
       "    </tr>\n",
       "  </tbody>\n",
       "</table>\n",
       "</div>"
      ],
      "text/plain": [
       "       id                                               text  \\\n",
       "0  tweet1  Historia #36.\\n*Entra corriendo y gritando al ...   \n",
       "1  tweet2  estoy tomando helado en el centro y pedi tiram...   \n",
       "2  tweet3  — ¿De 15 o 20 centímetros?\\n\\n— Ven y averígua...   \n",
       "3  tweet4                                        Que fea soy   \n",
       "4  tweet5  #OMG, VAMOS EN RETROCESO RESULTE CON 40 SEGUID...   \n",
       "\n",
       "                                            new_text  \n",
       "0  historia # 36.xxnl *entra corriendo y gritando...  \n",
       "1  estoy tomando helado en el centro y pedi tiram...  \n",
       "2  — ¿de 15 o 20 centímetros ? xxnl xxnl — ven y ...  \n",
       "3                                        que fea soy  \n",
       "4   # xxup omg , xxup vamos en xxup retroceso xxu...  "
      ]
     },
     "execution_count": 92,
     "metadata": {},
     "output_type": "execute_result"
    }
   ],
   "source": [
    "test_df.head()"
   ]
  },
  {
   "cell_type": "code",
   "execution_count": 48,
   "metadata": {},
   "outputs": [],
   "source": [
    "out_cols = ['id','is_humor','funniness_average'] #need value in last col.  Try 3?"
   ]
  },
  {
   "cell_type": "code",
   "execution_count": 87,
   "metadata": {},
   "outputs": [],
   "source": [
    "out_df = test_df['id'].to_frame().copy()"
   ]
  },
  {
   "cell_type": "code",
   "execution_count": 88,
   "metadata": {},
   "outputs": [],
   "source": [
    "out_df['is_humor'] = to_np(preds_tst.argmax(dim=1))"
   ]
  },
  {
   "cell_type": "code",
   "execution_count": 90,
   "metadata": {},
   "outputs": [],
   "source": [
    "out_df['funniness_average'] = 3."
   ]
  },
  {
   "cell_type": "code",
   "execution_count": 93,
   "metadata": {},
   "outputs": [
    {
     "data": {
      "text/html": [
       "<div>\n",
       "<style scoped>\n",
       "    .dataframe tbody tr th:only-of-type {\n",
       "        vertical-align: middle;\n",
       "    }\n",
       "\n",
       "    .dataframe tbody tr th {\n",
       "        vertical-align: top;\n",
       "    }\n",
       "\n",
       "    .dataframe thead th {\n",
       "        text-align: right;\n",
       "    }\n",
       "</style>\n",
       "<table border=\"1\" class=\"dataframe\">\n",
       "  <thead>\n",
       "    <tr style=\"text-align: right;\">\n",
       "      <th></th>\n",
       "      <th>id</th>\n",
       "      <th>is_humor</th>\n",
       "      <th>funniness_average</th>\n",
       "    </tr>\n",
       "  </thead>\n",
       "  <tbody>\n",
       "    <tr>\n",
       "      <th>0</th>\n",
       "      <td>tweet1</td>\n",
       "      <td>1</td>\n",
       "      <td>3.0</td>\n",
       "    </tr>\n",
       "    <tr>\n",
       "      <th>1</th>\n",
       "      <td>tweet2</td>\n",
       "      <td>0</td>\n",
       "      <td>3.0</td>\n",
       "    </tr>\n",
       "    <tr>\n",
       "      <th>2</th>\n",
       "      <td>tweet3</td>\n",
       "      <td>1</td>\n",
       "      <td>3.0</td>\n",
       "    </tr>\n",
       "    <tr>\n",
       "      <th>3</th>\n",
       "      <td>tweet4</td>\n",
       "      <td>0</td>\n",
       "      <td>3.0</td>\n",
       "    </tr>\n",
       "    <tr>\n",
       "      <th>4</th>\n",
       "      <td>tweet5</td>\n",
       "      <td>0</td>\n",
       "      <td>3.0</td>\n",
       "    </tr>\n",
       "  </tbody>\n",
       "</table>\n",
       "</div>"
      ],
      "text/plain": [
       "       id  is_humor  funniness_average\n",
       "0  tweet1         1                3.0\n",
       "1  tweet2         0                3.0\n",
       "2  tweet3         1                3.0\n",
       "3  tweet4         0                3.0\n",
       "4  tweet5         0                3.0"
      ]
     },
     "execution_count": 93,
     "metadata": {},
     "output_type": "execute_result"
    }
   ],
   "source": [
    "out_df.head()"
   ]
  },
  {
   "cell_type": "code",
   "execution_count": 97,
   "metadata": {},
   "outputs": [],
   "source": [
    "out_df.to_csv('sub0520_1.csv',header=True,index=False)"
   ]
  },
  {
   "cell_type": "code",
   "execution_count": 98,
   "metadata": {},
   "outputs": [
    {
     "name": "stdout",
     "output_type": "stream",
     "text": [
      "id,is_humor,funniness_average\r\n",
      "tweet1,1,3.0\r\n",
      "tweet2,0,3.0\r\n",
      "tweet3,1,3.0\r\n",
      "tweet4,0,3.0\r\n",
      "tweet5,0,3.0\r\n",
      "tweet6,0,3.0\r\n",
      "tweet7,0,3.0\r\n",
      "tweet8,0,3.0\r\n",
      "tweet9,0,3.0\r\n"
     ]
    }
   ],
   "source": [
    "!head sub0520_1.csv"
   ]
  },
  {
   "cell_type": "code",
   "execution_count": 100,
   "metadata": {},
   "outputs": [
    {
     "name": "stdout",
     "output_type": "stream",
     "text": [
      "  adding: sub0520_1.csv (deflated 84%)\r\n"
     ]
    }
   ],
   "source": [
    "!zip  sub0520_1.zip sub0520_1.csv "
   ]
  },
  {
   "cell_type": "code",
   "execution_count": 101,
   "metadata": {},
   "outputs": [],
   "source": [
    "!cp sub0520_1.zip /mnt/awcnas4_AWX/tmp/"
   ]
  },
  {
   "cell_type": "code",
   "execution_count": null,
   "metadata": {},
   "outputs": [],
   "source": []
  }
 ],
 "metadata": {
  "kernelspec": {
   "display_name": "Python 3.7 fasta.ai1 DEV",
   "language": "python",
   "name": "fastai1_dev"
  },
  "language_info": {
   "codemirror_mode": {
    "name": "ipython",
    "version": 3
   },
   "file_extension": ".py",
   "mimetype": "text/x-python",
   "name": "python",
   "nbconvert_exporter": "python",
   "pygments_lexer": "ipython3",
   "version": "3.7.3"
  },
  "varInspector": {
   "cols": {
    "lenName": 16,
    "lenType": 16,
    "lenVar": 40
   },
   "kernels_config": {
    "python": {
     "delete_cmd_postfix": "",
     "delete_cmd_prefix": "del ",
     "library": "var_list.py",
     "varRefreshCmd": "print(var_dic_list())"
    },
    "r": {
     "delete_cmd_postfix": ") ",
     "delete_cmd_prefix": "rm(",
     "library": "var_list.r",
     "varRefreshCmd": "cat(var_dic_list()) "
    }
   },
   "types_to_exclude": [
    "module",
    "function",
    "builtin_function_or_method",
    "instance",
    "_Feature"
   ],
   "window_display": false
  }
 },
 "nbformat": 4,
 "nbformat_minor": 2
}
