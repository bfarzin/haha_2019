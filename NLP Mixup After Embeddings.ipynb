{
 "cells": [
  {
   "cell_type": "code",
   "execution_count": 1,
   "metadata": {},
   "outputs": [
    {
     "name": "stdout",
     "output_type": "stream",
     "text": [
      "Using seed: 432286\n"
     ]
    }
   ],
   "source": [
    "from prod.set_seed import random_ctl\n",
    "seed = random_ctl(432286)\n",
    "\n",
    "from fastai.text import *\n",
    "from fastai.callbacks import SaveModelCallback\n",
    "from fastai.layers import LabelSmoothingCrossEntropy\n",
    "\n",
    "import sentencepiece as spm #https://github.com/google/sentencepiece\n",
    "import fire\n",
    "\n",
    "from sp_tok import *\n",
    "from prod.bin_metrics import Fbeta_binary\n",
    "from sklearn.model_selection import KFold\n",
    "\n",
    "def split_rebal_data_by_idx(all_texts_df:DataFrame, train_idx, valid_idx,\n",
    "                            clas_col:str='is_humor'):\n",
    "    ## rebalance cases\n",
    "    print('Number of positive samples:', (all_texts_df.loc[:,clas_col] == 1).sum())\n",
    "    print('Number of negative samples:',  (all_texts_df.loc[:,clas_col] == 0).sum())\n",
    "    print('Total samples:', len(all_texts_df))\n",
    "\n",
    "    df_train_all = all_texts_df.iloc[train_idx,:]\n",
    "    df_valid     = all_texts_df.iloc[valid_idx,:]\n",
    "\n",
    "    print('Valid prevalence(n = %d):'%len(df_valid),df_valid.loc[:,clas_col].sum()/ len(df_valid))\n",
    "    print('Train all prevalence(n = %d):'%len(df_train_all), df_train_all.loc[:,clas_col].sum()/ len(df_train_all))\n",
    "    print('all samples (n = %d)'%len(all_texts_df))\n",
    "    assert len(all_texts_df) == (len(df_valid)+len(df_train_all)),'math didnt work'\n",
    "\n",
    "    ## assumes that negative is less frequent case.  Generalize?\n",
    "    rows_pos = df_train_all.loc[:,clas_col] == 1\n",
    "    df_train_pos = df_train_all.loc[rows_pos]\n",
    "    df_train_neg = df_train_all.loc[~rows_pos]\n",
    "    print(f'Train Pos Cases:{df_train_pos.shape},Train Neg Cases:{df_train_neg.shape}')\n",
    "    df_resample_pos = df_train_pos.sample(n=len(df_train_neg),replace=True,\n",
    "                                          axis=0,random_state=np.random.get_state()[1][0]).reset_index(drop=True)\n",
    "    df_train = pd.concat([df_resample_pos,df_train_neg],axis=0) #randomized again in DataBunch?\n",
    "    print('Train prevalence (n = %d):'%len(df_train), df_train.loc[:,clas_col].sum()/ len(df_train))\n",
    "\n",
    "    return df_train, df_valid\n",
    "        "
   ]
  },
  {
   "cell_type": "raw",
   "metadata": {},
   "source": [
    "    python clas_kfold.py \\\n",
    "\t   --model-path '../data/rnn/' \\\n",
    "\t   --sp-model '../all_tweets_es_0609' \\\n",
    "\t   --load_enc 'twitter_es_enc_QRNN_0609_drop1_seed0_finetune' \\\n",
    "\t   --split-seed 20190313 \\\n",
    "\t   --flat-loss 1 \\\n",
    "\t   --qrnn 1\\\n",
    "\t   --wd 0.1\\\n",
    "\t   --backward 0\\"
   ]
  },
  {
   "cell_type": "code",
   "execution_count": 2,
   "metadata": {},
   "outputs": [],
   "source": [
    "model_path:str='./data/rnn/'\n",
    "sp_model:str='./all_tweets_es_0609'\n",
    "flat_loss:bool=True\n",
    "qrnn:bool=True\n",
    "n_hid:int=2304 \n",
    "load_enc:str='twitter_es_enc_QRNN_0609_drop1_seed0_finetune'\n",
    "split_seed:int=20190303\n",
    "backward:bool=False\n",
    "wd:float=0.1"
   ]
  },
  {
   "cell_type": "code",
   "execution_count": 3,
   "metadata": {},
   "outputs": [],
   "source": [
    "# create midxup loss, modify current loss\n",
    "# create mixup callback\n",
    "  # mixup after embedding layer\n",
    "#process as ususal"
   ]
  },
  {
   "cell_type": "code",
   "execution_count": 4,
   "metadata": {},
   "outputs": [],
   "source": [
    "\"Implements [mixup](https://arxiv.org/abs/1710.09412) training method\"\n",
    "from fastai.torch_core import *\n",
    "from fastai.callback import *\n",
    "from fastai.basic_train import Learner, LearnerCallback\n",
    "\n",
    "# def mixup(learn:Learner, alpha:float=0.4, stack_x:bool=False, stack_y:bool=True) -> Learner:                                             \n",
    "#     \"Add mixup https://arxiv.org/abs/1710.09412 to `learn`.\"                                                                             \n",
    "#     learn.callback_fns.append(partial(MixUpCallback, alpha=alpha, stack_x=stack_x, stack_y=stack_y))                                     \n",
    "#     return learn\n",
    "\n",
    "class NLP_MixUpCallback(LearnerCallback):\n",
    "    \"Callback that creates the mixed-up input and target.\"\n",
    "    def __init__(self, learn:Learner, alpha:float=0.4, stack_x:bool=False, stack_y:bool=True):\n",
    "        super().__init__(learn)\n",
    "        self.alpha,self.stack_x,self.stack_y = alpha,stack_x,stack_y\n",
    "    \n",
    "    def on_train_begin(self, **kwargs):\n",
    "        if self.stack_y: self.learn.loss_func = MixUpLoss(self.learn.loss_func)\n",
    "        \n",
    "    def on_batch_begin(self, last_input, last_target, train, **kwargs):\n",
    "        \"Applies mixup to `last_input` and `last_target` if `train`.\"\n",
    "        '''\n",
    "        append relevant data to forward pass and handle in forward pass to generate mixup batch\n",
    "        '''\n",
    "        if not train: return\n",
    "        lambd = np.random.beta(self.alpha, self.alpha, last_target.size(0))\n",
    "        lambd = np.concatenate([lambd[:,None], 1-lambd[:,None]], 1).max(1)\n",
    "        lambd = last_input.new(lambd)\n",
    "        shuffle = torch.randperm(last_target.size(0)).to(last_input.device)\n",
    "#         x1, y1 = last_input[shuffle], last_target[shuffle]\n",
    "        if self.stack_x: pass\n",
    "        else:\n",
    "            ## add dim to new_input with both batches + lambda value\n",
    "            ## pass both through embedding + emb_dp layers then combine with lambda ratio ?\n",
    "            #combine across batch with lambda prob for each value.\n",
    "            new_input = {0:last_input, 1:shuffle, 2:lambd}\n",
    "#             new_input = (last_input * lambd.view(lambd.size(0),1,1,1) + x1 * (1-lambd).view(lambd.size(0),1,1,1))\n",
    "        if self.stack_y:\n",
    "#             new_target = torch.cat([last_target[:,None].float(), y1[:,None].float(), lambd[:,None].float()], 1)\n",
    "            new_target = last_target\n",
    "        return {'last_input': new_input, 'last_target': new_target}  \n",
    "    \n",
    "    def on_train_end(self, **kwargs):\n",
    "        if self.stack_y: self.learn.loss_func = self.learn.loss_func.get_old()\n",
    "        \n",
    "\n",
    "class MixUpLoss(nn.Module):\n",
    "    \"Adapt the loss function `crit` to go with mixup.\"\n",
    "    \n",
    "    def __init__(self, crit, reduction='mean'):\n",
    "        super().__init__()\n",
    "        if hasattr(crit, 'reduction'): \n",
    "            self.crit = crit\n",
    "            self.old_red = crit.reduction\n",
    "            setattr(self.crit, 'reduction', 'none')\n",
    "        else: \n",
    "            self.crit = partial(crit, reduction='none')\n",
    "            self.old_crit = crit\n",
    "        self.reduction = reduction\n",
    "        \n",
    "    def forward(self, output, target):\n",
    "        if len(target.size()) == 2:\n",
    "            #loss on original batch, loss on mixup batch\n",
    "            loss1, loss2 = self.crit(output,target[:,0].long()), self.crit(output,target[:,1].long())\n",
    "            #weighted by the mixup lambda for each sample.\n",
    "            d = (loss1 * target[:,2] + loss2 * (1-target[:,2])).mean()\n",
    "        else:  d = self.crit(output, target)\n",
    "        if self.reduction == 'mean': return d.mean()\n",
    "        elif self.reduction == 'sum': return d.sum()\n",
    "        return d\n",
    "    \n",
    "    def get_old(self):\n",
    "        if hasattr(self, 'old_crit'):  return self.old_crit\n",
    "        elif hasattr(self, 'old_red'): \n",
    "            setattr(self.crit, 'reduction', self.old_red)\n",
    "            return self.crit"
   ]
  },
  {
   "cell_type": "code",
   "execution_count": 5,
   "metadata": {},
   "outputs": [],
   "source": [
    "class AWD_LSTM_mixup(nn.Module):\n",
    "    \"AWD-LSTM/QRNN inspired by https://arxiv.org/abs/1708.02182.\"\n",
    "    \"allows mixup on inputs\"\n",
    "\n",
    "    initrange=0.1\n",
    "\n",
    "    def __init__(self, vocab_sz:int, emb_sz:int, n_hid:int, n_layers:int, pad_token:int=1, hidden_p:float=0.2,\n",
    "                 input_p:float=0.6, embed_p:float=0.1, weight_p:float=0.5, qrnn:bool=False, bidir:bool=False,\n",
    "                mixup:bool=False):\n",
    "        super().__init__()\n",
    "        self.bs,self.qrnn,self.emb_sz,self.n_hid,self.n_layers = 1,qrnn,emb_sz,n_hid,n_layers\n",
    "        self.mixup = mixup\n",
    "        self.n_dir = 2 if bidir else 1\n",
    "        self.encoder = nn.Embedding(vocab_sz, emb_sz, padding_idx=pad_token)\n",
    "        self.encoder_dp = EmbeddingDropout(self.encoder, embed_p)\n",
    "        if self.qrnn:\n",
    "            #Using QRNN requires an installation of cuda\n",
    "            from fastai.text.models.qrnn import QRNN\n",
    "            self.rnns = [QRNN(emb_sz if l == 0 else n_hid, (n_hid if l != n_layers - 1 else emb_sz)//self.n_dir, 1,\n",
    "                              save_prev_x=True, zoneout=0, window=2 if l == 0 else 1, output_gate=True, bidirectional=bidir) \n",
    "                         for l in range(n_layers)]\n",
    "            for rnn in self.rnns: \n",
    "                rnn.layers[0].linear = WeightDropout(rnn.layers[0].linear, weight_p, layer_names=['weight'])\n",
    "        else:\n",
    "            self.rnns = [nn.LSTM(emb_sz if l == 0 else n_hid, (n_hid if l != n_layers - 1 else emb_sz)//self.n_dir, 1,\n",
    "                                 batch_first=True, bidirectional=bidir) for l in range(n_layers)]\n",
    "            self.rnns = [WeightDropout(rnn, weight_p) for rnn in self.rnns]\n",
    "        self.rnns = nn.ModuleList(self.rnns)\n",
    "        self.encoder.weight.data.uniform_(-self.initrange, self.initrange)\n",
    "        self.input_dp = RNNDropout(input_p)\n",
    "        self.hidden_dps = nn.ModuleList([RNNDropout(hidden_p) for l in range(n_layers)])\n",
    "\n",
    "    def forward(self, input, shuffle, lambd, from_embeddings:bool=False)->Tuple[Tensor,Tensor]:\n",
    "#         input, x1, lambd = mix_input[0], mix_input[1], mix_input[2] #unpack mixup input to get splits, shuffle\n",
    "        if from_embeddings: bs,sl,es = input.size()\n",
    "        else: bs,sl = input.size()\n",
    "        if bs!=self.bs:\n",
    "            self.bs=bs\n",
    "            self.reset()\n",
    "        post_emb = input if from_embeddings else self.encoder_dp(input)\n",
    "        ## add mixup here for this batch.\n",
    "        if self.mixup: #and training?            \n",
    "            post_emb = input if from_embeddings else self.encoder_dp(input[shuffle])\n",
    "            set_trace()\n",
    "#             new_input = (last_input * lambd.view(lambd.size(0),1,1,1) + x1 * (1-lambd).view(lambd.size(0),1,1,1))            \n",
    "        raw_output = self.input_dp(post_emb)\n",
    "        new_hidden,raw_outputs,outputs = [],[],[]\n",
    "        for l, (rnn,hid_dp) in enumerate(zip(self.rnns, self.hidden_dps)):\n",
    "            raw_output, new_h = rnn(raw_output, self.hidden[l])\n",
    "            new_hidden.append(new_h)\n",
    "            raw_outputs.append(raw_output)\n",
    "            if l != self.n_layers - 1: raw_output = hid_dp(raw_output)\n",
    "            outputs.append(raw_output)\n",
    "        self.hidden = to_detach(new_hidden, cpu=False)\n",
    "        return raw_outputs, outputs\n",
    "\n",
    "    def _one_hidden(self, l:int)->Tensor:\n",
    "        \"Return one hidden state.\"\n",
    "        nh = (self.n_hid if l != self.n_layers - 1 else self.emb_sz) // self.n_dir\n",
    "        return one_param(self).new(self.n_dir, self.bs, nh).zero_()\n",
    "\n",
    "    def select_hidden(self, idxs):\n",
    "        if self.qrnn: self.hidden = [h[:,idxs,:] for h in self.hidden]\n",
    "        else: self.hidden = [(h[0][:,idxs,:],h[1][:,idxs,:]) for h in self.hidden]\n",
    "        self.bs = len(idxs)\n",
    "\n",
    "    def reset(self):\n",
    "        \"Reset the hidden states.\"\n",
    "        [r.reset() for r in self.rnns if hasattr(r, 'reset')]\n",
    "        if self.qrnn: self.hidden = [self._one_hidden(l) for l in range(self.n_layers)]\n",
    "        else: self.hidden = [(self._one_hidden(l), self._one_hidden(l)) for l in range(self.n_layers)]\n",
    "\n",
    "            \n",
    "class m_MultiBatchEncoder(nn.Module):                                                                                                       \n",
    "    \"Create an encoder over `module` that can process a full sentence.\"                                                                   \n",
    "    def __init__(self, bptt:int, max_len:int, module:nn.Module, pad_idx:int=1):                                                           \n",
    "        super().__init__()                                                                                                                \n",
    "        self.max_len,self.bptt,self.module,self.pad_idx = max_len,bptt,module,pad_idx                                                     \n",
    "                                                                                                                                          \n",
    "    def concat(self, arrs:Collection[Tensor])->Tensor:                                                                                    \n",
    "        \"Concatenate the `arrs` along the batch dimension.\"                                                                               \n",
    "        return [torch.cat([l[si] for l in arrs], dim=1) for si in range_of(arrs[0])]                                                      \n",
    "\n",
    "    def reset(self):                                                                                                                      \n",
    "        if hasattr(self.module, 'reset'): self.module.reset()                                                                             \n",
    "                                                                                                                                          \n",
    "    def forward(self, mix_input:Dict)->Tuple[Tensor,Tensor]:\n",
    "        if isinstance(mix_input,dict):\n",
    "            input, shuffle, lambd = mix_input[0], mix_input[1], mix_input[2] #unpack mixup input to get splits, shuffle \n",
    "        else: input,shuffle,lambd=mix_input,None,None\n",
    "        bs,sl = input.size()\n",
    "        self.reset()\n",
    "        raw_outputs,outputs,masks = [],[],[]                    \n",
    "        for i in range(0, sl, self.bptt):                       \n",
    "            r, o = self.module(input[:,i: min(i+self.bptt, sl)],shuffle,lambd)\n",
    "            if i>(sl-self.max_len):\n",
    "                masks.append(input[:,i: min(i+self.bptt, sl)] == self.pad_idx)\n",
    "                raw_outputs.append(r)                                         \n",
    "                outputs.append(o)                                             \n",
    "        return self.concat(raw_outputs),self.concat(outputs),torch.cat(masks,dim=1)            "
   ]
  },
  {
   "cell_type": "code",
   "execution_count": 6,
   "metadata": {},
   "outputs": [],
   "source": [
    "_model_meta = {AWD_LSTM_mixup: {'hid_name':'emb_sz', 'url':URLs.WT103_1,                                                                        \n",
    "                          'config_lm':awd_lstm_lm_config, 'split_lm': awd_lstm_lm_split,                                                  \n",
    "                          'config_clas':awd_lstm_clas_config, 'split_clas': awd_lstm_clas_split}}\n",
    "\n",
    "def get_text_classifier(arch:Callable, vocab_sz:int, n_class:int, bptt:int=70, max_len:int=20*70, config:dict=None, \n",
    "                        drop_mult:float=1., lin_ftrs:Collection[int]=None, ps:Collection[float]=None,\n",
    "                        pad_idx:int=1) -> nn.Module:\n",
    "    \"Create a text classifier from `arch` and its `config`, maybe `pretrained`.\"\n",
    "    meta = _model_meta[arch]\n",
    "    config = ifnone(config, meta['config_clas']).copy()\n",
    "    for k in config.keys(): \n",
    "        if k.endswith('_p'): config[k] *= drop_mult\n",
    "    if lin_ftrs is None: lin_ftrs = [50]\n",
    "    if ps is None:  ps = [0.1]*len(lin_ftrs)\n",
    "    layers = [config[meta['hid_name']] * 3] + lin_ftrs + [n_class]\n",
    "    ps = [config.pop('output_p')] + ps\n",
    "    init = config.pop('init') if 'init' in config else None\n",
    "    encoder = m_MultiBatchEncoder(bptt, max_len, arch(vocab_sz, **config), pad_idx=pad_idx)\n",
    "    model = SequentialRNN(encoder, PoolingLinearClassifier(layers, ps))\n",
    "    return model if init is None else model.apply(init)\n",
    "\n",
    "def text_classifier_learner(data:DataBunch, arch:Callable, bptt:int=70, max_len:int=70*20, config:dict=None, \n",
    "                            pretrained:bool=True, drop_mult:float=1., lin_ftrs:Collection[int]=None, \n",
    "                            ps:Collection[float]=None, **learn_kwargs) -> 'TextClassifierLearner':\n",
    "    \"Create a `Learner` with a text classifier from `data` and `arch`.\"\n",
    "    model = get_text_classifier(arch, len(data.vocab.itos), data.c, bptt=bptt, max_len=max_len,\n",
    "                                config=config, drop_mult=drop_mult, lin_ftrs=lin_ftrs, ps=ps)\n",
    "    meta = _model_meta[arch]\n",
    "    learn = RNNLearner(data, model, split_func=meta['split_clas'], **learn_kwargs)\n",
    "    if pretrained:\n",
    "        if 'url' not in meta: \n",
    "            warn(\"There are no pretrained weights for that architecture yet!\")\n",
    "            return learn\n",
    "        model_path = untar_data(meta['url'], data=False)\n",
    "        fnames = [list(model_path.glob(f'*.{ext}'))[0] for ext in ['pth', 'pkl']]\n",
    "        learn.load_pretrained(*fnames, strict=False)\n",
    "        learn.freeze()\n",
    "    return learn"
   ]
  },
  {
   "cell_type": "code",
   "execution_count": 7,
   "metadata": {},
   "outputs": [
    {
     "name": "stdout",
     "output_type": "stream",
     "text": [
      "{'emb_sz': 400, 'n_hid': 2304, 'n_layers': 3, 'pad_token': 1, 'qrnn': True, 'bidir': False, 'output_p': 0.4, 'hidden_p': 0.3, 'input_p': 0.4, 'embed_p': 0.05, 'weight_p': 0.5}\n"
     ]
    }
   ],
   "source": [
    "PATH = Path(model_path)\n",
    "# torch.backends.cudnn.enabled=False\n",
    "\n",
    "defaults.text_spec_tok.append(NL) #add a New Line special char\n",
    "sp_vocab = Vocab( get_itos(sp_model) )\n",
    "mycust_tok = CustomTokenizer(SPTokenizer, sp_model, pre_rules=default_rules)\n",
    "\n",
    "all_texts_df = pd.read_csv('./data/haha_2019_train.csv')\n",
    "raw_text = all_texts_df.loc[:,'text']\n",
    "\n",
    "print(\"Default Rules:\\n\",[x.__name__ for x in default_rules],\"\\n\\n\")\n",
    "for rule in default_rules: raw_text = raw_text.apply(lambda x: rule(str(x)))\n",
    "all_texts_df['new_text'] = raw_text #databunch adds `xxbos` so don't add here\n",
    "\n",
    "kfolder = KFold(n_splits=5, random_state=split_seed, shuffle=True)\n",
    "for n_fold, (train_idx,valid_idx) in enumerate(kfolder.split(all_texts_df)):\n",
    "    print(f'Kfold: {n_fold} of 5')\n",
    "    df_train,df_valid = split_rebal_data_by_idx(all_texts_df,train_idx,valid_idx,clas_col='is_humor')    \n",
    "    data = TextClasDataBunch.from_df(PATH,df_train,df_valid,\n",
    "                                   tokenizer=mycust_tok, vocab=sp_vocab,\n",
    "                                     text_cols='new_text', label_cols='is_humor', backwards=backward)\n",
    "    config = awd_lstm_clas_config.copy()\n",
    "    config['qrnn'] = qrnn\n",
    "    config['n_hid'] = n_hid\n",
    "    print(config)\n",
    "    learn = text_classifier_learner(data, AWD_LSTM_mixup, drop_mult=0.7,pretrained=False,config=config)\n",
    "    learn.metrics += [Fbeta_binary(beta2=1,clas=1)]\n",
    "    if load_enc : learn.load_encoder(load_enc)\n",
    "    if flat_loss: learn.loss_func = FlattenedLoss(LabelSmoothingCrossEntropy)\n",
    "    break "
   ]
  },
  {
   "cell_type": "code",
   "execution_count": 8,
   "metadata": {},
   "outputs": [],
   "source": [
    "learn.callback_fns.append(partial(NLP_MixUpCallback,alpha=0.4,stack_x=False,stack_y=True))"
   ]
  },
  {
   "cell_type": "code",
   "execution_count": 9,
   "metadata": {},
   "outputs": [
    {
     "data": {
      "text/html": [
       "Total time: 00:17 <p><table style='width:450px; margin-bottom:10px'>\n",
       "  <tr>\n",
       "    <th>epoch</th>\n",
       "    <th>train_loss</th>\n",
       "    <th>valid_loss</th>\n",
       "    <th>accuracy</th>\n",
       "    <th>fbeta_binary</th>\n",
       "    <th>time</th>\n",
       "  </tr>\n",
       "  <tr>\n",
       "    <th>0</th>\n",
       "    <th>0.597145</th>\n",
       "    <th>0.446116</th>\n",
       "    <th>0.836875</th>\n",
       "    <th>0.792032</th>\n",
       "    <th>00:08</th>\n",
       "  </tr>\n",
       "  <tr>\n",
       "    <th>1</th>\n",
       "    <th>0.541752</th>\n",
       "    <th>0.457017</th>\n",
       "    <th>0.817708</th>\n",
       "    <th>0.787467</th>\n",
       "    <th>00:09</th>\n",
       "  </tr>\n",
       "</table>\n"
      ],
      "text/plain": [
       "<IPython.core.display.HTML object>"
      ]
     },
     "metadata": {},
     "output_type": "display_data"
    }
   ],
   "source": [
    "learn.fit_one_cycle(2, 1e-2, wd=wd )"
   ]
  },
  {
   "cell_type": "code",
   "execution_count": null,
   "metadata": {},
   "outputs": [],
   "source": [
    "def mixup(learn:Learner, alpha:float=0.4, stack_x:bool=False, stack_y:bool=True) -> Learner:                                             \n",
    "    \"Add mixup https://arxiv.org/abs/1710.09412 to `learn`.\"                                                                             \n",
    "    learn.callback_fns.append(partial(MixUpCallback, alpha=alpha, stack_x=stack_x, stack_y=stack_y)) "
   ]
  },
  {
   "cell_type": "code",
   "execution_count": 8,
   "metadata": {},
   "outputs": [
    {
     "data": {
      "text/html": [
       "Total time: 00:17 <p><table style='width:450px; margin-bottom:10px'>\n",
       "  <tr>\n",
       "    <th>epoch</th>\n",
       "    <th>train_loss</th>\n",
       "    <th>valid_loss</th>\n",
       "    <th>accuracy</th>\n",
       "    <th>fbeta_binary</th>\n",
       "    <th>time</th>\n",
       "  </tr>\n",
       "  <tr>\n",
       "    <th>0</th>\n",
       "    <th>0.597145</th>\n",
       "    <th>0.446116</th>\n",
       "    <th>0.836875</th>\n",
       "    <th>0.792032</th>\n",
       "    <th>00:08</th>\n",
       "  </tr>\n",
       "  <tr>\n",
       "    <th>1</th>\n",
       "    <th>0.560491</th>\n",
       "    <th>0.464000</th>\n",
       "    <th>0.800000</th>\n",
       "    <th>0.773478</th>\n",
       "    <th>00:08</th>\n",
       "  </tr>\n",
       "</table>\n"
      ],
      "text/plain": [
       "<IPython.core.display.HTML object>"
      ]
     },
     "metadata": {},
     "output_type": "display_data"
    },
    {
     "data": {
      "image/png": "[encoded data removed]",
      "text/plain": [
       "<Figure size 432x288 with 1 Axes>"
      ]
     },
     "metadata": {
      "needs_background": "light"
     },
     "output_type": "display_data"
    },
    {
     "data": {
      "image/png": "[encoded data removed]",
      "text/plain": [
       "<Figure size 432x576 with 2 Axes>"
      ]
     },
     "metadata": {
      "needs_background": "light"
     },
     "output_type": "display_data"
    }
   ],
   "source": [
    "learn.fit_one_cycle(2, 1e-2, wd=wd )\n",
    "learn.recorder.plot_losses()\n",
    "learn.recorder.plot_metrics()"
   ]
  },
  {
   "cell_type": "code",
   "execution_count": 5,
   "metadata": {},
   "outputs": [
    {
     "data": {
      "text/html": [
       "Total time: 05:35 <p><table style='width:450px; margin-bottom:10px'>\n",
       "  <tr>\n",
       "    <th>epoch</th>\n",
       "    <th>train_loss</th>\n",
       "    <th>valid_loss</th>\n",
       "    <th>accuracy</th>\n",
       "    <th>fbeta_binary</th>\n",
       "    <th>time</th>\n",
       "  </tr>\n",
       "  <tr>\n",
       "    <th>0</th>\n",
       "    <th>0.528662</th>\n",
       "    <th>0.437291</th>\n",
       "    <th>0.829792</th>\n",
       "    <th>0.795699</th>\n",
       "    <th>00:20</th>\n",
       "  </tr>\n",
       "  <tr>\n",
       "    <th>1</th>\n",
       "    <th>0.508744</th>\n",
       "    <th>0.424290</th>\n",
       "    <th>0.849583</th>\n",
       "    <th>0.810300</th>\n",
       "    <th>00:21</th>\n",
       "  </tr>\n",
       "  <tr>\n",
       "    <th>2</th>\n",
       "    <th>0.501477</th>\n",
       "    <th>0.433530</th>\n",
       "    <th>0.841250</th>\n",
       "    <th>0.808831</th>\n",
       "    <th>00:21</th>\n",
       "  </tr>\n",
       "  <tr>\n",
       "    <th>3</th>\n",
       "    <th>0.473909</th>\n",
       "    <th>0.424610</th>\n",
       "    <th>0.857708</th>\n",
       "    <th>0.817233</th>\n",
       "    <th>00:21</th>\n",
       "  </tr>\n",
       "  <tr>\n",
       "    <th>4</th>\n",
       "    <th>0.452614</th>\n",
       "    <th>0.448207</th>\n",
       "    <th>0.858125</th>\n",
       "    <th>0.816590</th>\n",
       "    <th>00:21</th>\n",
       "  </tr>\n",
       "  <tr>\n",
       "    <th>5</th>\n",
       "    <th>0.432273</th>\n",
       "    <th>0.425281</th>\n",
       "    <th>0.861250</th>\n",
       "    <th>0.815410</th>\n",
       "    <th>00:21</th>\n",
       "  </tr>\n",
       "  <tr>\n",
       "    <th>6</th>\n",
       "    <th>0.403863</th>\n",
       "    <th>0.469762</th>\n",
       "    <th>0.862292</th>\n",
       "    <th>0.815621</th>\n",
       "    <th>00:21</th>\n",
       "  </tr>\n",
       "  <tr>\n",
       "    <th>7</th>\n",
       "    <th>0.391756</th>\n",
       "    <th>0.474854</th>\n",
       "    <th>0.854583</th>\n",
       "    <th>0.815637</th>\n",
       "    <th>00:20</th>\n",
       "  </tr>\n",
       "  <tr>\n",
       "    <th>8</th>\n",
       "    <th>0.376398</th>\n",
       "    <th>0.456632</th>\n",
       "    <th>0.858125</th>\n",
       "    <th>0.817768</th>\n",
       "    <th>00:22</th>\n",
       "  </tr>\n",
       "  <tr>\n",
       "    <th>9</th>\n",
       "    <th>0.362345</th>\n",
       "    <th>0.502373</th>\n",
       "    <th>0.867292</th>\n",
       "    <th>0.819904</th>\n",
       "    <th>00:20</th>\n",
       "  </tr>\n",
       "  <tr>\n",
       "    <th>10</th>\n",
       "    <th>0.357980</th>\n",
       "    <th>0.477506</th>\n",
       "    <th>0.863958</th>\n",
       "    <th>0.817954</th>\n",
       "    <th>00:22</th>\n",
       "  </tr>\n",
       "  <tr>\n",
       "    <th>11</th>\n",
       "    <th>0.345824</th>\n",
       "    <th>0.446673</th>\n",
       "    <th>0.861875</th>\n",
       "    <th>0.819886</th>\n",
       "    <th>00:22</th>\n",
       "  </tr>\n",
       "  <tr>\n",
       "    <th>12</th>\n",
       "    <th>0.330638</th>\n",
       "    <th>0.473668</th>\n",
       "    <th>0.863125</th>\n",
       "    <th>0.819555</th>\n",
       "    <th>00:20</th>\n",
       "  </tr>\n",
       "  <tr>\n",
       "    <th>13</th>\n",
       "    <th>0.339589</th>\n",
       "    <th>0.460082</th>\n",
       "    <th>0.864583</th>\n",
       "    <th>0.823370</th>\n",
       "    <th>00:21</th>\n",
       "  </tr>\n",
       "  <tr>\n",
       "    <th>14</th>\n",
       "    <th>0.328951</th>\n",
       "    <th>0.469201</th>\n",
       "    <th>0.865000</th>\n",
       "    <th>0.820895</th>\n",
       "    <th>00:20</th>\n",
       "  </tr>\n",
       "</table>\n"
      ],
      "text/plain": [
       "<IPython.core.display.HTML object>"
      ]
     },
     "metadata": {},
     "output_type": "display_data"
    },
    {
     "name": "stdout",
     "output_type": "stream",
     "text": [
      "Better model found at epoch 0 with fbeta_binary value: 0.7956989407539368.\n",
      "Better model found at epoch 1 with fbeta_binary value: 0.8102995157241821.\n",
      "Better model found at epoch 3 with fbeta_binary value: 0.8172330856323242.\n",
      "Better model found at epoch 8 with fbeta_binary value: 0.8177682757377625.\n",
      "Better model found at epoch 9 with fbeta_binary value: 0.8199039101600647.\n",
      "Better model found at epoch 13 with fbeta_binary value: 0.8233695030212402.\n"
     ]
    },
    {
     "data": {
      "image/png": "[encoded data removed]",
      "text/plain": [
       "<Figure size 432x288 with 1 Axes>"
      ]
     },
     "metadata": {
      "needs_background": "light"
     },
     "output_type": "display_data"
    },
    {
     "data": {
      "image/png": "[encoded data removed]",
      "text/plain": [
       "<Figure size 432x576 with 2 Axes>"
      ]
     },
     "metadata": {
      "needs_background": "light"
     },
     "output_type": "display_data"
    }
   ],
   "source": [
    "learn.unfreeze()\n",
    "learn.fit_one_cycle(15, slice(1e-3/(2.6**4),5e-3), moms=(0.7,0.4), wd=wd, pct_start=0.25, div_factor=8.,\n",
    "                    callbacks=[SaveModelCallback(learn,every='improvement',mode='max',\n",
    "                                                 monitor='fbeta_binary',name=f'best_acc_model_Q_{seed}')])\n",
    "learn.recorder.plot_losses()\n",
    "learn.recorder.plot_metrics()"
   ]
  },
  {
   "cell_type": "code",
   "execution_count": null,
   "metadata": {},
   "outputs": [],
   "source": []
  }
 ],
 "metadata": {
  "kernelspec": {
   "display_name": "Python 3.7 fasta.ai1 DEV",
   "language": "python",
   "name": "fastai1_dev"
  },
  "language_info": {
   "codemirror_mode": {
    "name": "ipython",
    "version": 3
   },
   "file_extension": ".py",
   "mimetype": "text/x-python",
   "name": "python",
   "nbconvert_exporter": "python",
   "pygments_lexer": "ipython3",
   "version": "3.7.3"
  },
  "varInspector": {
   "cols": {
    "lenName": 16,
    "lenType": 16,
    "lenVar": 40
   },
   "kernels_config": {
    "python": {
     "delete_cmd_postfix": "",
     "delete_cmd_prefix": "del ",
     "library": "var_list.py",
     "varRefreshCmd": "print(var_dic_list())"
    },
    "r": {
     "delete_cmd_postfix": ") ",
     "delete_cmd_prefix": "rm(",
     "library": "var_list.r",
     "varRefreshCmd": "cat(var_dic_list()) "
    }
   },
   "types_to_exclude": [
    "module",
    "function",
    "builtin_function_or_method",
    "instance",
    "_Feature"
   ],
   "window_display": false
  }
 },
 "nbformat": 4,
 "nbformat_minor": 2
}
