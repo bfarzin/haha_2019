{
 "cells": [
  {
   "cell_type": "code",
   "execution_count": 1,
   "metadata": {},
   "outputs": [
    {
     "name": "stdout",
     "output_type": "stream",
     "text": [
      "Using seed: 432286\n"
     ]
    }
   ],
   "source": [
    "from prod.set_seed import random_ctl\n",
    "seed = random_ctl(432286)\n",
    "\n",
    "from fastai.text import *\n",
    "from fastai.callbacks import SaveModelCallback\n",
    "from fastai.layers import LabelSmoothingCrossEntropy\n",
    "\n",
    "import sentencepiece as spm #https://github.com/google/sentencepiece\n",
    "import fire\n",
    "\n",
    "from sp_tok import *\n",
    "from prod.bin_metrics import Fbeta_binary\n",
    "from sklearn.model_selection import KFold\n",
    "from prod.nlp_mixup import *\n",
    "\n",
    "\n",
    "def split_data_by_idx(all_texts_df:DataFrame, train_idx, valid_idx):                                                                     \n",
    "    df_train = all_texts_df.iloc[train_idx,:]                                                                                            \n",
    "    df_valid     = all_texts_df.iloc[valid_idx,:]                                                                                        \n",
    "                                                                                                                                         \n",
    "    return df_train, df_valid                                                                                                            \n"
   ]
  },
  {
   "cell_type": "code",
   "execution_count": 2,
   "metadata": {},
   "outputs": [],
   "source": [
    "model_path:str='./data/rnn/'\n",
    "sp_model:str='./all_tweets_es_0609'\n",
    "qrnn:bool=True\n",
    "n_hid:int=2304 \n",
    "load_enc:str='twitter_es_enc_QRNN_0609_drop1_seed0_finetune'\n",
    "split_seed:int=20190303\n",
    "wd:float=0.02 ## updated\n",
    "\n",
    "# def fit_clas(model_path:str, sp_model:str, wd:float=0.,                              \n",
    "#              qrnn:bool=True, n_hid:int=2304, load_enc:str=None, split_seed:int=None):    "
   ]
  },
  {
   "cell_type": "code",
   "execution_count": 3,
   "metadata": {},
   "outputs": [
    {
     "name": "stdout",
     "output_type": "stream",
     "text": [
      "{'emb_sz': 400, 'n_hid': 2304, 'n_layers': 3, 'pad_token': 1, 'qrnn': True, 'bidir': False, 'output_p': 0.4, 'hidden_p': 0.3, 'input_p': 0.4, 'embed_p': 0.05, 'weight_p': 0.5, 'mixup': True}\n"
     ]
    }
   ],
   "source": [
    "PATH = Path(model_path)                                                                                                              \n",
    "# torch.backends.cudnn.enabled=False                                                                                                 \n",
    "\n",
    "defaults.text_spec_tok.append(NL) #add a New Line special char                                                                       \n",
    "sp_vocab = Vocab( get_itos(sp_model) )                                                                                               \n",
    "mycust_tok = CustomTokenizer(SPTokenizer,sp_model,pre_rules=default_rules)                                                           \n",
    "\n",
    "all_texts_df = pd.read_csv('./data/haha_2019_train.csv')                                                                            \n",
    "all_texts_df.funniness_average.fillna(0,inplace=True)                                                                                \n",
    "raw_text = all_texts_df.loc[:,'text']                                                                                                \n",
    "\n",
    "print(\"Default Rules:\\n\",[x.__name__ for x in default_rules],\"\\n\\n\")                                                                 \n",
    "for rule in default_rules: raw_text = raw_text.apply(lambda x: rule(str(x)))                                                         \n",
    "all_texts_df['new_text'] = raw_text #databunch adds `xxbos` so don't add here                                                        \n",
    "\n",
    "kfolder = KFold(n_splits=5, random_state=split_seed, shuffle=True)                                                                   \n",
    "for n_fold, (train_idx,valid_idx) in enumerate(kfolder.split(all_texts_df)):                                                         \n",
    "    df_train,df_valid = split_data_by_idx(all_texts_df,train_idx,valid_idx)                                                          \n",
    "\n",
    "    data = TextClasDataBunch.from_df(PATH,df_train,df_valid,                                                                         \n",
    "                               tokenizer=mycust_tok, vocab=sp_vocab,                                                                 \n",
    "                               text_cols='new_text', label_cols='funniness_average')                                                 \n",
    "    config = awd_lstm_clas_config.copy()                                                                                             \n",
    "    config['qrnn'] = qrnn                                                                                                            \n",
    "    config['n_hid'] = n_hid    \n",
    "    config['mixup'] = True    \n",
    "    print(config)                                                                                                                    \n",
    "    learn = text_classifier_learner(data, AWD_LSTM_mixup, drop_mult=0.5,pretrained=False,config=config)                                    \n",
    "    if load_enc : learn.load_encoder(load_enc) \n",
    "    break"
   ]
  },
  {
   "cell_type": "code",
   "execution_count": 4,
   "metadata": {},
   "outputs": [],
   "source": [
    "learn.callback_fns.append(partial(NLP_MixUpCallback,alpha=0.4,stack_x=False,stack_y=False))"
   ]
  },
  {
   "cell_type": "code",
   "execution_count": 5,
   "metadata": {},
   "outputs": [
    {
     "data": {
      "text/html": [
       "Total time: 00:14 <p><table style='width:300px; margin-bottom:10px'>\n",
       "  <tr>\n",
       "    <th>epoch</th>\n",
       "    <th>train_loss</th>\n",
       "    <th>valid_loss</th>\n",
       "    <th>time</th>\n",
       "  </tr>\n",
       "  <tr>\n",
       "    <th>0</th>\n",
       "    <th>0.777835</th>\n",
       "    <th>0.656075</th>\n",
       "    <th>00:07</th>\n",
       "  </tr>\n",
       "  <tr>\n",
       "    <th>1</th>\n",
       "    <th>0.748778</th>\n",
       "    <th>0.619965</th>\n",
       "    <th>00:07</th>\n",
       "  </tr>\n",
       "</table>\n"
      ],
      "text/plain": [
       "<IPython.core.display.HTML object>"
      ]
     },
     "metadata": {},
     "output_type": "display_data"
    },
    {
     "data": {
      "image/png": "[encoded data removed]",
      "text/plain": [
       "<Figure size 432x288 with 1 Axes>"
      ]
     },
     "metadata": {
      "needs_background": "light"
     },
     "output_type": "display_data"
    }
   ],
   "source": [
    "learn.fit_one_cycle(2, 1e-2)\n",
    "learn.recorder.plot_losses()"
   ]
  },
  {
   "cell_type": "code",
   "execution_count": 6,
   "metadata": {},
   "outputs": [
    {
     "data": {
      "text/html": [
       "Total time: 00:24 <p><table style='width:300px; margin-bottom:10px'>\n",
       "  <tr>\n",
       "    <th>epoch</th>\n",
       "    <th>train_loss</th>\n",
       "    <th>valid_loss</th>\n",
       "    <th>time</th>\n",
       "  </tr>\n",
       "  <tr>\n",
       "    <th>0</th>\n",
       "    <th>0.708039</th>\n",
       "    <th>0.661143</th>\n",
       "    <th>00:07</th>\n",
       "  </tr>\n",
       "  <tr>\n",
       "    <th>1</th>\n",
       "    <th>0.719283</th>\n",
       "    <th>0.578918</th>\n",
       "    <th>00:08</th>\n",
       "  </tr>\n",
       "  <tr>\n",
       "    <th>2</th>\n",
       "    <th>0.662497</th>\n",
       "    <th>0.578248</th>\n",
       "    <th>00:08</th>\n",
       "  </tr>\n",
       "</table>\n"
      ],
      "text/plain": [
       "<IPython.core.display.HTML object>"
      ]
     },
     "metadata": {},
     "output_type": "display_data"
    },
    {
     "data": {
      "image/png": "[encoded data removed]",
      "text/plain": [
       "<Figure size 432x288 with 1 Axes>"
      ]
     },
     "metadata": {
      "needs_background": "light"
     },
     "output_type": "display_data"
    }
   ],
   "source": [
    "learn.freeze_to(-2)\n",
    "learn.fit_one_cycle(3, slice(1e-3/(2.6**4),5e-3), moms=(0.8,0.7))\n",
    "learn.recorder.plot_losses()"
   ]
  },
  {
   "cell_type": "code",
   "execution_count": 7,
   "metadata": {},
   "outputs": [
    {
     "data": {
      "text/html": [
       "Total time: 04:18 <p><table style='width:300px; margin-bottom:10px'>\n",
       "  <tr>\n",
       "    <th>epoch</th>\n",
       "    <th>train_loss</th>\n",
       "    <th>valid_loss</th>\n",
       "    <th>time</th>\n",
       "  </tr>\n",
       "  <tr>\n",
       "    <th>0</th>\n",
       "    <th>0.654868</th>\n",
       "    <th>0.571819</th>\n",
       "    <th>00:16</th>\n",
       "  </tr>\n",
       "  <tr>\n",
       "    <th>1</th>\n",
       "    <th>0.650752</th>\n",
       "    <th>0.568435</th>\n",
       "    <th>00:16</th>\n",
       "  </tr>\n",
       "  <tr>\n",
       "    <th>2</th>\n",
       "    <th>0.662535</th>\n",
       "    <th>0.552152</th>\n",
       "    <th>00:16</th>\n",
       "  </tr>\n",
       "  <tr>\n",
       "    <th>3</th>\n",
       "    <th>0.639245</th>\n",
       "    <th>0.568289</th>\n",
       "    <th>00:16</th>\n",
       "  </tr>\n",
       "  <tr>\n",
       "    <th>4</th>\n",
       "    <th>0.629451</th>\n",
       "    <th>0.542698</th>\n",
       "    <th>00:16</th>\n",
       "  </tr>\n",
       "  <tr>\n",
       "    <th>5</th>\n",
       "    <th>0.623469</th>\n",
       "    <th>0.559766</th>\n",
       "    <th>00:16</th>\n",
       "  </tr>\n",
       "  <tr>\n",
       "    <th>6</th>\n",
       "    <th>0.604087</th>\n",
       "    <th>0.551205</th>\n",
       "    <th>00:16</th>\n",
       "  </tr>\n",
       "  <tr>\n",
       "    <th>7</th>\n",
       "    <th>0.591222</th>\n",
       "    <th>0.561113</th>\n",
       "    <th>00:16</th>\n",
       "  </tr>\n",
       "  <tr>\n",
       "    <th>8</th>\n",
       "    <th>0.533330</th>\n",
       "    <th>0.550004</th>\n",
       "    <th>00:16</th>\n",
       "  </tr>\n",
       "  <tr>\n",
       "    <th>9</th>\n",
       "    <th>0.524914</th>\n",
       "    <th>0.557284</th>\n",
       "    <th>00:16</th>\n",
       "  </tr>\n",
       "  <tr>\n",
       "    <th>10</th>\n",
       "    <th>0.519166</th>\n",
       "    <th>0.551462</th>\n",
       "    <th>00:16</th>\n",
       "  </tr>\n",
       "  <tr>\n",
       "    <th>11</th>\n",
       "    <th>0.489150</th>\n",
       "    <th>0.563809</th>\n",
       "    <th>00:16</th>\n",
       "  </tr>\n",
       "  <tr>\n",
       "    <th>12</th>\n",
       "    <th>0.509489</th>\n",
       "    <th>0.566075</th>\n",
       "    <th>00:16</th>\n",
       "  </tr>\n",
       "  <tr>\n",
       "    <th>13</th>\n",
       "    <th>0.478304</th>\n",
       "    <th>0.559501</th>\n",
       "    <th>00:16</th>\n",
       "  </tr>\n",
       "  <tr>\n",
       "    <th>14</th>\n",
       "    <th>0.467779</th>\n",
       "    <th>0.557630</th>\n",
       "    <th>00:16</th>\n",
       "  </tr>\n",
       "</table>\n"
      ],
      "text/plain": [
       "<IPython.core.display.HTML object>"
      ]
     },
     "metadata": {},
     "output_type": "display_data"
    },
    {
     "name": "stdout",
     "output_type": "stream",
     "text": [
      "Better model found at epoch 0 with valid_loss value: 0.5718190670013428.\n",
      "Better model found at epoch 1 with valid_loss value: 0.5684348940849304.\n",
      "Better model found at epoch 2 with valid_loss value: 0.5521522164344788.\n",
      "Better model found at epoch 4 with valid_loss value: 0.5426976680755615.\n"
     ]
    }
   ],
   "source": [
    "learn.unfreeze()\n",
    "learn.fit_one_cycle(15, slice(1e-3/(2.6**4),5e-3), moms=(0.7,0.4), pct_start=0.25, div_factor=10.,\n",
    "                    callbacks=[SaveModelCallback(learn,every='improvement',mode='min',                                           \n",
    "                                                 name='best_vloss_model_Q')])                                                    "
   ]
  }
 ],
 "metadata": {
  "kernelspec": {
   "display_name": "Python 3.7 fasta.ai1 DEV",
   "language": "python",
   "name": "fastai1_dev"
  },
  "language_info": {
   "codemirror_mode": {
    "name": "ipython",
    "version": 3
   },
   "file_extension": ".py",
   "mimetype": "text/x-python",
   "name": "python",
   "nbconvert_exporter": "python",
   "pygments_lexer": "ipython3",
   "version": "3.7.3"
  },
  "varInspector": {
   "cols": {
    "lenName": 16,
    "lenType": 16,
    "lenVar": 40
   },
   "kernels_config": {
    "python": {
     "delete_cmd_postfix": "",
     "delete_cmd_prefix": "del ",
     "library": "var_list.py",
     "varRefreshCmd": "print(var_dic_list())"
    },
    "r": {
     "delete_cmd_postfix": ") ",
     "delete_cmd_prefix": "rm(",
     "library": "var_list.r",
     "varRefreshCmd": "cat(var_dic_list()) "
    }
   },
   "types_to_exclude": [
    "module",
    "function",
    "builtin_function_or_method",
    "instance",
    "_Feature"
   ],
   "window_display": false
  }
 },
 "nbformat": 4,
 "nbformat_minor": 2
}
